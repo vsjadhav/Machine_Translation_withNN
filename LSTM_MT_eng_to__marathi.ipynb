{
  "nbformat": 4,
  "nbformat_minor": 0,
  "metadata": {
    "colab": {
      "name": "LSTM_MT_eng_to _marathi.ipynb",
      "provenance": [],
      "collapsed_sections": []
    },
    "kernelspec": {
      "name": "python3",
      "display_name": "Python 3"
    },
    "accelerator": "GPU"
  },
  "cells": [
    {
      "cell_type": "code",
      "metadata": {
        "id": "I5O380kFq3S9"
      },
      "source": [
        "import pandas as pd\n",
        "import string\n",
        "from string import digits\n",
        "import numpy as np\n",
        "from matplotlib import pyplot as plt\n",
        "\n",
        "import tensorflow as tf\n",
        "import re\n",
        "from sklearn.utils import shuffle\n",
        "from sklearn.model_selection import train_test_split\n",
        "from keras.layers import Input, LSTM, Embedding, Dense\n",
        "from keras.models import Model\n",
        "import seaborn as sns\n"
      ],
      "execution_count": 20,
      "outputs": []
    },
    {
      "cell_type": "code",
      "metadata": {
        "colab": {
          "base_uri": "https://localhost:8080/"
        },
        "id": "zheD5stZegdx",
        "outputId": "dd51de1c-63bf-44d2-e5cd-bdbe59a99b78"
      },
      "source": [
        "exclude = set(string.punctuation) # Set of all special characters \n",
        "# string.punctuations-->  (!\"#$%&'()*+,-./:;<=>?@[\\]^_`{|}~)\n",
        "exclude = list(exclude)#.append('€')\n",
        "exclude.append('€')\n",
        "print(exclude)\n",
        "exclude = set(exclude)\n",
        "print(exclude)"
      ],
      "execution_count": 21,
      "outputs": [
        {
          "output_type": "stream",
          "text": [
            "['|', ']', '#', '@', ':', '>', '&', '=', '[', '(', '?', '^', '<', '`', '.', '-', '%', '+', \"'\", ')', '!', '\"', '$', '~', '*', ',', '{', '/', '_', '\\\\', ';', '}', '€']\n",
            "{'|', ']', '#', '@', '>', ':', '&', '=', '[', '(', '?', '^', '<', '`', '.', '-', '%', '+', \"'\", ')', '!', '€', '\"', '$', '~', '*', ',', '{', '/', '_', '\\\\', ';', '}'}\n"
          ],
          "name": "stdout"
        }
      ]
    },
    {
      "cell_type": "markdown",
      "metadata": {
        "id": "cXVX9qZrBoTK"
      },
      "source": [
        "# import data and data cleaning"
      ]
    },
    {
      "cell_type": "code",
      "metadata": {
        "colab": {
          "base_uri": "https://localhost:8080/",
          "height": 469
        },
        "id": "PWm_JbFcqTCf",
        "outputId": "b69e7425-0666-4632-b6e3-1f7d7fe78f10"
      },
      "source": [
        "\n",
        "lines= pd.read_table('mar.txt', names=['eng', 'mar', 'cc'])\n",
        "# print(lines.shape)\n",
        "# print(lines)\n",
        "\n",
        "# Lowercase all characters\n",
        "lines.eng=lines.eng.apply(lambda x: x.lower())\n",
        "lines.mar=lines.mar.apply(lambda x: x.lower())\n",
        "\n",
        "# Remove quotes\n",
        "lines.eng=lines.eng.apply(lambda x: x.replace(\"'\", ''))\n",
        "lines.mar=lines.mar.apply(lambda x: x.replace(\"'\", ''))\n",
        "\n",
        "# Remove all the special characters\n",
        "exclude = set(string.punctuation) # Set of all special characters \n",
        "# string.punctuations-->  (!\"#$%&'()*+,-./:;<=>?@[\\]^_`{|}~)\n",
        "exclude = list(exclude)\n",
        "exclude.append('€')\n",
        "exclude = set(exclude)\n",
        "lines.eng=lines.eng.apply(lambda x: ''.join(ch for ch in x if ch not in exclude))\n",
        "lines.mar=lines.mar.apply(lambda x: ''.join(ch for ch in x if ch not in exclude))\n",
        "\n",
        "# Remove all numbers from text\n",
        "remove_digits_table = str.maketrans('', '', digits)\n",
        "lines.eng = lines.eng.apply(lambda x: x.translate(remove_digits_table))\n",
        "lines.mar = lines.mar.apply(lambda x: x.replace(\"[२३०८१५७९४६]\", \"\"))\n",
        "\n",
        "# Remove extra spaces\n",
        "lines.eng=lines.eng.apply(lambda x: x.strip())\n",
        "lines.mar=lines.mar.apply(lambda x: x.strip())\n",
        "lines.eng=lines.eng.apply(lambda x: x.replace(\" +\", \" \"))\n",
        "lines.mar=lines.mar.apply(lambda x: x.replace(\" +\", \" \"))\n",
        "\n",
        "# Add start and end tokens to target sequences\n",
        "lines.mar = lines.mar.apply(lambda x : 'START_ '+ x + ' _END')\n",
        "# print(lines.eng.head)\n",
        "# print(lines.mar.head)\n",
        "\n",
        "lines.drop(columns='cc',inplace=True)\n",
        "lines"
      ],
      "execution_count": 22,
      "outputs": [
        {
          "output_type": "execute_result",
          "data": {
            "text/html": [
              "<div>\n",
              "<style scoped>\n",
              "    .dataframe tbody tr th:only-of-type {\n",
              "        vertical-align: middle;\n",
              "    }\n",
              "\n",
              "    .dataframe tbody tr th {\n",
              "        vertical-align: top;\n",
              "    }\n",
              "\n",
              "    .dataframe thead th {\n",
              "        text-align: right;\n",
              "    }\n",
              "</style>\n",
              "<table border=\"1\" class=\"dataframe\">\n",
              "  <thead>\n",
              "    <tr style=\"text-align: right;\">\n",
              "      <th></th>\n",
              "      <th>eng</th>\n",
              "      <th>mar</th>\n",
              "    </tr>\n",
              "  </thead>\n",
              "  <tbody>\n",
              "    <tr>\n",
              "      <th>0</th>\n",
              "      <td>go</td>\n",
              "      <td>START_ जा _END</td>\n",
              "    </tr>\n",
              "    <tr>\n",
              "      <th>1</th>\n",
              "      <td>run</td>\n",
              "      <td>START_ पळ _END</td>\n",
              "    </tr>\n",
              "    <tr>\n",
              "      <th>2</th>\n",
              "      <td>run</td>\n",
              "      <td>START_ धाव _END</td>\n",
              "    </tr>\n",
              "    <tr>\n",
              "      <th>3</th>\n",
              "      <td>run</td>\n",
              "      <td>START_ पळा _END</td>\n",
              "    </tr>\n",
              "    <tr>\n",
              "      <th>4</th>\n",
              "      <td>run</td>\n",
              "      <td>START_ धावा _END</td>\n",
              "    </tr>\n",
              "    <tr>\n",
              "      <th>...</th>\n",
              "      <td>...</td>\n",
              "      <td>...</td>\n",
              "    </tr>\n",
              "    <tr>\n",
              "      <th>41023</th>\n",
              "      <td>just saying you dont like fish because of the ...</td>\n",
              "      <td>START_ हड्डींमुळे मासे आवडत नाही असं म्हणणं हे...</td>\n",
              "    </tr>\n",
              "    <tr>\n",
              "      <th>41024</th>\n",
              "      <td>the japanese parliament today officially elect...</td>\n",
              "      <td>START_ आज जपानी संसदेने अधिकृतरित्या र्‍यौतारौ...</td>\n",
              "    </tr>\n",
              "    <tr>\n",
              "      <th>41025</th>\n",
              "      <td>tom tried to sell his old vcr instead of throw...</td>\n",
              "      <td>START_ टॉमने त्याचा जुना व्हीसीआर फेकून टाकण्य...</td>\n",
              "    </tr>\n",
              "    <tr>\n",
              "      <th>41026</th>\n",
              "      <td>you cant view flash content on an ipad however...</td>\n",
              "      <td>START_ आयपॅडवर फ्लॅश आशय बघता येत नाही पण तुम्...</td>\n",
              "    </tr>\n",
              "    <tr>\n",
              "      <th>41027</th>\n",
              "      <td>in  roger miller recorded a song called you do...</td>\n",
              "      <td>START_ १९६९मध्ये रॉजर मिलरने यू डोन्ट वॉन्ट मा...</td>\n",
              "    </tr>\n",
              "  </tbody>\n",
              "</table>\n",
              "<p>41028 rows × 2 columns</p>\n",
              "</div>"
            ],
            "text/plain": [
              "                                                     eng                                                mar\n",
              "0                                                     go                                     START_ जा _END\n",
              "1                                                    run                                     START_ पळ _END\n",
              "2                                                    run                                    START_ धाव _END\n",
              "3                                                    run                                    START_ पळा _END\n",
              "4                                                    run                                   START_ धावा _END\n",
              "...                                                  ...                                                ...\n",
              "41023  just saying you dont like fish because of the ...  START_ हड्डींमुळे मासे आवडत नाही असं म्हणणं हे...\n",
              "41024  the japanese parliament today officially elect...  START_ आज जपानी संसदेने अधिकृतरित्या र्‍यौतारौ...\n",
              "41025  tom tried to sell his old vcr instead of throw...  START_ टॉमने त्याचा जुना व्हीसीआर फेकून टाकण्य...\n",
              "41026  you cant view flash content on an ipad however...  START_ आयपॅडवर फ्लॅश आशय बघता येत नाही पण तुम्...\n",
              "41027  in  roger miller recorded a song called you do...  START_ १९६९मध्ये रॉजर मिलरने यू डोन्ट वॉन्ट मा...\n",
              "\n",
              "[41028 rows x 2 columns]"
            ]
          },
          "metadata": {
            "tags": []
          },
          "execution_count": 22
        }
      ]
    },
    {
      "cell_type": "code",
      "metadata": {
        "colab": {
          "base_uri": "https://localhost:8080/"
        },
        "id": "EFq5Ev_T--Ka",
        "outputId": "5bda7497-71ec-47a2-a3ef-92825a31515f"
      },
      "source": [
        "print(lines.sample(15))"
      ],
      "execution_count": 23,
      "outputs": [
        {
          "output_type": "stream",
          "text": [
            "                                          eng                                                mar\n",
            "24362               we speak english in class            START_ आम्ही वर्गात इंग्रजीत बोलतो _END\n",
            "31669         are you going to tell me or not        START_ तुम्ही मला सांगणार आहात की नाही _END\n",
            "17785                  i am downloading books               START_ मी पुस्तकं डाउनलोड करतेय _END\n",
            "7778                        it has cooled off                              START_ थंड झालाय _END\n",
            "31285          tom answered all our questions  START_ टॉमने आपल्या सर्व प्रश्नांची उत्तरं दिल...\n",
            "24011                theyre expected tomorrow                 START_ ते उद्या अपेक्षित आहेत _END\n",
            "8390                        tom sells flowers                         START_ टॉम फुलं विकतो _END\n",
            "12168                     start your own list                  START_ स्वतःची यादी सुरू करा _END\n",
            "13494                    he is angry with you              START_ ते तुझ्यावर रागवलेले आहेत _END\n",
            "37145  some people eat sushi with their hands            START_ काही लोकं सुशी हाताने खातात _END\n",
            "37108  my mother will make me a birthday cake  START_ माझी आई माझ्यासाठी वाढदिवसाचा केक बनवेल...\n",
            "26263              you are on the wrong plane          START_ तुम्ही चुकीच्या विमानावर आहात _END\n",
            "19152                  you had plenty of time             START_ तुमच्याकडे पुष्कळ वेळ होता _END\n",
            "7159                        fry an egg for me                   START_ मला एक अंड तळून द्या _END\n",
            "13962                     ill send you a bill                     START_ मी तुला बिल पाठवेन _END\n"
          ],
          "name": "stdout"
        }
      ]
    },
    {
      "cell_type": "markdown",
      "metadata": {
        "id": "U4e0tdhXB50z"
      },
      "source": [
        "# visualizing data for word to vector conversion and training"
      ]
    },
    {
      "cell_type": "code",
      "metadata": {
        "id": "SGX1xspbS1VL",
        "colab": {
          "base_uri": "https://localhost:8080/"
        },
        "outputId": "6f74fc37-d56a-43d3-8d01-06876ab4e26b"
      },
      "source": [
        "# Vocabulary of English\n",
        "all_eng_words=set()\n",
        "for line in lines.eng:\n",
        "    for word in line.split():\n",
        "      all_eng_words.add(word)\n",
        "        # if word not in all_eng_words:\n",
        "        #     all_eng_words.add(word)\n",
        "# print(len(all_eng_words))\n",
        "# print(all_eng_words)\n",
        "\n",
        "# Vocabulary of Marathi \n",
        "all_marathi_words=set()\n",
        "for line in lines.mar:\n",
        "    for word in line.split():\n",
        "      all_marathi_words.add(word)\n",
        "        # if word not in all_marathi_words:\n",
        "        #     all_marathi_words.add(word)\n",
        "# print(all_marathi_words)\n",
        "\n",
        "# Max Length of source sequence(length of sentences)\n",
        "lenght_list=[]\n",
        "for l in lines.eng:\n",
        "    lenght_list.append(len(l.split(' ')))\n",
        "max_length_src = np.max(lenght_list)\n",
        "# print(max_length_src)\n",
        "\n",
        "# Max Length of target sequence(length of marathi sentences)\n",
        "lenght_list=[]\n",
        "for l in lines.mar:\n",
        "    lenght_list.append(len(l.split(' ')))\n",
        "max_length_tar = np.max(lenght_list)\n",
        "# print(max_length_tar)\n",
        "\n",
        "input_words = sorted(list(all_eng_words))\n",
        "target_words = sorted(list(all_marathi_words))\n",
        "# print(input_words)\n",
        "# print(target_words)\n",
        "\n",
        "# Calculate Vocab size(number of distinct words) for both source and target\n",
        "num_encoder_tokens = len(all_eng_words)\n",
        "num_decoder_tokens = len(all_marathi_words)\n",
        "num_decoder_tokens += 1 # For zero padding\n",
        "# print(num_encoder_tokens)\n",
        "# print(num_decoder_tokens)\n",
        "\n",
        "# Create word to token dictionary for both source and target\n",
        "input_token_index = dict([(word, i) for i, word in enumerate(input_words)])\n",
        "target_token_index = dict([(word, i) for i, word in enumerate(target_words)])\n",
        "print(input_token_index)\n",
        "print(target_token_index)\n",
        "\n",
        "# Create token to word dictionary for both source and target\n",
        "reverse_input_char_index = dict((i, word) for word, i in input_token_index.items())\n",
        "reverse_target_char_index = dict((i, word) for word, i in target_token_index.items())\n",
        "# print(reverse_input_char_index)\n",
        "# print(reverse_target_char_index)"
      ],
      "execution_count": 24,
      "outputs": [
        {
          "output_type": "stream",
          "text": [
            "{'a': 0, 'abbreviation': 1, 'ability': 2, 'able': 3, 'about': 4, 'above': 5, 'abroad': 6, 'absent': 7, 'absolute': 8, 'absolutely': 9, 'accent': 10, 'accept': 11, 'acceptable': 12, 'accepted': 13, 'access': 14, 'accessible': 15, 'accident': 16, 'accidentally': 17, 'accomplices': 18, 'according': 19, 'accordion': 20, 'account': 21, 'accused': 22, 'accusing': 23, 'accustomed': 24, 'ace': 25, 'aces': 26, 'acetone': 27, 'ache': 28, 'aches': 29, 'achille': 30, 'achilles': 31, 'acid': 32, 'acknowledged': 33, 'acquired': 34, 'acres': 35, 'across': 36, 'act': 37, 'acted': 38, 'acting': 39, 'action': 40, 'activist': 41, 'actor': 42, 'actors': 43, 'actress': 44, 'acts': 45, 'actual': 46, 'actually': 47, 'add': 48, 'added': 49, 'addict': 50, 'addicted': 51, 'addition': 52, 'additional': 53, 'addon': 54, 'address': 55, 'administrative': 56, 'admire': 57, 'admit': 58, 'admitted': 59, 'adopt': 60, 'adopted': 61, 'ads': 62, 'adultery': 63, 'advance': 64, 'advantage': 65, 'adverb': 66, 'advertisements': 67, 'advice': 68, 'advised': 69, 'adviser': 70, 'advisers': 71, 'advisor': 72, 'affair': 73, 'affairs': 74, 'afford': 75, 'afghanistan': 76, 'afraid': 77, 'africa': 78, 'african': 79, 'africans': 80, 'after': 81, 'afternoon': 82, 'afterwards': 83, 'again': 84, 'against': 85, 'age': 86, 'agency': 87, 'ages': 88, 'aggressive': 89, 'ago': 90, 'agree': 91, 'agreed': 92, 'agreement': 93, 'agriculture': 94, 'ah': 95, 'ahead': 96, 'aimed': 97, 'air': 98, 'airbag': 99, 'airlines': 100, 'airplane': 101, 'airplanes': 102, 'airport': 103, 'akita': 104, 'al': 105, 'alarm': 106, 'albany': 107, 'album': 108, 'alcohol': 109, 'alert': 110, 'alfred': 111, 'algeria': 112, 'algerians': 113, 'ali': 114, 'alice': 115, 'aliens': 116, 'alike': 117, 'alive': 118, 'all': 119, 'allergic': 120, 'allied': 121, 'allies': 122, 'alligator': 123, 'allow': 124, 'allowed': 125, 'almonds': 126, 'almost': 127, 'alone': 128, 'along': 129, 'aloud': 130, 'alphabet': 131, 'alps': 132, 'already': 133, 'also': 134, 'alternative': 135, 'although': 136, 'always': 137, 'am': 138, 'amazon': 139, 'amazoncom': 140, 'ambassador': 141, 'ambulance': 142, 'amendment': 143, 'america': 144, 'american': 145, 'americans': 146, 'americas': 147, 'amiens': 148, 'ammunition': 149, 'among': 150, 'amounted': 151, 'amsterdam': 152, 'amused': 153, 'amusing': 154, 'an': 155, 'anaconda': 156, 'analyst': 157, 'ancestors': 158, 'anchorage': 159, 'ancient': 160, 'and': 161, 'anderson': 162, 'andes': 163, 'android': 164, 'andy': 165, 'angel': 166, 'angeles': 167, 'anger': 168, 'angle': 169, 'angles': 170, 'angola': 171, 'angrily': 172, 'angry': 173, 'animal': 174, 'animals': 175, 'ankara': 176, 'ankle': 177, 'announced': 178, 'announcement': 179, 'another': 180, 'answer': 181, 'answered': 182, 'answering': 183, 'answers': 184, 'anthem': 185, 'antivirus': 186, 'ants': 187, 'any': 188, 'anybody': 189, 'anybodys': 190, 'anymore': 191, 'anyone': 192, 'anyones': 193, 'anything': 194, 'anytime': 195, 'anyway': 196, 'anywhere': 197, 'apartment': 198, 'apologize': 199, 'apologized': 200, 'apology': 201, 'app': 202, 'apparent': 203, 'appetite': 204, 'applauded': 205, 'apple': 206, 'apples': 207, 'applesauce': 208, 'applied': 209, 'applies': 210, 'appointed': 211, 'appointment': 212, 'appoints': 213, 'approved': 214, 'april': 215, 'apron': 216, 'aquarium': 217, 'arab': 218, 'arabia': 219, 'arabic': 220, 'arabs': 221, 'archer': 222, 'architecture': 223, 'arctic': 224, 'are': 225, 'area': 226, 'areas': 227, 'arent': 228, 'argentine': 229, 'argue': 230, 'argued': 231, 'argues': 232, 'arguing': 233, 'arizona': 234, 'arm': 235, 'armenia': 236, 'armenian': 237, 'arms': 238, 'armstrong': 239, 'army': 240, 'arose': 241, 'around': 242, 'arrange': 243, 'arranged': 244, 'arrest': 245, 'arrested': 246, 'arrive': 247, 'arrived': 248, 'arrives': 249, 'arrow': 250, 'art': 251, 'arthropods': 252, 'article': 253, 'articles': 254, 'artificial': 255, 'artillery': 256, 'artist': 257, 'artistic': 258, 'artists': 259, 'as': 260, 'asahi': 261, 'ashamed': 262, 'ashburton': 263, 'asia': 264, 'asian': 265, 'asianamerican': 266, 'asians': 267, 'aside': 268, 'ask': 269, 'asked': 270, 'asking': 271, 'asks': 272, 'asleep': 273, 'assassin': 274, 'assaulted': 275, 'assembled': 276, 'assertive': 277, 'assistant': 278, 'associate': 279, 'assuming': 280, 'assure': 281, 'astrology': 282, 'astronaut': 283, 'astronauts': 284, 'astronomy': 285, 'at': 286, 'ate': 287, 'atheist': 288, 'athens': 289, 'atlantic': 290, 'atlantis': 291, 'atmosphere': 292, 'atomic': 293, 'atone': 294, 'attached': 295, 'attaching': 296, 'attack': 297, 'attacked': 298, 'attacker': 299, 'attempted': 300, 'attended': 301, 'attention': 302, 'attitude': 303, 'attorney': 304, 'attractive': 305, 'auckland': 306, 'audience': 307, 'audio': 308, 'audiobook': 309, 'audition': 310, 'august': 311, 'augusta': 312, 'aunt': 313, 'australia': 314, 'australian': 315, 'australias': 316, 'austria': 317, 'austrian': 318, 'author': 319, 'authors': 320, 'autobiography': 321, 'autumn': 322, 'available': 323, 'avoid': 324, 'aw': 325, 'awake': 326, 'award': 327, 'aware': 328, 'away': 329, 'axe': 330, 'b': 331, 'babbling': 332, 'babies': 333, 'baby': 334, 'babys': 335, 'bachelor': 336, 'back': 337, 'backed': 338, 'backlit': 339, 'backpack': 340, 'backward': 341, 'backwards': 342, 'bacon': 343, 'bacteria': 344, 'bad': 345, 'bag': 346, 'baghdad': 347, 'bags': 348, 'baikal': 349, 'bakery': 350, 'baking': 351, 'bald': 352, 'baldheaded': 353, 'balkan': 354, 'ball': 355, 'ballerina': 356, 'ballet': 357, 'balloon': 358, 'ballpoint': 359, 'balls': 360, 'baloney': 361, 'baltic': 362, 'baltimore': 363, 'ban': 364, 'banana': 365, 'bananas': 366, 'band': 367, 'bandage': 368, 'banged': 369, 'bangkok': 370, 'bangladesh': 371, 'bank': 372, 'banks': 373, 'banned': 374, 'bar': 375, 'barack': 376, 'barbecue': 377, 'barbecued': 378, 'barbeque': 379, 'barcelona': 380, 'barely': 381, 'bark': 382, 'barked': 383, 'barking': 384, 'barks': 385, 'bars': 386, 'bartender': 387, 'bartolomeo': 388, 'baseball': 389, 'basement': 390, 'basho': 391, 'basket': 392, 'basketball': 393, 'basque': 394, 'bass': 395, 'bassoon': 396, 'bath': 397, 'bathing': 398, 'bathrobe': 399, 'bathroom': 400, 'bathrooms': 401, 'batman': 402, 'batter': 403, 'batteries': 404, 'battery': 405, 'battle': 406, 'battlefield': 407, 'battles': 408, 'be': 409, 'beach': 410, 'beak': 411, 'beaks': 412, 'bear': 413, 'beard': 414, 'bears': 415, 'beat': 416, 'beaten': 417, 'beating': 418, 'beatnik': 419, 'beats': 420, 'beautiful': 421, 'beauty': 422, 'became': 423, 'because': 424, 'become': 425, 'becoming': 426, 'bed': 427, 'bedroom': 428, 'bedrooms': 429, 'beef': 430, 'been': 431, 'beer': 432, 'beers': 433, 'bees': 434, 'beethoven': 435, 'before': 436, 'beg': 437, 'began': 438, 'beggar': 439, 'beggars': 440, 'begin': 441, 'beginning': 442, 'beginnings': 443, 'begins': 444, 'begun': 445, 'behalf': 446, 'behave': 447, 'behavior': 448, 'behind': 449, 'beijing': 450, 'being': 451, 'beispiel': 452, 'belgium': 453, 'belgrade': 454, 'belief': 455, 'believe': 456, 'believed': 457, 'believes': 458, 'bell': 459, 'belleau': 460, 'belong': 461, 'belonged': 462, 'belongs': 463, 'below': 464, 'belt': 465, 'bench': 466, 'benjamin': 467, 'bent': 468, 'bergen': 469, 'berlin': 470, 'bern': 471, 'beside': 472, 'besides': 473, 'besieged': 474, 'best': 475, 'bet': 476, 'bethlehem': 477, 'betrayed': 478, 'better': 479, 'between': 480, 'beverage': 481, 'beware': 482, 'bible': 483, 'bicycle': 484, 'bicycles': 485, 'big': 486, 'bigger': 487, 'biggest': 488, 'bike': 489, 'bilingual': 490, 'bill': 491, 'billiards': 492, 'billion': 493, 'billionaire': 494, 'billions': 495, 'bills': 496, 'biochemist': 497, 'biographies': 498, 'bird': 499, 'birds': 500, 'birmingham': 501, 'birth': 502, 'birthday': 503, 'birthdays': 504, 'birthplace': 505, 'bishara': 506, 'bit': 507, 'bite': 508, 'bites': 509, 'biting': 510, 'bitter': 511, 'biwa': 512, 'blabbermouth': 513, 'black': 514, 'blackberries': 515, 'blackboard': 516, 'blackmailed': 517, 'blackmailing': 518, 'blacks': 519, 'blame': 520, 'blamed': 521, 'blank': 522, 'blanket': 523, 'blankets': 524, 'blasco': 525, 'blast': 526, 'bleach': 527, 'bled': 528, 'bleed': 529, 'bleeding': 530, 'bless': 531, 'blew': 532, 'blind': 533, 'blindfolded': 534, 'blog': 535, 'bloggers': 536, 'blogs': 537, 'blondes': 538, 'blondie': 539, 'blood': 540, 'bloom': 541, 'blouse': 542, 'blow': 543, 'blowing': 544, 'blt': 545, 'blue': 546, 'bluegrass': 547, 'boarding': 548, 'boat': 549, 'boats': 550, 'bob': 551, 'body': 552, 'bodyguard': 553, 'boil': 554, 'boiled': 555, 'boiling': 556, 'bollywood': 557, 'bomb': 558, 'bombs': 559, 'bonaparte': 560, 'bond': 561, 'bones': 562, 'bongos': 563, 'book': 564, 'booklet': 565, 'bookmarked': 566, 'books': 567, 'bookstore': 568, 'boot': 569, 'booted': 570, 'boots': 571, 'border': 572, 'bored': 573, 'bores': 574, 'boring': 575, 'born': 576, 'borrowed': 577, 'boss': 578, 'boston': 579, 'botanist': 580, 'botany': 581, 'both': 582, 'bother': 583, 'bothered': 584, 'bothering': 585, 'bothers': 586, 'bottle': 587, 'bottles': 588, 'bottom': 589, 'bought': 590, 'boulevard': 591, 'bounced': 592, 'bow': 593, 'bowl': 594, 'bowler': 595, 'box': 596, 'boxer': 597, 'boy': 598, 'boyfriend': 599, 'boyfriends': 600, 'boys': 601, 'bra': 602, 'brad': 603, 'braided': 604, 'branches': 605, 'brand': 606, 'brandy': 607, 'brasilia': 608, 'brave': 609, 'brazil': 610, 'brazilian': 611, 'brazils': 612, 'bread': 613, 'break': 614, 'breakfast': 615, 'breaking': 616, 'breaks': 617, 'breast': 618, 'breath': 619, 'breathe': 620, 'breathed': 621, 'breathing': 622, 'breeds': 623, 'bribery': 624, 'bribes': 625, 'brick': 626, 'bride': 627, 'bridge': 628, 'bridges': 629, 'briefcase': 630, 'bright': 631, 'brightest': 632, 'bring': 633, 'bringing': 634, 'brings': 635, 'britain': 636, 'british': 637, 'broccoli': 638, 'broke': 639, 'broken': 640, 'broom': 641, 'brother': 642, 'brothers': 643, 'brought': 644, 'brown': 645, 'brownies': 646, 'browser': 647, 'browsers': 648, 'bruises': 649, 'brunch': 650, 'brunettes': 651, 'brush': 652, 'brushing': 653, 'brussels': 654, 'bucharest': 655, 'bucket': 656, 'buckingham': 657, 'bud': 658, 'budapest': 659, 'buddhism': 660, 'buddhist': 661, 'bug': 662, 'bugs': 663, 'build': 664, 'building': 665, 'buildings': 666, 'built': 667, 'bulb': 668, 'bull': 669, 'bullet': 670, 'bulletproof': 671, 'bullets': 672, 'bullfighter': 673, 'bullfighting': 674, 'burger': 675, 'burgers': 676, 'burj': 677, 'burn': 678, 'burned': 679, 'burning': 680, 'burns': 681, 'burp': 682, 'burped': 683, 'burr': 684, 'burrs': 685, 'burst': 686, 'bury': 687, 'bus': 688, 'buses': 689, 'bush': 690, 'business': 691, 'busy': 692, 'but': 693, 'butter': 694, 'butterflies': 695, 'butterfly': 696, 'button': 697, 'buttons': 698, 'buy': 699, 'buying': 700, 'buys': 701, 'buzzer': 702, 'by': 703, 'bygones': 704, 'c': 705, 'cab': 706, 'cabbage': 707, 'cabin': 708, 'cabinet': 709, 'cabins': 710, 'cable': 711, 'cabot': 712, 'cache': 713, 'caesar': 714, 'cafe': 715, 'cafeteria': 716, 'cage': 717, 'caged': 718, 'cake': 719, 'cakes': 720, 'calais': 721, 'calculation': 722, 'calculator': 723, 'calcutta': 724, 'california': 725, 'call': 726, 'callas': 727, 'called': 728, 'calling': 729, 'calls': 730, 'calm': 731, 'calmed': 732, 'calmly': 733, 'calories': 734, 'cambridge': 735, 'came': 736, 'camel': 737, 'camera': 738, 'cameraman': 739, 'cameras': 740, 'cameron': 741, 'camomile': 742, 'campaign': 743, 'camper': 744, 'camping': 745, 'campus': 746, 'can': 747, 'canada': 748, 'canadian': 749, 'canadians': 750, 'canary': 751, 'cancel': 752, 'canceled': 753, 'cancelled': 754, 'cancer': 755, 'candidate': 756, 'candle': 757, 'candlelight': 758, 'candles': 759, 'candy': 760, 'cane': 761, 'cannot': 762, 'canoe': 763, 'cant': 764, 'cap': 765, 'capacity': 766, 'capital': 767, 'capitals': 768, 'capri': 769, 'captain': 770, 'captured': 771, 'car': 772, 'card': 773, 'cardiff': 774, 'cardiologist': 775, 'cards': 776, 'care': 777, 'cared': 778, 'careful': 779, 'carefully': 780, 'caribbean': 781, 'carpet': 782, 'carrie': 783, 'carried': 784, 'carrots': 785, 'carry': 786, 'cars': 787, 'carter': 788, 'cartoon': 789, 'cartoonist': 790, 'cartoons': 791, 'case': 792, 'cash': 793, 'casillas': 794, 'casinos': 795, 'cassette': 796, 'cassino': 797, 'castle': 798, 'castles': 799, 'castro': 800, 'cat': 801, 'catalonia': 802, 'catch': 803, 'catching': 804, 'cathedral': 805, 'catholic': 806, 'catholics': 807, 'cats': 808, 'cattle': 809, 'caught': 810, 'cause': 811, 'caused': 812, 'causes': 813, 'cavalry': 814, 'cave': 815, 'caviar': 816, 'cd': 817, 'cds': 818, 'ceasefire': 819, 'ceiling': 820, 'celebrate': 821, 'celebrated': 822, 'celebrating': 823, 'cell': 824, 'cello': 825, 'cellphone': 826, 'cellphones': 827, 'celtic': 828, 'cement': 829, 'census': 830, 'center': 831, 'centers': 832, 'centimeters': 833, 'central': 834, 'cents': 835, 'century': 836, 'ceo': 837, 'ceremony': 838, 'certain': 839, 'certainly': 840, 'chain': 841, 'chair': 842, 'chairs': 843, 'chamberlain': 844, 'champagne': 845, 'champion': 846, 'chance': 847, 'chancellorsville': 848, 'change': 849, 'changed': 850, 'changes': 851, 'changing': 852, 'channel': 853, 'characters': 854, 'charge': 855, 'charged': 856, 'charger': 857, 'charges': 858, 'charlemagne': 859, 'charles': 860, 'chased': 861, 'chases': 862, 'chasing': 863, 'chat': 864, 'chatted': 865, 'chattering': 866, 'chatting': 867, 'chaucer': 868, 'chauffeur': 869, 'cheap': 870, 'cheaper': 871, 'cheaply': 872, 'cheat': 873, 'check': 874, 'checked': 875, 'checking': 876, 'checks': 877, 'cheek': 878, 'cheese': 879, 'cheeseburger': 880, 'cheeseburgers': 881, 'cheesecake': 882, 'chemical': 883, 'cherry': 884, 'chess': 885, 'chest': 886, 'chew': 887, 'chewed': 888, 'chicago': 889, 'chicken': 890, 'chickens': 891, 'chihuahua': 892, 'child': 893, 'childhood': 894, 'children': 895, 'childrens': 896, 'chimney': 897, 'chimpanzees': 898, 'china': 899, 'chinese': 900, 'chips': 901, 'chocolate': 902, 'chocolates': 903, 'choice': 904, 'choices': 905, 'choose': 906, 'choosing': 907, 'chopins': 908, 'chopping': 909, 'chops': 910, 'chopsticks': 911, 'chose': 912, 'chosen': 913, 'christ': 914, 'christian': 915, 'christianity': 916, 'christians': 917, 'christmas': 918, 'chrysanthemums': 919, 'chucks': 920, 'church': 921, 'churches': 922, 'churchill': 923, 'cia': 924, 'cigarette': 925, 'cigarettes': 926, 'cigars': 927, 'cinderella': 928, 'circus': 929, 'cities': 930, 'citizen': 931, 'citizens': 932, 'city': 933, 'citys': 934, 'civil': 935, 'civilization': 936, 'civilizations': 937, 'claimed': 938, 'claims': 939, 'clap': 940, 'clapped': 941, 'clapping': 942, 'claps': 943, 'clarinet': 944, 'clarinetist': 945, 'clark': 946, 'class': 947, 'classes': 948, 'classical': 949, 'classmate': 950, 'classmates': 951, 'classroom': 952, 'clatsop': 953, 'claustrophobic': 954, 'clean': 955, 'cleaned': 956, 'cleaning': 957, 'clear': 958, 'cleared': 959, 'clearing': 960, 'clearly': 961, 'cleopatras': 962, 'clever': 963, 'click': 964, 'climate': 965, 'climb': 966, 'climbed': 967, 'climbing': 968, 'cling': 969, 'clinic': 970, 'clip': 971, 'clock': 972, 'clocks': 973, 'close': 974, 'closed': 975, 'closely': 976, 'closer': 977, 'closes': 978, 'closest': 979, 'closet': 980, 'closing': 981, 'cloth': 982, 'clothes': 983, 'clothing': 984, 'cloud': 985, 'clouds': 986, 'clown': 987, 'club': 988, 'clubs': 989, 'clue': 990, 'cnn': 991, 'coach': 992, 'coal': 993, 'coasters': 994, 'coat': 995, 'cocacola': 996, 'cocaine': 997, 'cockroaches': 998, 'cocktail': 999, 'cocktails': 1000, 'coconut': 1001, 'code': 1002, 'coffee': 1003, 'coffees': 1004, 'coin': 1005, 'coincidence': 1006, 'coincidences': 1007, 'coins': 1008, 'coke': 1009, 'cold': 1010, 'colder': 1011, 'coldest': 1012, 'collapsed': 1013, 'collars': 1014, 'collect': 1015, 'collected': 1016, 'college': 1017, 'colombian': 1018, 'colonies': 1019, 'colonists': 1020, 'colony': 1021, 'color': 1022, 'colorado': 1023, 'colorblind': 1024, 'colorful': 1025, 'colors': 1026, 'columbus': 1027, 'coma': 1028, 'comb': 1029, 'come': 1030, 'comedian': 1031, 'comes': 1032, 'comet': 1033, 'comic': 1034, 'comics': 1035, 'coming': 1036, 'commander': 1037, 'comment': 1038, 'commented': 1039, 'commerce': 1040, 'commercial': 1041, 'commit': 1042, 'committed': 1043, 'common': 1044, 'communicate': 1045, 'communism': 1046, 'communist': 1047, 'communists': 1048, 'community': 1049, 'companies': 1050, 'company': 1051, 'compare': 1052, 'compared': 1053, 'comparison': 1054, 'compass': 1055, 'competition': 1056, 'complain': 1057, 'complained': 1058, 'complaining': 1059, 'complains': 1060, 'complete': 1061, 'completely': 1062, 'complicated': 1063, 'components': 1064, 'compose': 1065, 'compressed': 1066, 'computer': 1067, 'computers': 1068, 'computing': 1069, 'concept': 1070, 'concerned': 1071, 'concert': 1072, 'concluded': 1073, 'concludes': 1074, 'condemn': 1075, 'condition': 1076, 'conditioned': 1077, 'conditioner': 1078, 'conduct': 1079, 'conducted': 1080, 'conference': 1081, 'confess': 1082, 'confessed': 1083, 'confession': 1084, 'confidential': 1085, 'confirm': 1086, 'confirmed': 1087, 'confiscated': 1088, 'confuse': 1089, 'confused': 1090, 'congas': 1091, 'congo': 1092, 'congratulated': 1093, 'congratulations': 1094, 'congress': 1095, 'conkling': 1096, 'connections': 1097, 'connects': 1098, 'conquer': 1099, 'conquered': 1100, 'conqueror': 1101, 'consciousness': 1102, 'conservative': 1103, 'consider': 1104, 'considered': 1105, 'considering': 1106, 'consists': 1107, 'constantinople': 1108, 'constantly': 1109, 'constitution': 1110, 'constructing': 1111, 'consultant': 1112, 'contact': 1113, 'contacted': 1114, 'contain': 1115, 'contained': 1116, 'contains': 1117, 'contemplating': 1118, 'content': 1119, 'contest': 1120, 'contestants': 1121, 'continent': 1122, 'continued': 1123, 'continuously': 1124, 'contract': 1125, 'contributing': 1126, 'control': 1127, 'controlled': 1128, 'convinced': 1129, 'cook': 1130, 'cooked': 1131, 'cooker': 1132, 'cookie': 1133, 'cookies': 1134, 'cooking': 1135, 'cooks': 1136, 'cool': 1137, 'cooled': 1138, 'cooler': 1139, 'cools': 1140, 'cooperation': 1141, 'copenhagen': 1142, 'copies': 1143, 'copper': 1144, 'cops': 1145, 'copy': 1146, 'corn': 1147, 'corner': 1148, 'corporation': 1149, 'corps': 1150, 'correct': 1151, 'corrected': 1152, 'correctly': 1153, 'corrupt': 1154, 'corruption': 1155, 'corsica': 1156, 'cost': 1157, 'costs': 1158, 'cottage': 1159, 'cotton': 1160, 'couch': 1161, 'cough': 1162, 'could': 1163, 'couldnt': 1164, 'couldve': 1165, 'count': 1166, 'counted': 1167, 'counter': 1168, 'counting': 1169, 'countries': 1170, 'country': 1171, 'countrys': 1172, 'counts': 1173, 'couple': 1174, 'coupon': 1175, 'courage': 1176, 'courageous': 1177, 'court': 1178, 'courts': 1179, 'cousin': 1180, 'cover': 1181, 'covered': 1182, 'cow': 1183, 'coward': 1184, 'cowards': 1185, 'cowboy': 1186, 'cows': 1187, 'crab': 1188, 'crack': 1189, 'crackers': 1190, 'cradle': 1191, 'crane': 1192, 'crash': 1193, 'crashed': 1194, 'crashes': 1195, 'crawl': 1196, 'crawling': 1197, 'crazy': 1198, 'cream': 1199, 'create': 1200, 'created': 1201, 'creative': 1202, 'creator': 1203, 'creature': 1204, 'credit': 1205, 'cricket': 1206, 'cried': 1207, 'cries': 1208, 'crime': 1209, 'crimes': 1210, 'criminal': 1211, 'criminals': 1212, 'crisis': 1213, 'crispiness': 1214, 'cristofori': 1215, 'criticized': 1216, 'crocodiles': 1217, 'crop': 1218, 'cross': 1219, 'crossed': 1220, 'crosses': 1221, 'crossing': 1222, 'crosslegged': 1223, 'crow': 1224, 'crowd': 1225, 'crowded': 1226, 'crowds': 1227, 'crown': 1228, 'crowned': 1229, 'crows': 1230, 'crucial': 1231, 'cruel': 1232, 'cruise': 1233, 'crushed': 1234, 'cry': 1235, 'crybaby': 1236, 'crying': 1237, 'crystalline': 1238, 'cuba': 1239, 'cubed': 1240, 'cucumber': 1241, 'cucumbers': 1242, 'cultivated': 1243, 'cultural': 1244, 'culture': 1245, 'cultured': 1246, 'cultures': 1247, 'cup': 1248, 'cupboard': 1249, 'cupcake': 1250, 'cupcakes': 1251, 'cups': 1252, 'cure': 1253, 'curious': 1254, 'current': 1255, 'currently': 1256, 'curry': 1257, 'curse': 1258, 'cursing': 1259, 'cursor': 1260, 'curtain': 1261, 'curve': 1262, 'custom': 1263, 'customer': 1264, 'customers': 1265, 'customs': 1266, 'cut': 1267, 'cute': 1268, 'cuts': 1269, 'cutting': 1270, 'cyborg': 1271, 'cycle': 1272, 'cynical': 1273, 'czech': 1274, 'czolgosz': 1275, 'dad': 1276, 'daddy': 1277, 'daffodil': 1278, 'daikon': 1279, 'daily': 1280, 'dalton': 1281, 'dam': 1282, 'damacus': 1283, 'damaged': 1284, 'damascus': 1285, 'dame': 1286, 'damp': 1287, 'dance': 1288, 'danced': 1289, 'dancer': 1290, 'dances': 1291, 'dancing': 1292, 'danes': 1293, 'danger': 1294, 'dangerous': 1295, 'daniel': 1296, 'daniels': 1297, 'danube': 1298, 'danzig': 1299, 'darcy': 1300, 'dark': 1301, 'dart': 1302, 'darts': 1303, 'darwin': 1304, 'date': 1305, 'dated': 1306, 'dating': 1307, 'daughter': 1308, 'daughters': 1309, 'dawn': 1310, 'day': 1311, 'days': 1312, 'dead': 1313, 'deaf': 1314, 'deal': 1315, 'deals': 1316, 'dealt': 1317, 'death': 1318, 'debts': 1319, 'decaffeinated': 1320, 'deceive': 1321, 'december': 1322, 'decent': 1323, 'decide': 1324, 'decided': 1325, 'decision': 1326, 'decisions': 1327, 'declared': 1328, 'declined': 1329, 'decorate': 1330, 'decorated': 1331, 'decorating': 1332, 'decreased': 1333, 'deep': 1334, 'deepest': 1335, 'deer': 1336, 'defeat': 1337, 'defeated': 1338, 'defend': 1339, 'defendant': 1340, 'defended': 1341, 'defends': 1342, 'definitely': 1343, 'defragmented': 1344, 'delete': 1345, 'deleted': 1346, 'delhi': 1347, 'deliberately': 1348, 'delicate': 1349, 'delicious': 1350, 'delighted': 1351, 'deliver': 1352, 'delivered': 1353, 'demand': 1354, 'demanded': 1355, 'demands': 1356, 'democracy': 1357, 'democratic': 1358, 'democrats': 1359, 'demolished': 1360, 'demonstrations': 1361, 'denied': 1362, 'denmark': 1363, 'dentist': 1364, 'deny': 1365, 'denying': 1366, 'depart': 1367, 'depend': 1368, 'dependent': 1369, 'depends': 1370, 'deposits': 1371, 'depp': 1372, 'describe': 1373, 'desert': 1374, 'deserve': 1375, 'design': 1376, 'designer': 1377, 'desire': 1378, 'desk': 1379, 'desktop': 1380, 'destiny': 1381, 'destroy': 1382, 'destroyed': 1383, 'destroys': 1384, 'detained': 1385, 'detective': 1386, 'detroit': 1387, 'devastated': 1388, 'developed': 1389, 'developing': 1390, 'development': 1391, 'devonshire': 1392, 'dewey': 1393, 'dialect': 1394, 'dialup': 1395, 'diamond': 1396, 'diamonds': 1397, 'diapers': 1398, 'diary': 1399, 'dictator': 1400, 'dictatorship': 1401, 'dictionaries': 1402, 'dictionary': 1403, 'did': 1404, 'didnt': 1405, 'die': 1406, 'died': 1407, 'dies': 1408, 'diet': 1409, 'dieting': 1410, 'difference': 1411, 'differences': 1412, 'different': 1413, 'differs': 1414, 'difficult': 1415, 'difficulty': 1416, 'digging': 1417, 'dine': 1418, 'diner': 1419, 'dinner': 1420, 'dinners': 1421, 'dinosaurs': 1422, 'diploma': 1423, 'diplomatic': 1424, 'directed': 1425, 'direction': 1426, 'director': 1427, 'directory': 1428, 'dirty': 1429, 'disagree': 1430, 'disappeared': 1431, 'disappearing': 1432, 'disappointed': 1433, 'disciples': 1434, 'disco': 1435, 'discount': 1436, 'discovered': 1437, 'discovery': 1438, 'discriminate': 1439, 'discs': 1440, 'discuss': 1441, 'discussed': 1442, 'discussion': 1443, 'disease': 1444, 'disgusts': 1445, 'dish': 1446, 'dishes': 1447, 'dishonest': 1448, 'dishwasher': 1449, 'disk': 1450, 'dislike': 1451, 'dislikes': 1452, 'disneyland': 1453, 'dissolves': 1454, 'distance': 1455, 'distributed': 1456, 'distribution': 1457, 'districts': 1458, 'divided': 1459, 'divorce': 1460, 'divorced': 1461, 'dixieland': 1462, 'dizzy': 1463, 'dj': 1464, 'do': 1465, 'doctor': 1466, 'doctors': 1467, 'document': 1468, 'documentaries': 1469, 'documents': 1470, 'does': 1471, 'doesnt': 1472, 'dog': 1473, 'dogs': 1474, 'doing': 1475, 'doll': 1476, 'dollar': 1477, 'dollars': 1478, 'dolls': 1479, 'dolphin': 1480, 'dome': 1481, 'dominos': 1482, 'donate': 1483, 'donated': 1484, 'donating': 1485, 'done': 1486, 'donetsk': 1487, 'dont': 1488, 'donut': 1489, 'door': 1490, 'doorbell': 1491, 'doordie': 1492, 'doors': 1493, 'double': 1494, 'doubleclick': 1495, 'doubt': 1496, 'doubts': 1497, 'doughnut': 1498, 'doughnuts': 1499, 'down': 1500, 'download': 1501, 'downloaded': 1502, 'downloading': 1503, 'downloads': 1504, 'downright': 1505, 'downstairs': 1506, 'dozen': 1507, 'dr': 1508, 'dragon': 1509, 'dragons': 1510, 'drama': 1511, 'drank': 1512, 'draw': 1513, 'drawer': 1514, 'drawers': 1515, 'drawing': 1516, 'dream': 1517, 'dreamed': 1518, 'dreaming': 1519, 'dreams': 1520, 'drenched': 1521, 'dress': 1522, 'dressed': 1523, 'dresses': 1524, 'dressing': 1525, 'drew': 1526, 'dried': 1527, 'drink': 1528, 'drinker': 1529, 'drinking': 1530, 'drinks': 1531, 'drive': 1532, 'driven': 1533, 'driver': 1534, 'drives': 1535, 'driving': 1536, 'drone': 1537, 'drop': 1538, 'dropped': 1539, 'dropping': 1540, 'drops': 1541, 'drove': 1542, 'drown': 1543, 'drowned': 1544, 'drowning': 1545, 'drug': 1546, 'drugs': 1547, 'drugstore': 1548, 'drummer': 1549, 'drums': 1550, 'drunk': 1551, 'drunkard': 1552, 'dry': 1553, 'ds': 1554, 'dublin': 1555, 'duchess': 1556, 'duck': 1557, 'dude': 1558, 'due': 1559, 'dug': 1560, 'dull': 1561, 'dumbo': 1562, 'dumplings': 1563, 'duquesne': 1564, 'during': 1565, 'dust': 1566, 'dusty': 1567, 'dutch': 1568, 'duty': 1569, 'dvorak': 1570, 'dwight': 1571, 'dye': 1572, 'dyed': 1573, 'dying': 1574, 'dynamite': 1575, 'dynasty': 1576, 'each': 1577, 'eager': 1578, 'eagle': 1579, 'ear': 1580, 'earache': 1581, 'earl': 1582, 'earlier': 1583, 'earliest': 1584, 'early': 1585, 'earn': 1586, 'earned': 1587, 'earning': 1588, 'earns': 1589, 'earphones': 1590, 'earrings': 1591, 'ears': 1592, 'earth': 1593, 'earthquake': 1594, 'earthquakes': 1595, 'ease': 1596, 'easier': 1597, 'easiest': 1598, 'easily': 1599, 'east': 1600, 'easter': 1601, 'eastern': 1602, 'eastward': 1603, 'easy': 1604, 'eat': 1605, 'eaten': 1606, 'eating': 1607, 'eats': 1608, 'ebay': 1609, 'eclipse': 1610, 'economic': 1611, 'economical': 1612, 'economically': 1613, 'economics': 1614, 'economist': 1615, 'economy': 1616, 'ecuador': 1617, 'edible': 1618, 'editing': 1619, 'edition': 1620, 'editor': 1621, 'educated': 1622, 'education': 1623, 'effective': 1624, 'effort': 1625, 'egg': 1626, 'eggs': 1627, 'ego': 1628, 'egypt': 1629, 'eiffel': 1630, 'eight': 1631, 'eighteen': 1632, 'eighteenth': 1633, 'eighth': 1634, 'eighty': 1635, 'einstein': 1636, 'eisenhower': 1637, 'either': 1638, 'elderly': 1639, 'elected': 1640, 'election': 1641, 'electric': 1642, 'electrical': 1643, 'electrician': 1644, 'electricity': 1645, 'electronic': 1646, 'electronics': 1647, 'elementary': 1648, 'elephant': 1649, 'elephants': 1650, 'elevator': 1651, 'elevators': 1652, 'eleven': 1653, 'eleventh': 1654, 'elizabeth': 1655, 'elk': 1656, 'else': 1657, 'elsewhere': 1658, 'elvis': 1659, 'email': 1660, 'embassy': 1661, 'embraced': 1662, 'emergency': 1663, 'emperor': 1664, 'empire': 1665, 'employ': 1666, 'emptied': 1667, 'empty': 1668, 'encouraged': 1669, 'encrypted': 1670, 'end': 1671, 'ended': 1672, 'ends': 1673, 'enemies': 1674, 'enemy': 1675, 'enemys': 1676, 'energy': 1677, 'engaged': 1678, 'engine': 1679, 'engineer': 1680, 'engineering': 1681, 'england': 1682, 'english': 1683, 'englishman': 1684, 'enjoyed': 1685, 'enormous': 1686, 'enough': 1687, 'enter': 1688, 'entered': 1689, 'entering': 1690, 'enters': 1691, 'entertaining': 1692, 'entire': 1693, 'entirely': 1694, 'entrepreneur': 1695, 'envelope': 1696, 'environment': 1697, 'episode': 1698, 'equal': 1699, 'erase': 1700, 'erased': 1701, 'errands': 1702, 'error': 1703, 'errors': 1704, 'escape': 1705, 'escaped': 1706, 'especially': 1707, 'esperanto': 1708, 'essay': 1709, 'essential': 1710, 'establish': 1711, 'established': 1712, 'estrogen': 1713, 'et': 1714, 'ethiopian': 1715, 'europe': 1716, 'european': 1717, 'europeans': 1718, 'euros': 1719, 'even': 1720, 'evening': 1721, 'eventually': 1722, 'ever': 1723, 'every': 1724, 'everybody': 1725, 'everybodys': 1726, 'everyone': 1727, 'everyones': 1728, 'everything': 1729, 'everythings': 1730, 'everywhere': 1731, 'evidence': 1732, 'evil': 1733, 'exact': 1734, 'exactly': 1735, 'exaggerate': 1736, 'exam': 1737, 'examination': 1738, 'examine': 1739, 'examined': 1740, 'example': 1741, 'exams': 1742, 'excel': 1743, 'excellent': 1744, 'except': 1745, 'exchange': 1746, 'excited': 1747, 'exercise': 1748, 'exercised': 1749, 'exercises': 1750, 'exercising': 1751, 'exgirlfriend': 1752, 'exhaled': 1753, 'exhausted': 1754, 'exist': 1755, 'existed': 1756, 'existence': 1757, 'exists': 1758, 'exmarine': 1759, 'expect': 1760, 'expected': 1761, 'expecting': 1762, 'expects': 1763, 'expensive': 1764, 'experience': 1765, 'experienced': 1766, 'experiment': 1767, 'experimented': 1768, 'experimenting': 1769, 'expert': 1770, 'explain': 1771, 'explained': 1772, 'exploded': 1773, 'explored': 1774, 'explosion': 1775, 'explosions': 1776, 'export': 1777, 'express': 1778, 'expressed': 1779, 'expression': 1780, 'extension': 1781, 'external': 1782, 'extinguished': 1783, 'extremely': 1784, 'eye': 1785, 'eyes': 1786, 'face': 1787, 'facebook': 1788, 'faces': 1789, 'facing': 1790, 'fact': 1791, 'factories': 1792, 'factory': 1793, 'fahrenheit': 1794, 'fail': 1795, 'failed': 1796, 'fails': 1797, 'failure': 1798, 'faint': 1799, 'fainted': 1800, 'fairly': 1801, 'faith': 1802, 'fake': 1803, 'fall': 1804, 'fallen': 1805, 'falling': 1806, 'falls': 1807, 'families': 1808, 'family': 1809, 'famous': 1810, 'fan': 1811, 'fanning': 1812, 'fans': 1813, 'fantasy': 1814, 'faq': 1815, 'far': 1816, 'fare': 1817, 'fares': 1818, 'farm': 1819, 'farmer': 1820, 'farmers': 1821, 'farms': 1822, 'fars': 1823, 'farsi': 1824, 'farted': 1825, 'fascist': 1826, 'fashion': 1827, 'fashionable': 1828, 'fast': 1829, 'fastball': 1830, 'faster': 1831, 'fastfood': 1832, 'fasting': 1833, 'fat': 1834, 'fate': 1835, 'father': 1836, 'fathers': 1837, 'fatimas': 1838, 'fatter': 1839, 'faucet': 1840, 'fault': 1841, 'favorite': 1842, 'favourite': 1843, 'fax': 1844, 'fear': 1845, 'feared': 1846, 'feather': 1847, 'feathers': 1848, 'february': 1849, 'fed': 1850, 'feed': 1851, 'feeding': 1852, 'feeds': 1853, 'feel': 1854, 'feeling': 1855, 'feelings': 1856, 'feels': 1857, 'feet': 1858, 'felicja': 1859, 'fell': 1860, 'felt': 1861, 'fence': 1862, 'ferry': 1863, 'festival': 1864, 'fetch': 1865, 'fever': 1866, 'few': 1867, 'fewer': 1868, 'fiction': 1869, 'fidel': 1870, 'field': 1871, 'fierce': 1872, 'fifteen': 1873, 'fifteenth': 1874, 'fifth': 1875, 'fifty': 1876, 'fiftyfive': 1877, 'fight': 1878, 'fighter': 1879, 'fighters': 1880, 'fighting': 1881, 'figure': 1882, 'figured': 1883, 'file': 1884, 'files': 1885, 'fill': 1886, 'filled': 1887, 'film': 1888, 'films': 1889, 'final': 1890, 'finally': 1891, 'financial': 1892, 'find': 1893, 'finding': 1894, 'finds': 1895, 'fine': 1896, 'finger': 1897, 'fingers': 1898, 'finish': 1899, 'finished': 1900, 'finishing': 1901, 'finland': 1902, 'finnish': 1903, 'fire': 1904, 'fired': 1905, 'firefox': 1906, 'fires': 1907, 'firewall': 1908, 'first': 1909, 'fish': 1910, 'fishing': 1911, 'fit': 1912, 'five': 1913, 'fiveminute': 1914, 'fivepound': 1915, 'fivethirty': 1916, 'fix': 1917, 'fixed': 1918, 'fixing': 1919, 'flag': 1920, 'flash': 1921, 'flashlight': 1922, 'flat': 1923, 'flavor': 1924, 'flew': 1925, 'flexible': 1926, 'flickr': 1927, 'flies': 1928, 'flight': 1929, 'flights': 1930, 'flirting': 1931, 'flirts': 1932, 'float': 1933, 'floats': 1934, 'flood': 1935, 'floor': 1936, 'floors': 1937, 'florence': 1938, 'florida': 1939, 'flour': 1940, 'flower': 1941, 'flowers': 1942, 'flown': 1943, 'flows': 1944, 'flu': 1945, 'flute': 1946, 'fly': 1947, 'flying': 1948, 'focus': 1949, 'fold': 1950, 'folded': 1951, 'folder': 1952, 'folk': 1953, 'follow': 1954, 'followed': 1955, 'followers': 1956, 'following': 1957, 'follows': 1958, 'fond': 1959, 'font': 1960, 'food': 1961, 'foods': 1962, 'fool': 1963, 'fooled': 1964, 'foolish': 1965, 'fools': 1966, 'foot': 1967, 'football': 1968, 'footpath': 1969, 'footprint': 1970, 'footprints': 1971, 'for': 1972, 'forced': 1973, 'forces': 1974, 'forcing': 1975, 'ford': 1976, 'forehead': 1977, 'foreign': 1978, 'foreigner': 1979, 'foreigners': 1980, 'foreignmade': 1981, 'forest': 1982, 'forever': 1983, 'forgave': 1984, 'forget': 1985, 'forgetful': 1986, 'forgets': 1987, 'forgetting': 1988, 'forgive': 1989, 'forgiven': 1990, 'forgives': 1991, 'forgot': 1992, 'forgotten': 1993, 'fork': 1994, 'forklift': 1995, 'forks': 1996, 'form': 1997, 'formal': 1998, 'formed': 1999, 'former': 2000, 'forms': 2001, 'formula': 2002, 'fort': 2003, 'forth': 2004, 'fortran': 2005, 'forts': 2006, 'fortunate': 2007, 'forty': 2008, 'fortyeight': 2009, 'fortyfive': 2010, 'fortyfour': 2011, 'forward': 2012, 'forwarded': 2013, 'foster': 2014, 'fought': 2015, 'found': 2016, 'founded': 2017, 'founder': 2018, 'fountain': 2019, 'four': 2020, 'fourroom': 2021, 'fourteen': 2022, 'fourth': 2023, 'fox': 2024, 'foxes': 2025, 'france': 2026, 'frances': 2027, 'francisco': 2028, 'francos': 2029, 'frank': 2030, 'franklin': 2031, 'franz': 2032, 'free': 2033, 'freed': 2034, 'freedom': 2035, 'french': 2036, 'frenchmen': 2037, 'frenchspeaking': 2038, 'fresh': 2039, 'freshwater': 2040, 'friday': 2041, 'fridge': 2042, 'fried': 2043, 'friend': 2044, 'friends': 2045, 'friendship': 2046, 'fries': 2047, 'frightened': 2048, 'frightening': 2049, 'frog': 2050, 'frogs': 2051, 'from': 2052, 'front': 2053, 'frozen': 2054, 'fruit': 2055, 'fruits': 2056, 'fry': 2057, 'fuel': 2058, 'fuels': 2059, 'fuji': 2060, 'fukuoka': 2061, 'full': 2062, 'fun': 2063, 'fundraiser': 2064, 'funny': 2065, 'furniture': 2066, 'further': 2067, 'future': 2068, 'gabriel': 2069, 'gaga': 2070, 'gained': 2071, 'gaining': 2072, 'galaxies': 2073, 'gallons': 2074, 'gamble': 2075, 'gambler': 2076, 'gambling': 2077, 'gamblings': 2078, 'game': 2079, 'games': 2080, 'garage': 2081, 'garbage': 2082, 'garden': 2083, 'garlic': 2084, 'gas': 2085, 'gasoline': 2086, 'gate': 2087, 'gates': 2088, 'gather': 2089, 'gathered': 2090, 'gathering': 2091, 'gatsby': 2092, 'gaul': 2093, 'gave': 2094, 'general': 2095, 'generally': 2096, 'generate': 2097, 'generates': 2098, 'geneva': 2099, 'genius': 2100, 'gentleman': 2101, 'gentlemen': 2102, 'gently': 2103, 'geography': 2104, 'george': 2105, 'georgess': 2106, 'german': 2107, 'germanic': 2108, 'germans': 2109, 'germany': 2110, 'germanys': 2111, 'get': 2112, 'gets': 2113, 'getting': 2114, 'ghost': 2115, 'ghosts': 2116, 'gi': 2117, 'giant': 2118, 'giants': 2119, 'gibraltar': 2120, 'gif': 2121, 'gift': 2122, 'gifts': 2123, 'giraffes': 2124, 'girl': 2125, 'girlfriend': 2126, 'girlfriends': 2127, 'girls': 2128, 'give': 2129, 'given': 2130, 'gives': 2131, 'giving': 2132, 'glass': 2133, 'glasses': 2134, 'glitters': 2135, 'global': 2136, 'gmt': 2137, 'go': 2138, 'goal': 2139, 'goalkeeper': 2140, 'goat': 2141, 'goats': 2142, 'god': 2143, 'gods': 2144, 'goes': 2145, 'goggles': 2146, 'going': 2147, 'gold': 2148, 'golden': 2149, 'goldfish': 2150, 'golf': 2151, 'golfer': 2152, 'gondolier': 2153, 'gone': 2154, 'gonna': 2155, 'good': 2156, 'goodnatured': 2157, 'goods': 2158, 'google': 2159, 'googled': 2160, 'gorilla': 2161, 'got': 2162, 'gotten': 2163, 'governed': 2164, 'government': 2165, 'governor': 2166, 'gown': 2167, 'grab': 2168, 'grabbed': 2169, 'grade': 2170, 'grades': 2171, 'graduate': 2172, 'graduated': 2173, 'grain': 2174, 'grammar': 2175, 'gramophone': 2176, 'grams': 2177, 'grande': 2178, 'grandfather': 2179, 'grandfathers': 2180, 'grandma': 2181, 'grandmas': 2182, 'grandmother': 2183, 'grandmothers': 2184, 'grandpa': 2185, 'grandparents': 2186, 'grant': 2187, 'granted': 2188, 'grapes': 2189, 'graphic': 2190, 'grass': 2191, 'grated': 2192, 'grave': 2193, 'gravity': 2194, 'gravy': 2195, 'grazing': 2196, 'great': 2197, 'greater': 2198, 'greatest': 2199, 'greece': 2200, 'greedy': 2201, 'greek': 2202, 'greeks': 2203, 'green': 2204, 'greenhouse': 2205, 'greenland': 2206, 'grenade': 2207, 'grew': 2208, 'grey': 2209, 'grinned': 2210, 'groaned': 2211, 'ground': 2212, 'group': 2213, 'grow': 2214, 'growing': 2215, 'grown': 2216, 'grownups': 2217, 'grows': 2218, 'grumbled': 2219, 'guacamole': 2220, 'guarantee': 2221, 'guarded': 2222, 'guelderish': 2223, 'guess': 2224, 'guest': 2225, 'guests': 2226, 'guillotine': 2227, 'guilty': 2228, 'guinea': 2229, 'guitar': 2230, 'guitarist': 2231, 'guitars': 2232, 'guiteau': 2233, 'gulf': 2234, 'gulfport': 2235, 'gummy': 2236, 'gun': 2237, 'gunman': 2238, 'guns': 2239, 'gutenberg': 2240, 'guy': 2241, 'guys': 2242, 'gym': 2243, 'habit': 2244, 'hack': 2245, 'hacked': 2246, 'had': 2247, 'hadnt': 2248, 'haggis': 2249, 'hair': 2250, 'hairstyle': 2251, 'haiti': 2252, 'hakodate': 2253, 'half': 2254, 'hall': 2255, 'halloween': 2256, 'halloweens': 2257, 'ham': 2258, 'hamamatsu': 2259, 'hamburger': 2260, 'hamburgers': 2261, 'hamilton': 2262, 'hamlet': 2263, 'hammer': 2264, 'hand': 2265, 'handed': 2266, 'handful': 2267, 'handkerchief': 2268, 'handkerchiefs': 2269, 'handle': 2270, 'hands': 2271, 'handsome': 2272, 'handwriting': 2273, 'handy': 2274, 'hang': 2275, 'hanged': 2276, 'happen': 2277, 'happened': 2278, 'happening': 2279, 'happens': 2280, 'happiest': 2281, 'happiness': 2282, 'happy': 2283, 'harassing': 2284, 'harassment': 2285, 'harbor': 2286, 'hard': 2287, 'harder': 2288, 'hardworking': 2289, 'harp': 2290, 'harpers': 2291, 'harpsichord': 2292, 'harvard': 2293, 'harvey': 2294, 'has': 2295, 'hashimoto': 2296, 'hasnt': 2297, 'hastily': 2298, 'hasty': 2299, 'hat': 2300, 'hate': 2301, 'hated': 2302, 'hates': 2303, 'hats': 2304, 'havana': 2305, 'have': 2306, 'havent': 2307, 'having': 2308, 'hawaii': 2309, 'hayes': 2310, 'haystack': 2311, 'he': 2312, 'head': 2313, 'headache': 2314, 'headaches': 2315, 'headlights': 2316, 'headphones': 2317, 'headquarters': 2318, 'headset': 2319, 'healing': 2320, 'heals': 2321, 'health': 2322, 'healthy': 2323, 'hear': 2324, 'heard': 2325, 'hearing': 2326, 'heart': 2327, 'hearts': 2328, 'heat': 2329, 'heated': 2330, 'heating': 2331, 'heaven': 2332, 'heavier': 2333, 'heavily': 2334, 'heavy': 2335, 'hebrew': 2336, 'hed': 2337, 'hedge': 2338, 'height': 2339, 'held': 2340, 'helicopter': 2341, 'hell': 2342, 'hello': 2343, 'helmet': 2344, 'help': 2345, 'helped': 2346, 'helping': 2347, 'helps': 2348, 'helsinki': 2349, 'hemisphere': 2350, 'hemoglobin': 2351, 'hen': 2352, 'henry': 2353, 'hens': 2354, 'her': 2355, 'herbal': 2356, 'herbert': 2357, 'here': 2358, 'heres': 2359, 'hero': 2360, 'heroes': 2361, 'heroin': 2362, 'heroine': 2363, 'hers': 2364, 'herself': 2365, 'hes': 2366, 'hesitated': 2367, 'hey': 2368, 'hid': 2369, 'hide': 2370, 'hideous': 2371, 'hideyo': 2372, 'hiding': 2373, 'high': 2374, 'higher': 2375, 'highest': 2376, 'highly': 2377, 'highway': 2378, 'highways': 2379, 'hill': 2380, 'hillbilly': 2381, 'hilton': 2382, 'him': 2383, 'himalayas': 2384, 'himself': 2385, 'hindered': 2386, 'hindus': 2387, 'hippy': 2388, 'hipster': 2389, 'hiroshima': 2390, 'his': 2391, 'historians': 2392, 'historically': 2393, 'history': 2394, 'hit': 2395, 'hitler': 2396, 'hits': 2397, 'hitting': 2398, 'hobo': 2399, 'hockey': 2400, 'hokkaido': 2401, 'hold': 2402, 'holding': 2403, 'hole': 2404, 'holes': 2405, 'holiday': 2406, 'holidays': 2407, 'holland': 2408, 'holy': 2409, 'home': 2410, 'homeless': 2411, 'homemade': 2412, 'homes': 2413, 'homestead': 2414, 'homework': 2415, 'honest': 2416, 'honesty': 2417, 'honey': 2418, 'hong': 2419, 'honk': 2420, 'honked': 2421, 'honshu': 2422, 'hood': 2423, 'hoover': 2424, 'hope': 2425, 'hormone': 2426, 'horn': 2427, 'horrible': 2428, 'horse': 2429, 'horseradish': 2430, 'horses': 2431, 'hose': 2432, 'hospital': 2433, 'hospitals': 2434, 'hot': 2435, 'hotdogs': 2436, 'hotel': 2437, 'hotels': 2438, 'hour': 2439, 'hours': 2440, 'house': 2441, 'houses': 2442, 'how': 2443, 'however': 2444, 'hows': 2445, 'hudson': 2446, 'hug': 2447, 'huge': 2448, 'hugged': 2449, 'huh': 2450, 'human': 2451, 'humans': 2452, 'hummingbird': 2453, 'humor': 2454, 'hundred': 2455, 'hundreds': 2456, 'hung': 2457, 'hungarian': 2458, 'hungary': 2459, 'hunger': 2460, 'hungry': 2461, 'hunt': 2462, 'hunted': 2463, 'hunter': 2464, 'hunters': 2465, 'hunting': 2466, 'hurricane': 2467, 'hurry': 2468, 'hurrying': 2469, 'hurt': 2470, 'hurts': 2471, 'husband': 2472, 'hut': 2473, 'hybrid': 2474, 'hydroponics': 2475, 'h₂o': 2476, 'i': 2477, 'iaido': 2478, 'ice': 2479, 'iceland': 2480, 'icelandic': 2481, 'icon': 2482, 'icy': 2483, 'id': 2484, 'idaho': 2485, 'idea': 2486, 'ideas': 2487, 'idiot': 2488, 'idiots': 2489, 'ids': 2490, 'if': 2491, 'ignore': 2492, 'ignored': 2493, 'ignores': 2494, 'ignoring': 2495, 'ii': 2496, 'iis': 2497, 'iker': 2498, 'ill': 2499, 'illegal': 2500, 'illinois': 2501, 'illiterate': 2502, 'illness': 2503, 'im': 2504, 'imaginary': 2505, 'imagination': 2506, 'imagined': 2507, 'imitate': 2508, 'imitating': 2509, 'immediately': 2510, 'immense': 2511, 'immortal': 2512, 'import': 2513, 'importance': 2514, 'important': 2515, 'imported': 2516, 'imports': 2517, 'impossible': 2518, 'improve': 2519, 'improved': 2520, 'improvements': 2521, 'improving': 2522, 'in': 2523, 'inca': 2524, 'inch': 2525, 'inches': 2526, 'incident': 2527, 'incidents': 2528, 'includes': 2529, 'including': 2530, 'income': 2531, 'incomplete': 2532, 'incorrectly': 2533, 'increase': 2534, 'increased': 2535, 'increasing': 2536, 'independence': 2537, 'independent': 2538, 'india': 2539, 'indian': 2540, 'indians': 2541, 'indoeuropean': 2542, 'indonesia': 2543, 'industrial': 2544, 'industrialized': 2545, 'industry': 2546, 'inexpensive': 2547, 'infinite': 2548, 'inflation': 2549, 'influence': 2550, 'influenced': 2551, 'info': 2552, 'inform': 2553, 'information': 2554, 'informed': 2555, 'ingredient': 2556, 'inhabitants': 2557, 'inhaled': 2558, 'inherently': 2559, 'initials': 2560, 'injured': 2561, 'ink': 2562, 'innocent': 2563, 'insane': 2564, 'insanity': 2565, 'insect': 2566, 'insects': 2567, 'inside': 2568, 'insisted': 2569, 'inspect': 2570, 'inspector': 2571, 'inspiration': 2572, 'install': 2573, 'installed': 2574, 'installing': 2575, 'instant': 2576, 'instead': 2577, 'insult': 2578, 'insulted': 2579, 'insulting': 2580, 'insurance': 2581, 'intelligent': 2582, 'intend': 2583, 'intention': 2584, 'interest': 2585, 'interested': 2586, 'interesting': 2587, 'intermission': 2588, 'intern': 2589, 'international': 2590, 'internet': 2591, 'interpreted': 2592, 'interpreter': 2593, 'interview': 2594, 'interviewed': 2595, 'into': 2596, 'introduced': 2597, 'invade': 2598, 'invaded': 2599, 'invasion': 2600, 'invent': 2601, 'invented': 2602, 'invention': 2603, 'inventions': 2604, 'inventor': 2605, 'investigation': 2606, 'invisible': 2607, 'invitation': 2608, 'invite': 2609, 'invited': 2610, 'ináñez': 2611, 'iowa': 2612, 'ipad': 2613, 'iphone': 2614, 'ipod': 2615, 'iran': 2616, 'iraq': 2617, 'iraqis': 2618, 'ireland': 2619, 'irish': 2620, 'iron': 2621, 'ironed': 2622, 'ironing': 2623, 'irons': 2624, 'irresponsible': 2625, 'irritated': 2626, 'irs': 2627, 'is': 2628, 'isaac': 2629, 'ishikawa': 2630, 'islam': 2631, 'islamabad': 2632, 'islamic': 2633, 'island': 2634, 'islands': 2635, 'isnt': 2636, 'isolated': 2637, 'isopropyl': 2638, 'israel': 2639, 'issue': 2640, 'issues': 2641, 'istanbul': 2642, 'it': 2643, 'italian': 2644, 'italianamericans': 2645, 'italians': 2646, 'italy': 2647, 'itch': 2648, 'itches': 2649, 'itll': 2650, 'its': 2651, 'itself': 2652, 'ive': 2653, 'jack': 2654, 'jacket': 2655, 'jackets': 2656, 'jackson': 2657, 'jacksons': 2658, 'jail': 2659, 'jam': 2660, 'jamaicas': 2661, 'james': 2662, 'january': 2663, 'japan': 2664, 'japanese': 2665, 'japaneseamerican': 2666, 'japaneseenglish': 2667, 'japans': 2668, 'javascript': 2669, 'jazz': 2670, 'jealous': 2671, 'jeans': 2672, 'jefferson': 2673, 'jelly': 2674, 'jesus': 2675, 'jew': 2676, 'jewelry': 2677, 'jewels': 2678, 'jimmy': 2679, 'job': 2680, 'jobs': 2681, 'jog': 2682, 'john': 2683, 'johnny': 2684, 'johns': 2685, 'join': 2686, 'joined': 2687, 'joke': 2688, 'jokes': 2689, 'journalist': 2690, 'joy': 2691, 'judaism': 2692, 'judge': 2693, 'juice': 2694, 'julius': 2695, 'july': 2696, 'jumbo': 2697, 'jump': 2698, 'jumped': 2699, 'jumping': 2700, 'june': 2701, 'jungle': 2702, 'junk': 2703, 'just': 2704, 'justice': 2705, 'kabuki': 2706, 'kabul': 2707, 'kafka': 2708, 'kagoshima': 2709, 'kaiser': 2710, 'kalmius': 2711, 'kamal': 2712, 'kane': 2713, 'kangaroo': 2714, 'kanji': 2715, 'karaoke': 2716, 'karate': 2717, 'karima': 2718, 'karl': 2719, 'kate': 2720, 'kawagoe': 2721, 'keep': 2722, 'keeps': 2723, 'kelantan': 2724, 'kendo': 2725, 'kenichi': 2726, 'kent': 2727, 'kenya': 2728, 'kept': 2729, 'kerosene': 2730, 'kerry': 2731, 'ketchup': 2732, 'kettle': 2733, 'key': 2734, 'keyboard': 2735, 'keys': 2736, 'khalifa': 2737, 'khan': 2738, 'kick': 2739, 'kicked': 2740, 'kicking': 2741, 'kicks': 2742, 'kid': 2743, 'kidding': 2744, 'kidnap': 2745, 'kidnapped': 2746, 'kidney': 2747, 'kids': 2748, 'kiev': 2749, 'kill': 2750, 'killed': 2751, 'killer': 2752, 'killing': 2753, 'kilo': 2754, 'kilogram': 2755, 'kilograms': 2756, 'kilometer': 2757, 'kilometers': 2758, 'kilos': 2759, 'kilt': 2760, 'kimono': 2761, 'kimonos': 2762, 'kind': 2763, 'kinds': 2764, 'king': 2765, 'kingdom': 2766, 'kings': 2767, 'kinshasa': 2768, 'kiss': 2769, 'kissed': 2770, 'kisses': 2771, 'kissing': 2772, 'kissinger': 2773, 'kitchen': 2774, 'kite': 2775, 'kites': 2776, 'kitten': 2777, 'klan': 2778, 'knees': 2779, 'knelt': 2780, 'knew': 2781, 'knife': 2782, 'knits': 2783, 'knives': 2784, 'know': 2785, 'knowing': 2786, 'knowledge': 2787, 'known': 2788, 'knows': 2789, 'koala': 2790, 'koalas': 2791, 'kong': 2792, 'korea': 2793, 'korean': 2794, 'kosher': 2795, 'koto': 2796, 'kublai': 2797, 'kyiv': 2798, 'kyoto': 2799, 'kyowa': 2800, 'kyushu': 2801, 'lab': 2802, 'laboratory': 2803, 'laced': 2804, 'lacked': 2805, 'lacrosse': 2806, 'lad': 2807, 'ladder': 2808, 'lady': 2809, 'laid': 2810, 'lake': 2811, 'land': 2812, 'landed': 2813, 'landline': 2814, 'language': 2815, 'languages': 2816, 'lanka': 2817, 'lansing': 2818, 'lantern': 2819, 'lap': 2820, 'laptop': 2821, 'large': 2822, 'larger': 2823, 'largest': 2824, 'last': 2825, 'lasted': 2826, 'lasts': 2827, 'late': 2828, 'later': 2829, 'latest': 2830, 'latin': 2831, 'laugh': 2832, 'laughed': 2833, 'laughing': 2834, 'laughs': 2835, 'laughter': 2836, 'launched': 2837, 'law': 2838, 'laws': 2839, 'lawyer': 2840, 'lawyers': 2841, 'lay': 2842, 'lays': 2843, 'lazy': 2844, 'lead': 2845, 'leader': 2846, 'leaders': 2847, 'leaf': 2848, 'leal': 2849, 'leap': 2850, 'learn': 2851, 'learned': 2852, 'learning': 2853, 'least': 2854, 'leave': 2855, 'leaves': 2856, 'leaving': 2857, 'led': 2858, 'lee': 2859, 'left': 2860, 'leftover': 2861, 'leg': 2862, 'legal': 2863, 'legs': 2864, 'lemon': 2865, 'lemonade': 2866, 'lemons': 2867, 'length': 2868, 'leon': 2869, 'leopards': 2870, 'less': 2871, 'lesson': 2872, 'let': 2873, 'lets': 2874, 'letter': 2875, 'letters': 2876, 'letting': 2877, 'lettuce': 2878, 'liar': 2879, 'liars': 2880, 'liberal': 2881, 'liberia': 2882, 'liberty': 2883, 'library': 2884, 'license': 2885, 'licked': 2886, 'licking': 2887, 'lid': 2888, 'lie': 2889, 'lied': 2890, 'lies': 2891, 'lieutenant': 2892, 'life': 2893, 'lifeboats': 2894, 'lifejacket': 2895, 'lifes': 2896, 'lift': 2897, 'lifted': 2898, 'lifter': 2899, 'light': 2900, 'lighter': 2901, 'lightning': 2902, 'lights': 2903, 'like': 2904, 'liked': 2905, 'likely': 2906, 'likes': 2907, 'liking': 2908, 'lilienthal': 2909, 'liliuokalani': 2910, 'limited': 2911, 'limits': 2912, 'limped': 2913, 'lincoln': 2914, 'line': 2915, 'lines': 2916, 'link': 2917, 'linux': 2918, 'lion': 2919, 'lions': 2920, 'lips': 2921, 'lipstick': 2922, 'liquor': 2923, 'lisa': 2924, 'list': 2925, 'listen': 2926, 'listened': 2927, 'listening': 2928, 'listens': 2929, 'lit': 2930, 'liter': 2931, 'literature': 2932, 'little': 2933, 'live': 2934, 'lived': 2935, 'lives': 2936, 'living': 2937, 'llama': 2938, 'loan': 2939, 'loaned': 2940, 'lobby': 2941, 'local': 2942, 'located': 2943, 'locked': 2944, 'locker': 2945, 'locks': 2946, 'log': 2947, 'logic': 2948, 'lollipop': 2949, 'london': 2950, 'lonely': 2951, 'lonesome': 2952, 'long': 2953, 'longer': 2954, 'longest': 2955, 'look': 2956, 'looked': 2957, 'looker': 2958, 'looking': 2959, 'looks': 2960, 'loose': 2961, 'lord': 2962, 'los': 2963, 'lose': 2964, 'loses': 2965, 'losing': 2966, 'loss': 2967, 'lost': 2968, 'lot': 2969, 'lots': 2970, 'lottery': 2971, 'loud': 2972, 'louder': 2973, 'loudly': 2974, 'louis': 2975, 'love': 2976, 'loved': 2977, 'loves': 2978, 'loving': 2979, 'low': 2980, 'lower': 2981, 'lowered': 2982, 'loyal': 2983, 'luck': 2984, 'lucky': 2985, 'luis': 2986, 'lukewarm': 2987, 'lunar': 2988, 'lunatic': 2989, 'lunch': 2990, 'luxembourg': 2991, 'lying': 2992, 'lyrics': 2993, 'macaroni': 2994, 'machine': 2995, 'machines': 2996, 'mad': 2997, 'made': 2998, 'madman': 2999, 'madrid': 3000, 'magazine': 3001, 'magazines': 3002, 'magic': 3003, 'magician': 3004, 'magnetism': 3005, 'mahal': 3006, 'maharashtra': 3007, 'mahdi': 3008, 'mahjong': 3009, 'mail': 3010, 'main': 3011, 'maintenance': 3012, 'major': 3013, 'majority': 3014, 'make': 3015, 'makes': 3016, 'makeup': 3017, 'making': 3018, 'malaysia': 3019, 'mall': 3020, 'mama': 3021, 'mammal': 3022, 'mammals': 3023, 'man': 3024, 'manage': 3025, 'managed': 3026, 'management': 3027, 'manager': 3028, 'managers': 3029, 'manages': 3030, 'mandolin': 3031, 'mango': 3032, 'mangoes': 3033, 'manila': 3034, 'mankind': 3035, 'mans': 3036, 'manual': 3037, 'manuelas': 3038, 'manufactures': 3039, 'many': 3040, 'maori': 3041, 'map': 3042, 'marathon': 3043, 'march': 3044, 'marconi': 3045, 'margarine': 3046, 'marge': 3047, 'maria': 3048, 'marilyn': 3049, 'marine': 3050, 'mark': 3051, 'market': 3052, 'marmalade': 3053, 'marriage': 3054, 'married': 3055, 'marry': 3056, 'mars': 3057, 'marshmallows': 3058, 'mary': 3059, 'marys': 3060, 'masculine': 3061, 'mashed': 3062, 'mask': 3063, 'masks': 3064, 'massachusetts': 3065, 'match': 3066, 'materialistic': 3067, 'math': 3068, 'mathematics': 3069, 'mathieu': 3070, 'matsue': 3071, 'matsumoto': 3072, 'matsuyama': 3073, 'matsuyamas': 3074, 'matter': 3075, 'matters': 3076, 'mattress': 3077, 'may': 3078, 'maybe': 3079, 'mayor': 3080, 'mba': 3081, 'mcdonalds': 3082, 'mckinley': 3083, 'me': 3084, 'meal': 3085, 'meals': 3086, 'mean': 3087, 'meaning': 3088, 'meaningless': 3089, 'means': 3090, 'meant': 3091, 'meantime': 3092, 'measure': 3093, 'measured': 3094, 'meat': 3095, 'mecca': 3096, 'mechanic': 3097, 'media': 3098, 'medication': 3099, 'medicine': 3100, 'medina': 3101, 'mediterranean': 3102, 'meet': 3103, 'meeting': 3104, 'meetings': 3105, 'meets': 3106, 'meganebashi': 3107, 'meguro': 3108, 'meiji': 3109, 'melted': 3110, 'melting': 3111, 'melts': 3112, 'member': 3113, 'members': 3114, 'memo': 3115, 'memories': 3116, 'memorize': 3117, 'memorizing': 3118, 'memory': 3119, 'men': 3120, 'mentally': 3121, 'mention': 3122, 'menu': 3123, 'merchant': 3124, 'mercury': 3125, 'merged': 3126, 'merry': 3127, 'mesopotamia': 3128, 'mess': 3129, 'message': 3130, 'messages': 3131, 'messenger': 3132, 'met': 3133, 'metal': 3134, 'metals': 3135, 'meter': 3136, 'meters': 3137, 'method': 3138, 'mexican': 3139, 'mexicanamerican': 3140, 'mexico': 3141, 'mice': 3142, 'michigan': 3143, 'microbiologist': 3144, 'microphone': 3145, 'microprocessor': 3146, 'microscopic': 3147, 'microsoft': 3148, 'microwave': 3149, 'middle': 3150, 'middleton': 3151, 'midnight': 3152, 'might': 3153, 'mike': 3154, 'milder': 3155, 'mile': 3156, 'miles': 3157, 'military': 3158, 'militia': 3159, 'milk': 3160, 'milkman': 3161, 'miller': 3162, 'million': 3163, 'millions': 3164, 'minachan': 3165, 'minar': 3166, 'mince': 3167, 'mind': 3168, 'mine': 3169, 'miners': 3170, 'minifridge': 3171, 'minimized': 3172, 'minimum': 3173, 'miniskirt': 3174, 'miniskirts': 3175, 'minister': 3176, 'minnesotas': 3177, 'minor': 3178, 'minute': 3179, 'minutes': 3180, 'miracle': 3181, 'miracles': 3182, 'mireille': 3183, 'mirror': 3184, 'miso': 3185, 'miss': 3186, 'missed': 3187, 'misses': 3188, 'missing': 3189, 'mistake': 3190, 'mistaken': 3191, 'mistakenly': 3192, 'mistakes': 3193, 'mitt': 3194, 'mix': 3195, 'moaned': 3196, 'mobile': 3197, 'mode': 3198, 'model': 3199, 'modern': 3200, 'molecule': 3201, 'mom': 3202, 'moment': 3203, 'mommy': 3204, 'momotarou': 3205, 'moms': 3206, 'mona': 3207, 'monarchy': 3208, 'monday': 3209, 'mondays': 3210, 'money': 3211, 'mongolia': 3212, 'monica': 3213, 'monkey': 3214, 'monkeys': 3215, 'monopoly': 3216, 'monotheistic': 3217, 'monroe': 3218, 'monroes': 3219, 'monsoon': 3220, 'monster': 3221, 'montcalm': 3222, 'monte': 3223, 'month': 3224, 'months': 3225, 'mood': 3226, 'moon': 3227, 'moons': 3228, 'morality': 3229, 'more': 3230, 'mormons': 3231, 'morning': 3232, 'mornings': 3233, 'morocco': 3234, 'moron': 3235, 'morphine': 3236, 'mosque': 3237, 'mosques': 3238, 'mosquito': 3239, 'mosquitoes': 3240, 'most': 3241, 'mother': 3242, 'motherinlaw': 3243, 'mothers': 3244, 'motor': 3245, 'motorcycle': 3246, 'motorcycles': 3247, 'moultrie': 3248, 'mountain': 3249, 'mountainous': 3250, 'mountains': 3251, 'mouse': 3252, 'mouth': 3253, 'move': 3254, 'moved': 3255, 'movie': 3256, 'movies': 3257, 'moving': 3258, 'mp': 3259, 'mt': 3260, 'much': 3261, 'mud': 3262, 'muffins': 3263, 'mug': 3264, 'muhammad': 3265, 'mumbai': 3266, 'mumps': 3267, 'murder': 3268, 'murdered': 3269, 'murderer': 3270, 'murderers': 3271, 'muscle': 3272, 'museum': 3273, 'museums': 3274, 'mushroom': 3275, 'music': 3276, 'musician': 3277, 'musicians': 3278, 'muslim': 3279, 'muslims': 3280, 'must': 3281, 'mustache': 3282, 'mustve': 3283, 'my': 3284, 'myself': 3285, 'mysteries': 3286, 'myths': 3287, 'nabokov': 3288, 'nagasaki': 3289, 'nagoya': 3290, 'nail': 3291, 'nails': 3292, 'nakameguro': 3293, 'naked': 3294, 'name': 3295, 'named': 3296, 'names': 3297, 'nantes': 3298, 'nap': 3299, 'naples': 3300, 'napoleon': 3301, 'napoleons': 3302, 'napping': 3303, 'nara': 3304, 'narita': 3305, 'narrow': 3306, 'nasa': 3307, 'nathanael': 3308, 'nation': 3309, 'national': 3310, 'nations': 3311, 'native': 3312, 'natto': 3313, 'natural': 3314, 'nature': 3315, 'naughty': 3316, 'navy': 3317, 'nd': 3318, 'near': 3319, 'nearby': 3320, 'nearest': 3321, 'nearly': 3322, 'necessary': 3323, 'necessity': 3324, 'neck': 3325, 'necklace': 3326, 'necks': 3327, 'need': 3328, 'needed': 3329, 'needle': 3330, 'needs': 3331, 'nefertari': 3332, 'negative': 3333, 'negotiate': 3334, 'negotiations': 3335, 'negro': 3336, 'neighbor': 3337, 'neighbors': 3338, 'neil': 3339, 'neither': 3340, 'nephew': 3341, 'nephews': 3342, 'neruda': 3343, 'nervous': 3344, 'nessie': 3345, 'nests': 3346, 'net': 3347, 'netherlands': 3348, 'nevada': 3349, 'never': 3350, 'neville': 3351, 'new': 3352, 'news': 3353, 'newspaper': 3354, 'newspapers': 3355, 'newton': 3356, 'next': 3357, 'nicaragua': 3358, 'nice': 3359, 'nicer': 3360, 'nigeria': 3361, 'night': 3362, 'nightclub': 3363, 'nightclubs': 3364, 'nights': 3365, 'nikko': 3366, 'nile': 3367, 'nine': 3368, 'ninetyfive': 3369, 'ninja': 3370, 'ninjas': 3371, 'nintendo': 3372, 'ninth': 3373, 'niue': 3374, 'no': 3375, 'nobel': 3376, 'nobody': 3377, 'nobodys': 3378, 'noguchi': 3379, 'noh': 3380, 'noise': 3381, 'noisy': 3382, 'none': 3383, 'nonsense': 3384, 'noodles': 3385, 'noon': 3386, 'nor': 3387, 'normal': 3388, 'normans': 3389, 'north': 3390, 'northern': 3391, 'norway': 3392, 'norways': 3393, 'nose': 3394, 'noses': 3395, 'not': 3396, 'note': 3397, 'notebook': 3398, 'notebooks': 3399, 'nothing': 3400, 'nothingll': 3401, 'nothings': 3402, 'notice': 3403, 'notified': 3404, 'notify': 3405, 'notre': 3406, 'novel': 3407, 'novelist': 3408, 'novels': 3409, 'november': 3410, 'now': 3411, 'nowadays': 3412, 'nows': 3413, 'ntt': 3414, 'nuclear': 3415, 'nude': 3416, 'nuggets': 3417, 'number': 3418, 'numbers': 3419, 'numerals': 3420, 'nun': 3421, 'nurse': 3422, 'nursery': 3423, 'nuts': 3424, 'o': 3425, 'obama': 3426, 'obey': 3427, 'obeyed': 3428, 'obihiro': 3429, 'objected': 3430, 'objection': 3431, 'oboe': 3432, 'obscene': 3433, 'observe': 3434, 'obviously': 3435, 'occupied': 3436, 'occur': 3437, 'occurred': 3438, 'ocean': 3439, 'oceans': 3440, 'oclock': 3441, 'october': 3442, 'octopus': 3443, 'odd': 3444, 'odette': 3445, 'of': 3446, 'off': 3447, 'offer': 3448, 'office': 3449, 'officer': 3450, 'officers': 3451, 'official': 3452, 'officially': 3453, 'offline': 3454, 'often': 3455, 'oh': 3456, 'ohio': 3457, 'oil': 3458, 'oiled': 3459, 'ok': 3460, 'okay': 3461, 'okinawa': 3462, 'okra': 3463, 'old': 3464, 'older': 3465, 'oldest': 3466, 'olympic': 3467, 'omelet': 3468, 'omelette': 3469, 'omitted': 3470, 'on': 3471, 'once': 3472, 'one': 3473, 'ones': 3474, 'oneself': 3475, 'onigiris': 3476, 'onion': 3477, 'onions': 3478, 'online': 3479, 'only': 3480, 'onto': 3481, 'oolong': 3482, 'open': 3483, 'opened': 3484, 'opening': 3485, 'openly': 3486, 'openminded': 3487, 'opens': 3488, 'opera': 3489, 'operate': 3490, 'operation': 3491, 'ophthalmologist': 3492, 'opinion': 3493, 'opponent': 3494, 'oppose': 3495, 'opposed': 3496, 'opposite': 3497, 'oprah': 3498, 'option': 3499, 'options': 3500, 'or': 3501, 'orange': 3502, 'oranges': 3503, 'order': 3504, 'ordered': 3505, 'ordering': 3506, 'orders': 3507, 'ordinary': 3508, 'organ': 3509, 'organic': 3510, 'organisms': 3511, 'organist': 3512, 'organize': 3513, 'originally': 3514, 'originated': 3515, 'orphan': 3516, 'orphans': 3517, 'osaka': 3518, 'oscars': 3519, 'oslo': 3520, 'ostriches': 3521, 'oswald': 3522, 'other': 3523, 'others': 3524, 'ottawa': 3525, 'otto': 3526, 'ottoman': 3527, 'ought': 3528, 'ounces': 3529, 'our': 3530, 'ours': 3531, 'ourselves': 3532, 'oust': 3533, 'out': 3534, 'outdoor': 3535, 'outdoors': 3536, 'outside': 3537, 'oven': 3538, 'over': 3539, 'overcooked': 3540, 'overdosed': 3541, 'overflowed': 3542, 'overnight': 3543, 'overseas': 3544, 'owe': 3545, 'owls': 3546, 'own': 3547, 'owned': 3548, 'owner': 3549, 'owns': 3550, 'oxford': 3551, 'oxygen': 3552, 'oysters': 3553, 'ozaki': 3554, 'pablo': 3555, 'pacific': 3556, 'pack': 3557, 'packed': 3558, 'packing': 3559, 'packs': 3560, 'pad': 3561, 'page': 3562, 'pages': 3563, 'paid': 3564, 'pain': 3565, 'painful': 3566, 'paint': 3567, 'painted': 3568, 'painters': 3569, 'painting': 3570, 'pair': 3571, 'pajamas': 3572, 'pakistan': 3573, 'palace': 3574, 'panama': 3575, 'pancakes': 3576, 'pandas': 3577, 'paper': 3578, 'papers': 3579, 'paprika': 3580, 'parachute': 3581, 'paraguay': 3582, 'paramedic': 3583, 'parcel': 3584, 'parent': 3585, 'parents': 3586, 'paris': 3587, 'park': 3588, 'parked': 3589, 'parks': 3590, 'parliament': 3591, 'parrot': 3592, 'parrots': 3593, 'part': 3594, 'participants': 3595, 'participate': 3596, 'particularly': 3597, 'partied': 3598, 'parts': 3599, 'party': 3600, 'partys': 3601, 'pass': 3602, 'passage': 3603, 'passed': 3604, 'passengers': 3605, 'passport': 3606, 'password': 3607, 'past': 3608, 'pasta': 3609, 'pastor': 3610, 'path': 3611, 'patience': 3612, 'patient': 3613, 'patients': 3614, 'patriot': 3615, 'patriotism': 3616, 'paul': 3617, 'paulo': 3618, 'pause': 3619, 'pawned': 3620, 'pay': 3621, 'paying': 3622, 'pays': 3623, 'pbs': 3624, 'peace': 3625, 'peaceful': 3626, 'peanut': 3627, 'peanuts': 3628, 'pearl': 3629, 'pearls': 3630, 'peas': 3631, 'pebble': 3632, 'pediatrician': 3633, 'peeked': 3634, 'peel': 3635, 'peeled': 3636, 'peeling': 3637, 'pelican': 3638, 'pelicans': 3639, 'pen': 3640, 'pencil': 3641, 'pencils': 3642, 'penguins': 3643, 'peninsula': 3644, 'pens': 3645, 'pentium': 3646, 'people': 3647, 'pepper': 3648, 'pepperoni': 3649, 'pepsi': 3650, 'per': 3651, 'percent': 3652, 'perfect': 3653, 'perhaps': 3654, 'period': 3655, 'perl': 3656, 'permission': 3657, 'permitted': 3658, 'perot': 3659, 'persian': 3660, 'person': 3661, 'personal': 3662, 'perspiration': 3663, 'perth': 3664, 'peru': 3665, 'perugia': 3666, 'pesos': 3667, 'pestering': 3668, 'pet': 3669, 'petroleum': 3670, 'pharmacy': 3671, 'philip': 3672, 'philippine': 3673, 'philosopher': 3674, 'philosophy': 3675, 'phoenix': 3676, 'phone': 3677, 'phoned': 3678, 'phones': 3679, 'photo': 3680, 'photogenic': 3681, 'photograph': 3682, 'photographer': 3683, 'photographs': 3684, 'photography': 3685, 'photos': 3686, 'physicist': 3687, 'physics': 3688, 'pianist': 3689, 'piano': 3690, 'picasso': 3691, 'piccolo': 3692, 'pick': 3693, 'picked': 3694, 'pickpockets': 3695, 'picnic': 3696, 'picnics': 3697, 'picture': 3698, 'pictures': 3699, 'picturesque': 3700, 'pie': 3701, 'piece': 3702, 'pieces': 3703, 'pierce': 3704, 'pierced': 3705, 'pies': 3706, 'pig': 3707, 'pigeon': 3708, 'pigeons': 3709, 'pigs': 3710, 'pillow': 3711, 'pillows': 3712, 'pills': 3713, 'pilot': 3714, 'pilots': 3715, 'pin': 3716, 'pineapple': 3717, 'pink': 3718, 'pint': 3719, 'pipe': 3720, 'pistachio': 3721, 'pistol': 3722, 'pitcher': 3723, 'pitt': 3724, 'pity': 3725, 'pizza': 3726, 'pizzaro': 3727, 'pizzas': 3728, 'place': 3729, 'placebo': 3730, 'places': 3731, 'plain': 3732, 'plainly': 3733, 'plains': 3734, 'plan': 3735, 'plane': 3736, 'planes': 3737, 'planet': 3738, 'plant': 3739, 'planted': 3740, 'plants': 3741, 'plastic': 3742, 'plate': 3743, 'plates': 3744, 'platform': 3745, 'play': 3746, 'played': 3747, 'player': 3748, 'players': 3749, 'playing': 3750, 'plays': 3751, 'playstation': 3752, 'please': 3753, 'plenty': 3754, 'pm': 3755, 'pocket': 3756, 'pockets': 3757, 'podcasts': 3758, 'poem': 3759, 'poems': 3760, 'poet': 3761, 'poetry': 3762, 'poets': 3763, 'point': 3764, 'pointed': 3765, 'points': 3766, 'poison': 3767, 'poisonous': 3768, 'pokemon': 3769, 'poker': 3770, 'pokes': 3771, 'poland': 3772, 'pole': 3773, 'police': 3774, 'policeman': 3775, 'policy': 3776, 'polish': 3777, 'polished': 3778, 'political': 3779, 'politician': 3780, 'politics': 3781, 'polk': 3782, 'pollute': 3783, 'polluted': 3784, 'polluting': 3785, 'pollution': 3786, 'pony': 3787, 'pool': 3788, 'pools': 3789, 'poor': 3790, 'poorest': 3791, 'popcorn': 3792, 'pope': 3793, 'popular': 3794, 'popularity': 3795, 'population': 3796, 'porcupine': 3797, 'pork': 3798, 'portugal': 3799, 'portuguese': 3800, 'position': 3801, 'possibility': 3802, 'possible': 3803, 'possibly': 3804, 'post': 3805, 'postcard': 3806, 'posted': 3807, 'potato': 3808, 'potatoes': 3809, 'pound': 3810, 'pounds': 3811, 'poured': 3812, 'poverty': 3813, 'power': 3814, 'powerful': 3815, 'poyang': 3816, 'practicing': 3817, 'prague': 3818, 'praise': 3819, 'pray': 3820, 'prayed': 3821, 'praying': 3822, 'precious': 3823, 'prefectures': 3824, 'prefer': 3825, 'prefers': 3826, 'pregnant': 3827, 'prepare': 3828, 'prepared': 3829, 'prepares': 3830, 'preparing': 3831, 'present': 3832, 'presenting': 3833, 'preserved': 3834, 'president': 3835, 'presidents': 3836, 'presley': 3837, 'press': 3838, 'pressed': 3839, 'pretty': 3840, 'prevail': 3841, 'previously': 3842, 'price': 3843, 'prices': 3844, 'priest': 3845, 'primarily': 3846, 'prime': 3847, 'prince': 3848, 'princess': 3849, 'print': 3850, 'printer': 3851, 'printing': 3852, 'prison': 3853, 'prisoner': 3854, 'prisoners': 3855, 'private': 3856, 'prize': 3857, 'pro': 3858, 'probably': 3859, 'problem': 3860, 'problems': 3861, 'process': 3862, 'processor': 3863, 'produce': 3864, 'produced': 3865, 'production': 3866, 'professional': 3867, 'professor': 3868, 'program': 3869, 'programed': 3870, 'programmer': 3871, 'programming': 3872, 'programs': 3873, 'progress': 3874, 'project': 3875, 'promise': 3876, 'promised': 3877, 'promoted': 3878, 'pronounce': 3879, 'pronounced': 3880, 'pronunciation': 3881, 'proof': 3882, 'property': 3883, 'prophet': 3884, 'propose': 3885, 'proposed': 3886, 'protection': 3887, 'protest': 3888, 'protested': 3889, 'proud': 3890, 'prove': 3891, 'proved': 3892, 'proven': 3893, 'proverbs': 3894, 'proves': 3895, 'provide': 3896, 'provided': 3897, 'provinces': 3898, 'provoke': 3899, 'prussian': 3900, 'psychiatrist': 3901, 'pub': 3902, 'public': 3903, 'publish': 3904, 'published': 3905, 'publishing': 3906, 'pudding': 3907, 'puffs': 3908, 'pull': 3909, 'pulled': 3910, 'pulling': 3911, 'pump': 3912, 'punished': 3913, 'punishment': 3914, 'punk': 3915, 'puppy': 3916, 'purchased': 3917, 'pure': 3918, 'purple': 3919, 'purpose': 3920, 'purse': 3921, 'pursued': 3922, 'push': 3923, 'pushed': 3924, 'pushing': 3925, 'pushups': 3926, 'put': 3927, 'puts': 3928, 'putt': 3929, 'putting': 3930, 'puzzle': 3931, 'puzzles': 3932, 'pyramid': 3933, 'python': 3934, 'qr': 3935, 'quadcore': 3936, 'quantity': 3937, 'quarrel': 3938, 'quarreled': 3939, 'quarreling': 3940, 'quarter': 3941, 'queen': 3942, 'queens': 3943, 'question': 3944, 'questioned': 3945, 'questions': 3946, 'quick': 3947, 'quickly': 3948, 'quiet': 3949, 'quietly': 3950, 'quit': 3951, 'quite': 3952, 'quitting': 3953, 'quran': 3954, 'qutub': 3955, 'rabat': 3956, 'rabbi': 3957, 'rabbit': 3958, 'rabbits': 3959, 'race': 3960, 'racket': 3961, 'rackets': 3962, 'radar': 3963, 'radio': 3964, 'radios': 3965, 'radium': 3966, 'rain': 3967, 'raincoat': 3968, 'rained': 3969, 'raining': 3970, 'rains': 3971, 'rainy': 3972, 'raise': 3973, 'raised': 3974, 'ram': 3975, 'ramadan': 3976, 'ramen': 3977, 'ramses': 3978, 'ran': 3979, 'rang': 3980, 'rap': 3981, 'rapidly': 3982, 'rapper': 3983, 'rare': 3984, 'rarely': 3985, 'rate': 3986, 'rather': 3987, 'rats': 3988, 'raven': 3989, 'raw': 3990, 'razor': 3991, 'reach': 3992, 'reached': 3993, 'read': 3994, 'readily': 3995, 'reading': 3996, 'reads': 3997, 'ready': 3998, 'real': 3999, 'reality': 4000, 'realize': 4001, 'realized': 4002, 'realizes': 4003, 'really': 4004, 'reap': 4005, 'reason': 4006, 'reasons': 4007, 'rebel': 4008, 'rebellion': 4009, 'rebels': 4010, 'receipt': 4011, 'receive': 4012, 'received': 4013, 'recent': 4014, 'recently': 4015, 'rechargeable': 4016, 'recipe': 4017, 'recognised': 4018, 'recognition': 4019, 'recognize': 4020, 'recognized': 4021, 'reconsider': 4022, 'record': 4023, 'recorded': 4024, 'recorder': 4025, 'records': 4026, 'recovered': 4027, 'recycle': 4028, 'red': 4029, 'redneck': 4030, 'referred': 4031, 'refrigerator': 4032, 'refrigerators': 4033, 'refugees': 4034, 'refuse': 4035, 'refused': 4036, 'regained': 4037, 'regarded': 4038, 'reggae': 4039, 'registered': 4040, 'regret': 4041, 'regular': 4042, 'reigned': 4043, 'reinstall': 4044, 'rejected': 4045, 'related': 4046, 'relations': 4047, 'relationships': 4048, 'relative': 4049, 'relatives': 4050, 'relativity': 4051, 'relax': 4052, 'release': 4053, 'released': 4054, 'religion': 4055, 'religions': 4056, 'religious': 4057, 'reloaded': 4058, 'remain': 4059, 'remained': 4060, 'remaining': 4061, 'remains': 4062, 'remarkable': 4063, 'remember': 4064, 'remembered': 4065, 'remembers': 4066, 'remind': 4067, 'reminded': 4068, 'remington': 4069, 'remote': 4070, 'removal': 4071, 'remove': 4072, 'removed': 4073, 'rent': 4074, 'rented': 4075, 'repainted': 4076, 'repair': 4077, 'repaired': 4078, 'repairing': 4079, 'repeated': 4080, 'replace': 4081, 'reply': 4082, 'report': 4083, 'representative': 4084, 'republic': 4085, 'republican': 4086, 'republicans': 4087, 'requires': 4088, 'rescue': 4089, 'rescued': 4090, 'research': 4091, 'resemble': 4092, 'resembles': 4093, 'reservation': 4094, 'reserved': 4095, 'residents': 4096, 'resign': 4097, 'resigned': 4098, 'resigning': 4099, 'resources': 4100, 'respect': 4101, 'respected': 4102, 'responsibility': 4103, 'responsible': 4104, 'rest': 4105, 'restaurant': 4106, 'restaurants': 4107, 'rested': 4108, 'resting': 4109, 'restroom': 4110, 'retired': 4111, 'retirement': 4112, 'retreated': 4113, 'return': 4114, 'returned': 4115, 'retweeted': 4116, 'revolution': 4117, 'reward': 4118, 'rewarded': 4119, 'rhinewestphalia': 4120, 'rice': 4121, 'rich': 4122, 'richer': 4123, 'riches': 4124, 'richest': 4125, 'rid': 4126, 'riddle': 4127, 'ride': 4128, 'rides': 4129, 'ridge': 4130, 'riding': 4131, 'rifle': 4132, 'right': 4133, 'rights': 4134, 'ring': 4135, 'ringing': 4136, 'rings': 4137, 'rio': 4138, 'ripe': 4139, 'ripped': 4140, 'rises': 4141, 'rising': 4142, 'risk': 4143, 'risks': 4144, 'risotto': 4145, 'river': 4146, 'rivers': 4147, 'road': 4148, 'roads': 4149, 'roast': 4150, 'robbed': 4151, 'robot': 4152, 'robots': 4153, 'rock': 4154, 'rockefeller': 4155, 'rocket': 4156, 'rockets': 4157, 'rocks': 4158, 'rodicas': 4159, 'roger': 4160, 'role': 4161, 'roll': 4162, 'roller': 4163, 'rollerskate': 4164, 'rolls': 4165, 'roman': 4166, 'romania': 4167, 'romanias': 4168, 'romans': 4169, 'rome': 4170, 'romney': 4171, 'roof': 4172, 'room': 4173, 'roommate': 4174, 'rooms': 4175, 'roosevelt': 4176, 'roosters': 4177, 'root': 4178, 'rooting': 4179, 'rope': 4180, 'rose': 4181, 'roses': 4182, 'ross': 4183, 'rotten': 4184, 'rough': 4185, 'round': 4186, 'royal': 4187, 'royce': 4188, 'rub': 4189, 'rubbed': 4190, 'rubber': 4191, 'rubicon': 4192, 'ruby': 4193, 'rude': 4194, 'rugby': 4195, 'ruin': 4196, 'ruined': 4197, 'rule': 4198, 'ruled': 4199, 'ruler': 4200, 'rules': 4201, 'rumor': 4202, 'rumors': 4203, 'run': 4204, 'running': 4205, 'runs': 4206, 'rural': 4207, 'rush': 4208, 'russia': 4209, 'russian': 4210, 'russianamerican': 4211, 'russians': 4212, 'ryoutarou': 4213, 's': 4214, 'sacramento': 4215, 'sacred': 4216, 'sacrificed': 4217, 'sad': 4218, 'saddle': 4219, 'saddles': 4220, 'safe': 4221, 'saga': 4222, 'sahara': 4223, 'said': 4224, 'sailors': 4225, 'saint': 4226, 'saints': 4227, 'saitama': 4228, 'sake': 4229, 'salad': 4230, 'salary': 4231, 'sale': 4232, 'salesman': 4233, 'salmon': 4234, 'salon': 4235, 'salt': 4236, 'salty': 4237, 'salvation': 4238, 'same': 4239, 'samesex': 4240, 'samosa': 4241, 'samsung': 4242, 'samurai': 4243, 'samurais': 4244, 'san': 4245, 'sand': 4246, 'sandwich': 4247, 'sandwiches': 4248, 'sandy': 4249, 'sang': 4250, 'sangria': 4251, 'sank': 4252, 'sat': 4253, 'satellite': 4254, 'satellites': 4255, 'satisfied': 4256, 'saturday': 4257, 'saturdays': 4258, 'saturn': 4259, 'sauce': 4260, 'saudi': 4261, 'sauerkraut': 4262, 'sauna': 4263, 'save': 4264, 'saved': 4265, 'saver': 4266, 'saving': 4267, 'saw': 4268, 'saxophonist': 4269, 'say': 4270, 'saying': 4271, 'says': 4272, 'scanned': 4273, 'scare': 4274, 'scared': 4275, 'scheduled': 4276, 'schizophrenic': 4277, 'scholar': 4278, 'school': 4279, 'schools': 4280, 'schweitzer': 4281, 'science': 4282, 'scientific': 4283, 'scientist': 4284, 'scientists': 4285, 'scissors': 4286, 'scones': 4287, 'scooter': 4288, 'score': 4289, 'scores': 4290, 'scorpions': 4291, 'scotland': 4292, 'scottish': 4293, 'scream': 4294, 'screamed': 4295, 'screaming': 4296, 'screen': 4297, 'screw': 4298, 'screwdriver': 4299, 'scriptwriter': 4300, 'scrub': 4301, 'scrubbed': 4302, 'sea': 4303, 'seacoast': 4304, 'search': 4305, 'searched': 4306, 'searching': 4307, 'season': 4308, 'seasons': 4309, 'seat': 4310, 'seated': 4311, 'seats': 4312, 'sec': 4313, 'second': 4314, 'secondhand': 4315, 'seconds': 4316, 'secret': 4317, 'secretaries': 4318, 'secretary': 4319, 'security': 4320, 'sedative': 4321, 'see': 4322, 'seeds': 4323, 'seeing': 4324, 'seek': 4325, 'seem': 4326, 'seemed': 4327, 'seems': 4328, 'seen': 4329, 'sees': 4330, 'seicho': 4331, 'seine': 4332, 'seized': 4333, 'seldom': 4334, 'selfish': 4335, 'sell': 4336, 'selling': 4337, 'sells': 4338, 'senate': 4339, 'senator': 4340, 'send': 4341, 'sendai': 4342, 'sending': 4343, 'sends': 4344, 'sense': 4345, 'sensei': 4346, 'sent': 4347, 'sentence': 4348, 'sentenced': 4349, 'sentences': 4350, 'seoul': 4351, 'separate': 4352, 'september': 4353, 'serbia': 4354, 'serbias': 4355, 'serious': 4356, 'seriously': 4357, 'servant': 4358, 'serve': 4359, 'served': 4360, 'server': 4361, 'serves': 4362, 'service': 4363, 'set': 4364, 'sets': 4365, 'setting': 4366, 'settled': 4367, 'settlers': 4368, 'seven': 4369, 'seventeen': 4370, 'seventh': 4371, 'seventy': 4372, 'sevenyearold': 4373, 'several': 4374, 'severely': 4375, 'sewing': 4376, 'sexual': 4377, 'sexy': 4378, 'shade': 4379, 'shadow': 4380, 'shadows': 4381, 'shaken': 4382, 'shakespeare': 4383, 'shakespeares': 4384, 'shaking': 4385, 'shakyamuni': 4386, 'shall': 4387, 'shame': 4388, 'shameless': 4389, 'shampoo': 4390, 'shanghai': 4391, 'shape': 4392, 'shaped': 4393, 'shark': 4394, 'sharp': 4395, 'shave': 4396, 'shaved': 4397, 'shaver': 4398, 'shaves': 4399, 'shaving': 4400, 'she': 4401, 'sheep': 4402, 'shell': 4403, 'shepard': 4404, 'sheriff': 4405, 'shes': 4406, 'shibuya': 4407, 'shichigosan': 4408, 'shiitake': 4409, 'shikoku': 4410, 'shillings': 4411, 'shinano': 4412, 'shine': 4413, 'shining': 4414, 'shinjuku': 4415, 'shinkansen': 4416, 'shiny': 4417, 'ship': 4418, 'ships': 4419, 'shiro': 4420, 'shirt': 4421, 'shirts': 4422, 'shizuoka': 4423, 'shock': 4424, 'shocked': 4425, 'shoe': 4426, 'shoes': 4427, 'shone': 4428, 'shook': 4429, 'shoot': 4430, 'shooting': 4431, 'shop': 4432, 'shopping': 4433, 'shops': 4434, 'short': 4435, 'shortcut': 4436, 'shorter': 4437, 'shortly': 4438, 'shot': 4439, 'should': 4440, 'shoulder': 4441, 'shoulders': 4442, 'shouldnt': 4443, 'shouldve': 4444, 'shounan': 4445, 'shout': 4446, 'shouted': 4447, 'shouting': 4448, 'shouts': 4449, 'show': 4450, 'showed': 4451, 'shower': 4452, 'showing': 4453, 'shown': 4454, 'shrine': 4455, 'shuffled': 4456, 'shut': 4457, 'shy': 4458, 'sick': 4459, 'side': 4460, 'sides': 4461, 'sight': 4462, 'sign': 4463, 'signature': 4464, 'signed': 4465, 'signing': 4466, 'silence': 4467, 'silent': 4468, 'silky': 4469, 'silly': 4470, 'silver': 4471, 'similar': 4472, 'simple': 4473, 'simply': 4474, 'sin': 4475, 'sinatra': 4476, 'since': 4477, 'sinful': 4478, 'sing': 4479, 'singapore': 4480, 'singer': 4481, 'singers': 4482, 'singing': 4483, 'single': 4484, 'sings': 4485, 'sink': 4486, 'sinking': 4487, 'sinks': 4488, 'sinned': 4489, 'sinners': 4490, 'sirhan': 4491, 'sister': 4492, 'sisterinlaw': 4493, 'sisters': 4494, 'sit': 4495, 'site': 4496, 'sits': 4497, 'sitting': 4498, 'situation': 4499, 'six': 4500, 'sixteen': 4501, 'sixteenth': 4502, 'sixty': 4503, 'sixtyfour': 4504, 'sixtytwo': 4505, 'size': 4506, 'skate': 4507, 'skates': 4508, 'skating': 4509, 'ski': 4510, 'skiing': 4511, 'skin': 4512, 'skinny': 4513, 'skipped': 4514, 'skirt': 4515, 'skirts': 4516, 'skis': 4517, 'skull': 4518, 'sky': 4519, 'skyscraper': 4520, 'slammed': 4521, 'slave': 4522, 'slavery': 4523, 'slaves': 4524, 'sleep': 4525, 'sleeping': 4526, 'sleeps': 4527, 'sleepy': 4528, 'slept': 4529, 'sliced': 4530, 'slicing': 4531, 'slightly': 4532, 'slipped': 4533, 'slippers': 4534, 'slow': 4535, 'slowly': 4536, 'slums': 4537, 'small': 4538, 'smaller': 4539, 'smallest': 4540, 'smart': 4541, 'smarter': 4542, 'smartphone': 4543, 'smashed': 4544, 'smell': 4545, 'smelled': 4546, 'smells': 4547, 'smith': 4548, 'smiths': 4549, 'smoke': 4550, 'smokes': 4551, 'smoking': 4552, 'smooth': 4553, 'smoothly': 4554, 'snake': 4555, 'snakes': 4556, 'sneezed': 4557, 'sneezing': 4558, 'snore': 4559, 'snores': 4560, 'snoring': 4561, 'snow': 4562, 'snowball': 4563, 'snowballs': 4564, 'snowboarding': 4565, 'snowed': 4566, 'snowing': 4567, 'snows': 4568, 'so': 4569, 'soap': 4570, 'soccer': 4571, 'social': 4572, 'socialist': 4573, 'society': 4574, 'sociologist': 4575, 'sock': 4576, 'socks': 4577, 'soda': 4578, 'sofa': 4579, 'soft': 4580, 'software': 4581, 'soil': 4582, 'solar': 4583, 'sold': 4584, 'soldier': 4585, 'soldiers': 4586, 'solo': 4587, 'solution': 4588, 'solve': 4589, 'solved': 4590, 'some': 4591, 'somebody': 4592, 'someday': 4593, 'somehow': 4594, 'someone': 4595, 'someones': 4596, 'someplace': 4597, 'something': 4598, 'somethings': 4599, 'sometime': 4600, 'sometimes': 4601, 'somewhere': 4602, 'son': 4603, 'sonata': 4604, 'sone': 4605, 'song': 4606, 'songs': 4607, 'sonnets': 4608, 'sons': 4609, 'soon': 4610, 'sooner': 4611, 'soprano': 4612, 'sorry': 4613, 'sort': 4614, 'sorts': 4615, 'soul': 4616, 'sound': 4617, 'sounded': 4618, 'sounds': 4619, 'soup': 4620, 'soups': 4621, 'sour': 4622, 'source': 4623, 'south': 4624, 'southern': 4625, 'soviet': 4626, 'sow': 4627, 'sox': 4628, 'space': 4629, 'spaceship': 4630, 'spacesuits': 4631, 'spades': 4632, 'spaghetti': 4633, 'spain': 4634, 'spains': 4635, 'spanish': 4636, 'spare': 4637, 'speak': 4638, 'speaker': 4639, 'speakers': 4640, 'speaking': 4641, 'speaks': 4642, 'spear': 4643, 'spears': 4644, 'special': 4645, 'speech': 4646, 'speeches': 4647, 'speed': 4648, 'spelled': 4649, 'spellings': 4650, 'spend': 4651, 'spending': 4652, 'spends': 4653, 'spent': 4654, 'sphinx': 4655, 'spicy': 4656, 'spilling': 4657, 'spinach': 4658, 'spirits': 4659, 'spit': 4660, 'split': 4661, 'spoiled': 4662, 'spoke': 4663, 'spoken': 4664, 'spoon': 4665, 'spoonful': 4666, 'spoonfuls': 4667, 'spoons': 4668, 'sport': 4669, 'sports': 4670, 'spot': 4671, 'spotless': 4672, 'spread': 4673, 'spring': 4674, 'sputnik': 4675, 'spy': 4676, 'square': 4677, 'squash': 4678, 'squeezed': 4679, 'squid': 4680, 'sri': 4681, 'st': 4682, 'stabbed': 4683, 'stadium': 4684, 'stain': 4685, 'stairs': 4686, 'stalin': 4687, 'stalling': 4688, 'stand': 4689, 'standing': 4690, 'stands': 4691, 'star': 4692, 'stared': 4693, 'stark': 4694, 'stars': 4695, 'start': 4696, 'started': 4697, 'starting': 4698, 'starts': 4699, 'starve': 4700, 'state': 4701, 'states': 4702, 'station': 4703, 'statue': 4704, 'statues': 4705, 'stay': 4706, 'stayed': 4707, 'staying': 4708, 'stays': 4709, 'steak': 4710, 'steaks': 4711, 'steal': 4712, 'stealing': 4713, 'steals': 4714, 'steel': 4715, 'stenography': 4716, 'step': 4717, 'stepped': 4718, 'steroids': 4719, 'stick': 4720, 'sticks': 4721, 'sticky': 4722, 'still': 4723, 'stirred': 4724, 'stock': 4725, 'stockholm': 4726, 'stole': 4727, 'stolen': 4728, 'stomach': 4729, 'stomachache': 4730, 'stone': 4731, 'stones': 4732, 'stood': 4733, 'stool': 4734, 'stop': 4735, 'stopped': 4736, 'stops': 4737, 'store': 4738, 'stores': 4739, 'stories': 4740, 'storm': 4741, 'story': 4742, 'stove': 4743, 'straight': 4744, 'strainer': 4745, 'strange': 4746, 'stranger': 4747, 'strangers': 4748, 'strawberries': 4749, 'strawberry': 4750, 'street': 4751, 'streets': 4752, 'strength': 4753, 'strengthen': 4754, 'stretch': 4755, 'stretched': 4756, 'strict': 4757, 'strike': 4758, 'stripes': 4759, 'stripped': 4760, 'strong': 4761, 'stronger': 4762, 'strongest': 4763, 'strongly': 4764, 'struck': 4765, 'structure': 4766, 'struggled': 4767, 'stuck': 4768, 'student': 4769, 'students': 4770, 'studied': 4771, 'studies': 4772, 'study': 4773, 'studying': 4774, 'stuff': 4775, 'stuffed': 4776, 'stupid': 4777, 'stupidity': 4778, 'stylish': 4779, 'subject': 4780, 'subjects': 4781, 'submit': 4782, 'subway': 4783, 'succeed': 4784, 'succeeded': 4785, 'succeeds': 4786, 'success': 4787, 'successful': 4788, 'such': 4789, 'sudden': 4790, 'suddenly': 4791, 'sugar': 4792, 'suggest': 4793, 'suicide': 4794, 'suit': 4795, 'suitcase': 4796, 'suitcases': 4797, 'sukiyaki': 4798, 'sum': 4799, 'sumatra': 4800, 'summer': 4801, 'sumo': 4802, 'sumter': 4803, 'sun': 4804, 'sunday': 4805, 'sundays': 4806, 'sunflower': 4807, 'sung': 4808, 'sunlight': 4809, 'sunrise': 4810, 'sunscreen': 4811, 'sunshine': 4812, 'superhero': 4813, 'superman': 4814, 'supermarket': 4815, 'supermodel': 4816, 'superpowers': 4817, 'supplied': 4818, 'supplies': 4819, 'supply': 4820, 'support': 4821, 'supported': 4822, 'supporters': 4823, 'suppose': 4824, 'supreme': 4825, 'sure': 4826, 'surfing': 4827, 'surgeon': 4828, 'surpasses': 4829, 'surprise': 4830, 'surprised': 4831, 'surprising': 4832, 'surrounded': 4833, 'survive': 4834, 'survived': 4835, 'sushi': 4836, 'suspect': 4837, 'suspected': 4838, 'suspicious': 4839, 'swallowed': 4840, 'swam': 4841, 'swear': 4842, 'sweat': 4843, 'sweater': 4844, 'sweden': 4845, 'swedens': 4846, 'swedish': 4847, 'sweet': 4848, 'sweetest': 4849, 'swelling': 4850, 'swim': 4851, 'swimming': 4852, 'swims': 4853, 'swimsuit': 4854, 'swiss': 4855, 'switch': 4856, 'switched': 4857, 'switzerland': 4858, 'swollen': 4859, 'sword': 4860, 'sydney': 4861, 'symptoms': 4862, 'synonymous': 4863, 'syria': 4864, 'syrup': 4865, 'system': 4866, 'systems': 4867, 'são': 4868, 'table': 4869, 'tables': 4870, 'tacos': 4871, 'tadpoles': 4872, 'tag': 4873, 'tagalog': 4874, 'tail': 4875, 'taiwan': 4876, 'taj': 4877, 'tajik': 4878, 'take': 4879, 'taken': 4880, 'takes': 4881, 'taking': 4882, 'talk': 4883, 'talked': 4884, 'talking': 4885, 'talks': 4886, 'tall': 4887, 'taller': 4888, 'tallest': 4889, 'tamed': 4890, 'tandoori': 4891, 'tango': 4892, 'tangos': 4893, 'tank': 4894, 'tanker': 4895, 'tanzania': 4896, 'tap': 4897, 'tape': 4898, 'task': 4899, 'taste': 4900, 'tasted': 4901, 'tastes': 4902, 'tasty': 4903, 'tatami': 4904, 'tatoeba': 4905, 'tatoebaorg': 4906, 'tattoo': 4907, 'tattooed': 4908, 'taught': 4909, 'tax': 4910, 'taxes': 4911, 'taxi': 4912, 'taxis': 4913, 'taylor': 4914, 'tea': 4915, 'teach': 4916, 'teacher': 4917, 'teachers': 4918, 'teaches': 4919, 'teaching': 4920, 'team': 4921, 'teams': 4922, 'tear': 4923, 'tearing': 4924, 'tears': 4925, 'teased': 4926, 'teaspoon': 4927, 'technicians': 4928, 'technology': 4929, 'teeth': 4930, 'teetotaller': 4931, 'telegram': 4932, 'telephone': 4933, 'telescope': 4934, 'television': 4935, 'televisions': 4936, 'tell': 4937, 'telling': 4938, 'tells': 4939, 'temple': 4940, 'temples': 4941, 'temporary': 4942, 'tempura': 4943, 'ten': 4944, 'tender': 4945, 'tennessee': 4946, 'tennis': 4947, 'tent': 4948, 'tenth': 4949, 'tenthirty': 4950, 'tenyearold': 4951, 'teresa': 4952, 'termites': 4953, 'terrible': 4954, 'terribly': 4955, 'terrific': 4956, 'territories': 4957, 'territory': 4958, 'terror': 4959, 'terrorism': 4960, 'terrorist': 4961, 'terrorists': 4962, 'terrorized': 4963, 'test': 4964, 'testament': 4965, 'tested': 4966, 'testing': 4967, 'tests': 4968, 'tetris': 4969, 'texans': 4970, 'texas': 4971, 'text': 4972, 'textbook': 4973, 'textbooks': 4974, 'texting': 4975, 'th': 4976, 'thai': 4977, 'thailand': 4978, 'thailands': 4979, 'thames': 4980, 'than': 4981, 'thank': 4982, 'thanked': 4983, 'thanks': 4984, 'thanksgiving': 4985, 'that': 4986, 'thatll': 4987, 'thats': 4988, 'the': 4989, 'theater': 4990, 'their': 4991, 'theirs': 4992, 'them': 4993, 'themselves': 4994, 'then': 4995, 'theory': 4996, 'there': 4997, 'therell': 4998, 'theres': 4999, 'these': 5000, 'they': 5001, 'theyd': 5002, 'theyll': 5003, 'theyre': 5004, 'theyve': 5005, 'thick': 5006, 'thief': 5007, 'thieves': 5008, 'thin': 5009, 'thing': 5010, 'things': 5011, 'think': 5012, 'thinking': 5013, 'thinks': 5014, 'third': 5015, 'thirsty': 5016, 'thirteen': 5017, 'thirteenth': 5018, 'thirteenyearold': 5019, 'thirty': 5020, 'thirtyfour': 5021, 'thirtyyearold': 5022, 'this': 5023, 'thomas': 5024, 'thorns': 5025, 'thoroughly': 5026, 'those': 5027, 'though': 5028, 'thought': 5029, 'thoughts': 5030, 'thousand': 5031, 'thousands': 5032, 'thread': 5033, 'threaten': 5034, 'threatened': 5035, 'three': 5036, 'threeandahalfmillion': 5037, 'threebedroom': 5038, 'threemonthold': 5039, 'threeroom': 5040, 'threeyear': 5041, 'threeyearold': 5042, 'threw': 5043, 'throat': 5044, 'throats': 5045, 'through': 5046, 'throughout': 5047, 'throw': 5048, 'throwing': 5049, 'thrown': 5050, 'throws': 5051, 'thumb': 5052, 'thumper': 5053, 'thunder': 5054, 'thundered': 5055, 'thursday': 5056, 'ticket': 5057, 'tickets': 5058, 'ticking': 5059, 'tie': 5060, 'tied': 5061, 'ties': 5062, 'tiger': 5063, 'tigers': 5064, 'tightly': 5065, 'tiki': 5066, 'till': 5067, 'time': 5068, 'times': 5069, 'timetable': 5070, 'tiny': 5071, 'tip': 5072, 'tire': 5073, 'tired': 5074, 'titanic': 5075, 'title': 5076, 'tiên': 5077, 'to': 5078, 'toast': 5079, 'toaster': 5080, 'today': 5081, 'todays': 5082, 'tofu': 5083, 'together': 5084, 'toilet': 5085, 'tokyo': 5086, 'told': 5087, 'tolerate': 5088, 'tom': 5089, 'tomato': 5090, 'tomatoes': 5091, 'tomll': 5092, 'tomorrow': 5093, 'tomorrows': 5094, 'toms': 5095, 'tongue': 5096, 'tonight': 5097, 'tonsillitis': 5098, 'too': 5099, 'took': 5100, 'tooth': 5101, 'toothache': 5102, 'toothpaste': 5103, 'top': 5104, 'topic': 5105, 'tops': 5106, 'topsyturvy': 5107, 'tore': 5108, 'tories': 5109, 'torn': 5110, 'toronto': 5111, 'tortellini': 5112, 'tossed': 5113, 'total': 5114, 'totally': 5115, 'tottori': 5116, 'touch': 5117, 'touchdown': 5118, 'touched': 5119, 'toudaiji': 5120, 'tough': 5121, 'tougher': 5122, 'tour': 5123, 'tourists': 5124, 'towada': 5125, 'toward': 5126, 'towards': 5127, 'towel': 5128, 'toweldried': 5129, 'towels': 5130, 'tower': 5131, 'town': 5132, 'towns': 5133, 'toy': 5134, 'toys': 5135, 'traces': 5136, 'tracking': 5137, 'trade': 5138, 'trades': 5139, 'tradition': 5140, 'traditional': 5141, 'traditionally': 5142, 'traditions': 5143, 'traffic': 5144, 'trailer': 5145, 'train': 5146, 'trains': 5147, 'traitors': 5148, 'transfer': 5149, 'transferred': 5150, 'translate': 5151, 'translated': 5152, 'translator': 5153, 'transported': 5154, 'transports': 5155, 'trapped': 5156, 'trash': 5157, 'travel': 5158, 'traveled': 5159, 'traveling': 5160, 'tray': 5161, 'treasure': 5162, 'treat': 5163, 'treated': 5164, 'treatment': 5165, 'treaty': 5166, 'tree': 5167, 'trees': 5168, 'trembled': 5169, 'trenton': 5170, 'trial': 5171, 'triangle': 5172, 'triathlon': 5173, 'tribe': 5174, 'tribes': 5175, 'trick': 5176, 'tricked': 5177, 'tricycle': 5178, 'tried': 5179, 'tries': 5180, 'trip': 5181, 'tripled': 5182, 'triumphs': 5183, 'trombone': 5184, 'troops': 5185, 'trouble': 5186, 'troubled': 5187, 'trousers': 5188, 'trout': 5189, 'truck': 5190, 'trucks': 5191, 'true': 5192, 'truly': 5193, 'truman': 5194, 'trumans': 5195, 'trumpet': 5196, 'trunk': 5197, 'trunks': 5198, 'trust': 5199, 'trusts': 5200, 'truth': 5201, 'try': 5202, 'trying': 5203, 'tshirt': 5204, 'tube': 5205, 'tuesday': 5206, 'tulips': 5207, 'tuna': 5208, 'tuned': 5209, 'tuning': 5210, 'tunnel': 5211, 'turkey': 5212, 'turkeys': 5213, 'turkish': 5214, 'turks': 5215, 'turn': 5216, 'turned': 5217, 'turning': 5218, 'turtles': 5219, 'tuxedo': 5220, 'tv': 5221, 'twain': 5222, 'twelve': 5223, 'twentieth': 5224, 'twenty': 5225, 'twentydollar': 5226, 'twentyfive': 5227, 'twentyseven': 5228, 'twice': 5229, 'twin': 5230, 'twins': 5231, 'twisted': 5232, 'twisting': 5233, 'twitter': 5234, 'two': 5235, 'tworoom': 5236, 'twostory': 5237, 'type': 5238, 'typed': 5239, 'types': 5240, 'typewriter': 5241, 'typhoon': 5242, 'typical': 5243, 'tyson': 5244, 'ubuntu': 5245, 'ufo': 5246, 'ugly': 5247, 'uk': 5248, 'ukraine': 5249, 'ukrainian': 5250, 'ulaanbaatar': 5251, 'ultimate': 5252, 'ulysses': 5253, 'umbrella': 5254, 'umbrellas': 5255, 'unable': 5256, 'unarmed': 5257, 'unbalanced': 5258, 'unbelievable': 5259, 'unbiased': 5260, 'uncle': 5261, 'uncles': 5262, 'uncomfortable': 5263, 'unconscious': 5264, 'unconstitutional': 5265, 'uncorrupted': 5266, 'undefeated': 5267, 'under': 5268, 'undercooked': 5269, 'underestimate': 5270, 'underestimated': 5271, 'underlined': 5272, 'underneath': 5273, 'underpants': 5274, 'understand': 5275, 'understands': 5276, 'understood': 5277, 'underwoods': 5278, 'undress': 5279, 'undressed': 5280, 'undressing': 5281, 'unemployed': 5282, 'unemployment': 5283, 'unfortunately': 5284, 'unhappy': 5285, 'uniform': 5286, 'unimaginable': 5287, 'union': 5288, 'unique': 5289, 'united': 5290, 'unity': 5291, 'universal': 5292, 'universe': 5293, 'universities': 5294, 'university': 5295, 'unknown': 5296, 'unlikely': 5297, 'unmarried': 5298, 'unnatural': 5299, 'unrelated': 5300, 'until': 5301, 'unusual': 5302, 'unwilling': 5303, 'up': 5304, 'uploaded': 5305, 'upon': 5306, 'upside': 5307, 'upstairs': 5308, 'urban': 5309, 'urgent': 5310, 'urgently': 5311, 'urls': 5312, 'us': 5313, 'usa': 5314, 'usb': 5315, 'use': 5316, 'used': 5317, 'useful': 5318, 'useless': 5319, 'uses': 5320, 'using': 5321, 'usual': 5322, 'usually': 5323, 'utah': 5324, 'uturn': 5325, 'vacant': 5326, 'vacation': 5327, 'valentin': 5328, 'valentines': 5329, 'valid': 5330, 'valley': 5331, 'valuable': 5332, 'value': 5333, 'vampire': 5334, 'vampires': 5335, 'van': 5336, 'vanilla': 5337, 'vanished': 5338, 'varies': 5339, 'various': 5340, 'vcr': 5341, 'vegan': 5342, 'vegetable': 5343, 'vegetables': 5344, 'vegetarian': 5345, 'vegetarians': 5346, 'veggie': 5347, 'vehicle': 5348, 'vein': 5349, 'venice': 5350, 'verdun': 5351, 'verse': 5352, 'version': 5353, 'very': 5354, 'vespa': 5355, 'vibrating': 5356, 'vices': 5357, 'vicksburg': 5358, 'victims': 5359, 'victories': 5360, 'victory': 5361, 'video': 5362, 'videogame': 5363, 'videos': 5364, 'vienna': 5365, 'vietnam': 5366, 'vietnamese': 5367, 'view': 5368, 'villa': 5369, 'village': 5370, 'villagers': 5371, 'villages': 5372, 'viola': 5373, 'violence': 5374, 'violent': 5375, 'violet': 5376, 'violin': 5377, 'virginia': 5378, 'virus': 5379, 'visa': 5380, 'visit': 5381, 'visited': 5382, 'visiting': 5383, 'visits': 5384, 'vitamin': 5385, 'vladimir': 5386, 'vladivostok': 5387, 'vodka': 5388, 'voice': 5389, 'voices': 5390, 'volcanoes': 5391, 'volleyball': 5392, 'volume': 5393, 'vomited': 5394, 'vote': 5395, 'voted': 5396, 'voters': 5397, 'votes': 5398, 'voyage': 5399, 'wage': 5400, 'wait': 5401, 'waited': 5402, 'waiter': 5403, 'waiting': 5404, 'waitress': 5405, 'wake': 5406, 'wakes': 5407, 'wales': 5408, 'walk': 5409, 'walked': 5410, 'walkietalkie': 5411, 'walking': 5412, 'walks': 5413, 'wall': 5414, 'wallet': 5415, 'walls': 5416, 'walt': 5417, 'wandering': 5418, 'wanna': 5419, 'want': 5420, 'wanted': 5421, 'wants': 5422, 'war': 5423, 'warcraft': 5424, 'warhol': 5425, 'warm': 5426, 'warmed': 5427, 'warn': 5428, 'warned': 5429, 'warning': 5430, 'wars': 5431, 'warsaw': 5432, 'was': 5433, 'wash': 5434, 'washed': 5435, 'washes': 5436, 'washing': 5437, 'washington': 5438, 'washingtons': 5439, 'wasnt': 5440, 'waste': 5441, 'wasting': 5442, 'watch': 5443, 'watched': 5444, 'watches': 5445, 'watching': 5446, 'water': 5447, 'watered': 5448, 'waterfall': 5449, 'watering': 5450, 'watermelon': 5451, 'waters': 5452, 'waves': 5453, 'waxing': 5454, 'way': 5455, 'ways': 5456, 'we': 5457, 'weak': 5458, 'wealth': 5459, 'wealthy': 5460, 'weapon': 5461, 'weapons': 5462, 'wear': 5463, 'wearing': 5464, 'wears': 5465, 'weather': 5466, 'web': 5467, 'webcam': 5468, 'website': 5469, 'wed': 5470, 'wedding': 5471, 'wednesday': 5472, 'week': 5473, 'weeks': 5474, 'weigh': 5475, 'weighs': 5476, 'weight': 5477, 'weird': 5478, 'welcome': 5479, 'welcomed': 5480, 'well': 5481, 'wellington': 5482, 'went': 5483, 'wept': 5484, 'were': 5485, 'werent': 5486, 'west': 5487, 'western': 5488, 'wet': 5489, 'weve': 5490, 'we’ve': 5491, 'whale': 5492, 'whales': 5493, 'what': 5494, 'whatd': 5495, 'whatever': 5496, 'whatll': 5497, 'whatre': 5498, 'whats': 5499, 'whatve': 5500, 'wheat': 5501, 'wheel': 5502, 'wheels': 5503, 'when': 5504, 'whenever': 5505, 'whens': 5506, 'where': 5507, 'wherere': 5508, 'wheres': 5509, 'wherever': 5510, 'whether': 5511, 'which': 5512, 'whichever': 5513, 'while': 5514, 'whipped': 5515, 'whiskey': 5516, 'whispering': 5517, 'whistle': 5518, 'whistled': 5519, 'whistling': 5520, 'white': 5521, 'whiter': 5522, 'whitman': 5523, 'who': 5524, 'whoever': 5525, 'whole': 5526, 'wholl': 5527, 'whos': 5528, 'whose': 5529, 'why': 5530, 'whys': 5531, 'wide': 5532, 'widely': 5533, 'widow': 5534, 'wife': 5535, 'wifes': 5536, 'wig': 5537, 'wikipedia': 5538, 'wild': 5539, 'will': 5540, 'william': 5541, 'willing': 5542, 'willkie': 5543, 'wilson': 5544, 'win': 5545, 'wind': 5546, 'window': 5547, 'windows': 5548, 'windshield': 5549, 'windsurfing': 5550, 'windy': 5551, 'wine': 5552, 'winfrey': 5553, 'wings': 5554, 'winner': 5555, 'winning': 5556, 'wins': 5557, 'winston': 5558, 'winter': 5559, 'wipe': 5560, 'wiped': 5561, 'wipers': 5562, 'wiping': 5563, 'wire': 5564, 'wisdom': 5565, 'wise': 5566, 'wish': 5567, 'witch': 5568, 'with': 5569, 'withdraw': 5570, 'withdrew': 5571, 'within': 5572, 'without': 5573, 'witness': 5574, 'wizard': 5575, 'woke': 5576, 'woken': 5577, 'wolf': 5578, 'wolves': 5579, 'woman': 5580, 'womans': 5581, 'wombats': 5582, 'women': 5583, 'won': 5584, 'wonder': 5585, 'wonderland': 5586, 'wont': 5587, 'wonton': 5588, 'wood': 5589, 'wooden': 5590, 'woods': 5591, 'word': 5592, 'words': 5593, 'wore': 5594, 'work': 5595, 'worked': 5596, 'worker': 5597, 'workers': 5598, 'working': 5599, 'works': 5600, 'world': 5601, 'worldfamous': 5602, 'worlds': 5603, 'worldwide': 5604, 'worried': 5605, 'worry': 5606, 'worrying': 5607, 'worse': 5608, 'worship': 5609, 'worships': 5610, 'worth': 5611, 'worthy': 5612, 'would': 5613, 'wouldnt': 5614, 'wouldve': 5615, 'wound': 5616, 'wounded': 5617, 'wounds': 5618, 'wow': 5619, 'wrapped': 5620, 'wrestle': 5621, 'wrestlers': 5622, 'write': 5623, 'writer': 5624, 'writers': 5625, 'writes': 5626, 'writing': 5627, 'written': 5628, 'wrong': 5629, 'wrote': 5630, 'wyoming': 5631, 'xbox': 5632, 'xeroxed': 5633, 'xfiles': 5634, 'xiaoli': 5635, 'yaesu': 5636, 'yakitori': 5637, 'yamamoto': 5638, 'yawned': 5639, 'yeah': 5640, 'year': 5641, 'yearold': 5642, 'years': 5643, 'yeast': 5644, 'yell': 5645, 'yelled': 5646, 'yelling': 5647, 'yellow': 5648, 'yellowstone': 5649, 'yells': 5650, 'yemen': 5651, 'yen': 5652, 'yerevan': 5653, 'yes': 5654, 'yesterday': 5655, 'yesterdays': 5656, 'yet': 5657, 'ymca': 5658, 'yoga': 5659, 'yoghurt': 5660, 'yogurt': 5661, 'yokohama': 5662, 'york': 5663, 'you': 5664, 'youd': 5665, 'youll': 5666, 'young': 5667, 'younger': 5668, 'youngest': 5669, 'your': 5670, 'youre': 5671, 'yours': 5672, 'yourself': 5673, 'yourselves': 5674, 'youth': 5675, 'youtube': 5676, 'youve': 5677, 'yuan': 5678, 'zamenhof': 5679, 'zappa': 5680, 'zealand': 5681, 'zimbabwe': 5682, 'zinc': 5683, 'zipper': 5684, 'zoo': 5685, 'zoom': 5686, 'zugspitze': 5687, 'zulu': 5688}\n",
            "{'10': 0, '100': 1, '300': 2, '3ds': 3, 'START_': 4, '_END': 5, 'a': 6, 'b': 7, 'beispiel': 8, 'h₂o': 9, 'ntt': 10, 'tatoebaorg': 11, 'uk': 12, 'अ': 13, 'अँकरेजमार्गे': 14, 'अँजिलीस': 15, 'अँटीव्हायरस': 16, 'अँड': 17, 'अँडी': 18, 'अँडीजमधल्या': 19, 'अँब्युलन्स': 20, 'अंक': 21, 'अंकांनी': 22, 'अंकारा': 23, 'अंकारात': 24, 'अंकारामध्ये': 25, 'अंगठ्या': 26, 'अंगाला': 27, 'अंगोला': 28, 'अंघोळ': 29, 'अंठ्यांपेक्षा': 30, 'अंड': 31, 'अंडरवुडचा': 32, 'अंडरवेअर': 33, 'अंडी': 34, 'अंडींचा': 35, 'अंडीसुद्धा': 36, 'अंड्यांवर': 37, 'अंत': 38, 'अंतर': 39, 'अंतराळयात्री': 40, 'अंतराळयान': 41, 'अंतराळयानाचं': 42, 'अंतराळयानातून': 43, 'अंतराळवीर': 44, 'अंतराळात': 45, 'अंतरित': 46, 'अंतिम': 47, 'अंदाज': 48, 'अंदाजे': 49, 'अंधार': 50, 'अंधाराची': 51, 'अंधारात': 52, 'अंमलात': 53, 'अंशांकित': 54, 'अकरा': 55, 'अकरावीत': 56, 'अकल्पनीय': 57, 'अकाउंट': 58, 'अकाउंटमध्ये': 59, 'अकॉर्डियन': 60, 'अक्कलदाढ': 61, 'अक्वॅरियममध्ये': 62, 'अक्षर': 63, 'अक्षरं': 64, 'अक्षरांनी': 65, 'अक्षरांमध्ये': 66, 'अक्षरे': 67, 'अखाद्य': 68, 'अखिलेउस': 69, 'अख्खं': 70, 'अख्खा': 71, 'अख्ख्या': 72, 'अगं': 73, 'अगदी': 74, 'अगोदर': 75, 'अगोदरच': 76, 'अचानक': 77, 'अचानकच': 78, 'अचूक': 79, 'अच्छा': 80, 'अजिबात': 81, 'अजिबातच': 82, 'अजीबात': 83, 'अजुनपर्यंत': 84, 'अजुनही': 85, 'अजून': 86, 'अजूनच': 87, 'अजूनपर्यंत': 88, 'अजूनही': 89, 'अज्ञात': 90, 'अट': 91, 'अटक': 92, 'अटलांटिक': 93, 'अटलीला': 94, 'अटॅच': 95, 'अट्लँटिस': 96, 'अठरा': 97, 'अठराच्या': 98, 'अठरावा': 99, 'अठ्ठेचाळीस': 100, 'अडकलं': 101, 'अडकला': 102, 'अडकलाय': 103, 'अडकली': 104, 'अडकले': 105, 'अडकलेयत': 106, 'अडकलेला': 107, 'अडकलेले': 108, 'अडकलेलो': 109, 'अडकलो': 110, 'अडकलोय': 111, 'अडकल्या': 112, 'अडकून': 113, 'अडचण': 114, 'अडचणी': 115, 'अडथळा': 116, 'अडीच': 117, 'अडीचला': 118, 'अणु': 119, 'अणुऊर्जेचा': 120, 'अणू': 121, 'अणूऊर्जेचा': 122, 'अण्वस्त्र': 123, 'अता': 124, 'अतिरेकी': 125, 'अतिरेक्यांनी': 126, 'अतिशय': 127, 'अतिशयोक्ती': 128, 'अत्ता': 129, 'अत्ताच': 130, 'अत्ताच्या': 131, 'अत्यंत': 132, 'अत्यावश्यक': 133, 'अथेन्समध्ये': 134, 'अदीप्त': 135, 'अदृश्य': 136, 'अदृष्य': 137, 'अद्ययावत': 138, 'अद्वितीय': 139, 'अधिक': 140, 'अधिकाधिक': 141, 'अधिकार': 142, 'अधिकारी': 143, 'अधिकृतरित्या': 144, 'अधिनियमाला': 145, 'अधिवर्षात': 146, 'अधून': 147, 'अधूनमधून': 148, 'अधोरेखित': 149, 'अध्यक्ष': 150, 'अध्यक्षाने': 151, 'अननस': 152, 'अननससारखी': 153, 'अनन्य': 154, 'अनाथ': 155, 'अनुज्ञप्तीपत्र': 156, 'अनुपस्थित': 157, 'अनुभव': 158, 'अनुभवदेखील': 159, 'अनुभवसुद्धा': 160, 'अनुभवाने': 161, 'अनुभवाबद्दल': 162, 'अनुभवी': 163, 'अनुवाद': 164, 'अनुवादक': 165, 'अनुवादकाराची': 166, 'अनुसार': 167, 'अनेक': 168, 'अनेकदा': 169, 'अनेकांकडे': 170, 'अनैसर्गिक': 171, 'अनोळखी': 172, 'अन्न': 173, 'अन्नाशिवाय': 174, 'अन्वेषण': 175, 'अपघात': 176, 'अपघाताचा': 177, 'अपघातात': 178, 'अपघातानंतर': 179, 'अपघाताबद्दल': 180, 'अपघातामुळे': 181, 'अपघातासाठी': 182, 'अपमान': 183, 'अपयशाचा': 184, 'अपयशी': 185, 'अपराजित': 186, 'अपराधी': 187, 'अपलोड': 188, 'अपहरण': 189, 'अपूर्ण': 190, 'अपेक्षा': 191, 'अपेक्षित': 192, 'अपॉइन्टमेन्ट': 193, 'अप्रामाणिक': 194, 'अफगाणिस्तानची': 195, 'अफगाणिस्तानातून': 196, 'अफवा': 197, 'अफवेवर': 198, 'अफेअर': 199, 'अब्ज': 200, 'अभिनंदन': 201, 'अभिनय': 202, 'अभिनेता': 203, 'अभिनेते': 204, 'अभिनेत्या': 205, 'अभिनेत्री': 206, 'अभिमान': 207, 'अभिवचन': 208, 'अभिषिक्त': 209, 'अभ्यास': 210, 'अभ्यासासाठी': 211, 'अभ्रष्ट': 212, 'अमर': 213, 'अमूल्य': 214, 'अमेरिकन': 215, 'अमेरिकनांकडे': 216, 'अमेरिकनांना': 217, 'अमेरिकनांसाठी': 218, 'अमेरिकनांसारखेच': 219, 'अमेरिका': 220, 'अमेरिकेचं': 221, 'अमेरिकेचा': 222, 'अमेरिकेची': 223, 'अमेरिकेचे': 224, 'अमेरिकेच्या': 225, 'अमेरिकेत': 226, 'अमेरिकेतील': 227, 'अमेरिकेतून': 228, 'अमेरिकेने': 229, 'अमेरिकेपासून': 230, 'अमेरिकेपेक्षा': 231, 'अमेरिकेला': 232, 'अमेरिकेहून': 233, 'अमेरीकी': 234, 'अयशस्वी': 235, 'अरब': 236, 'अरबपती': 237, 'अरबी': 238, 'अरबीत': 239, 'अरुंद': 240, 'अरे': 241, 'अरेंज्ड': 242, 'अरेबियामध्ये': 243, 'अर्जंट': 244, 'अर्थ': 245, 'अर्थव्यवस्था': 246, 'अर्थव्यवस्थेचे': 247, 'अर्थव्यवस्थेत': 248, 'अर्थव्यवस्थेबाबत': 249, 'अर्थशास्त्रज्ञ': 250, 'अर्थशास्त्राचा': 251, 'अर्थहीन': 252, 'अर्थी': 253, 'अर्ध': 254, 'अर्धं': 255, 'अर्धवट': 256, 'अर्धा': 257, 'अर्धी': 258, 'अर्धे': 259, 'अर्ध्या': 260, 'अर्ध्यापेक्षा': 261, 'अर्ल': 262, 'अलार्म': 263, 'अलिकडच्या': 264, 'अलिकडेच': 265, 'अली': 266, 'अलीकडेच': 267, 'अल्कोहोलचा': 268, 'अल्कोहोलने': 269, 'अल्कोहोलसुद्धा': 270, 'अल्जीरिया': 271, 'अल्जीरियाला': 272, 'अल्जेरियन': 273, 'अल्प': 274, 'अल्पवयीन': 275, 'अल्बम': 276, 'अल्बममध्ये': 277, 'अवकाश': 278, 'अवकाशयात्री': 279, 'अवकाशाकडे': 280, 'अवकाशात': 281, 'अवकाशातून': 282, 'अवघडला': 283, 'अवलंबून': 284, 'अवस्था': 285, 'अवस्थेत': 286, 'अविभाज्य': 287, 'अविवाहित': 288, 'अशक्य': 289, 'अशक्यच': 290, 'अशा': 291, 'अशी': 292, 'अशीच': 293, 'अश्या': 294, 'अश्रू': 295, 'अश्लील': 296, 'असं': 297, 'असंख्य': 298, 'असंच': 299, 'असंबंधित': 300, 'असंभवनीय': 301, 'असंभाव्य': 302, 'असच': 303, 'असणं': 304, 'असणार': 305, 'असणार्\\u200dया': 306, 'असणे': 307, 'असण्याचा': 308, 'असण्यात': 309, 'असण्याने': 310, 'असण्यापेक्षा': 311, 'असत': 312, 'असतं': 313, 'असतंस': 314, 'असता': 315, 'असतात': 316, 'असतातच': 317, 'असताना': 318, 'असतानाही': 319, 'असतास': 320, 'असती': 321, 'असतील': 322, 'असतीस': 323, 'असते': 324, 'असतेस': 325, 'असतो': 326, 'असतोस': 327, 'असत्या': 328, 'असफल': 329, 'असलं': 330, 'असला': 331, 'असलात': 332, 'असली': 333, 'असले': 334, 'असलेलं': 335, 'असलेला': 336, 'असलेली': 337, 'असलेले': 338, 'असलेल्या': 339, 'असल्या': 340, 'असल्याचा': 341, 'असल्याची': 342, 'असल्यापासून': 343, 'असल्याबरोबर': 344, 'असल्याबरोबरच': 345, 'असल्यामुळे': 346, 'असल्याशिवाय': 347, 'असल्यास': 348, 'असल्यासारखं': 349, 'असल्यासारखा': 350, 'असल्यासार्खं': 351, 'असशील': 352, 'असहमत': 353, 'असा': 354, 'असाच': 355, 'असायचं': 356, 'असायचा': 357, 'असायची': 358, 'असायचे': 359, 'असायचो': 360, 'असायच्या': 361, 'असायला': 362, 'असायलाच': 363, 'असाल': 364, 'असावं': 365, 'असावा': 366, 'असावास': 367, 'असावी': 368, 'असावेत': 369, 'असाव्यात': 370, 'असिस्टंट': 371, 'असू': 372, 'असूच': 373, 'असून': 374, 'असूनसुद्धा': 375, 'असूनही': 376, 'असे': 377, 'असेच': 378, 'असेन': 379, 'असेपर्यंत': 380, 'असेल': 381, 'अस्तित्व': 382, 'अस्तित्वात': 383, 'अस्तित्वातच': 384, 'अस्थायी': 385, 'अस्वच्छ': 386, 'अस्वलं': 387, 'अस्वलांची': 388, 'अस्वलांशी': 389, 'अस्वलाला': 390, 'अस्वस्थ': 391, 'अहवाल': 392, 'अ\\u200dॅंडरसन': 393, 'अ\\u200dॅक्ट': 394, 'अ\\u200dॅक्टींग': 395, 'अ\\u200dॅक्शन': 396, 'अ\\u200dॅक्सेंटची': 397, 'अ\\u200dॅट्लांटिस': 398, 'अ\\u200dॅड': 399, 'अ\\u200dॅडऑन': 400, 'अ\\u200dॅडमिशन': 401, 'अ\\u200dॅड्रेस': 402, 'अ\\u200dॅण्ड': 403, 'अ\\u200dॅनाकाँडाने': 404, 'अ\\u200dॅन्ड्रॉइड': 405, 'अ\\u200dॅप': 406, 'अ\\u200dॅपल': 407, 'अ\\u200dॅप्पलसॉस': 408, 'अ\\u200dॅमस्टरडॅममधील': 409, 'अ\\u200dॅमेझॉन': 410, 'अ\\u200dॅम्स्टरडॅम': 411, 'अ\\u200dॅरिझोनाची': 412, 'अ\\u200dॅल': 413, 'अ\\u200dॅलफ्रेड': 414, 'अ\\u200dॅलर्जी': 415, 'अ\\u200dॅलाइड': 416, 'अ\\u200dॅलिस': 417, 'अ\\u200dॅलिसशी': 418, 'अ\\u200dॅल्प्स': 419, 'अ\\u200dॅल्प्सपेक्षा': 420, 'अ\\u200dॅशबर्टनची': 421, 'अ\\u200dॅसीटोन': 422, 'आंगठी': 423, 'आंघोळ': 424, 'आंतरराष्ट्रीय': 425, 'आंतर्राष्ट्रीय': 426, 'आंधळं': 427, 'आंधळा': 428, 'आंधळी': 429, 'आंधळे': 430, 'आंधळ्या': 431, 'आंबट': 432, 'आंबा': 433, 'आंबे': 434, 'आइनस्टाइन': 435, 'आइसलँड': 436, 'आइसलँडमध्ये': 437, 'आइसलँडला': 438, 'आइसलँडिक': 439, 'आइसेनहोवर': 440, 'आई': 441, 'आईंचं': 442, 'आईंच्या': 443, 'आईंना': 444, 'आईइतकी': 445, 'आईचं': 446, 'आईचा': 447, 'आईची': 448, 'आईच्या': 449, 'आईने': 450, 'आईपेक्षा': 451, 'आईबरोबर': 452, 'आईबाबा': 453, 'आईबाबांना': 454, 'आईबाबांनी': 455, 'आईबाबांबरोबर': 456, 'आईबाबांशी': 457, 'आईला': 458, 'आईवडिलांची': 459, 'आईवडिलांच्या': 460, 'आईवडिलांना': 461, 'आईवडिलांबरोबर': 462, 'आईवडिलांवर': 463, 'आईवडिलांशी': 464, 'आईवडिलांसोबत': 465, 'आईवडील': 466, 'आईवडीलसुद्धा': 467, 'आईवर': 468, 'आईशप्पथ': 469, 'आईशी': 470, 'आईसक्रिम': 471, 'आईसाठी': 472, 'आईसारखं': 473, 'आईसारखा': 474, 'आईसारखी': 475, 'आईसारखीच': 476, 'आईसारखे': 477, 'आईसारखेच': 478, 'आईसोबत': 479, 'आईस्क्रिम': 480, 'आईस्क्रीम': 481, 'आउट': 482, 'आकर्षक': 483, 'आकार': 484, 'आकाराचं': 485, 'आकाराचा': 486, 'आकाराचे': 487, 'आकाराच्या': 488, 'आकाश': 489, 'आकाशगंगा': 490, 'आकाशाकडे': 491, 'आकाशात': 492, 'आकाशातून': 493, 'आकितापर्यंतचं': 494, 'आक्रमक': 495, 'आक्रमण': 496, 'आक्रमणात': 497, 'आक्रमणाला': 498, 'आक्षेप': 499, 'आखात': 500, 'आखाती': 501, 'आग': 502, 'आगदीत': 503, 'आगीचं': 504, 'आगीचा': 505, 'आगीजवळ': 506, 'आगीत': 507, 'आगीने': 508, 'आगीपासून': 509, 'आगीबद्दल': 510, 'आगीबरोबर': 511, 'आगीभोवती': 512, 'आगीला': 513, 'आगीशिवाय': 514, 'आग्रह': 515, 'आज': 516, 'आजकाल': 517, 'आजकालचे': 518, 'आजच': 519, 'आजचं': 520, 'आजचा': 521, 'आजचे': 522, 'आजच्या': 523, 'आजपर्यंत': 524, 'आजपेक्षा': 525, 'आजबाबत': 526, 'आजसाठी': 527, 'आजार': 528, 'आजाराचा': 529, 'आजारामुळे': 530, 'आजारी': 531, 'आजी': 532, 'आजीआजोबा': 533, 'आजीआजोबांशी': 534, 'आजीच्या': 535, 'आजीने': 536, 'आजीबद्दल': 537, 'आजीबरोबर': 538, 'आजीला': 539, 'आजुबाजुला': 540, 'आजून': 541, 'आजूबाजूला': 542, 'आजोबा': 543, 'आजोबांचं': 544, 'आजोबांची': 545, 'आजोबांच्या': 546, 'आजोबांना': 547, 'आजोबांनी': 548, 'आज्जीची': 549, 'आटपेल': 550, 'आठ': 551, 'आठला': 552, 'आठवडा': 553, 'आठवडाभर': 554, 'आठवडे': 555, 'आठवड्यांपूर्वी': 556, 'आठवड्यांमध्ये': 557, 'आठवड्यांसाठी': 558, 'आठवड्याचा': 559, 'आठवड्याच्या': 560, 'आठवड्यात': 561, 'आठवड्यातच': 562, 'आठवड्यातला': 563, 'आठवड्यातून': 564, 'आठवड्यानंतर': 565, 'आठवड्यापूर्वी': 566, 'आठवड्याला': 567, 'आठवण': 568, 'आठवणार': 569, 'आठवणी': 570, 'आठवणीने': 571, 'आठवत': 572, 'आठवतं': 573, 'आठवतंय': 574, 'आठवतही': 575, 'आठवता': 576, 'आठवतात': 577, 'आठवते': 578, 'आठवतेस': 579, 'आठवतो': 580, 'आठवतोस': 581, 'आठवलं': 582, 'आठवला': 583, 'आठवली': 584, 'आठवले': 585, 'आठवल्यासारखं': 586, 'आठवायचं': 587, 'आठवायचा': 588, 'आठवायला': 589, 'आठवीत': 590, 'आठवून': 591, 'आठवेल': 592, 'आठव्या': 593, 'आडनाव': 594, 'आडवे': 595, 'आढळून': 596, 'आण': 597, 'आणखी': 598, 'आणखीन': 599, 'आणखीनच': 600, 'आणण्याचं': 601, 'आणण्याचा': 602, 'आणण्यात': 603, 'आणण्यासाठी': 604, 'आणत': 605, 'आणतात': 606, 'आणते': 607, 'आणतो': 608, 'आणलं': 609, 'आणलंत': 610, 'आणलंस': 611, 'आणला': 612, 'आणलात': 613, 'आणलास': 614, 'आणली': 615, 'आणलीत': 616, 'आणलीस': 617, 'आणले': 618, 'आणलेला': 619, 'आणल्या': 620, 'आणा': 621, 'आणायची': 622, 'आणायला': 623, 'आणि': 624, 'आणीन': 625, 'आणीबाणी': 626, 'आणू': 627, 'आणून': 628, 'आणेन': 629, 'आणेल': 630, 'आत': 631, 'आतच': 632, 'आतमधून': 633, 'आतमध्ये': 634, 'आता': 635, 'आताच': 636, 'आताच्या': 637, 'आतातरी': 638, 'आतापर्यंत': 639, 'आतापासून': 640, 'आता।': 641, 'आतून': 642, 'आतेबहीण': 643, 'आतेभाऊ': 644, 'आत्ता': 645, 'आत्ताच': 646, 'आत्ताच्या': 647, 'आत्तापर्यंत': 648, 'आत्तापासून': 649, 'आत्तासाठी': 650, 'आत्मचरित्र': 651, 'आत्महत्या': 652, 'आत्मा': 653, 'आत्म्यांशी': 654, 'आत्या': 655, 'आत्याबरोबर': 656, 'आत्याला': 657, 'आत्यासारखी': 658, 'आदर': 659, 'आदल्या': 660, 'आदेश': 661, 'आद्याक्षरांचा': 662, 'आधिच': 663, 'आधी': 664, 'आधीच': 665, 'आधीपासूनच': 666, 'आधीही': 667, 'आधुनिक': 668, 'आनंद': 669, 'आनंदी': 670, 'आपटलं': 671, 'आपटला': 672, 'आपटली': 673, 'आपटून': 674, 'आपण': 675, 'आपणच': 676, 'आपणसुद्धा': 677, 'आपणही': 678, 'आपलं': 679, 'आपलंच': 680, 'आपला': 681, 'आपली': 682, 'आपलीच': 683, 'आपले': 684, 'आपल्या': 685, 'आपल्याकडे': 686, 'आपल्यात': 687, 'आपल्यातला': 688, 'आपल्यातलाच': 689, 'आपल्यापासून': 690, 'आपल्यापेक्षा': 691, 'आपल्याबद्दल': 692, 'आपल्याबरोबर': 693, 'आपल्यामागे': 694, 'आपल्याला': 695, 'आपल्यावर': 696, 'आपल्याशी': 697, 'आपल्यासाठी': 698, 'आपल्यासारखा': 699, 'आपापलं': 700, 'आपापला': 701, 'आपापली': 702, 'आपापल्या': 703, 'आफ्रिकन': 704, 'आफ्रिकनअमेरिकन': 705, 'आफ्रिका': 706, 'आफ्रिकेचा': 707, 'आफ्रिकेची': 708, 'आफ्रिकेत': 709, 'आफ्रिकेतली': 710, 'आफ्रिकेतील': 711, 'आफ्रिकेला': 712, 'आफ्रिकेसाठी': 713, 'आभार': 714, 'आभिमान': 715, 'आमंत्रण': 716, 'आमंत्रित': 717, 'आमचं': 718, 'आमचा': 719, 'आमची': 720, 'आमचीच': 721, 'आमचे': 722, 'आमच्या': 723, 'आमच्याकडे': 724, 'आमच्यात': 725, 'आमच्यातला': 726, 'आमच्यापासून': 727, 'आमच्यापेक्षा': 728, 'आमच्याबद्दल': 729, 'आमच्याबरोबर': 730, 'आमच्यामागे': 731, 'आमच्यावर': 732, 'आमच्याशी': 733, 'आमच्यासाठी': 734, 'आमच्यासारखा': 735, 'आमच्यासोबत': 736, 'आमलेट': 737, 'आमलेटदेखील': 738, 'आमलेटही': 739, 'आमियां': 740, 'आम्हा': 741, 'आम्हाला': 742, 'आम्ही': 743, 'आम्हीच': 744, 'आम्हीसुद्धा': 745, 'आम्हीही': 746, 'आय': 747, 'आयआरएससाठी': 748, 'आयकनला': 749, 'आयकनवर': 750, 'आयकर': 751, 'आयझॅक': 752, 'आयझेनहॉवर': 753, 'आयझेनहॉवरने': 754, 'आयडिया': 755, 'आयडी': 756, 'आयपॅड': 757, 'आयपॅडवर': 758, 'आयपॉडपासून': 759, 'आयफेल': 760, 'आयफोन': 761, 'आयफोनने': 762, 'आयरिश': 763, 'आयर्लंडची': 764, 'आयर्लंडपासून': 765, 'आयलंड्जवर': 766, 'आयसोप्रोपाइल': 767, 'आयात': 768, 'आयुर्विमा': 769, 'आयुष्य': 770, 'आयुष्यभर': 771, 'आयुष्याचाच': 772, 'आयुष्याची': 773, 'आयुष्याच्या': 774, 'आयुष्यात': 775, 'आयुष्यातला': 776, 'आयुष्यातली': 777, 'आयुष्यातून': 778, 'आयुष्याने': 779, 'आयोजित': 780, 'आयोवाची': 781, 'आयोवामधील': 782, 'आय्डॅहो': 783, 'आय्पॅड': 784, 'आरंभ': 785, 'आरक्षण': 786, 'आरक्षित': 787, 'आरडाओरड': 788, 'आरश्यात': 789, 'आरश्यासमोर': 790, 'आरसा': 791, 'आराम': 792, 'आरामात': 793, 'आरोग्य': 794, 'आरोग्याची': 795, 'आरोग्यापेक्षा': 796, 'आरोग्यासाठी': 797, 'आरोप': 798, 'आर्क्टिक': 799, 'आर्जेन्टीन': 800, 'आर्थिक': 801, 'आर्थिकदृष्ट्या': 802, 'आर्म': 803, 'आर्मस्ट्राँग': 804, 'आर्मीला': 805, 'आर्मेनियन': 806, 'आर्मेनिया': 807, 'आर्मेनियाची': 808, 'आलं': 809, 'आलंय': 810, 'आला': 811, 'आलात': 812, 'आलाय': 813, 'आलायस': 814, 'आलास': 815, 'आली': 816, 'आलीच': 817, 'आलीयस': 818, 'आलीस': 819, 'आले': 820, 'आलेय': 821, 'आलेलं': 822, 'आलेला': 823, 'आलेली': 824, 'आलेले': 825, 'आलेलो': 826, 'आलेल्या': 827, 'आलो': 828, 'आलोय': 829, 'आल्मवर्षेबद्दल': 830, 'आल्या': 831, 'आल्याबरोबर': 832, 'आल्यावर': 833, 'आळखता': 834, 'आळशी': 835, 'आळस': 836, 'आवड': 837, 'आवडंत': 838, 'आवडणार': 839, 'आवडत': 840, 'आवडतं': 841, 'आवडतसुद्धा': 842, 'आवडतही': 843, 'आवडता': 844, 'आवडतात': 845, 'आवडती': 846, 'आवडतील': 847, 'आवडते': 848, 'आवडतेस': 849, 'आवडतो': 850, 'आवडतोस': 851, 'आवडत्या': 852, 'आवडलं': 853, 'आवडला': 854, 'आवडली': 855, 'आवडले': 856, 'आवडल्या': 857, 'आवडायचं': 858, 'आवडायचा': 859, 'आवडायचास': 860, 'आवडायची': 861, 'आवडायचीस': 862, 'आवडायचे': 863, 'आवडीचं': 864, 'आवडीचा': 865, 'आवडीची': 866, 'आवडेल': 867, 'आवर': 868, 'आवश्यकता': 869, 'आवाज': 870, 'आवाजं': 871, 'आवाजात': 872, 'आवाजाने': 873, 'आविष्कार': 874, 'आविष्कारांमधील': 875, 'आवृत्ती': 876, 'आवेदन': 877, 'आशय': 878, 'आशा': 879, 'आशियाई': 880, 'आशियाईअमेरिकन': 881, 'आशियाच्या': 882, 'आशियात': 883, 'आशियातील': 884, 'आशियामध्ये': 885, 'आशिलचा': 886, 'आशीर्वाद': 887, 'आश्चर्य': 888, 'आश्चर्यकारक': 889, 'आश्चर्यच': 890, 'आश्चर्यचकित': 891, 'आश्चर्यजनक': 892, 'आश्चर्याची': 893, 'आश्रू': 894, 'आश्वासन': 895, 'आसन': 896, 'आसने': 897, 'आसाही': 898, 'आह': 899, 'आहात': 900, 'आहायोमध्ये': 901, 'आहार': 902, 'आहे': 903, 'आहेच': 904, 'आहेत': 905, 'आहेस': 906, 'आहोत': 907, 'आहोतच': 908, 'इंका': 909, 'इंग्रज': 910, 'इंग्रजांना': 911, 'इंग्रजांनी': 912, 'इंग्रजी': 913, 'इंग्रजीचं': 914, 'इंग्रजीचा': 915, 'इंग्रजीच्या': 916, 'इंग्रजीत': 917, 'इंग्रजीनंतर': 918, 'इंग्रजीपेक्षा': 919, 'इंग्रजीमध्ये': 920, 'इंग्रजीला': 921, 'इंग्रजीसुद्धा': 922, 'इंग्रजीही': 923, 'इंग्लंड': 924, 'इंग्लंडचं': 925, 'इंग्लंडचा': 926, 'इंग्लंडची': 927, 'इंग्लंडच्या': 928, 'इंग्लंडने': 929, 'इंग्लंडपेक्षा': 930, 'इंग्लंडमधला': 931, 'इंग्लंडमधील': 932, 'इंग्लंडमध्ये': 933, 'इंग्लंडमध्येच': 934, 'इंग्लंडला': 935, 'इंग्लंडवर': 936, 'इंग्लंडहून': 937, 'इंग्लिश': 938, 'इंच': 939, 'इंचांनी': 940, 'इंजिन': 941, 'इंजिनियर': 942, 'इंजिनीअर': 943, 'इंजिनीअरिंग': 944, 'इंजीनमध्ये': 945, 'इंजीनला': 946, 'इंटरनेट': 947, 'इंटरनेटचा': 948, 'इंटरनेटवर': 949, 'इंटरव्हलच्या': 950, 'इंटरव्ह्यू': 951, 'इंडियन्स': 952, 'इंडोनेशियाबद्दल': 953, 'इंडोयुरोपीय': 954, 'इंधन': 955, 'इंधने': 956, 'इआइदो': 957, 'इकडे': 958, 'इकडेतिकडे': 959, 'इकेर': 960, 'इग्लिश': 961, 'इच्छा': 962, 'इच्छित': 963, 'इच्छिता': 964, 'इच्छितात': 965, 'इच्छिते': 966, 'इच्छितो': 967, 'इच्छीते': 968, 'इच्छीतो': 969, 'इजिप्त': 970, 'इजिप्तमध्ये': 971, 'इजिप्तवर': 972, 'इटली': 973, 'इटलीचा': 974, 'इटलीची': 975, 'इटलीच्या': 976, 'इटलीत': 977, 'इटलीपासून': 978, 'इटलीमधील': 979, 'इटलीमध्ये': 980, 'इटलीला': 981, 'इटालियन': 982, 'इटालियनअमेरिकनांना': 983, 'इटालियनचा': 984, 'इटालियनमध्ये': 985, 'इतकं': 986, 'इतकंच': 987, 'इतकच': 988, 'इतका': 989, 'इतकी': 990, 'इतके': 991, 'इतकेच': 992, 'इतक्या': 993, 'इतक्यात': 994, 'इतपत': 995, 'इतर': 996, 'इतरांना': 997, 'इतरांप्रमाणेच': 998, 'इतरांमध्ये': 999, 'इतिहास': 1000, 'इतिहासकार': 1001, 'इतिहाससुद्धा': 1002, 'इतिहासाचं': 1003, 'इतिहासाचा': 1004, 'इतिहासाची': 1005, 'इतिहासाच्या': 1006, 'इतिहासात': 1007, 'इतिहासातला': 1008, 'इतिहासाने': 1009, 'इतिहासापेक्षा': 1010, 'इतिहासाबद्दल': 1011, 'इते': 1012, 'इथं': 1013, 'इथपर्यंत': 1014, 'इथली': 1015, 'इथल्या': 1016, 'इथियोपियन': 1017, 'इथून': 1018, 'इथे': 1019, 'इथेच': 1020, 'इथेही': 1021, 'इन': 1022, 'इनान्येज': 1023, 'इन्का': 1024, 'इन्टर्न': 1025, 'इन्स्टंट': 1026, 'इन्स्टॉल': 1027, 'इन्स्पेक्टरला': 1028, 'इमरजन्सी': 1029, 'इमानदार': 1030, 'इमारत': 1031, 'इमारती': 1032, 'इमारतींना': 1033, 'इमारतीत': 1034, 'इमारतीवर': 1035, 'इमारतीसमोर': 1036, 'इम्पोर्ट': 1037, 'इम्पोर्टेड': 1038, 'इराक': 1039, 'इराकमधील': 1040, 'इराकी': 1041, 'इराण': 1042, 'इराणचा': 1043, 'इराणमधला': 1044, 'इराणी': 1045, 'इलिनॉइ': 1046, 'इलेक्ट्रिक': 1047, 'इलेक्ट्रिकल': 1048, 'इलेक्ट्रिशियन': 1049, 'इलेक्ट्रॉनिक': 1050, 'इलेक्ट्रॉनिक्सच्या': 1051, 'इशारा': 1052, 'इशिकावाला': 1053, 'इसवी': 1054, 'इस्ट्रोजेन': 1055, 'इस्तंबूलमध्ये': 1056, 'इस्तेमाल': 1057, 'इस्त्री': 1058, 'इस्त्र्या': 1059, 'इस्पिकचा': 1060, 'इस्रायल': 1061, 'इस्रायलने': 1062, 'इस्लाम': 1063, 'इस्लामाबाद': 1064, 'इस्लामी': 1065, 'ईगो': 1066, 'ईटी': 1067, 'ईबेवर': 1068, 'ईमेल': 1069, 'ईमेलने': 1070, 'ईश्वर': 1071, 'ईश्वराचा': 1072, 'ईश्वराची': 1073, 'ईश्वराने': 1074, 'ईश्वरानेच': 1075, 'ईश्वराला': 1076, 'ईस्टरच्या': 1077, 'उंच': 1078, 'उंचावर': 1079, 'उंची': 1080, 'उंट': 1081, 'उंदरं': 1082, 'उंदरांना': 1083, 'उंदराला': 1084, 'उंदीर': 1085, 'उकळणारं': 1086, 'उकळतंय': 1087, 'उकळली': 1088, 'उकळले': 1089, 'उकळायला': 1090, 'उकळून': 1091, 'उगत': 1092, 'उगतात': 1093, 'उगम': 1094, 'उगवत': 1095, 'उगवतात': 1096, 'उगवते': 1097, 'उगवतो': 1098, 'उगवला': 1099, 'उगवली': 1100, 'उगवले': 1101, 'उगेल': 1102, 'उघड': 1103, 'उघडं': 1104, 'उघडंच': 1105, 'उघडणार': 1106, 'उघडण्याची': 1107, 'उघडण्यात': 1108, 'उघडत': 1109, 'उघडतं': 1110, 'उघडता': 1111, 'उघडतात': 1112, 'उघडताहेत': 1113, 'उघडते': 1114, 'उघडतेय': 1115, 'उघडतो': 1116, 'उघडतोय': 1117, 'उघडलं': 1118, 'उघडला': 1119, 'उघडली': 1120, 'उघडले': 1121, 'उघडल्या': 1122, 'उघडा': 1123, 'उघडायचं': 1124, 'उघडायचा': 1125, 'उघडायला': 1126, 'उघडी': 1127, 'उघडीच': 1128, 'उघडू': 1129, 'उघडून': 1130, 'उघडे': 1131, 'उघड्या': 1132, 'उघड्याच': 1133, 'उचल': 1134, 'उचलत': 1135, 'उचलता': 1136, 'उचलला': 1137, 'उचलली': 1138, 'उचलल्या': 1139, 'उचला': 1140, 'उचलायला': 1141, 'उचलू': 1142, 'उचलून': 1143, 'उच्चार': 1144, 'उच्चारताही': 1145, 'उच्चारही': 1146, 'उच्चारात': 1147, 'उच्चारायला': 1148, 'उजळ': 1149, 'उजवा': 1150, 'उजवीकडून': 1151, 'उजवीकडे': 1152, 'उजव्या': 1153, 'उज्ज्वल': 1154, 'उठत': 1155, 'उठता': 1156, 'उठतात': 1157, 'उठते': 1158, 'उठतेस': 1159, 'उठतो': 1160, 'उठतोस': 1161, 'उठला': 1162, 'उठलात': 1163, 'उठलास': 1164, 'उठली': 1165, 'उठलीस': 1166, 'उठले': 1167, 'उठलेलास': 1168, 'उठलो': 1169, 'उठल्या': 1170, 'उठव': 1171, 'उठवलं': 1172, 'उठवले': 1173, 'उठवशील': 1174, 'उठवा': 1175, 'उठवाल': 1176, 'उठायचा': 1177, 'उठायची': 1178, 'उठायच्या': 1179, 'उठाव': 1180, 'उठावल्या': 1181, 'उठून': 1182, 'उठेन': 1183, 'उठेल': 1184, 'उडत': 1185, 'उडता': 1186, 'उडतात': 1187, 'उडताना': 1188, 'उडतो': 1189, 'उडतोय': 1190, 'उडवणं': 1191, 'उडवत': 1192, 'उडवतात': 1193, 'उडवते': 1194, 'उडवतो': 1195, 'उडवली': 1196, 'उडवले': 1197, 'उडवायची': 1198, 'उडवू': 1199, 'उडायला': 1200, 'उडालं': 1201, 'उडाली': 1202, 'उडी': 1203, 'उडू': 1204, 'उडून': 1205, 'उतर': 1206, 'उतरणारा': 1207, 'उतरते': 1208, 'उतरतो': 1209, 'उतरलं': 1210, 'उतरला': 1211, 'उतरली': 1212, 'उतरले': 1213, 'उतरल्या': 1214, 'उतरवलं': 1215, 'उतरायचं': 1216, 'उतरून': 1217, 'उतरेन': 1218, 'उतारा': 1219, 'उत्कृष्ट': 1220, 'उत्तम': 1221, 'उत्तर': 1222, 'उत्तरं': 1223, 'उत्तरभागात': 1224, 'उत्तरला': 1225, 'उत्तराची': 1226, 'उत्तरे': 1227, 'उत्तरेकडे': 1228, 'उत्तरेच्या': 1229, 'उत्तरेपासून': 1230, 'उत्तरेला': 1231, 'उत्तेजित': 1232, 'उत्पन्न': 1233, 'उत्पादन': 1234, 'उत्पादनात': 1235, 'उत्सव': 1236, 'उत्सवात': 1237, 'उत्साहित': 1238, 'उत्सुक': 1239, 'उदारमतवादी': 1240, 'उदास': 1241, 'उदाहरण': 1242, 'उदाहरणार्थ': 1243, 'उद्देश': 1244, 'उद्धट': 1245, 'उद्धटपणे': 1246, 'उद्या': 1247, 'उद्याचं': 1248, 'उद्याची': 1249, 'उद्याचे': 1250, 'उद्याच्या': 1251, 'उद्यान': 1252, 'उद्यानदेखील': 1253, 'उद्यानही': 1254, 'उद्यानांमध्ये': 1255, 'उद्यानाच्या': 1256, 'उद्यानात': 1257, 'उद्यानाला': 1258, 'उद्याने': 1259, 'उद्यापर्यंत': 1260, 'उद्यापासून': 1261, 'उद्याला': 1262, 'उद्योग': 1263, 'उद्योगात': 1264, 'उद्योजक': 1265, 'उधारीवर': 1266, 'उध्वस्त': 1267, 'उनके': 1268, 'उन्हात': 1269, 'उन्हाळा': 1270, 'उन्हाळ्याचा': 1271, 'उन्हाळ्याची': 1272, 'उन्हाळ्याच्या': 1273, 'उन्हाळ्यात': 1274, 'उन्हाळ्यातला': 1275, 'उन्हें': 1276, 'उन्होंने': 1277, 'उपग्रह': 1278, 'उपग्रहांना': 1279, 'उपचाराची': 1280, 'उपयोग': 1281, 'उपयोगी': 1282, 'उपलब्ध': 1283, 'उपलब्धता': 1284, 'उपस्थित': 1285, 'उपाय': 1286, 'उपाशी': 1287, 'उपास': 1288, 'उबुंटु': 1289, 'उभं': 1290, 'उभा': 1291, 'उभाच': 1292, 'उभी': 1293, 'उभीच': 1294, 'उभे': 1295, 'उभ्या': 1296, 'उमेदवार': 1297, 'उरतील': 1298, 'उरलं': 1299, 'उरलंच': 1300, 'उरलंय': 1301, 'उरला': 1302, 'उरली': 1303, 'उरले': 1304, 'उरलेलं': 1305, 'उरलेला': 1306, 'उरलेली': 1307, 'उर्जेचा': 1308, 'उलट': 1309, 'उलटं': 1310, 'उलटच': 1311, 'उलटसुलट': 1312, 'उलटी': 1313, 'उलानबातर': 1314, 'उल्टं': 1315, 'उल्लेख': 1316, 'उल्लेखनीय': 1317, 'उशिर': 1318, 'उशिरा': 1319, 'उशी': 1320, 'उशीत': 1321, 'उशीर': 1322, 'उशीरा': 1323, 'उशीरापर्यंत': 1324, 'उश्या': 1325, 'उष्णता': 1326, 'ऊठ': 1327, 'ऊठलो': 1328, 'ऊठा': 1329, 'ऊन': 1330, 'ऊभी': 1331, 'ऊभे': 1332, 'ऊलाँग': 1333, 'ऋतू': 1334, 'ऋतूत': 1335, 'ऋतूला': 1336, 'ए': 1337, 'एंगेज्ड': 1338, 'एअर': 1339, 'एअरकंडिशनर': 1340, 'एअरपोर्टला': 1341, 'एअरबॅग': 1342, 'एअरलाइन्सचं': 1343, 'एक': 1344, 'एकएक': 1345, 'एकच': 1346, 'एकटं': 1347, 'एकटक': 1348, 'एकटा': 1349, 'एकटाच': 1350, 'एकटी': 1351, 'एकटीच': 1352, 'एकटीने': 1353, 'एकटे': 1354, 'एकट्या': 1355, 'एकट्याच': 1356, 'एकट्याने': 1357, 'एकट्यानेच': 1358, 'एकतर': 1359, 'एकता': 1360, 'एकतीस': 1361, 'एकत्र': 1362, 'एकत्रित': 1363, 'एकदम': 1364, 'एकदमच': 1365, 'एकदा': 1366, 'एकदाच': 1367, 'एकदातरी': 1368, 'एकदाही': 1369, 'एकदुसर्\\u200dयाच्या': 1370, 'एकदुसर्\\u200dयाला': 1371, 'एकदुसर्\\u200dयाशी': 1372, 'एकदोन': 1373, 'एकदोनदा': 1374, 'एकपासून': 1375, 'एकमत': 1376, 'एकमात्र': 1377, 'एकमेकांकडे': 1378, 'एकमेकांची': 1379, 'एकमेकांचे': 1380, 'एकमेकांच्या': 1381, 'एकमेकांना': 1382, 'एकमेकांबद्दल': 1383, 'एकमेकांबरोबर': 1384, 'एकमेकांवर': 1385, 'एकमेकांशी': 1386, 'एकमेकांसोबत': 1387, 'एकमेकींना': 1388, 'एकमेात्र': 1389, 'एकर': 1390, 'एकसमान': 1391, 'एकसारखाच': 1392, 'एकसारखी': 1393, 'एकसारखेच': 1394, 'एकसारख्याच': 1395, 'एकसुद्धा': 1396, 'एकही': 1397, 'एका': 1398, 'एकाच': 1399, 'एकाचा': 1400, 'एकाची': 1401, 'एकानंतर': 1402, 'एकानेच': 1403, 'एकापेक्षा': 1404, 'एकाला': 1405, 'एकासारखेच': 1406, 'एकाही': 1407, 'एकुाडोरचा': 1408, 'एकूण': 1409, 'एके': 1410, 'एकेकाळी': 1411, 'एकेश्वरवादी': 1412, 'एक्का': 1413, 'एक्के': 1414, 'एक्सगर्लफ्रेंड': 1415, 'एक्सप्रेस': 1416, 'एक्सफाइल्सचा': 1417, 'एक्सबॉक्ससाठी': 1418, 'एक्सेल': 1419, 'एक्स्टर्नल': 1420, 'एक्स्टेन्शन': 1421, 'एखादं': 1422, 'एखादा': 1423, 'एखादी': 1424, 'एखादे': 1425, 'एखाद्या': 1426, 'एजन्सीमध्ये': 1427, 'एडिटर': 1428, 'एडिटिंग': 1429, 'एथन्स': 1430, 'एनव्हलप': 1431, 'एन्क्रिप्टेड': 1432, 'एपिसोड': 1433, 'एप्रनने': 1434, 'एप्रिल': 1435, 'एप्रिलच्या': 1436, 'एप्रिलमध्ये': 1437, 'एप्रिलला': 1438, 'एफएक्यू': 1439, 'एमपीथ्री': 1440, 'एमबीए': 1441, 'एम्पायर': 1442, 'एम्पीथ्री': 1443, 'एलव्हिस': 1444, 'एलिझाबेथ': 1445, 'एल्क': 1446, 'एवढं': 1447, 'एवढंच': 1448, 'एवढच': 1449, 'एवढा': 1450, 'एवढी': 1451, 'एवढीच': 1452, 'एवढे': 1453, 'एवढ्या': 1454, 'एशियनअमेरिकन': 1455, 'एसएमएस': 1456, 'एस्पेरांतोचा': 1457, 'एस्पेरांतोचे': 1458, 'एस्पेरांतोमध्ये': 1459, 'ए१००': 1460, 'ऐंशी': 1461, 'ऐक': 1462, 'ऐकणार': 1463, 'ऐकण्यात': 1464, 'ऐकण्यालायक': 1465, 'ऐकण्यास': 1466, 'ऐकत': 1467, 'ऐकतंय': 1468, 'ऐकतच': 1469, 'ऐकतसुद्धा': 1470, 'ऐकता': 1471, 'ऐकतात': 1472, 'ऐकताना': 1473, 'ऐकताय': 1474, 'ऐकतायत': 1475, 'ऐकताहेत': 1476, 'ऐकते': 1477, 'ऐकतेय': 1478, 'ऐकतेयस': 1479, 'ऐकतेस': 1480, 'ऐकतो': 1481, 'ऐकतोय': 1482, 'ऐकतोयस': 1483, 'ऐकतोस': 1484, 'ऐकलं': 1485, 'ऐकलंय': 1486, 'ऐकलंस': 1487, 'ऐकलंही': 1488, 'ऐकला': 1489, 'ऐकली': 1490, 'ऐकलीत': 1491, 'ऐकलीस': 1492, 'ऐकल्यावर': 1493, 'ऐकशील': 1494, 'ऐका': 1495, 'ऐकायचं': 1496, 'ऐकायचा': 1497, 'ऐकायची': 1498, 'ऐकायला': 1499, 'ऐकाल': 1500, 'ऐकुया': 1501, 'ऐकू': 1502, 'ऐकून': 1503, 'ऐकूया': 1504, 'ऐकेन': 1505, 'ऐतिहासिकदृष्ट्या': 1506, 'ऐवजी': 1507, 'ऑइल': 1508, 'ऑइलची': 1509, 'ऑकलँड': 1510, 'ऑकलँडमध्ये': 1511, 'ऑक्टोपस': 1512, 'ऑक्टोबर': 1513, 'ऑक्टोबरच्या': 1514, 'ऑक्टोबरपर्यंत': 1515, 'ऑक्टोबरमध्ये': 1516, 'ऑक्टोबरला': 1517, 'ऑक्सफोर्ड': 1518, 'ऑक्सफोर्डला': 1519, 'ऑगस्टमध्ये': 1520, 'ऑगस्टला': 1521, 'ऑगस्टा': 1522, 'ऑट्टो': 1523, 'ऑडिओ': 1524, 'ऑडियो': 1525, 'ऑडियोबुक': 1526, 'ऑडिशन': 1527, 'ऑन': 1528, 'ऑनड्यूटी': 1529, 'ऑनलाइन': 1530, 'ऑनलाईन': 1531, 'ऑपरेशन': 1532, 'ऑपरेशनबद्दल': 1533, 'ऑपेरा': 1534, 'ऑफ': 1535, 'ऑफलाइन': 1536, 'ऑफिस': 1537, 'ऑफिसची': 1538, 'ऑफिसपेक्षा': 1539, 'ऑफिसमधला': 1540, 'ऑफिसमधून': 1541, 'ऑफिसमध्ये': 1542, 'ऑफिसमध्येच': 1543, 'ऑफिसर': 1544, 'ऑफिसरच्या': 1545, 'ऑफिसला': 1546, 'ऑफिसात': 1547, 'ऑयस्टर': 1548, 'ऑरगॅनिक': 1549, 'ऑर्गन': 1550, 'ऑर्गनिस्ट': 1551, 'ऑलिंपिक': 1552, 'ऑलिम्पिक': 1553, 'ऑल्बनीपासून': 1554, 'ऑसवल्ड': 1555, 'ऑस्कर्स': 1556, 'ऑस्ट्रियन': 1557, 'ऑस्ट्रियाचेसुद्धा': 1558, 'ऑस्ट्रेलियन': 1559, 'ऑस्ट्रेलिया': 1560, 'ऑस्ट्रेलियाचं': 1561, 'ऑस्ट्रेलियाचा': 1562, 'ऑस्ट्रेलियाची': 1563, 'ऑस्ट्रेलियाचे': 1564, 'ऑस्ट्रेलियाच्या': 1565, 'ऑस्ट्रेलियात': 1566, 'ऑस्ट्रेलियातच': 1567, 'ऑस्ट्रेलियातसुद्धा': 1568, 'ऑस्ट्रेलियातील': 1569, 'ऑस्ट्रेलियापासून': 1570, 'ऑस्ट्रेलियाबद्दल': 1571, 'ऑस्ट्रेलियाबद्दलचं': 1572, 'ऑस्ट्रेलियामधील': 1573, 'ऑस्ट्रेलियामध्ये': 1574, 'ऑस्ट्रेलियाला': 1575, 'ऑस्ट्रेलियाहून': 1576, 'ऑस्लो': 1577, 'ओ': 1578, 'ओंडक्यांचे': 1579, 'ओकिनावामधील': 1580, 'ओकिनावामध्ये': 1581, 'ओझाकीइतका': 1582, 'ओटावा': 1583, 'ओठ': 1584, 'ओडेटचा': 1585, 'ओढता': 1586, 'ओढतात': 1587, 'ओढते': 1588, 'ओढतेस': 1589, 'ओढतो': 1590, 'ओढतोस': 1591, 'ओढायचा': 1592, 'ओतलं': 1593, 'ओतला': 1594, 'ओतली': 1595, 'ओतलेली': 1596, 'ओतून': 1597, 'ओनिगिरि': 1598, 'ओप्राह': 1599, 'ओबामा': 1600, 'ओबामाला': 1601, 'ओबिहिरोला': 1602, 'ओबो': 1603, 'ओरडणं': 1604, 'ओरडण्याचा': 1605, 'ओरडत': 1606, 'ओरडताहेत': 1607, 'ओरडतो': 1608, 'ओरडलं': 1609, 'ओरडला': 1610, 'ओरडले': 1611, 'ओरडलो': 1612, 'ओरडल्या': 1613, 'ओरडायची': 1614, 'ओरडायचे': 1615, 'ओरडायला': 1616, 'ओरडू': 1617, 'ओरडून': 1618, 'ओलं': 1619, 'ओलसर': 1620, 'ओला': 1621, 'ओलांडताना': 1622, 'ओलांडला': 1623, 'ओलांडू': 1624, 'ओली': 1625, 'ओले': 1626, 'ओळ': 1627, 'ओळख': 1628, 'ओळखत': 1629, 'ओळखतही': 1630, 'ओळखता': 1631, 'ओळखतात': 1632, 'ओळखते': 1633, 'ओळखतेस': 1634, 'ओळखतो': 1635, 'ओळखतोच': 1636, 'ओळखतोस': 1637, 'ओळखलं': 1638, 'ओळखलंच': 1639, 'ओळखलंत': 1640, 'ओळखलंस': 1641, 'ओळखला': 1642, 'ओळखायचे': 1643, 'ओळखायचो': 1644, 'ओळखीचा': 1645, 'ओळखीची': 1646, 'ओळखीचे': 1647, 'ओळखीच्या': 1648, 'ओळखीतला': 1649, 'ओळखीतल्या': 1650, 'ओळखू': 1651, 'ओळखून': 1652, 'ओळी': 1653, 'ओव्हन': 1654, 'ओव्हनचा': 1655, 'ओव्हनमध्ये': 1656, 'ओव्हर्डोझ': 1657, 'ओसाका': 1658, 'ओसाकाजवळ': 1659, 'ओसाकापासून': 1660, 'ओसाकामध्ये': 1661, 'ओसाकाला': 1662, 'ओस्मानी': 1663, 'ओहायेमध्ये': 1664, 'ओहायोमध्ये': 1665, 'औंस': 1666, 'औद्यागिक': 1667, 'औद्योगिक': 1668, 'औद्योगिकरण': 1669, 'औपचारिक': 1670, 'औषद': 1671, 'औषध': 1672, 'औषधं': 1673, 'औषधविक्रेत्याकडे': 1674, 'औषधविक्रेत्याच्या': 1675, 'औषधांची': 1676, 'औषधांपासून': 1677, 'औषधांमध्ये': 1678, 'औषधांविरुद्ध': 1679, 'औषधाची': 1680, 'औषधाने': 1681, 'औषधालयात': 1682, 'कँडी': 1683, 'कँपरला': 1684, 'कँपसवर': 1685, 'कँपिंग': 1686, 'कँसरमुळे': 1687, 'कंटाळला': 1688, 'कंटाळलेला': 1689, 'कंटाळलेले': 1690, 'कंटाळवाणं': 1691, 'कंटाळवाणा': 1692, 'कंटाळा': 1693, 'कंट्री': 1694, 'कंट्रोल': 1695, 'कंडिशनर': 1696, 'कंदील': 1697, 'कंपनी': 1698, 'कंपनीचा': 1699, 'कंपनीच्या': 1700, 'कंपनीत': 1701, 'कंपनीने': 1702, 'कंपनीला': 1703, 'कंपनीसाठी': 1704, 'कंपन्या': 1705, 'कंप्युटर': 1706, 'कंप्युटरची': 1707, 'कंप्यूटर': 1708, 'कंप्यूटरच': 1709, 'कचरा': 1710, 'कचरापेटीच्या': 1711, 'कचर्\\u200dयात': 1712, 'कचेरीत': 1713, 'कच्चं': 1714, 'कच्चा': 1715, 'कच्चे': 1716, 'कच्च्या': 1717, 'कठीण': 1718, 'कठोर': 1719, 'कडक': 1720, 'कडवट': 1721, 'कडू': 1722, 'कडेला': 1723, 'कण्हला': 1724, 'कथा': 1725, 'कथांचा': 1726, 'कथीड्रल': 1727, 'कदाचित': 1728, 'कधी': 1729, 'कधीकधी': 1730, 'कधीच': 1731, 'कधीतरी': 1732, 'कधीनाकधी': 1733, 'कधीपर्यंत': 1734, 'कधीपासून': 1735, 'कधीही': 1736, 'कनेरी': 1737, 'कन्ट्री': 1738, 'कन्सल्टंट': 1739, 'कप': 1740, 'कपं': 1741, 'कपकेक': 1742, 'कपकेकवर': 1743, 'कपडा': 1744, 'कपडे': 1745, 'कपड्यांचं': 1746, 'कपड्यांची': 1747, 'कपड्यांच्या': 1748, 'कपड्यांमध्ये': 1749, 'कपड्यांवर': 1750, 'कपड्याने': 1751, 'कपमधून': 1752, 'कपमध्ये': 1753, 'कपांपेक्षा': 1754, 'कपांमध्ये': 1755, 'कपाटातून': 1756, 'कपात': 1757, 'कपाळावरचा': 1758, 'कबर': 1759, 'कबरेवर': 1760, 'कबुतर': 1761, 'कबुतरांचा': 1762, 'कबुतरांची': 1763, 'कबुली': 1764, 'कबुलीवर': 1765, 'कबूल': 1766, 'कमलने': 1767, 'कमवण्यासाठी': 1768, 'कमवत': 1769, 'कमवतात': 1770, 'कमवते': 1771, 'कमवतो': 1772, 'कमवला': 1773, 'कमवले': 1774, 'कमवायचे': 1775, 'कमांडर': 1776, 'कमाल': 1777, 'कमालने': 1778, 'कमावणं': 1779, 'कमावते': 1780, 'कमावतो': 1781, 'कमावले': 1782, 'कमी': 1783, 'कमीच': 1784, 'कमीतकमी': 1785, 'कमेंट': 1786, 'कम्प्युटर': 1787, 'कम्प्युटरमध्ये': 1788, 'कम्प्युटरला': 1789, 'कम्प्यूटर': 1790, 'कम्प्यूटरमधून': 1791, 'कम्प्यूटरमध्ये': 1792, 'कम्प्यूटरवर': 1793, 'कम्प्यूटरशिवाय': 1794, 'कम्प्यूटरसमोर': 1795, 'कम्प्यूटिंग': 1796, 'कर': 1797, 'करणं': 1798, 'करणंही': 1799, 'करणार': 1800, 'करणारच': 1801, 'करणारा': 1802, 'करणारी': 1803, 'करणार्\\u200dया': 1804, 'करणे': 1805, 'करण्याआधी': 1806, 'करण्याइतपत': 1807, 'करण्याऐवजी': 1808, 'करण्याकरिता': 1809, 'करण्याचं': 1810, 'करण्याचा': 1811, 'करण्याची': 1812, 'करण्याचे': 1813, 'करण्याच्या': 1814, 'करण्यात': 1815, 'करण्यापुरते': 1816, 'करण्यापेक्षा': 1817, 'करण्याशिवाय': 1818, 'करण्यास': 1819, 'करण्यासाठी': 1820, 'करण्यासारखं': 1821, 'करण्यासारखी': 1822, 'करत': 1823, 'करतं': 1824, 'करतंय': 1825, 'करतच': 1826, 'करता': 1827, 'करतात': 1828, 'करताना': 1829, 'करताय': 1830, 'करताहात': 1831, 'करताहेत': 1832, 'करतील': 1833, 'करते': 1834, 'करतेय': 1835, 'करतेयस': 1836, 'करतेस': 1837, 'करतो': 1838, 'करतोय': 1839, 'करतोयस': 1840, 'करतोस': 1841, 'करप्ट': 1842, 'करमणूक': 1843, 'करवादला': 1844, 'करवून': 1845, 'करशील': 1846, 'करा': 1847, 'कराटे': 1848, 'कराटेमध्ये': 1849, 'करायचं': 1850, 'करायचंच': 1851, 'करायचंय': 1852, 'करायचस': 1853, 'करायचा': 1854, 'करायचाय': 1855, 'करायची': 1856, 'करायचे': 1857, 'करायचो': 1858, 'करायच्या': 1859, 'करायला': 1860, 'करायलाच': 1861, 'करायलासुद्धा': 1862, 'करायलाही': 1863, 'करार': 1864, 'कराराने': 1865, 'कराराला': 1866, 'करारावर': 1867, 'कराल': 1868, 'करावं': 1869, 'करावंसं': 1870, 'करावा': 1871, 'करावासा': 1872, 'करावी': 1873, 'करावीशी': 1874, 'करावे': 1875, 'करिमाने': 1876, 'करी': 1877, 'करुया': 1878, 'करू': 1879, 'करूच': 1880, 'करूतं': 1881, 'करून': 1882, 'करूनकरून': 1883, 'करूनही': 1884, 'करूया': 1885, 'करूस': 1886, 'करे': 1887, 'करेन': 1888, 'करेपर्यंत': 1889, 'करेल': 1890, 'करो': 1891, 'करोड': 1892, 'कर्क': 1893, 'कर्कगोग': 1894, 'कर्करोग': 1895, 'कर्करोगाबद्दल': 1896, 'कर्करोगामुळे': 1897, 'कर्करोगाला': 1898, 'कर्ज': 1899, 'कर्जाची': 1900, 'कर्जावर': 1901, 'कर्जे': 1902, 'कर्णधार': 1903, 'कर्तव्य': 1904, 'कर्मचारी': 1905, 'कर्मचार्\\u200dयांकडे': 1906, 'कर्व्ह': 1907, 'कर्सर': 1908, 'कलकत्ता': 1909, 'कलकत्त्याला': 1910, 'कला': 1911, 'कलाकार': 1912, 'कलाकारांना': 1913, 'कलाकारांमधील': 1914, 'कलात्मक': 1915, 'कलासंग्रहालयाला': 1916, 'कलिंगड': 1917, 'कलेच्या': 1918, 'कल्पना': 1919, 'कल्पनाशक्ती': 1920, 'कल्पनेचा': 1921, 'कळणार': 1922, 'कळत': 1923, 'कळतं': 1924, 'कळतंय': 1925, 'कळतच': 1926, 'कळता': 1927, 'कळते': 1928, 'कळतो': 1929, 'कळलं': 1930, 'कळला': 1931, 'कळली': 1932, 'कळव': 1933, 'कळवण्यात': 1934, 'कळवलं': 1935, 'कळवा': 1936, 'कळवायचं': 1937, 'कळवू': 1938, 'कळवेन': 1939, 'कळवेल': 1940, 'कळू': 1941, 'कळून': 1942, 'कळेपर्यंत': 1943, 'कळेल': 1944, 'कवटी': 1945, 'कवयित्री': 1946, 'कविता': 1947, 'कवितेचं': 1948, 'कवितेचा': 1949, 'कवितेची': 1950, 'कवी': 1951, 'कवींमधला': 1952, 'कवींवर': 1953, 'कवीने': 1954, 'कव्हरवर': 1955, 'कशा': 1956, 'कशाकरता': 1957, 'कशाकरिता': 1958, 'कशाचं': 1959, 'कशाचा': 1960, 'कशाचाही': 1961, 'कशाची': 1962, 'कशाचीच': 1963, 'कशाचीतरी': 1964, 'कशाचीही': 1965, 'कशाने': 1966, 'कशाबद्दल': 1967, 'कशाबद्दलही': 1968, 'कशामुळे': 1969, 'कशाला': 1970, 'कशालाही': 1971, 'कशावर': 1972, 'कशावरही': 1973, 'कशावरून': 1974, 'कशाविषयी': 1975, 'कशासाठी': 1976, 'कशी': 1977, 'कशे': 1978, 'कश्या': 1979, 'कश्याचा': 1980, 'कश्याचीच': 1981, 'कश्याचीही': 1982, 'कश्याने': 1983, 'कश्यावर': 1984, 'कष्टाळू': 1985, 'कसं': 1986, 'कसंतरी': 1987, 'कसंतरीच': 1988, 'कसतरीच': 1989, 'कसलं': 1990, 'कसला': 1991, 'कसलातरी': 1992, 'कसलाही': 1993, 'कसली': 1994, 'कसलीही': 1995, 'कसल्यातरी': 1996, 'कसल्याही': 1997, 'कसा': 1998, 'कसे': 1999, 'का': 2000, 'काँक्लिंगने': 2001, 'काँगापेक्षा': 2002, 'काँगोच्या': 2003, 'काँग्रेसने': 2004, 'काँट्रॅक्ट': 2005, 'काँट्रॅक्टवर': 2006, 'काँप्रेस': 2007, 'कांगारू': 2008, 'कांदे': 2009, 'कांद्यांचा': 2010, 'कांद्यांची': 2011, 'कांद्यांशिवाय': 2012, 'कांद्याचं': 2013, 'काइझर': 2014, 'काउंटर': 2015, 'काउबॉय': 2016, 'काकडी': 2017, 'काकड्या': 2018, 'काका': 2019, 'काकांचं': 2020, 'काकांची': 2021, 'काकांच्या': 2022, 'काकांना': 2023, 'काकांनी': 2024, 'काकांने': 2025, 'काकांसोबत': 2026, 'काकाने': 2027, 'काकी': 2028, 'काकीबरोबर': 2029, 'काकीला': 2030, 'काकीसारखी': 2031, 'कागद': 2032, 'कागदपत्र': 2033, 'कागदाचा': 2034, 'कागदाची': 2035, 'कागदाच्या': 2036, 'कागदाला': 2037, 'कागदावर': 2038, 'कागदी': 2039, 'कागोशिमाला': 2040, 'काच': 2041, 'काचेच्या': 2042, 'काचेत': 2043, 'काचेवर': 2044, 'काटा': 2045, 'काटे': 2046, 'काट्यांचा': 2047, 'काठी': 2048, 'काठीने': 2049, 'काढ': 2050, 'काढणं': 2051, 'काढणार': 2052, 'काढण्याचा': 2053, 'काढत': 2054, 'काढता': 2055, 'काढतात': 2056, 'काढतील': 2057, 'काढते': 2058, 'काढतेयस': 2059, 'काढतेस': 2060, 'काढतोय': 2061, 'काढतोयस': 2062, 'काढतोस': 2063, 'काढलं': 2064, 'काढला': 2065, 'काढली': 2066, 'काढलीत': 2067, 'काढलीस': 2068, 'काढले': 2069, 'काढलेत': 2070, 'काढलेला': 2071, 'काढलेस': 2072, 'काढल्या': 2073, 'काढल्यानंतर': 2074, 'काढा': 2075, 'काढायचं': 2076, 'काढायचा': 2077, 'काढायचाय': 2078, 'काढायची': 2079, 'काढायला': 2080, 'काढावा': 2081, 'काढू': 2082, 'काढून': 2083, 'काढूया': 2084, 'काढेन': 2085, 'काढेल': 2086, 'कात': 2087, 'कातर': 2088, 'कातो': 2089, 'कादंबरी': 2090, 'कादंबरीकार': 2091, 'कादंबरीकारसुद्धा': 2092, 'कादंबरीचं': 2093, 'कादंबरीचा': 2094, 'कादंबरीच्या': 2095, 'कादंबरीने': 2096, 'कादंबर्\\u200dया': 2097, 'कादंबर्\\u200dयादेखील': 2098, 'कादंबर्\\u200dयासुद्धा': 2099, 'कान': 2100, 'कानातले': 2101, 'कानातून': 2102, 'कान्जी': 2103, 'कान्जींचा': 2104, 'कान्जीचा': 2105, 'कान्जीसुद्धा': 2106, 'काप': 2107, 'कापड': 2108, 'कापत': 2109, 'कापतं': 2110, 'कापताहेत': 2111, 'कापते': 2112, 'कापतो': 2113, 'कापतोय': 2114, 'कापरी': 2115, 'कापलं': 2116, 'कापला': 2117, 'कापली': 2118, 'कापले': 2119, 'कापलेल्या': 2120, 'कापसाचा': 2121, 'कापा': 2122, 'कापायचं': 2123, 'कापू': 2124, 'कापून': 2125, 'काफ्काने': 2126, 'काबुकी': 2127, 'काबूल': 2128, 'काम': 2129, 'कामं': 2130, 'कामगार': 2131, 'कामगारांची': 2132, 'कामगारांना': 2133, 'कामा': 2134, 'कामाचं': 2135, 'कामाचा': 2136, 'कामाची': 2137, 'कामाचे': 2138, 'कामाच्या': 2139, 'कामात': 2140, 'कामानंतर': 2141, 'कामाने': 2142, 'कामाबद्दल': 2143, 'कामाला': 2144, 'कामावर': 2145, 'काय': 2146, 'कायकाय': 2147, 'कायदा': 2148, 'कायदे': 2149, 'कायदेशीर': 2150, 'कायद्याचा': 2151, 'कायद्याच्या': 2152, 'कायद्याबाबत': 2153, 'कायद्याला': 2154, 'कायद्याविषयी': 2155, 'कायम': 2156, 'कायमचा': 2157, 'कायमची': 2158, 'कार': 2159, 'कारखाना': 2160, 'कारखाने': 2161, 'कारखान्यात': 2162, 'कारण': 2163, 'कारणांसाठी': 2164, 'काराओकेचा': 2165, 'कारागृहात': 2166, 'कार्टर': 2167, 'कार्टून': 2168, 'कार्ड': 2169, 'कार्डबरोबर': 2170, 'कार्डिफमध्ये': 2171, 'कार्डियोलॉजिस्ट': 2172, 'कार्पेट': 2173, 'कार्यकर्ता': 2174, 'कार्यक्रम': 2175, 'कार्यक्रमांचा': 2176, 'कार्यालय': 2177, 'कार्ल': 2178, 'काल': 2179, 'कालच': 2180, 'कालचं': 2181, 'कालचा': 2182, 'कालचे': 2183, 'कालच्या': 2184, 'कालच्यापेक्षा': 2185, 'कालवं': 2186, 'काल्पनिक': 2187, 'काळ': 2188, 'काळं': 2189, 'काळजी': 2190, 'काळा': 2191, 'काळात': 2192, 'काळापासून': 2193, 'काळी': 2194, 'काळीमीरी': 2195, 'काळे': 2196, 'काळोख': 2197, 'काळोखात': 2198, 'काळ्या': 2199, 'कावळा': 2200, 'कावळे': 2201, 'कावळ्याने': 2202, 'कावागोएला': 2203, 'काव्य': 2204, 'काव्याचे': 2205, 'काव्येचा': 2206, 'कासवांना': 2207, 'कासिल्लास': 2208, 'कास्त्रोचं': 2209, 'कास्सिनोला': 2210, 'काही': 2211, 'काहींचा': 2212, 'काहींनी': 2213, 'काहींमध्ये': 2214, 'काहींसाठी': 2215, 'काहीच': 2216, 'काहीतरी': 2217, 'काहीना': 2218, 'काहीनाकाही': 2219, 'काहीही': 2220, 'किंग्डमचा': 2221, 'किंचाळ': 2222, 'किंचाळणं': 2223, 'किंचाळत': 2224, 'किंचाळतंय': 2225, 'किंचाळता': 2226, 'किंचाळताना': 2227, 'किंचाळताहेत': 2228, 'किंचाळतोय': 2229, 'किंचाळला': 2230, 'किंचाळली': 2231, 'किंचाळले': 2232, 'किंचाळलो': 2233, 'किंचाळल्या': 2234, 'किंचाळू': 2235, 'किंचाळेन': 2236, 'किंचाळेल': 2237, 'किंमत': 2238, 'किंमती': 2239, 'किंमतीत': 2240, 'किंवा': 2241, 'किचन': 2242, 'किचनमधला': 2243, 'किचनमध्ये': 2244, 'किचनला': 2245, 'किटलीतलं': 2246, 'किडनी': 2247, 'किडा': 2248, 'किडे': 2249, 'किड्नॅप': 2250, 'किड्यांच्या': 2251, 'कितवा': 2252, 'कितवीत': 2253, 'किती': 2254, 'कितीला': 2255, 'कितीही': 2256, 'कित्येक': 2257, 'किनार्\\u200dयावर': 2258, 'किन्शासा': 2259, 'किमती': 2260, 'किमतीत': 2261, 'किमान': 2262, 'किमोनो': 2263, 'किलवरचा': 2264, 'किलो': 2265, 'किलोग्रामपेक्षा': 2266, 'किलोच्या': 2267, 'किलोपेक्षा': 2268, 'किलोमीटर': 2269, 'किलोमीटरमध्ये': 2270, 'किलोमीटरवर': 2271, 'किल्ट': 2272, 'किल्ला': 2273, 'किल्ले': 2274, 'किल्ल्यांची': 2275, 'किल्ल्यात': 2276, 'किल्ल्यासाठी': 2277, 'किळस': 2278, 'किस': 2279, 'किसलेलं': 2280, 'किसही': 2281, 'किसिंजर': 2282, 'किसून': 2283, 'की': 2284, 'कीडे': 2285, 'कीबोर्ड': 2286, 'कीबोर्डची': 2287, 'कुंपणावरून': 2288, 'कुंपणेवरून': 2289, 'कुकर': 2290, 'कुकी': 2291, 'कुजबुजत': 2292, 'कुजबुजताना': 2293, 'कुटुंब': 2294, 'कुटुंबच': 2295, 'कुटुंबांचे': 2296, 'कुटुंबाचा': 2297, 'कुटुंबाची': 2298, 'कुटुंबात': 2299, 'कुटुंबातला': 2300, 'कुटुंबातली': 2301, 'कुटुंबातले': 2302, 'कुटुंबाबद्दल': 2303, 'कुटुंबाबरोबर': 2304, 'कुटुंबामधील': 2305, 'कुटुंबाला': 2306, 'कुटुंबासाठी': 2307, 'कुटुंबासोबत': 2308, 'कुटुंबीय': 2309, 'कुठचा': 2310, 'कुठची': 2311, 'कुठचे': 2312, 'कुठून': 2313, 'कुठे': 2314, 'कुठेच': 2315, 'कुठेतरी': 2316, 'कुठेय': 2317, 'कुठेयत': 2318, 'कुठेही': 2319, 'कुणीतरी': 2320, 'कुतुबमिनार': 2321, 'कुत्रा': 2322, 'कुत्री': 2323, 'कुत्रीचं': 2324, 'कुत्रीची': 2325, 'कुत्रीला': 2326, 'कुत्रे': 2327, 'कुत्र्यांची': 2328, 'कुत्र्यांना': 2329, 'कुत्र्यांपेक्षा': 2330, 'कुत्र्याचं': 2331, 'कुत्र्याची': 2332, 'कुत्र्याच्या': 2333, 'कुत्र्यात': 2334, 'कुत्र्याने': 2335, 'कुत्र्याबरोबर': 2336, 'कुत्र्याला': 2337, 'कुत्र्यावर': 2338, 'कुबलाई': 2339, 'कुरकुरला': 2340, 'कुरकुरीतपणा': 2341, 'कुराण': 2342, 'कुरूप': 2343, 'कुर्\\u200dहाड': 2344, 'कुलूप': 2345, 'कुस्ती': 2346, 'कुस्तीगीर': 2347, 'कूकी': 2348, 'कूपन': 2349, 'कूल': 2350, 'कृत्रिम': 2351, 'कृपया': 2352, 'कृपा': 2353, 'कृषिशास्त्राचा': 2354, 'कृषीच्या': 2355, 'कृष्णवर्णीय': 2356, 'कॅटलोनियाची': 2357, 'कॅथलिक': 2358, 'कॅन': 2359, 'कॅनडा': 2360, 'कॅनडाइतका': 2361, 'कॅनडाचं': 2362, 'कॅनडाची': 2363, 'कॅनडाच्या': 2364, 'कॅनडात': 2365, 'कॅनडापासून': 2366, 'कॅनडापेक्षा': 2367, 'कॅनडामध्ये': 2368, 'कॅनडाला': 2369, 'कॅनडासुद्धा': 2370, 'कॅनला': 2371, 'कॅनेडियन': 2372, 'कॅनेडियनशी': 2373, 'कॅनो': 2374, 'कॅन्टीन': 2375, 'कॅन्डी': 2376, 'कॅन्सर': 2377, 'कॅन्सरला': 2378, 'कॅपिटल': 2379, 'कॅप्टन': 2380, 'कॅबटने': 2381, 'कॅबिनेटचा': 2382, 'कॅमेरनने': 2383, 'कॅमेरा': 2384, 'कॅमेराचा': 2385, 'कॅमेरामन': 2386, 'कॅमेराला': 2387, 'कॅमेरे': 2388, 'कॅमेर्\\u200dयाकडे': 2389, 'कॅमेर्\\u200dयात': 2390, 'कॅमोमाईल': 2391, 'कॅम्पस': 2392, 'कॅम्पसच्या': 2393, 'कॅम्पसबाहेर': 2394, 'कॅम्पसमध्येच': 2395, 'कॅरिबियन': 2396, 'कॅरी': 2397, 'कॅलक्युलेटर': 2398, 'कॅलक्युलेटरची': 2399, 'कॅलस': 2400, 'कॅलिफॉर्नियाची': 2401, 'कॅलिफॉर्नियापासून': 2402, 'कॅलिफॉर्नियामध्ये': 2403, 'कॅलिफोर्नियामध्ये': 2404, 'कॅले': 2405, 'कॅलोरी': 2406, 'कॅल्क्युलेटर': 2407, 'कॅल्क्युलेटरमध्ये': 2408, 'कॅल्मिअस': 2409, 'कॅव्हिआर': 2410, 'कॅश': 2411, 'कॅसेट': 2412, 'केंट': 2413, 'केंदोमधील': 2414, 'केंद्रात': 2415, 'केंद्रित': 2416, 'केंब्रिज': 2417, 'केंब्रिजची': 2418, 'केंब्रिजला': 2419, 'केक': 2420, 'केकचे': 2421, 'केकवर': 2422, 'केकसुद्धा': 2423, 'केचप': 2424, 'केट': 2425, 'केन': 2426, 'केनइचि': 2427, 'केनिया': 2428, 'केबलची': 2429, 'केबिन': 2430, 'केबिनमध्ये': 2431, 'केमिस्टकडे': 2432, 'केमिस्टच्या': 2433, 'केरी': 2434, 'केरोसिन': 2435, 'केलं': 2436, 'केलंच': 2437, 'केलंत': 2438, 'केलंय': 2439, 'केलंस': 2440, 'केलत': 2441, 'केला': 2442, 'केलाच': 2443, 'केलात': 2444, 'केलान्तान': 2445, 'केलाय': 2446, 'केलास': 2447, 'केली': 2448, 'केलीच': 2449, 'केलीत': 2450, 'केलीस': 2451, 'केले': 2452, 'केलेलं': 2453, 'केलेला': 2454, 'केलेली': 2455, 'केलेले': 2456, 'केलेल्या': 2457, 'केल्टिक': 2458, 'केल्या': 2459, 'केल्यानंतर': 2460, 'केल्याने': 2461, 'केल्याबरोबर': 2462, 'केळं': 2463, 'केळी': 2464, 'केळींचा': 2465, 'केळ्याच्या': 2466, 'केवळ': 2467, 'केव्हा': 2468, 'केव्हाच': 2469, 'केस': 2470, 'केसं': 2471, 'केसांचे': 2472, 'केसांच्या': 2473, 'केसांना': 2474, 'केसांमध्ये': 2475, 'कैदी': 2476, 'कैदीला': 2477, 'कैद्यांना': 2478, 'कैद्याने': 2479, 'कैद्याला': 2480, 'कॉंग्रेसकडे': 2481, 'कॉकटेल': 2482, 'कॉक्टेलांबद्दल': 2483, 'कॉन्ट्रॅक्ट': 2484, 'कॉन्सर्ट': 2485, 'कॉन्सर्टबद्दल': 2486, 'कॉन्स्टँटिनोपल': 2487, 'कॉपी': 2488, 'कॉफी': 2489, 'कॉफीच': 2490, 'कॉफीचा': 2491, 'कॉफीची': 2492, 'कॉफीचे': 2493, 'कॉफीत': 2494, 'कॉफीपेक्षा': 2495, 'कॉफीमध्ये': 2496, 'कॉफीला': 2497, 'कॉफीसारखा': 2498, 'कॉम': 2499, 'कॉमिक': 2500, 'कॉमिक्स': 2501, 'कॉमेंट': 2502, 'कॉम्प्युटरवर': 2503, 'कॉम्प्यूटर': 2504, 'कॉम्प्यूटरसंबंधित': 2505, 'कॉरमध्ये': 2506, 'कॉर्सिकामध्ये': 2507, 'कॉल': 2508, 'कॉलेज': 2509, 'कॉलेजने': 2510, 'कॉलेजमध्ये': 2511, 'कॉलेजला': 2512, 'कॉलेजात': 2513, 'कोंबडी': 2514, 'कोंबडीचं': 2515, 'कोंबडीचा': 2516, 'कोंबडीचे': 2517, 'कोंबडीने': 2518, 'कोंबडीपेक्षा': 2519, 'कोंबडीला': 2520, 'कोंबडीसाठी': 2521, 'कोंबडीसारखी': 2522, 'कोंबडे': 2523, 'कोंबड्या': 2524, 'कोंबड्यांना': 2525, 'कोआला': 2526, 'कोक': 2527, 'कोकाकोलाच्या': 2528, 'कोकेन': 2529, 'कोकेनचं': 2530, 'कोच': 2531, 'कोट': 2532, 'कोटवरचं': 2533, 'कोटी': 2534, 'कोड': 2535, 'कोडं': 2536, 'कोडी': 2537, 'कोण': 2538, 'कोणकोण': 2539, 'कोणकोणत्या': 2540, 'कोणतं': 2541, 'कोणतंय': 2542, 'कोणतंही': 2543, 'कोणता': 2544, 'कोणताच': 2545, 'कोणतातरी': 2546, 'कोणताही': 2547, 'कोणती': 2548, 'कोणतीही': 2549, 'कोणते': 2550, 'कोणतेही': 2551, 'कोणत्या': 2552, 'कोणत्यातरी': 2553, 'कोणत्याही': 2554, 'कोणाकडून': 2555, 'कोणाकडूनही': 2556, 'कोणाकडे': 2557, 'कोणाचं': 2558, 'कोणाचंच': 2559, 'कोणाचंही': 2560, 'कोणाचा': 2561, 'कोणाचाच': 2562, 'कोणाचाही': 2563, 'कोणाची': 2564, 'कोणाचीच': 2565, 'कोणाचीही': 2566, 'कोणाचे': 2567, 'कोणाच्या': 2568, 'कोणाच्याही': 2569, 'कोणाबद्दल': 2570, 'कोणाबरोबर': 2571, 'कोणाला': 2572, 'कोणालाच': 2573, 'कोणालातरी': 2574, 'कोणालाही': 2575, 'कोणावर': 2576, 'कोणावरच': 2577, 'कोणावरही': 2578, 'कोणाशी': 2579, 'कोणाशीच': 2580, 'कोणाशीही': 2581, 'कोणास': 2582, 'कोणासाठी': 2583, 'कोणासाठीही': 2584, 'कोणी': 2585, 'कोणीच': 2586, 'कोणीतरी': 2587, 'कोणीही': 2588, 'कोतो': 2589, 'कोन': 2590, 'कोपर्\\u200dयात': 2591, 'कोपर्\\u200dयावर': 2592, 'कोपेनहागेन': 2593, 'कोबी': 2594, 'कोमट': 2595, 'कोमात': 2596, 'कोरा': 2597, 'कोरियन': 2598, 'कोरिया': 2599, 'कोरियाची': 2600, 'कोरियात': 2601, 'कोरियाने': 2602, 'कोरियामध्ये': 2603, 'कोरियावर': 2604, 'कोलंबसचं': 2605, 'कोलंबसने': 2606, 'कोलंबियन': 2607, 'कोलोरॅडोमध्ये': 2608, 'कोल्ड्रिंक': 2609, 'कोल्हे': 2610, 'कोल्ह्याने': 2611, 'कोल्ह्यामागे': 2612, 'कोल्ह्याला': 2613, 'कोळश्यात': 2614, 'कोळश्यासारखा': 2615, 'कोळसा': 2616, 'कोवळं': 2617, 'कोशर': 2618, 'कोशिंबीर': 2619, 'कोशिंबीरसुद्धा': 2620, 'कोसळली': 2621, 'कोस्टर': 2622, 'कौतुक': 2623, 'क्यिव': 2624, 'क्यीव': 2625, 'क्युबामध्ये': 2626, 'क्युबावर': 2627, 'क्युशुमध्ये': 2628, 'क्यूआर': 2629, 'क्यूशू': 2630, 'क्यूशूला': 2631, 'क्यूशूशी': 2632, 'क्योतो': 2633, 'क्योतोमध्ये': 2634, 'क्योवा': 2635, 'क्र': 2636, 'क्रमांक': 2637, 'क्रमांकाची': 2638, 'क्रमांकावर': 2639, 'क्रांती': 2640, 'क्रांतीच्या': 2641, 'क्रांतीत': 2642, 'क्रांतीनंतर': 2643, 'क्रिकेट': 2644, 'क्रियाविशेषण': 2645, 'क्रिश्चन': 2646, 'क्रिसमस': 2647, 'क्रिस्तोफोरी': 2648, 'क्रीम': 2649, 'क्रूझ': 2650, 'क्रूर': 2651, 'क्रॅकरचा': 2652, 'क्रॅश': 2653, 'क्रॅशच': 2654, 'क्रेडिट': 2655, 'क्रॉसला': 2656, 'क्लब': 2657, 'क्लबचा': 2658, 'क्लाउड': 2659, 'क्लारिनेट': 2660, 'क्लार्क': 2661, 'क्लासमध्ये': 2662, 'क्लासला': 2663, 'क्लासिकल': 2664, 'क्लिओपात्राचं': 2665, 'क्लिक': 2666, 'क्लिनीक': 2667, 'क्लियर': 2668, 'क्लॅट्सॉप': 2669, 'क्लॅन': 2670, 'क्लॅरिनेट': 2671, 'क्लॅरिनेटिस्ट': 2672, 'क्लॉस्ट्रोफोबिक': 2673, 'क्वचितच': 2674, 'क्वाडकोर': 2675, 'क्षण': 2676, 'क्षणभर': 2677, 'क्षणही': 2678, 'क्षणासाठी': 2679, 'क्षणासाठीही': 2680, 'क्षणी': 2681, 'क्षमता': 2682, 'क्षेत्र': 2683, 'क्षेत्रांमध्ये': 2684, 'क्षेत्रात': 2685, 'खंड': 2686, 'खंबीर': 2687, 'खगोलशास्त्र': 2688, 'खजिना': 2689, 'खजिन्याचा': 2690, 'खजिन्याच्या': 2691, 'खजूर': 2692, 'खटला': 2693, 'खड्डा': 2694, 'खड्डे': 2695, 'खरं': 2696, 'खरंखरं': 2697, 'खरंच': 2698, 'खरंतर': 2699, 'खरंय': 2700, 'खरंही': 2701, 'खरखरीत': 2702, 'खरच': 2703, 'खरा': 2704, 'खराब': 2705, 'खरी': 2706, 'खरीखुरी': 2707, 'खरीदायचं': 2708, 'खरीदू': 2709, 'खरीदून': 2710, 'खरीही': 2711, 'खरे': 2712, 'खरेदी': 2713, 'खरेदीविक्री': 2714, 'खरोखर': 2715, 'खरोखरच': 2716, 'खरोखरचं': 2717, 'खर्च': 2718, 'खर्\\u200dया': 2719, 'खलीफा': 2720, 'खळतेस': 2721, 'खळतोस': 2722, 'खा': 2723, 'खांद्यापर्यंत': 2724, 'खांद्याला': 2725, 'खांद्यावर': 2726, 'खाईन': 2727, 'खाईल': 2728, 'खाऊ': 2729, 'खाऊन': 2730, 'खाऊया': 2731, 'खाज': 2732, 'खाजगी': 2733, 'खाण': 2734, 'खाणं': 2735, 'खाणाखुणा': 2736, 'खाणार': 2737, 'खाणारे': 2738, 'खाण्याअगोदर': 2739, 'खाण्याचं': 2740, 'खाण्यातून': 2741, 'खाण्यायोग्य': 2742, 'खाण्यासाठी': 2743, 'खात': 2744, 'खातंय': 2745, 'खातखात': 2746, 'खातखातच': 2747, 'खातच': 2748, 'खातरी': 2749, 'खाता': 2750, 'खातात': 2751, 'खातातच': 2752, 'खाताना': 2753, 'खाताहेत': 2754, 'खातील': 2755, 'खाते': 2756, 'खातेय': 2757, 'खातेस': 2758, 'खातो': 2759, 'खातोय': 2760, 'खातोस': 2761, 'खात्यात': 2762, 'खात्री': 2763, 'खाद्य': 2764, 'खाद्यपदार्थ': 2765, 'खानने': 2766, 'खायचं': 2767, 'खायचा': 2768, 'खायची': 2769, 'खायचे': 2770, 'खायच्या': 2771, 'खायला': 2772, 'खारट': 2773, 'खालपर्यंत': 2774, 'खालली': 2775, 'खाला': 2776, 'खाली': 2777, 'खालील': 2778, 'खाल्लं': 2779, 'खाल्लंत': 2780, 'खाल्लंस': 2781, 'खाल्ला': 2782, 'खाल्लात': 2783, 'खाल्लास': 2784, 'खाल्ली': 2785, 'खाल्ले': 2786, 'खाल्लेत': 2787, 'खाल्लेलं': 2788, 'खाल्लेला': 2789, 'खाल्लेस': 2790, 'खाल्ल्यानंतर': 2791, 'खावंसं': 2792, 'खाशील': 2793, 'खास': 2794, 'खासकरून': 2795, 'खिडकी': 2796, 'खिडकीत': 2797, 'खिडकीतून': 2798, 'खिडकीपाशी': 2799, 'खिडकीबाहेर': 2800, 'खिडकीवर': 2801, 'खिडक्या': 2802, 'खिल्ली': 2803, 'खिळा': 2804, 'खिळ्यासारखं': 2805, 'खिश्यात': 2806, 'खिश्यातून': 2807, 'खिसे': 2808, 'खिसेकापूंशी': 2809, 'खुनी': 2810, 'खुनीच्या': 2811, 'खुर्ची': 2812, 'खुर्चीखाली': 2813, 'खुर्चीची': 2814, 'खुर्चीच्या': 2815, 'खुर्चीवर': 2816, 'खुर्चीवरून': 2817, 'खुर्च्या': 2818, 'खुश': 2819, 'खूण': 2820, 'खून': 2821, 'खूनीचा': 2822, 'खूप': 2823, 'खूपच': 2824, 'खूपदा': 2825, 'खूश': 2826, 'खूष': 2827, 'खेकडा': 2828, 'खेकड्याला': 2829, 'खेचला': 2830, 'खेचले': 2831, 'खेचू': 2832, 'खेचून': 2833, 'खेलणं': 2834, 'खेळ': 2835, 'खेळणं': 2836, 'खेळणार': 2837, 'खेळणी': 2838, 'खेळणींने': 2839, 'खेळणे': 2840, 'खेळण्यांची': 2841, 'खेळण्यांनी': 2842, 'खेळण्यांबरोबर': 2843, 'खेळण्यात': 2844, 'खेळण्यातली': 2845, 'खेळण्याशिवाय': 2846, 'खेळण्यास': 2847, 'खेळण्यासाठी': 2848, 'खेळत': 2849, 'खेळतं': 2850, 'खेळता': 2851, 'खेळतात': 2852, 'खेळताना': 2853, 'खेळतायत': 2854, 'खेळताहेत': 2855, 'खेळते': 2856, 'खेळतेय': 2857, 'खेळतेस': 2858, 'खेळतो': 2859, 'खेळतोय': 2860, 'खेळतोस': 2861, 'खेळला': 2862, 'खेळलात': 2863, 'खेळलास': 2864, 'खेळलीस': 2865, 'खेळले': 2866, 'खेळलो': 2867, 'खेळा': 2868, 'खेळांमध्ये': 2869, 'खेळाचे': 2870, 'खेळाडू': 2871, 'खेळाडूला': 2872, 'खेळात': 2873, 'खेळायचं': 2874, 'खेळायचंय': 2875, 'खेळायचा': 2876, 'खेळायची': 2877, 'खेळायचे': 2878, 'खेळायचो': 2879, 'खेळायच्या': 2880, 'खेळायला': 2881, 'खेळावसं': 2882, 'खेळासारखं': 2883, 'खेळी': 2884, 'खेळुया': 2885, 'खेळू': 2886, 'खेळून': 2887, 'खेळूया': 2888, 'खेळेन': 2889, 'खेळेल': 2890, 'खोकला': 2891, 'खोका': 2892, 'खोखो': 2893, 'खोगिरे': 2894, 'खोगीर': 2895, 'खोटं': 2896, 'खोटा': 2897, 'खोटारडा': 2898, 'खोटारडी': 2899, 'खोटारडे': 2900, 'खोटेपणाचा': 2901, 'खोडली': 2902, 'खोडून': 2903, 'खोदत': 2904, 'खोदतायत': 2905, 'खोदला': 2906, 'खोदली': 2907, 'खोल': 2908, 'खोलवर': 2909, 'खोली': 2910, 'खोलींचं': 2911, 'खोलींचा': 2912, 'खोलीचा': 2913, 'खोलीचे': 2914, 'खोलीच्या': 2915, 'खोलीत': 2916, 'खोलीतला': 2917, 'खोलीतील': 2918, 'खोलीतून': 2919, 'खोलीपर्यंत': 2920, 'खोलीमधल्या': 2921, 'खोलीमध्ये': 2922, 'खोलीला': 2923, 'खोल्या': 2924, 'खोल्यांचं': 2925, 'ख्रिश्चन': 2926, 'ख्रिस्त': 2927, 'ख्रिस्ती': 2928, 'ख्रिस्तीधर्म': 2929, 'गंजीत': 2930, 'गंभीर': 2931, 'गंभीरपणे': 2932, 'गगनचुंबी': 2933, 'गजबजलेलं': 2934, 'गजर': 2935, 'गट': 2936, 'गटात': 2937, 'गटातील': 2938, 'गड': 2939, 'गडची': 2940, 'गडबड': 2941, 'गडबडीची': 2942, 'गडबडीत': 2943, 'गडांवर': 2944, 'गडामध्ये': 2945, 'गणवेशात': 2946, 'गणित': 2947, 'गणिताचा': 2948, 'गणिताची': 2949, 'गणितात': 2950, 'गणितापेक्षा': 2951, 'गणिताबरोबरच': 2952, 'गती': 2953, 'गतीने': 2954, 'गतीपेक्षा': 2955, 'गद्दार': 2956, 'गद्दारी': 2957, 'गप्प': 2958, 'गप्पा': 2959, 'गमतीचं': 2960, 'गमतीदार': 2961, 'गमवायची': 2962, 'गमवायला': 2963, 'गमवू': 2964, 'गमवून': 2965, 'गमावलं': 2966, 'गमावली': 2967, 'गमावले': 2968, 'गमावल्यानंतर': 2969, 'गमावून': 2970, 'गमी': 2971, 'गरज': 2972, 'गरजच': 2973, 'गरजेचं': 2974, 'गरजेपेक्षा': 2975, 'गरम': 2976, 'गरमी': 2977, 'गरमीत': 2978, 'गराडा': 2979, 'गरिबांची': 2980, 'गरिबांमध्ये': 2981, 'गरिबांवर': 2982, 'गरीब': 2983, 'गरुड': 2984, 'गरोदर': 2985, 'गर्दी': 2986, 'गर्दीत': 2987, 'गर्दीतसुद्धा': 2988, 'गर्दीला': 2989, 'गर्भगृह': 2990, 'गर्लफ्रेंड': 2991, 'गर्लफ्रेंडचं': 2992, 'गर्लफ्रेंडची': 2993, 'गर्लफ्रेंडना': 2994, 'गर्लफ्रेंडने': 2995, 'गर्लफ्रेंडपासून': 2996, 'गर्लफ्रेंडबद्दल': 2997, 'गर्लफ्रेंडबरोबर': 2998, 'गर्लफ्रेंडला': 2999, 'गर्लफ्रेंडसाठी': 3000, 'गल्फपोर्टमधल्या': 3001, 'गळपट्ट्यांची': 3002, 'गळे': 3003, 'गवत': 3004, 'गवताच्या': 3005, 'गवतावर': 3006, 'गव्हापासून': 3007, 'गहाण': 3008, 'गहू': 3009, 'गाई': 3010, 'गाईंची': 3011, 'गाईंना': 3012, 'गाईन': 3013, 'गाईल': 3014, 'गाईला': 3015, 'गाऊ': 3016, 'गाऊन': 3017, 'गाऊया': 3018, 'गागा': 3019, 'गागाने': 3020, 'गाजर': 3021, 'गाजरं': 3022, 'गाजरांपेक्षा': 3023, 'गाजरांमध्ये': 3024, 'गाजराची': 3025, 'गाडला': 3026, 'गाडायला': 3027, 'गाडी': 3028, 'गाडीचं': 3029, 'गाडीचा': 3030, 'गाडीची': 3031, 'गाडीच्या': 3032, 'गाडीत': 3033, 'गाडीतला': 3034, 'गाडीतून': 3035, 'गाडीने': 3036, 'गाडीपेक्षा': 3037, 'गाडीमध्ये': 3038, 'गाडीमागे': 3039, 'गाडीला': 3040, 'गाडीसाठी': 3041, 'गाड्या': 3042, 'गाड्यांची': 3043, 'गाड्यांना': 3044, 'गाड्यांनी': 3045, 'गाड्यांशी': 3046, 'गाढ': 3047, 'गाणं': 3048, 'गाणार': 3049, 'गाणी': 3050, 'गाणीही': 3051, 'गाण्याचं': 3052, 'गाण्यात': 3053, 'गाण्यावर': 3054, 'गात': 3055, 'गातं': 3056, 'गाता': 3057, 'गातात': 3058, 'गाताना': 3059, 'गाताहेत': 3060, 'गातो': 3061, 'गादीखाली': 3062, 'गाना': 3063, 'गाय': 3064, 'गायक': 3065, 'गायकांमधील': 3066, 'गायकांमध्ये': 3067, 'गायकाचा': 3068, 'गायचं': 3069, 'गायचंय': 3070, 'गायचा': 3071, 'गायब': 3072, 'गायलं': 3073, 'गायला': 3074, 'गायली': 3075, 'गायले': 3076, 'गायलेलं': 3077, 'गायलो': 3078, 'गायिका': 3079, 'गायिकेचा': 3080, 'गायिकेसारखी': 3081, 'गायी': 3082, 'गार': 3083, 'गार्डनमध्ये': 3084, 'गाल': 3085, 'गालगुंडाने': 3086, 'गालात': 3087, 'गालातल्या': 3088, 'गाळणीत': 3089, 'गाव': 3090, 'गावकरांना': 3091, 'गावकरी': 3092, 'गावभर': 3093, 'गावांमध्ये': 3094, 'गावाचा': 3095, 'गावाची': 3096, 'गावाच्या': 3097, 'गावात': 3098, 'गावातल्या': 3099, 'गावातील': 3100, 'गावातून': 3101, 'गावाला': 3102, 'गावी': 3103, 'गाशील': 3104, 'गिटार': 3105, 'गिटारबरोबर': 3106, 'गिटारला': 3107, 'गिटारवादक': 3108, 'गिटारसुद्धा': 3109, 'गिटारिस्ट': 3110, 'गिटो': 3111, 'गिनी': 3112, 'गिर्\\u200dहाईक': 3113, 'गिर्\\u200dहाईकच': 3114, 'गिळण्याअगोदर': 3115, 'गिळलं': 3116, 'गीत': 3117, 'गुंडाळून': 3118, 'गुंतागुंतीची': 3119, 'गुटेनबर्गने': 3120, 'गुडघे': 3121, 'गुढग्यांवर': 3122, 'गुढघ्यांपर्यंत': 3123, 'गुण': 3124, 'गुणिले': 3125, 'गुन्हा': 3126, 'गुन्हे': 3127, 'गुन्हेगार': 3128, 'गुन्हेगारांना': 3129, 'गुन्हेगारासारखं': 3130, 'गुन्हेगारी': 3131, 'गुपित': 3132, 'गुप्तहेर': 3133, 'गुरुत्वच': 3134, 'गुरुवार': 3135, 'गुरुवारी': 3136, 'गुरूवार': 3137, 'गुलाब': 3138, 'गुलाबांचा': 3139, 'गुलाबाचं': 3140, 'गुलाबाला': 3141, 'गुलाबी': 3142, 'गुलाम': 3143, 'गुलामगिरी': 3144, 'गुलामगिरीचा': 3145, 'गुलामगिरीची': 3146, 'गुलामगिरीवर': 3147, 'गुलामांना': 3148, 'गुलामांसारखं': 3149, 'गुलामासारखं': 3150, 'गुहेत': 3151, 'गूगल': 3152, 'गूगलचा': 3153, 'गृहपाठ': 3154, 'गृहीत': 3155, 'गॅट्स्बी': 3156, 'गॅरेज': 3157, 'गॅरेजमधलं': 3158, 'गॅरेजमध्ये': 3159, 'गॅलन': 3160, 'गॅस': 3161, 'गॅसचा': 3162, 'गॅसची': 3163, 'गेट': 3164, 'गेट्स': 3165, 'गेब्रिएल': 3166, 'गेम': 3167, 'गेम्स': 3168, 'गेलं': 3169, 'गेलंय': 3170, 'गेलय': 3171, 'गेला': 3172, 'गेलात': 3173, 'गेलाय': 3174, 'गेलास': 3175, 'गेली': 3176, 'गेलीस': 3177, 'गेले': 3178, 'गेलेय': 3179, 'गेलेयत': 3180, 'गेलेलं': 3181, 'गेलेला': 3182, 'गेलेलाच': 3183, 'गेलेलास': 3184, 'गेलेली': 3185, 'गेलेलीस': 3186, 'गेलेले': 3187, 'गेलेलो': 3188, 'गेलेल्या': 3189, 'गेलो': 3190, 'गेलोय': 3191, 'गेल्डरिश': 3192, 'गेल्या': 3193, 'गेल्यापर्यंत': 3194, 'गेल्याबरोबरच': 3195, 'गेल्यावर': 3196, 'गेेले': 3197, 'गैरकायदेशीर': 3198, 'गैरजबाबदार': 3199, 'गैरफायदा': 3200, 'गैरहजर': 3201, 'गॉगल': 3202, 'गॉल': 3203, 'गॉलपासून': 3204, 'गोंधळले': 3205, 'गोंधळलेला': 3206, 'गोंधळलेली': 3207, 'गोंधळलेले': 3208, 'गोंधळलेलो': 3209, 'गोंधळलो': 3210, 'गोंधळात': 3211, 'गोंधळासाठी': 3212, 'गोजिरवाणं': 3213, 'गोड': 3214, 'गोड्या': 3215, 'गोन्डोलाचालक': 3216, 'गोपनीय': 3217, 'गोमांस': 3218, 'गोमांसाच्या': 3219, 'गोरिला': 3220, 'गोल': 3221, 'गोलंदाज': 3222, 'गोलकीपर': 3223, 'गोलाकार': 3224, 'गोलार्धात': 3225, 'गोल्डन': 3226, 'गोल्डफिश': 3227, 'गोल्डफिशला': 3228, 'गोल्फ': 3229, 'गोल्फचा': 3230, 'गोल्फपटू': 3231, 'गोल्फमध्ये': 3232, 'गोल्फर': 3233, 'गोळा': 3234, 'गोळी': 3235, 'गोळीबार': 3236, 'गोळे': 3237, 'गोळ्या': 3238, 'गोष्ट': 3239, 'गोष्टी': 3240, 'गोष्टींचं': 3241, 'गोष्टींचा': 3242, 'गोष्टींची': 3243, 'गोष्टींबद्दल': 3244, 'गोष्टींबाबत': 3245, 'गोष्टींवर': 3246, 'गोष्टीचा': 3247, 'गोष्टीची': 3248, 'गोष्टीला': 3249, 'गोष्टीवर': 3250, 'गोष्टीशी': 3251, 'गोष्टीसाठी': 3252, 'ग्रँट': 3253, 'ग्रँटने': 3254, 'ग्रँडमाज्': 3255, 'ग्रंथालय': 3256, 'ग्रंथालयाची': 3257, 'ग्रंथालयात': 3258, 'ग्रह': 3259, 'ग्रहापासून': 3260, 'ग्रहाला': 3261, 'ग्रहावर': 3262, 'ग्रांडे': 3263, 'ग्राफिक': 3264, 'ग्राम': 3265, 'ग्रामीण': 3266, 'ग्रामोफोन': 3267, 'ग्राहक': 3268, 'ग्राहकांची': 3269, 'ग्राहकांनी': 3270, 'ग्राहकांशी': 3271, 'ग्राहकाशी': 3272, 'ग्रीक': 3273, 'ग्रीकपासून': 3274, 'ग्रीन': 3275, 'ग्रीनलँड': 3276, 'ग्रीनहाउसमध्ये': 3277, 'ग्रीस': 3278, 'ग्रीसपेक्षा': 3279, 'ग्रीसमधील': 3280, 'ग्रीसमध्ये': 3281, 'ग्रीसमध्येदेखील': 3282, 'ग्रीसला': 3283, 'ग्रॅज्युएशन': 3284, 'ग्रॅज्यूएट': 3285, 'ग्रे': 3286, 'ग्रेट': 3287, 'ग्रेड': 3288, 'ग्रेनेड': 3289, 'ग्लास': 3290, 'ग्लासं': 3291, 'ग्लासमध्ये': 3292, 'ग्लासात': 3293, 'ग्वाकामोले': 3294, 'ग्विलोटीनचा': 3295, 'घंटा': 3296, 'घंटी': 3297, 'घटक': 3298, 'घटना': 3299, 'घटनाबाह्य': 3300, 'घटनेने': 3301, 'घटनेला': 3302, 'घटस्फोट': 3303, 'घटस्फोटाच्या': 3304, 'घटस्फोटित': 3305, 'घट्ट': 3306, 'घडणार': 3307, 'घडण्याची': 3308, 'घडण्यात': 3309, 'घडत': 3310, 'घडतं': 3311, 'घडतंय': 3312, 'घडतच': 3313, 'घडतात': 3314, 'घडताना': 3315, 'घडलं': 3316, 'घडला': 3317, 'घडली': 3318, 'घडलेली': 3319, 'घडल्या': 3320, 'घडव': 3321, 'घडवत': 3322, 'घडवा': 3323, 'घडवू': 3324, 'घडायला': 3325, 'घडी': 3326, 'घडू': 3327, 'घडूच': 3328, 'घडेल': 3329, 'घडेलच': 3330, 'घड्याळ': 3331, 'घड्याळं': 3332, 'घड्याळाकडे': 3333, 'घड्याळाची': 3334, 'घड्याळापेक्षा': 3335, 'घड्याळाला': 3336, 'घन': 3337, 'घर': 3338, 'घरं': 3339, 'घरघर': 3340, 'घरच': 3341, 'घरचा': 3342, 'घरटी': 3343, 'घरभर': 3344, 'घरांची': 3345, 'घरांना': 3346, 'घराचं': 3347, 'घराचा': 3348, 'घराची': 3349, 'घराच्या': 3350, 'घराजवळ': 3351, 'घराजवळच्या': 3352, 'घरात': 3353, 'घरातच': 3354, 'घरातला': 3355, 'घरातल्या': 3356, 'घरातून': 3357, 'घरापर्यंत': 3358, 'घरापर्यंतचं': 3359, 'घरापासून': 3360, 'घराबाहेर': 3361, 'घराबाहेरची': 3362, 'घराभोवती': 3363, 'घरामागे': 3364, 'घराला': 3365, 'घरावर': 3366, 'घरासमोर': 3367, 'घरासमोरची': 3368, 'घरासमोरच्या': 3369, 'घरी': 3370, 'घरीच': 3371, 'घरे': 3372, 'घसरला': 3373, 'घसरले': 3374, 'घसरलो': 3375, 'घसरून': 3376, 'घसा': 3377, 'घाई': 3378, 'घाईघाईत': 3379, 'घाईत': 3380, 'घाईतच': 3381, 'घाईने': 3382, 'घाणेरडा': 3383, 'घाणेरडी': 3384, 'घाणेरडे': 3385, 'घाणेरड्या': 3386, 'घातलं': 3387, 'घातलंत': 3388, 'घातलंस': 3389, 'घातला': 3390, 'घातलाय': 3391, 'घातली': 3392, 'घातलीत': 3393, 'घातलीये': 3394, 'घातलीस': 3395, 'घातले': 3396, 'घातलेलं': 3397, 'घातलेला': 3398, 'घातलेली': 3399, 'घातलेले': 3400, 'घातलेल्या': 3401, 'घातलेस': 3402, 'घाबरणार': 3403, 'घाबरत': 3404, 'घाबरता': 3405, 'घाबरतात': 3406, 'घाबरते': 3407, 'घाबरतेस': 3408, 'घाबरतो': 3409, 'घाबरतोस': 3410, 'घाबरलं': 3411, 'घाबरला': 3412, 'घाबरलाय': 3413, 'घाबरले': 3414, 'घाबरलेय': 3415, 'घाबरलेला': 3416, 'घाबरलेली': 3417, 'घाबरलेले': 3418, 'घाबरलेलो': 3419, 'घाबरलेल्या': 3420, 'घाबरलोय': 3421, 'घाबरवत': 3422, 'घाबरवलं': 3423, 'घाबरवलंत': 3424, 'घाबरवलंस': 3425, 'घाबरवायचं': 3426, 'घाबरवायचा': 3427, 'घाबरवू': 3428, 'घाबरायचं': 3429, 'घाबरायचा': 3430, 'घाबरू': 3431, 'घाम': 3432, 'घामाघूम': 3433, 'घामाने': 3434, 'घाल': 3435, 'घालणार': 3436, 'घालणारे': 3437, 'घालत': 3438, 'घालता': 3439, 'घालतात': 3440, 'घालते': 3441, 'घालतेय': 3442, 'घालतेस': 3443, 'घालतो': 3444, 'घालतोय': 3445, 'घालतोस': 3446, 'घालव': 3447, 'घालवत': 3448, 'घालवता': 3449, 'घालवतील': 3450, 'घालवते': 3451, 'घालवतेस': 3452, 'घालवतो': 3453, 'घालवतोयस': 3454, 'घालवतोस': 3455, 'घालवलं': 3456, 'घालवला': 3457, 'घालवली': 3458, 'घालवले': 3459, 'घालवा': 3460, 'घालवायचं': 3461, 'घालवायचा': 3462, 'घालवायला': 3463, 'घालवाल': 3464, 'घालवू': 3465, 'घालवूया': 3466, 'घालवेल': 3467, 'घालशील': 3468, 'घाला': 3469, 'घालायचं': 3470, 'घालायची': 3471, 'घालायला': 3472, 'घालाल': 3473, 'घाली': 3474, 'घालू': 3475, 'घालून': 3476, 'घालेन': 3477, 'घालेल': 3478, 'घास': 3479, 'घासतात': 3480, 'घासते': 3481, 'घासतेय': 3482, 'घासतो': 3483, 'घासतोय': 3484, 'घासले': 3485, 'घासा': 3486, 'घासायचे': 3487, 'घासायला': 3488, 'घासावे': 3489, 'घुबडांकडे': 3490, 'घुबडांचे': 3491, 'घुसला': 3492, 'घुसलो': 3493, 'घे': 3494, 'घेईन': 3495, 'घेईनच': 3496, 'घेईल': 3497, 'घेऊ': 3498, 'घेऊन': 3499, 'घेऊया': 3500, 'घेणं': 3501, 'घेणंदेणं': 3502, 'घेणार': 3503, 'घेणे': 3504, 'घेण्याअगोदर': 3505, 'घेण्याइतपत': 3506, 'घेण्याचा': 3507, 'घेण्याची': 3508, 'घेण्यात': 3509, 'घेण्यापूर्वी': 3510, 'घेण्यास': 3511, 'घेण्यासाठी': 3512, 'घेण्यासारखं': 3513, 'घेत': 3514, 'घेतलं': 3515, 'घेतलंत': 3516, 'घेतलंय': 3517, 'घेतलंस': 3518, 'घेतलयस': 3519, 'घेतला': 3520, 'घेतलात': 3521, 'घेतलास': 3522, 'घेतली': 3523, 'घेतलीत': 3524, 'घेतलीस': 3525, 'घेतले': 3526, 'घेतलेत': 3527, 'घेतलेलं': 3528, 'घेतलेला': 3529, 'घेतलेल्या': 3530, 'घेतलेस': 3531, 'घेतल्या': 3532, 'घेतल्यावर': 3533, 'घेता': 3534, 'घेतात': 3535, 'घेताना': 3536, 'घेताहेत': 3537, 'घेतिल': 3538, 'घेतील': 3539, 'घेते': 3540, 'घेतेय': 3541, 'घेतेस': 3542, 'घेतो': 3543, 'घेतोच': 3544, 'घेतोय': 3545, 'घेतोस': 3546, 'घेरले': 3547, 'घेशील': 3548, 'घोटा': 3549, 'घोडदळ': 3550, 'घोडा': 3551, 'घोडे': 3552, 'घोड्यांची': 3553, 'घोड्याकडे': 3554, 'घोड्याचं': 3555, 'घोड्याचे': 3556, 'घोड्याने': 3557, 'घोड्याला': 3558, 'घोड्यावर': 3559, 'घोड्यासारखा': 3560, 'घोरत': 3561, 'घोरतो': 3562, 'घोरायला': 3563, 'घोषणा': 3564, 'घोषित': 3565, 'घ्या': 3566, 'घ्यायचं': 3567, 'घ्यायचंय': 3568, 'घ्यायचा': 3569, 'घ्यायची': 3570, 'घ्यायचे': 3571, 'घ्यायच्या': 3572, 'घ्यायला': 3573, 'घ्यायलाच': 3574, 'घ्याल': 3575, 'घ्यावसं': 3576, 'घ्यावी': 3577, 'घ्यावीशी': 3578, 'चंद्र': 3579, 'चंद्रग्रहण': 3580, 'चंद्राकडे': 3581, 'चंद्रापासून': 3582, 'चंद्रापेक्षा': 3583, 'चंद्राला': 3584, 'चंद्रावर': 3585, 'चकाकते': 3586, 'चकाचक': 3587, 'चकित': 3588, 'चकीत': 3589, 'चक्क': 3590, 'चक्कर': 3591, 'चक्स': 3592, 'चटकन': 3593, 'चटणी': 3594, 'चडू': 3595, 'चडेल': 3596, 'चढ': 3597, 'चढणं': 3598, 'चढणार': 3599, 'चढत': 3600, 'चढतात': 3601, 'चढताना': 3602, 'चढला': 3603, 'चढली': 3604, 'चढले': 3605, 'चढलो': 3606, 'चढवता': 3607, 'चढवला': 3608, 'चढवू': 3609, 'चढा': 3610, 'चढायचा': 3611, 'चढायला': 3612, 'चढू': 3613, 'चमकत': 3614, 'चमकतोय': 3615, 'चमकदार': 3616, 'चमचा': 3617, 'चमचाभर': 3618, 'चमचे': 3619, 'चमच्यांची': 3620, 'चमच्याची': 3621, 'चमच्याने': 3622, 'चमत्कार': 3623, 'चमत्कारच': 3624, 'चमत्कारांवर': 3625, 'चमत्काराची': 3626, 'चरत': 3627, 'चर्च': 3628, 'चर्चचा': 3629, 'चर्चमध्ये': 3630, 'चर्चला': 3631, 'चर्चा': 3632, 'चर्चांचे': 3633, 'चर्चिल': 3634, 'चर्चिलने': 3635, 'चर्चेत': 3636, 'चल': 3637, 'चलनवाढ': 3638, 'चला': 3639, 'चव': 3640, 'चवसुद्धा': 3641, 'चवही': 3642, 'चविष्ट': 3643, 'चवीप्रमाणे': 3644, 'चवीला': 3645, 'चव्वेचाळीस': 3646, 'चष्मा': 3647, 'चष्मे': 3648, 'चष्म्याचा': 3649, 'चष्म्यावर': 3650, 'चष्म्यासारखा': 3651, 'चहा': 3652, 'चहाकॉफी': 3653, 'चहाचा': 3654, 'चहाची': 3655, 'चहात': 3656, 'चहापेक्षा': 3657, 'चहाबरोबर': 3658, 'चहाला': 3659, 'चहासाठी': 3660, 'चहासारखी': 3661, 'च़ालत': 3662, 'चा': 3663, 'चांगलं': 3664, 'चांगलंच': 3665, 'चांगलंय': 3666, 'चांगला': 3667, 'चांगली': 3668, 'चांगलीच': 3669, 'चांगले': 3670, 'चांगल्या': 3671, 'चांगल्यातलं': 3672, 'चांगल्यापणे': 3673, 'चांदी': 3674, 'चांदीच्या': 3675, 'चांदीपेक्षा': 3676, 'चांसेलर्सविलची': 3677, 'चाक': 3678, 'चाकं': 3679, 'चाकांना': 3680, 'चाकांमध्ये': 3681, 'चाकू': 3682, 'चाकूने': 3683, 'चाटत': 3684, 'चाटला': 3685, 'चादर': 3686, 'चादरी': 3687, 'चादरीखाली': 3688, 'चादरीत': 3689, 'चायनीज': 3690, 'चार': 3691, 'चारचार': 3692, 'चारपर्यंत': 3693, 'चारपाच': 3694, 'चारशे': 3695, 'चार्ज': 3696, 'चार्जर': 3697, 'चार्ल्स': 3698, 'चाल': 3699, 'चालक': 3700, 'चालणार': 3701, 'चालणारा': 3702, 'चालणे': 3703, 'चालत': 3704, 'चालतं': 3705, 'चालतंय': 3706, 'चालतचालत': 3707, 'चालता': 3708, 'चालताचालता': 3709, 'चालतात': 3710, 'चालताना': 3711, 'चालतील': 3712, 'चालते': 3713, 'चालतेय': 3714, 'चालतो': 3715, 'चालतोय': 3716, 'चाललं': 3717, 'चाललंय': 3718, 'चालला': 3719, 'चाललाय': 3720, 'चाललायस': 3721, 'चालली': 3722, 'चाललीये': 3723, 'चालले': 3724, 'चाललेय': 3725, 'चाललेलं': 3726, 'चाललो': 3727, 'चाललोय': 3728, 'चालल्या': 3729, 'चालव': 3730, 'चालवणार': 3731, 'चालवणे': 3732, 'चालवण्याआधी': 3733, 'चालवण्याची': 3734, 'चालवत': 3735, 'चालवता': 3736, 'चालवतात': 3737, 'चालवताना': 3738, 'चालवते': 3739, 'चालवतो': 3740, 'चालवतोय': 3741, 'चालवला': 3742, 'चालवली': 3743, 'चालवल्या': 3744, 'चालवा': 3745, 'चालवायची': 3746, 'चालवायला': 3747, 'चालवू': 3748, 'चालवून': 3749, 'चालवेन': 3750, 'चाला': 3751, 'चालायचं': 3752, 'चालायचा': 3753, 'चालायला': 3754, 'चालायलाच': 3755, 'चालू': 3756, 'चालूच': 3757, 'चालून': 3758, 'चालेन': 3759, 'चालेल': 3760, 'चाल्लं': 3761, 'चाल्लंय': 3762, 'चाळणार': 3763, 'चाळण्यासारखं': 3764, 'चाळी': 3765, 'चाळीस': 3766, 'चावणार': 3767, 'चावत': 3768, 'चावतात': 3769, 'चावतो': 3770, 'चावतोय': 3771, 'चावलं': 3772, 'चावला': 3773, 'चावली': 3774, 'चावी': 3775, 'चावीने': 3776, 'चावू': 3777, 'चाव्या': 3778, 'चिंता': 3779, 'चिंपांझी': 3780, 'चिकट': 3781, 'चिकटतात': 3782, 'चिकन': 3783, 'चिकनचे': 3784, 'चिखलात': 3785, 'चिडला': 3786, 'चिडली': 3787, 'चिडले': 3788, 'चिडल्या': 3789, 'चिडवलं': 3790, 'चित्र': 3791, 'चित्रं': 3792, 'चित्रकथा': 3793, 'चित्रकार': 3794, 'चित्रपट': 3795, 'चित्रपटगृहात': 3796, 'चित्रपटगृहाबाहेर': 3797, 'चित्रपटांपेक्षा': 3798, 'चित्रपटांमध्ये': 3799, 'चित्रपटाचं': 3800, 'चित्रपटाची': 3801, 'चित्रपटातला': 3802, 'चित्रपटातली': 3803, 'चित्रपटाला': 3804, 'चित्ररमणीय': 3805, 'चित्राकडे': 3806, 'चित्राची': 3807, 'चित्रात': 3808, 'चित्राने': 3809, 'चिनी': 3810, 'चिनीचा': 3811, 'चिनीचाही': 3812, 'चिमुकला': 3813, 'चिमुकल्या': 3814, 'चिवावा': 3815, 'ची': 3816, 'चीज': 3817, 'चीजकेक': 3818, 'चीजपेक्षा': 3819, 'चीजबर्गर': 3820, 'चीझ': 3821, 'चीन': 3822, 'चीनचा': 3823, 'चीनची': 3824, 'चीनच्या': 3825, 'चीनपासून': 3826, 'चीनबद्दल': 3827, 'चीनमधली': 3828, 'चीनमध्ये': 3829, 'चीनमध्येसुद्धा': 3830, 'चीनमध्येही': 3831, 'चीनला': 3832, 'चीनवर': 3833, 'चीनविषयी': 3834, 'चीनशी': 3835, 'चीनी': 3836, 'चीनीचा': 3837, 'चीर': 3838, 'चुंबकत्व': 3839, 'चुकलं': 3840, 'चुकलंय': 3841, 'चुकला': 3842, 'चुकलात': 3843, 'चुकलास': 3844, 'चुकलीस': 3845, 'चुकले': 3846, 'चुकलेला': 3847, 'चुकलेले': 3848, 'चुकलेलो': 3849, 'चुकलो': 3850, 'चुका': 3851, 'चुकीचं': 3852, 'चुकीचा': 3853, 'चुकीची': 3854, 'चुकीचे': 3855, 'चुकीच्या': 3856, 'चुकून': 3857, 'चुपचाप': 3858, 'चुलत': 3859, 'चुलीवर': 3860, 'चूक': 3861, 'चूकले': 3862, 'चूकलो': 3863, 'चूल': 3864, 'चॅनल': 3865, 'चॅम्पियन': 3866, 'चेंगरून': 3867, 'चेंडू': 3868, 'चेंडूला': 3869, 'चेंडूसारखी': 3870, 'चेक': 3871, 'चेटकीण': 3872, 'चेतावणी': 3873, 'चेन': 3874, 'चेनला': 3875, 'चेम्बरलेन': 3876, 'चेरीचं': 3877, 'चेलो': 3878, 'चेहरा': 3879, 'चेहरे': 3880, 'चेहर्\\u200dयाकडे': 3881, 'चेहर्\\u200dयाला': 3882, 'चेहर्\\u200dयावर': 3883, 'चेहऱ्यासारखा': 3884, 'चॉकलेट': 3885, 'चॉकलेटपेक्षा': 3886, 'चॉकलेटही': 3887, 'चॉपस्टिक्सने': 3888, 'चॉप्स': 3889, 'चॉप्स्टिक्सबरोबर': 3890, 'चॉवगॉश': 3891, 'चॉसर': 3892, 'चोकलेटं': 3893, 'चोची': 3894, 'चोचीत': 3895, 'चोर': 3896, 'चोरत': 3897, 'चोरतात': 3898, 'चोरताना': 3899, 'चोरलं': 3900, 'चोरला': 3901, 'चोरली': 3902, 'चोरले': 3903, 'चोरलेले': 3904, 'चोराचा': 3905, 'चोराच्या': 3906, 'चोराने': 3907, 'चोरायची': 3908, 'चोरायला': 3909, 'चोराला': 3910, 'चोरी': 3911, 'चोरीला': 3912, 'चोळतात': 3913, 'चोळले': 3914, 'चोवीस': 3915, 'चौक': 3916, 'चौकशी': 3917, 'चौकात': 3918, 'चौकोन': 3919, 'चौकोनाला': 3920, 'चौतीस': 3921, 'चौथा': 3922, 'चौथ्या': 3923, 'चौदाव्या': 3924, 'चौरस': 3925, 'चौसष्ट': 3926, 'च्या': 3927, 'छत': 3928, 'छताकडे': 3929, 'छताखाली': 3930, 'छताला': 3931, 'छतावर': 3932, 'छतावरील': 3933, 'छतावरून': 3934, 'छत्री': 3935, 'छत्र्या': 3936, 'छळ': 3937, 'छाटा': 3938, 'छाटो': 3939, 'छातीत': 3940, 'छातीवर': 3941, 'छान': 3942, 'छानशा': 3943, 'छापण्यात': 3944, 'छापलं': 3945, 'छापली': 3946, 'छापायची': 3947, 'छापू': 3948, 'छायाचित्रकार': 3949, 'छायाचित्राची': 3950, 'छायाचित्रे': 3951, 'छेटे': 3952, 'छोटं': 3953, 'छोटा': 3954, 'छोटासा': 3955, 'छोटी': 3956, 'छोटीशी': 3957, 'छोटे': 3958, 'छोट्या': 3959, 'छोट्यांना': 3960, 'छोट्याछोट्या': 3961, 'छोट्याशा': 3962, 'छोट्याश्या': 3963, 'जंगलाचा': 3964, 'जंगलात': 3965, 'जंबो': 3966, 'जखम': 3967, 'जखमा': 3968, 'जखमांना': 3969, 'जखमी': 3970, 'जखमेतून': 3971, 'जग': 3972, 'जगणं': 3973, 'जगणे': 3974, 'जगण्याचा': 3975, 'जगण्यात': 3976, 'जगण्यापेक्षा': 3977, 'जगण्यालायक': 3978, 'जगण्यासाठी': 3979, 'जगत': 3980, 'जगतात': 3981, 'जगतो': 3982, 'जगप्रसिद्ध': 3983, 'जगभर': 3984, 'जगभरात': 3985, 'जगभरातल्या': 3986, 'जगभरातून': 3987, 'जगाचं': 3988, 'जगाचा': 3989, 'जगाची': 3990, 'जगाच्या': 3991, 'जगात': 3992, 'जगातलं': 3993, 'जगातला': 3994, 'जगातली': 3995, 'जगातले': 3996, 'जगातल्या': 3997, 'जगातील': 3998, 'जगायचं': 3999, 'जगायला': 4000, 'जगाला': 4001, 'जगावर': 4002, 'जगू': 4003, 'जगूच': 4004, 'जगेल': 4005, 'जड': 4006, 'जण': 4007, 'जणं': 4008, 'जणांना': 4009, 'जणांसाठी': 4010, 'जनगणना': 4011, 'जनतेकडून': 4012, 'जनतेला': 4013, 'जननी': 4014, 'जनावर': 4015, 'जनावरं': 4016, 'जनावरांवर': 4017, 'जन्म': 4018, 'जन्मजात': 4019, 'जन्मठेपेची': 4020, 'जन्मतारीख': 4021, 'जन्मदिनांक': 4022, 'जन्मभाषकासारखं': 4023, 'जन्मला': 4024, 'जन्मली': 4025, 'जन्मले': 4026, 'जन्मलेला': 4027, 'जन्मलेली': 4028, 'जन्मलेले': 4029, 'जन्मलेलो': 4030, 'जन्मलो': 4031, 'जन्मस्थान': 4032, 'जन्माची': 4033, 'जन्माने': 4034, 'जन्मापासूनच': 4035, 'जन्माला': 4036, 'जपान': 4037, 'जपानचं': 4038, 'जपानचा': 4039, 'जपानची': 4040, 'जपानचे': 4041, 'जपानच्या': 4042, 'जपानने': 4043, 'जपानपेक्षा': 4044, 'जपानबद्दल': 4045, 'जपानबाबत': 4046, 'जपानमधली': 4047, 'जपानमधील': 4048, 'जपानमध्ये': 4049, 'जपानमध्येही': 4050, 'जपानमार्गे': 4051, 'जपानला': 4052, 'जपानी': 4053, 'जपानीअमेरिकन': 4054, 'जपानीइंग्रजी': 4055, 'जपानीचा': 4056, 'जपानीत': 4057, 'जपानीतून': 4058, 'जपानीपासून': 4059, 'जपानीपेक्षा': 4060, 'जपानीमध्ये': 4061, 'जपान्यांनी': 4062, 'जपून': 4063, 'जप्त': 4064, 'जबरदस्ती': 4065, 'जबरदस्तीने': 4066, 'जबाबदार': 4067, 'जबाबदारी': 4068, 'जमणार': 4069, 'जमत': 4070, 'जमतं': 4071, 'जमलं': 4072, 'जमला': 4073, 'जमली': 4074, 'जमले': 4075, 'जमलेली': 4076, 'जमलेल्या': 4077, 'जमवलं': 4078, 'जमवायला': 4079, 'जमवीन': 4080, 'जमवू': 4081, 'जमा': 4082, 'जमातींकडे': 4083, 'जमिनीची': 4084, 'जमिनीत': 4085, 'जमिनीवर': 4086, 'जमीन': 4087, 'जमीनीवर': 4088, 'जमू': 4089, 'जमून': 4090, 'जमेल': 4091, 'जमैका': 4092, 'जर': 4093, 'जरा': 4094, 'जराशी': 4095, 'जराश्या': 4096, 'जरासं': 4097, 'जरासा': 4098, 'जरासाच': 4099, 'जर्मन': 4100, 'जर्मनचा': 4101, 'जर्मनपेक्षा': 4102, 'जर्मनमध्ये': 4103, 'जर्मनांची': 4104, 'जर्मनी': 4105, 'जर्मनीचं': 4106, 'जर्मनीचा': 4107, 'जर्मनीची': 4108, 'जर्मनीच्या': 4109, 'जर्मनीत': 4110, 'जर्मनीतच': 4111, 'जर्मनीने': 4112, 'जर्मनीपासून': 4113, 'जर्मनीबद्दल': 4114, 'जर्मनीमधील': 4115, 'जर्मनीमध्ये': 4116, 'जर्मनीला': 4117, 'जर्मेनिक': 4118, 'जलतरणिकेत': 4119, 'जलदगतीने': 4120, 'जलप्रवास': 4121, 'जळण्याचा': 4122, 'जळत': 4123, 'जळतं': 4124, 'जळतंय': 4125, 'जळताहेत': 4126, 'जळते': 4127, 'जळतो': 4128, 'जळलं': 4129, 'जळला': 4130, 'जळली': 4131, 'जळून': 4132, 'जळेल': 4133, 'जवळ': 4134, 'जवळच': 4135, 'जवळचं': 4136, 'जवळचा': 4137, 'जवळची': 4138, 'जवळचे': 4139, 'जवळच्या': 4140, 'जवळजवळ': 4141, 'जवळपास': 4142, 'जवळपासच': 4143, 'जवळपासच्या': 4144, 'जवळून': 4145, 'जशी': 4146, 'जश्या': 4147, 'जसं': 4148, 'जसा': 4149, 'जसे': 4150, 'जहाज': 4151, 'जहाजं': 4152, 'जहाजांमधून': 4153, 'जहाजाचा': 4154, 'जहाजात': 4155, 'जहाजाला': 4156, 'जहाजावर': 4157, 'ज़ायला': 4158, 'जा': 4159, 'जांभळं': 4160, 'जांभळा': 4161, 'जाईन': 4162, 'जाईल': 4163, 'जाईलच': 4164, 'जाईल।': 4165, 'जाउया': 4166, 'जाऊ': 4167, 'जाऊन': 4168, 'जाऊया': 4169, 'जाग': 4170, 'जागं': 4171, 'जागतिक': 4172, 'जागलो': 4173, 'जागवलं': 4174, 'जागा': 4175, 'जागी': 4176, 'जागून': 4177, 'जागृत': 4178, 'जागे': 4179, 'जागेचं': 4180, 'जागेची': 4181, 'जागेत': 4182, 'जागेपासून': 4183, 'जाग्या': 4184, 'जाडं': 4185, 'जाडा': 4186, 'जाडाच': 4187, 'जाडी': 4188, 'जाडे': 4189, 'जाड्या': 4190, 'जाणणे': 4191, 'जाणते': 4192, 'जाणवत': 4193, 'जाणवतेय': 4194, 'जाणवतोय': 4195, 'जाणवलं': 4196, 'जाणवला': 4197, 'जाणार': 4198, 'जाणारच': 4199, 'जाणारा': 4200, 'जाणारी': 4201, 'जाणारे': 4202, 'जाणार्\\u200dया': 4203, 'जाणीव': 4204, 'जाणीवच': 4205, 'जाणून': 4206, 'जाणे': 4207, 'जाण्याअगोदर': 4208, 'जाण्याआधी': 4209, 'जाण्याइतपत': 4210, 'जाण्याकरता': 4211, 'जाण्याचं': 4212, 'जाण्याचा': 4213, 'जाण्याची': 4214, 'जाण्यापूर्वी': 4215, 'जाण्यापेक्षा': 4216, 'जाण्याशिवाय': 4217, 'जाण्यासाठी': 4218, 'जाण्यासारखं': 4219, 'जात': 4220, 'जातं': 4221, 'जातंय': 4222, 'जातय': 4223, 'जाता': 4224, 'जातात': 4225, 'जाताना': 4226, 'जाताय': 4227, 'जाताहेत': 4228, 'जातीकडे': 4229, 'जातील': 4230, 'जाते': 4231, 'जातेय': 4232, 'जातेयस': 4233, 'जातेस': 4234, 'जातो': 4235, 'जातोच': 4236, 'जातोय': 4237, 'जातोयस': 4238, 'जातोस': 4239, 'जादू': 4240, 'जादूगार': 4241, 'जादूत': 4242, 'जादूवर': 4243, 'जानेवारी': 4244, 'जानेवारीला': 4245, 'जापा': 4246, 'जापान': 4247, 'जापानचे': 4248, 'जापानी': 4249, 'जामेनहोफ': 4250, 'जायंट्स': 4251, 'जायचं': 4252, 'जायचंच': 4253, 'जायचंय': 4254, 'जायचंही': 4255, 'जायचा': 4256, 'जायचाच': 4257, 'जायची': 4258, 'जायचे': 4259, 'जायचो': 4260, 'जायच्या': 4261, 'जायन्ट्स': 4262, 'जायला': 4263, 'जायलाच': 4264, 'जारकर्म': 4265, 'जाल': 4266, 'जाळ': 4267, 'जाळता': 4268, 'जाळतात': 4269, 'जाळतील': 4270, 'जाळते': 4271, 'जाळलं': 4272, 'जाळला': 4273, 'जाळून': 4274, 'जावं': 4275, 'जावसं': 4276, 'जाव्हास्क्रिप्ट': 4277, 'जाव्हास्क्रिप्टमध्ये': 4278, 'जाशील': 4279, 'जास्त': 4280, 'जास्तच': 4281, 'जास्तीतजास्त': 4282, 'जाहिरात': 4283, 'जाहिराती': 4284, 'जाहीर': 4285, 'जाहीरपणे': 4286, 'जिंकणं': 4287, 'जिंकणार': 4288, 'जिंकणे': 4289, 'जिंकण्याची': 4290, 'जिंकण्यात': 4291, 'जिंकण्यासाठी': 4292, 'जिंकत': 4293, 'जिंकतं': 4294, 'जिंकतंय': 4295, 'जिंकतच': 4296, 'जिंकतात': 4297, 'जिंकतील': 4298, 'जिंकते': 4299, 'जिंकतो': 4300, 'जिंकतोय': 4301, 'जिंकलं': 4302, 'जिंकला': 4303, 'जिंकलात': 4304, 'जिंकलास': 4305, 'जिंकली': 4306, 'जिंकलीस': 4307, 'जिंकले': 4308, 'जिंकलेय': 4309, 'जिंकलेली': 4310, 'जिंकलो': 4311, 'जिंकलोय': 4312, 'जिंकल्या': 4313, 'जिंकवून': 4314, 'जिंकायचं': 4315, 'जिंकायचंच': 4316, 'जिंकायचंय': 4317, 'जिंकायचा': 4318, 'जिंकायची': 4319, 'जिंकायचे': 4320, 'जिंकायला': 4321, 'जिंकायलाच': 4322, 'जिंकू': 4323, 'जिंकून': 4324, 'जिंकेल': 4325, 'जिंबाब्वे': 4326, 'जिचं': 4327, 'जिचा': 4328, 'जिचे': 4329, 'जिज्ञासू': 4330, 'जितकं': 4331, 'जितका': 4332, 'जितकी': 4333, 'जितके': 4334, 'जितक्या': 4335, 'जिथे': 4336, 'जिथेजिथे': 4337, 'जिथेही': 4338, 'जिने': 4339, 'जिप': 4340, 'जिब्राल्टर': 4341, 'जिममध्ये': 4342, 'जिमला': 4343, 'जिमी': 4344, 'जिम्मेदार': 4345, 'जिराफ': 4346, 'जिला': 4347, 'जिल्ह्यांमध्ये': 4348, 'जिवंत': 4349, 'जिवाची': 4350, 'जी': 4351, 'जीआयएफ': 4352, 'जीआयशी': 4353, 'जीएमटीपर्यंत': 4354, 'जीन्स': 4355, 'जीभ': 4356, 'जीव': 4357, 'जीवन': 4358, 'जीवनकथा': 4359, 'जीवनच': 4360, 'जीवनाची': 4361, 'जीवनाबद्दल': 4362, 'जीवनासाठी': 4363, 'जीवाणू': 4364, 'जीवाणूंमुळे': 4365, 'जुगार': 4366, 'जुगारगृहांमध्ये': 4367, 'जुगाराची': 4368, 'जुगारी': 4369, 'जुनं': 4370, 'जुना': 4371, 'जुनी': 4372, 'जुने': 4373, 'जुन्या': 4374, 'जुलियन': 4375, 'जुलै': 4376, 'जुलैपर्यंत': 4377, 'जुलैला': 4378, 'जुळा': 4379, 'जुळी': 4380, 'जुळे': 4381, 'जुळ्या': 4382, 'जून': 4383, 'जूनच्या': 4384, 'जूनमध्ये': 4385, 'जूम': 4386, 'जॅक': 4387, 'जॅकसन': 4388, 'जॅकेट': 4389, 'जॅकेटच्या': 4390, 'जॅक्सन': 4391, 'जॅक्सनचं': 4392, 'जॅक्सनची': 4393, 'जॅक्सनच्या': 4394, 'जॅक्सनने': 4395, 'जॅक्सनला': 4396, 'जॅक्सनांकडे': 4397, 'जॅक्सनांना': 4398, 'जॅज': 4399, 'जॅझ': 4400, 'जॅझचं': 4401, 'जॅम': 4402, 'जॅममध्ये': 4403, 'जे': 4404, 'जेंटलमेन': 4405, 'जेऊ': 4406, 'जेथे': 4407, 'जेनीव्हा': 4408, 'जेफर्सनने': 4409, 'जेम्स': 4410, 'जेलमध्ये': 4411, 'जेलला': 4412, 'जेली': 4413, 'जेव': 4414, 'जेवढं': 4415, 'जेवढा': 4416, 'जेवढ्या': 4417, 'जेवण': 4418, 'जेवणाआधी': 4419, 'जेवणात': 4420, 'जेवणानंतर': 4421, 'जेवणाबरोबर': 4422, 'जेवणासाठी': 4423, 'जेवत': 4424, 'जेवतात': 4425, 'जेवताना': 4426, 'जेवते': 4427, 'जेवतेय': 4428, 'जेवतो': 4429, 'जेवतोय': 4430, 'जेवला': 4431, 'जेवलास': 4432, 'जेवलीस': 4433, 'जेवले': 4434, 'जेवलो': 4435, 'जेवल्या': 4436, 'जेवल्यानंतर': 4437, 'जेवल्याबरोबरच': 4438, 'जेवशील': 4439, 'जेवा': 4440, 'जेवायचं': 4441, 'जेवायचे': 4442, 'जेवायचो': 4443, 'जेवायला': 4444, 'जेवाल': 4445, 'जेवावंसं': 4446, 'जेवू': 4447, 'जेवून': 4448, 'जेवूया': 4449, 'जेवेल': 4450, 'जेव्हा': 4451, 'जेव्हाजेव्हा': 4452, 'जेव्हाही': 4453, 'जेशूच्या': 4454, 'जॉगिंग': 4455, 'जॉन': 4456, 'जॉनचं': 4457, 'जॉनचा': 4458, 'जॉनच्या': 4459, 'जॉनने': 4460, 'जॉनपेक्षा': 4461, 'जॉनबद्दल': 4462, 'जॉनबरोबर': 4463, 'जॉनबाबत': 4464, 'जॉनला': 4465, 'जॉनवर': 4466, 'जॉनशी': 4467, 'जॉनसारखा': 4468, 'जॉनी': 4469, 'जॉर्ज': 4470, 'जॉर्जला': 4471, 'जॉर्जेस': 4472, 'जो': 4473, 'जोक': 4474, 'जोकने': 4475, 'जोकर': 4476, 'जोकवर': 4477, 'जोखीम': 4478, 'जोडतो': 4479, 'जोडपं': 4480, 'जोडलं': 4481, 'जोडे': 4482, 'जोतेयस': 4483, 'जोतोयस': 4484, 'जोरजोरात': 4485, 'जोरदार': 4486, 'जोरात': 4487, 'ज्ञान': 4488, 'ज्ञानाबरोबरच': 4489, 'ज्ञानासोबतच': 4490, 'ज्या': 4491, 'ज्यांची': 4492, 'ज्यांना': 4493, 'ज्यांनाही': 4494, 'ज्यांनी': 4495, 'ज्याचं': 4496, 'ज्याची': 4497, 'ज्याचे': 4498, 'ज्याच्या': 4499, 'ज्याच्याकडे': 4500, 'ज्यात': 4501, 'ज्यातून': 4502, 'ज्याने': 4503, 'ज्यामुळे': 4504, 'ज्याला': 4505, 'ज्यासाठी': 4506, 'ज्योतिषशास्त्रात': 4507, 'ज्वालामुखी': 4508, 'झकास': 4509, 'झगडायला': 4510, 'झटकन': 4511, 'झटपट': 4512, 'झ़ालं': 4513, 'झ़ाला': 4514, 'झाकण': 4515, 'झाकले': 4516, 'झाड': 4517, 'झाडं': 4518, 'झाडली': 4519, 'झाडांची': 4520, 'झाडांमध्ये': 4521, 'झाडांवर': 4522, 'झाडांवरून': 4523, 'झाडाखाली': 4524, 'झाडात': 4525, 'झाडापाठी': 4526, 'झाडापासून': 4527, 'झाडामागे': 4528, 'झाडाला': 4529, 'झाडावर': 4530, 'झाडावरच्या': 4531, 'झाडावरती': 4532, 'झाडावरून': 4533, 'झाडू': 4534, 'झालं': 4535, 'झालंय': 4536, 'झालय': 4537, 'झाला': 4538, 'झालाच': 4539, 'झालात': 4540, 'झालाय': 4541, 'झालायत': 4542, 'झालायस': 4543, 'झालास': 4544, 'झाली': 4545, 'झालीच': 4546, 'झालीय': 4547, 'झालीये': 4548, 'झालीस': 4549, 'झाले': 4550, 'झालेत': 4551, 'झालेलं': 4552, 'झालेला': 4553, 'झालेली': 4554, 'झालेले': 4555, 'झालेल्या': 4556, 'झालो': 4557, 'झालोच': 4558, 'झाल्या': 4559, 'झाल्यानंतर': 4560, 'झाल्याबरोबरच': 4561, 'झाल्यावर': 4562, 'झिंक': 4563, 'झुगस्पित्झ': 4564, 'झुरळं': 4565, 'झुरळांच्या': 4566, 'झुलू': 4567, 'झेंडा': 4568, 'झेंड्याचे': 4569, 'झेंड्यात': 4570, 'झेंड्याला': 4571, 'झेंड्यावर': 4572, 'झेरॉक्स': 4573, 'झोप': 4574, 'झोपडी': 4575, 'झोपणार': 4576, 'झोपणारच': 4577, 'झोपण्याची': 4578, 'झोपण्यापूर्वी': 4579, 'झोपत': 4580, 'झोपता': 4581, 'झोपतात': 4582, 'झोपताना': 4583, 'झोपतील': 4584, 'झोपते': 4585, 'झोपतेय': 4586, 'झोपतो': 4587, 'झोपतोय': 4588, 'झोपलं': 4589, 'झोपलंय': 4590, 'झोपला': 4591, 'झोपलात': 4592, 'झोपलाय': 4593, 'झोपलास': 4594, 'झोपली': 4595, 'झोपलीस': 4596, 'झोपले': 4597, 'झोपलेलं': 4598, 'झोपलेला': 4599, 'झोपलेलात': 4600, 'झोपलेलास': 4601, 'झोपलेली': 4602, 'झोपलेलीस': 4603, 'झोपलेले': 4604, 'झोपलेलो': 4605, 'झोपलो': 4606, 'झोपल्या': 4607, 'झोपव': 4608, 'झोपवा': 4609, 'झोपशील': 4610, 'झोपा': 4611, 'झोपायचं': 4612, 'झोपायचंय': 4613, 'झोपायचा': 4614, 'झोपायची': 4615, 'झोपायच्या': 4616, 'झोपायला': 4617, 'झोपू': 4618, 'झोपून': 4619, 'झोपूया': 4620, 'झोपेची': 4621, 'झोपेत': 4622, 'झोपेतच': 4623, 'झोपेन': 4624, 'झोपेशी': 4625, 'टँक': 4626, 'टँगो': 4627, 'टक': 4628, 'टकलू': 4629, 'टक्कल': 4630, 'टक्के': 4631, 'टक्क्यांनी': 4632, 'टक्सीडो': 4633, 'टक्सीडोवर': 4634, 'टगालोग': 4635, 'टचडाउनने': 4636, 'टणटणीत': 4637, 'टर्की': 4638, 'टर्कीची': 4639, 'टांझानियामध्ये': 4640, 'टाइप': 4641, 'टाइम': 4642, 'टाइमपास': 4643, 'टाइम्स': 4644, 'टाईप': 4645, 'टाईपरायटर': 4646, 'टाईम्स': 4647, 'टाक': 4648, 'टाकणार': 4649, 'टाकणार्\\u200dया': 4650, 'टाकण्याऐवजी': 4651, 'टाकण्याचा': 4652, 'टाकण्याची': 4653, 'टाकण्यात': 4654, 'टाकण्यासाठी': 4655, 'टाकत': 4656, 'टाकतील': 4657, 'टाकतेय': 4658, 'टाकतो': 4659, 'टाकतोय': 4660, 'टाकलं': 4661, 'टाकलंस': 4662, 'टाकला': 4663, 'टाकलास': 4664, 'टाकली': 4665, 'टाकले': 4666, 'टाकलेलं': 4667, 'टाकल्या': 4668, 'टाकशील': 4669, 'टाका': 4670, 'टाकायचं': 4671, 'टाकायचा': 4672, 'टाकायला': 4673, 'टाकी': 4674, 'टाकीत': 4675, 'टाकीतल्या': 4676, 'टाकू': 4677, 'टाकून': 4678, 'टाकूया': 4679, 'टाकेन': 4680, 'टाकेल': 4681, 'टाको': 4682, 'टाचणी': 4683, 'टाय': 4684, 'टायची': 4685, 'टायटॅनिकला': 4686, 'टायर': 4687, 'टायरमध्ये': 4688, 'टायसन': 4689, 'टाळता': 4690, 'टाळी': 4691, 'टाळ्या': 4692, 'टिकटिकीचा': 4693, 'टिकतं': 4694, 'टिकलं': 4695, 'टिकला': 4696, 'टिकली': 4697, 'टिकि': 4698, 'टिकीट': 4699, 'टिकून': 4700, 'टिप': 4701, 'टी': 4702, 'टीका': 4703, 'टीम': 4704, 'टीमचा': 4705, 'टीममध्ये': 4706, 'टीव्ही': 4707, 'टीव्हीचा': 4708, 'टीव्हीची': 4709, 'टीव्हीवर': 4710, 'टीव्हीवरील': 4711, 'टीव्हीशिवाय': 4712, 'टीशर्ट': 4713, 'टुना': 4714, 'टुलिप': 4715, 'टूथपेस्ट': 4716, 'टूरच्या': 4717, 'टॅक्सी': 4718, 'टॅक्सीचं': 4719, 'टॅक्सीचालकावर': 4720, 'टॅक्सीची': 4721, 'टॅक्सीत': 4722, 'टॅक्सीतून': 4723, 'टॅक्सीने': 4724, 'टॅक्सीमधून': 4725, 'टॅक्स्या': 4726, 'टॅटू': 4727, 'टॅन्गोचा': 4728, 'टेकडीच्या': 4729, 'टेकडीवर': 4730, 'टेकडीवरची': 4731, 'टेकडीवरून': 4732, 'टेकले': 4733, 'टेक्निशियन': 4734, 'टेक्सन': 4735, 'टेक्सन्स': 4736, 'टेक्ससचा': 4737, 'टेक्ससच्या': 4738, 'टेक्ससबद्दल': 4739, 'टेक्ससमधील': 4740, 'टेक्ससला': 4741, 'टेक्स्ट': 4742, 'टेट्रिस': 4743, 'टेनसी': 4744, 'टेनसीची': 4745, 'टेनिस': 4746, 'टेनिसची': 4747, 'टेनिसपेक्षा': 4748, 'टेनीस': 4749, 'टेनीसचा': 4750, 'टेप': 4751, 'टेपची': 4752, 'टेबल': 4753, 'टेबलच्या': 4754, 'टेबलवर': 4755, 'टेबलाखाली': 4756, 'टेबलाच्या': 4757, 'टेबलापाशी': 4758, 'टेबलाभोवती': 4759, 'टेबलावर': 4760, 'टेबलावरचा': 4761, 'टेबलावरच्या': 4762, 'टेबलावरती': 4763, 'टेबलावरील': 4764, 'टेबलावरून': 4765, 'टेम्स': 4766, 'टेय्लर': 4767, 'टेरीसा': 4768, 'टेरेसवर': 4769, 'टेरेसवरून': 4770, 'टेरेसाला': 4771, 'टेलने': 4772, 'टेलिग्राम': 4773, 'टेलिफोन': 4774, 'टेलिफोनचा': 4775, 'टेस्ट': 4776, 'टेस्टमध्ये': 4777, 'टॉक्यो': 4778, 'टॉचं': 4779, 'टॉन': 4780, 'टॉन्सिलायटिस': 4781, 'टॉम': 4782, 'टॉमइतका': 4783, 'टॉमइतकी': 4784, 'टॉमएवढा': 4785, 'टॉमएवढी': 4786, 'टॉमकडून': 4787, 'टॉमकडे': 4788, 'टॉमच': 4789, 'टॉमचं': 4790, 'टॉमचंही': 4791, 'टॉमच़ं': 4792, 'टॉमचा': 4793, 'टॉमची': 4794, 'टॉमचे': 4795, 'टॉमच्या': 4796, 'टॉमडे': 4797, 'टॉमदेखील': 4798, 'टॉमना': 4799, 'टॉमनी': 4800, 'टॉमने': 4801, 'टॉमनेच': 4802, 'टॉमपासून': 4803, 'टॉमपेक्षा': 4804, 'टॉमबद्दल': 4805, 'टॉमबरोबर': 4806, 'टॉममुळे': 4807, 'टॉमला': 4808, 'टॉमलाच': 4809, 'टॉमलासुद्धा': 4810, 'टॉमलाही': 4811, 'टॉमवर': 4812, 'टॉमवरती': 4813, 'टॉमशिवाय': 4814, 'टॉमशी': 4815, 'टॉमस': 4816, 'टॉमसहित': 4817, 'टॉमसा': 4818, 'टॉमसाठी': 4819, 'टॉमसारखं': 4820, 'टॉमसारखा': 4821, 'टॉमसारखी': 4822, 'टॉमसारखे': 4823, 'टॉमसारख्या': 4824, 'टॉमसुद्धा': 4825, 'टॉमसोबत': 4826, 'टॉमही': 4827, 'टॉमीच': 4828, 'टॉमेने': 4829, 'टॉयलेट': 4830, 'टॉयलेटमध्ये': 4831, 'टॉरोंटोला': 4832, 'टॉर्च': 4833, 'टॉवर': 4834, 'टॉवेल': 4835, 'टॉवेलची': 4836, 'टॉवेलने': 4837, 'टोकाला': 4838, 'टोकावर': 4839, 'टोकियो': 4840, 'टोकियोइतकं': 4841, 'टोकियोत': 4842, 'टोक्यो': 4843, 'टोक्योची': 4844, 'टोक्योत': 4845, 'टोक्योपासून': 4846, 'टोक्योपेक्षा': 4847, 'टोक्योमध्ये': 4848, 'टोचली': 4849, 'टोचून': 4850, 'टोपली': 4851, 'टोपलीत': 4852, 'टोपलीतली': 4853, 'टोपी': 4854, 'टोपीची': 4855, 'टोपीशिवाय': 4856, 'टोप्या': 4857, 'टोफू': 4858, 'टोमॅटो': 4859, 'टोमॅटोची': 4860, 'टोरी': 4861, 'टोरीज': 4862, 'टोर्टेल्लिनी': 4863, 'टोळीची': 4864, 'टोळ्यांकडे': 4865, 'टोस्ट': 4866, 'टोस्टर': 4867, 'टोस्टरमध्ये': 4868, 'टोस्टवर': 4869, 'ट्यून': 4870, 'ट्यूब': 4871, 'ट्रंपेट': 4872, 'ट्रक': 4873, 'ट्रकमध्ये': 4874, 'ट्रकांमुळे': 4875, 'ट्रकात': 4876, 'ट्राँबोन': 4877, 'ट्राउट': 4878, 'ट्रायअॅथलॉन': 4879, 'ट्रायसिकल': 4880, 'ट्रुमन': 4881, 'ट्रूमनची': 4882, 'ट्रॅकिंग': 4883, 'ट्रॅफिक': 4884, 'ट्रॅफिकमध्ये': 4885, 'ट्रॅव्हल': 4886, 'ट्रे': 4887, 'ट्रेंटन': 4888, 'ट्रेड': 4889, 'ट्रेन': 4890, 'ट्रेनने': 4891, 'ट्रेनमध्ये': 4892, 'ट्रेनला': 4893, 'ट्रेनवर': 4894, 'ट्रेलर': 4895, 'ट्रॉम्बोन': 4896, 'ट्वाय्न': 4897, 'ट्विटर': 4898, 'ट्विटरवर': 4899, 'ठरतं': 4900, 'ठरलं': 4901, 'ठरला': 4902, 'ठरले': 4903, 'ठरव': 4904, 'ठरवण्यात': 4905, 'ठरवतील': 4906, 'ठरवलं': 4907, 'ठरवलंत': 4908, 'ठरवलंय': 4909, 'ठरवलंस': 4910, 'ठरवला': 4911, 'ठरवलेलं': 4912, 'ठरवा': 4913, 'ठरवायचं': 4914, 'ठरवायची': 4915, 'ठरवायला': 4916, 'ठरवावं': 4917, 'ठरवेन': 4918, 'ठरवेल': 4919, 'ठराल': 4920, 'ठरेल': 4921, 'ठसा': 4922, 'ठसे': 4923, 'ठाऊक': 4924, 'ठाणे': 4925, 'ठाण्यात': 4926, 'ठामपणे': 4927, 'ठार': 4928, 'ठिकाण': 4929, 'ठिकाणी': 4930, 'ठीक': 4931, 'ठीकठाक': 4932, 'ठीकपणे': 4933, 'ठेव': 4934, 'ठेवणं': 4935, 'ठेवणार': 4936, 'ठेवण्यात': 4937, 'ठेवत': 4938, 'ठेवतं': 4939, 'ठेवतंय': 4940, 'ठेवता': 4941, 'ठेवतात': 4942, 'ठेवताना': 4943, 'ठेवतील': 4944, 'ठेवते': 4945, 'ठेवतेस': 4946, 'ठेवतो': 4947, 'ठेवतोय': 4948, 'ठेवतोस': 4949, 'ठेवलं': 4950, 'ठेवलंत': 4951, 'ठेवलंय': 4952, 'ठेवलंस': 4953, 'ठेवला': 4954, 'ठेवलात': 4955, 'ठेवलास': 4956, 'ठेवली': 4957, 'ठेवलीत': 4958, 'ठेवलीस': 4959, 'ठेवले': 4960, 'ठेवल्या': 4961, 'ठेवा': 4962, 'ठेवायचं': 4963, 'ठेवायचा': 4964, 'ठेवायला': 4965, 'ठेवावे': 4966, 'ठेवू': 4967, 'ठेवून': 4968, 'ठेवूनच': 4969, 'ठेवूया': 4970, 'ठेवेन': 4971, 'ठेवेल': 4972, 'ठोकला': 4973, 'ठोकली': 4974, 'ठोकले': 4975, 'ठोकलो': 4976, 'ठोकूया': 4977, 'डंपलिंग्ज': 4978, 'डंबो': 4979, 'डच': 4980, 'डचची': 4981, 'डचेस': 4982, 'डझन': 4983, 'डझनच्या': 4984, 'डझनभर': 4985, 'डझनाच्या': 4986, 'डबलक्लिक': 4987, 'डब्लिन': 4988, 'डाउनलोड': 4989, 'डाऊन': 4990, 'डाकघर': 4991, 'डाग': 4992, 'डानजिग': 4993, 'डान्सर': 4994, 'डायट': 4995, 'डायटवर': 4996, 'डायनर': 4997, 'डायनामाइटचा': 4998, 'डायनोसॉर': 4999, 'डायपर': 5000, 'डायरी': 5001, 'डायरीच्या': 5002, 'डायरीत': 5003, 'डायलअप': 5004, 'डार्क': 5005, 'डार्ट': 5006, 'डार्ट्स': 5007, 'डार्विनने': 5008, 'डार्सी': 5009, 'डावा': 5010, 'डावीकडचा': 5011, 'डावीकडची': 5012, 'डावीकडे': 5013, 'डाव्या': 5014, 'डास': 5015, 'डासांना': 5016, 'डिकीत': 5017, 'डिकॅफिनेटेड': 5018, 'डिक्सीलँड': 5019, 'डिजाइनचा': 5020, 'डिजाईनचा': 5021, 'डिज्नीलँडला': 5022, 'डिज्नीलॅंडची': 5023, 'डिझनीलँड': 5024, 'डिझाइन': 5025, 'डिझाइनर': 5026, 'डिझाईनचा': 5027, 'डिझ्नीलँडला': 5028, 'डिटेक्टिव्ह': 5029, 'डिप्लोमा': 5030, 'डिरेक्टरी': 5031, 'डिलिव्हर': 5032, 'डिलीट': 5033, 'डिश': 5034, 'डिशवॉशर': 5035, 'डिसेंबर': 5036, 'डिसेंबरमध्ये': 5037, 'डिस्क': 5038, 'डिस्काउंट': 5039, 'डिस्को': 5040, 'डिस्ट्रिब्यूशन': 5041, 'डीजे': 5042, 'डीफ्रॅगमेंट': 5043, 'डुकरं': 5044, 'डुकराचे': 5045, 'डुकरासारखा': 5046, 'डुकाराचं': 5047, 'डुकाराचे': 5048, 'डुक्कर': 5049, 'डुपकी': 5050, 'डूकेनची': 5051, 'डॅनझिग': 5052, 'डॅनिएल': 5053, 'डॅनिएल्स': 5054, 'डॅन्यूबमध्ये': 5055, 'डॅफोडिल': 5056, 'डॅल्टनने': 5057, 'डे': 5058, 'डेंटिस्ट': 5059, 'डेंटिस्टकडे': 5060, 'डेट': 5061, 'डेटिंग': 5062, 'डेट्रॉइट': 5063, 'डेनमार्कच्या': 5064, 'डेनांनी': 5065, 'डेन्मार्क': 5066, 'डेन्मार्कची': 5067, 'डेपचा': 5068, 'डेमोक्रॅट': 5069, 'डेमोक्रॅटिक': 5070, 'डेला': 5071, 'डेव्हनशरमध्ये': 5072, 'डेस्क': 5073, 'डेस्कच्या': 5074, 'डेस्कटॉपपेक्षा': 5075, 'डेस्कमध्ये': 5076, 'डेस्कवर': 5077, 'डेस्कवरील': 5078, 'डेस्खमध्ये': 5079, 'डॉ': 5080, 'डॉक्टर': 5081, 'डॉक्टरकडे': 5082, 'डॉक्टरच': 5083, 'डॉक्टरने': 5084, 'डॉक्टरला': 5085, 'डॉक्टरशी': 5086, 'डॉक्टरही': 5087, 'डॉक्टरांना': 5088, 'डॉक्टरांनी': 5089, 'डॉक्टराकडे': 5090, 'डॉक्टरीण': 5091, 'डॉक्युमेन्टरी': 5092, 'डॉट': 5093, 'डॉमिनोज': 5094, 'डॉलर': 5095, 'डॉलरचा': 5096, 'डॉलरची': 5097, 'डॉलरचे': 5098, 'डॉलरपेक्षा': 5099, 'डॉलरमध्ये': 5100, 'डॉलर्सची': 5101, 'डॉल्फिन': 5102, 'डॉल्फिनला': 5103, 'डॉसर': 5104, 'डोंगर': 5105, 'डोंगरा': 5106, 'डोंगरांपेक्षा': 5107, 'डोंगरांमध्ये': 5108, 'डोंगराची': 5109, 'डोंगराच्या': 5110, 'डोंगराला': 5111, 'डोंगरावर': 5112, 'डोंगरी': 5113, 'डोंग्रांमध्ये': 5114, 'डोंबकावळा': 5115, 'डोकं': 5116, 'डोकंबिकं': 5117, 'डोकावून': 5118, 'डोकेदुखीसाठी': 5119, 'डोकोदुखी': 5120, 'डोक्याच्या': 5121, 'डोक्यावर': 5122, 'डोक्यावरच्या': 5123, 'डोनट': 5124, 'डोनेट्स्क': 5125, 'डोन्ट': 5126, 'डोमला': 5127, 'डोळा': 5128, 'डोळे': 5129, 'डोळ्यांत': 5130, 'डोळ्यांतील': 5131, 'डोळ्यांतून': 5132, 'डोळ्यांमध्ये': 5133, 'डोळ्यांवर': 5134, 'डोळ्यांसाठी': 5135, 'डोळ्याच्या': 5136, 'डोळ्यात': 5137, 'डोळ्यातून': 5138, 'डोळ्याला': 5139, 'ड्युवी': 5140, 'ड्यूटी': 5141, 'ड्यूटीवर': 5142, 'ड्यूवी': 5143, 'ड्रमर': 5144, 'ड्रम्सही': 5145, 'ड्राइव्ह': 5146, 'ड्राइव्हवर': 5147, 'ड्राईव्हिंग': 5148, 'ड्रायव्हर': 5149, 'ड्रायव्हरची': 5150, 'ड्रायव्हरशी': 5151, 'ड्रिंक': 5152, 'ड्रॅगन': 5153, 'ड्रॅगनचा': 5154, 'ड्रॅगनफ्रूट': 5155, 'ड्रॅगन्स': 5156, 'ड्रेस': 5157, 'ड्रेसचा': 5158, 'ड्रेसपेक्षा': 5159, 'ड्रेसमध्ये': 5160, 'ड्रेसिंग': 5161, 'ड्रॉवर': 5162, 'ड्रॉवरमध्ये': 5163, 'ड्रोन': 5164, 'ड्वाइट': 5165, 'ड्व्हॉरॅक': 5166, 'ढकलणं': 5167, 'ढकलत': 5168, 'ढकललं': 5169, 'ढकलायचा': 5170, 'ढकलून': 5171, 'ढग': 5172, 'ढगांमागे': 5173, 'ढगाला': 5174, 'ढवळलं': 5175, 'ढवळला': 5176, 'ढवळली': 5177, 'ढेकर': 5178, 'तंत्रज्ञ': 5179, 'तंत्रज्ञान': 5180, 'तंत्रज्ञानाच्या': 5181, 'तंत्रज्ञानात': 5182, 'तंत्रज्ञानाने': 5183, 'तंदुरी': 5184, 'तंबू': 5185, 'तक्रार': 5186, 'तक्रारच': 5187, 'तज्ञ': 5188, 'तत्त्वज्ञान': 5189, 'तत्त्वज्ञानी': 5190, 'तपकिरी': 5191, 'तपास': 5192, 'तपासणी': 5193, 'तपासत': 5194, 'तपासलं': 5195, 'तपासले': 5196, 'तपासा': 5197, 'तपासायला': 5198, 'तपासून': 5199, 'तब्येत': 5200, 'तब्येतीची': 5201, 'तब्येतीबद्दल': 5202, 'तमची': 5203, 'तयार': 5204, 'तयारी': 5205, 'तर': 5206, 'तरंगत': 5207, 'तरंगतं': 5208, 'तरंगेल': 5209, 'तरच': 5210, 'तरणतलावात': 5211, 'तरी': 5212, 'तरीच': 5213, 'तरीसुद्धा': 5214, 'तरीही': 5215, 'तरुण': 5216, 'तरुणपणी': 5217, 'तरुणपणेतच': 5218, 'तरुणांकडे': 5219, 'तरुणांची': 5220, 'तरुणांना': 5221, 'तरुणांनी': 5222, 'तरूण': 5223, 'तरून': 5224, 'तर्कशास्त्र': 5225, 'तर्कांनी': 5226, 'तर्फे': 5227, 'तलवार': 5228, 'तलवारीचा': 5229, 'तलवारीने': 5230, 'तलवारीनेच': 5231, 'तलवारीवरचं': 5232, 'तलाव': 5233, 'तलावाकडे': 5234, 'तलावाच्या': 5235, 'तलावाजवळ': 5236, 'तलावात': 5237, 'तलावातलं': 5238, 'तलावापाशी': 5239, 'तलावापेक्षा': 5240, 'तलावावर': 5241, 'तलाशी': 5242, 'तळघरात': 5243, 'तळमजल्यावर': 5244, 'तळले': 5245, 'तळलेलं': 5246, 'तळलेली': 5247, 'तळलेले': 5248, 'तळलेल्या': 5249, 'तळून': 5250, 'तवा': 5251, 'तशी': 5252, 'तशीच': 5253, 'तश्या': 5254, 'तश्याच': 5255, 'तसं': 5256, 'तसंच': 5257, 'तसंच्या': 5258, 'तसंही': 5259, 'तसलं': 5260, 'तसलंच': 5261, 'तसला': 5262, 'तसली': 5263, 'तसले': 5264, 'तसल्या': 5265, 'तसा': 5266, 'तसाच': 5267, 'तसाही': 5268, 'तसे': 5269, 'तसेच': 5270, 'तहान': 5271, 'तहोनलेली': 5272, 'तहोनलेलो': 5273, 'तांदळाचा': 5274, 'तांदळापासून': 5275, 'तांदुळाचा': 5276, 'तांदूळ': 5277, 'तांबवू': 5278, 'तांबे': 5279, 'ताइवान': 5280, 'ताई': 5281, 'ताईकडे': 5282, 'ताईचं': 5283, 'ताईचा': 5284, 'ताईची': 5285, 'ताईने': 5286, 'ताईबरोबर': 5287, 'ताईला': 5288, 'ताईशी': 5289, 'ताईसोबत': 5290, 'ताकद': 5291, 'ताकदवान': 5292, 'ताज': 5293, 'ताजा': 5294, 'ताजिक': 5295, 'ताजी': 5296, 'ताजे': 5297, 'ताज्या': 5298, 'ताट': 5299, 'ताटात': 5300, 'ताटातली': 5301, 'ताटावरचं': 5302, 'तातडीने': 5303, 'तातामी': 5304, 'तातामीवर': 5305, 'तातोएबाचा': 5306, 'तात्पुरतं': 5307, 'ताप': 5308, 'तापला': 5309, 'ताबडतोब': 5310, 'ताबा': 5311, 'ताब्यात': 5312, 'तार': 5313, 'तारखेला': 5314, 'तारा': 5315, 'तारामंडळी': 5316, 'तारीख': 5317, 'तारुण्याचा': 5318, 'तारुण्यातच': 5319, 'तारे': 5320, 'तास': 5321, 'तासंतास': 5322, 'तासभर': 5323, 'तासांच्या': 5324, 'तासांत': 5325, 'तासांनंतर': 5326, 'तासांपासून': 5327, 'तासांपूर्वी': 5328, 'तासांपूर्वीच': 5329, 'तासांपेक्षा': 5330, 'तासांमध्ये': 5331, 'तासांसाठी': 5332, 'तासाचे': 5333, 'तासाच्या': 5334, 'तासात': 5335, 'तासानंतर': 5336, 'तासापूर्वी': 5337, 'तासापूर्वीच': 5338, 'तासापेक्षा': 5339, 'तासाभरात': 5340, 'तासासाठी': 5341, 'तिएन': 5342, 'तिकडच्या': 5343, 'तिकडे': 5344, 'तिकिटं': 5345, 'तिकीट': 5346, 'तिकीटं': 5347, 'तिकीटाची': 5348, 'तिकीटाचे': 5349, 'तिखट': 5350, 'तिघांना': 5351, 'तिघांनीही': 5352, 'तिघेही': 5353, 'तिचं': 5354, 'तिचंही': 5355, 'तिचा': 5356, 'तिची': 5357, 'तिचे': 5358, 'तिच्या': 5359, 'तिच्याकडून': 5360, 'तिच्याकडे': 5361, 'तिच्यापासून': 5362, 'तिच्यापेक्षा': 5363, 'तिच्याबद्दल': 5364, 'तिच्याबरोबर': 5365, 'तिच्यावर': 5366, 'तिच्याशी': 5367, 'तिच्यासाठी': 5368, 'तिच्यासारखं': 5369, 'तितकं': 5370, 'तितकंच': 5371, 'तितका': 5372, 'तितकी': 5373, 'तितके': 5374, 'तितकेच': 5375, 'तितक्या': 5376, 'तिथपर्यंत': 5377, 'तिथल्या': 5378, 'तिथून': 5379, 'तिथे': 5380, 'तिथेच': 5381, 'तिथेतिथे': 5382, 'तिनं': 5383, 'तिने': 5384, 'तिनेच': 5385, 'तिनेही': 5386, 'तिन्ही': 5387, 'तिप्पटपेक्षा': 5388, 'तिरंदाजाने': 5389, 'तिरस्कार': 5390, 'तिला': 5391, 'तिसरं': 5392, 'तिसरा': 5393, 'तिसरे': 5394, 'तिसर्\\u200dया': 5395, 'तिसर्\\u200dयांदा': 5396, 'ती': 5397, 'तीच': 5398, 'तीन': 5399, 'तीनच': 5400, 'तीनचा': 5401, 'तीनचार': 5402, 'तीनतीन': 5403, 'तीनदा': 5404, 'तीनपर्यंत': 5405, 'तीनशे': 5406, 'तीस': 5407, 'तीसपर्यंत': 5408, 'तीसुद्धा': 5409, 'तीही': 5410, 'तुकडा': 5411, 'तुकडे': 5412, 'तुकड्यावर': 5413, 'तुझं': 5414, 'तुझंच': 5415, 'तुझंय': 5416, 'तुझा': 5417, 'तुझाच': 5418, 'तुझावर': 5419, 'तुझी': 5420, 'तुझीच': 5421, 'तुझे': 5422, 'तुझ्यएवढा': 5423, 'तुझ्यवर': 5424, 'तुझ्या': 5425, 'तुझ्याइतका': 5426, 'तुझ्याइतकी': 5427, 'तुझ्याइतक्या': 5428, 'तुझ्याएवढ्याच': 5429, 'तुझ्याकडून': 5430, 'तुझ्याकडे': 5431, 'तुझ्याच': 5432, 'तुझ्याजवळ': 5433, 'तुझ्यात': 5434, 'तुझ्यापासून': 5435, 'तुझ्यापेक्षा': 5436, 'तुझ्यापेक्षाही': 5437, 'तुझ्याबद्दल': 5438, 'तुझ्याबरोबर': 5439, 'तुझ्याबरोबरच': 5440, 'तुझ्यामागे': 5441, 'तुझ्यामुळे': 5442, 'तुझ्यामुळेच': 5443, 'तुझ्यावर': 5444, 'तुझ्याशिवाय': 5445, 'तुझ्याशी': 5446, 'तुझ्यासठी': 5447, 'तुझ्यासाठी': 5448, 'तुझ्यासारखं': 5449, 'तुझ्यासारखा': 5450, 'तुझ्यासारखाच': 5451, 'तुझ्यासारखी': 5452, 'तुझ्यासारख्या': 5453, 'तुझ्यासोबत': 5454, 'तुटलं': 5455, 'तुटला': 5456, 'तुटली': 5457, 'तुटलेलं': 5458, 'तुटलेला': 5459, 'तुटलेली': 5460, 'तुटलेल्या': 5461, 'तुटल्यावर': 5462, 'तुटेल': 5463, 'तुफान': 5464, 'तुमचं': 5465, 'तुमचंच': 5466, 'तुमचा': 5467, 'तुमचाच': 5468, 'तुमची': 5469, 'तुमचीच': 5470, 'तुमचे': 5471, 'तुमच्या': 5472, 'तुमच्याइतका': 5473, 'तुमच्याइतकाच': 5474, 'तुमच्याइतकी': 5475, 'तुमच्याइतक्या': 5476, 'तुमच्याकडून': 5477, 'तुमच्याकडे': 5478, 'तुमच्याच': 5479, 'तुमच्याजवळ': 5480, 'तुमच्यात': 5481, 'तुमच्यापासून': 5482, 'तुमच्यापेक्षा': 5483, 'तुमच्यापेक्षाही': 5484, 'तुमच्याबद्दल': 5485, 'तुमच्याबरोबर': 5486, 'तुमच्याबरोबरच': 5487, 'तुमच्यामुळे': 5488, 'तुमच्यावर': 5489, 'तुमच्याशिवाय': 5490, 'तुमच्याशी': 5491, 'तुमच्यासाठी': 5492, 'तुमच्यासारखं': 5493, 'तुमच्यासारखा': 5494, 'तुमच्यासारखाच': 5495, 'तुमच्यासारखी': 5496, 'तुमच्यासारख्या': 5497, 'तुमच्यासोबत': 5498, 'तुमला': 5499, 'तुम्हा': 5500, 'तुम्हाला': 5501, 'तुम्हालासुद्धा': 5502, 'तुम्ही': 5503, 'तुम्हीच': 5504, 'तुम्हीसुद्धा': 5505, 'तुम्हीही': 5506, 'तुरुंगवासाची': 5507, 'तुरुंगात': 5508, 'तुरुंगातून': 5509, 'तुरूंगाच्या': 5510, 'तुर्कस्तान': 5511, 'तुर्कस्तानची': 5512, 'तुर्कस्तानमध्ये': 5513, 'तुर्कस्तानी': 5514, 'तुर्कांनी': 5515, 'तुलना': 5516, 'तुलनेत': 5517, 'तुला': 5518, 'तु्': 5519, 'तु्म्ही': 5520, 'तू': 5521, 'तूच': 5522, 'तूपण': 5523, 'तूम्ही': 5524, 'तूसुद्धा': 5525, 'तूही': 5526, 'ते': 5527, 'तेच': 5528, 'तेम्पुरा': 5529, 'तेरा': 5530, 'तेराव्या': 5531, 'तेल': 5532, 'तेलवाहू': 5533, 'तेलाचं': 5534, 'तेलाचा': 5535, 'तेलाची': 5536, 'तेलात': 5537, 'तेलापेक्षा': 5538, 'तेलासाठी': 5539, 'तेवढं': 5540, 'तेवढंच': 5541, 'तेवढच': 5542, 'तेवढा': 5543, 'तेवढाच': 5544, 'तेवढी': 5545, 'तेवढ्या': 5546, 'तेव्हा': 5547, 'तेव्हाच': 5548, 'तेव्हातेव्हा': 5549, 'तेव्हापासून': 5550, 'तेही': 5551, 'तो': 5552, 'तोंड': 5553, 'तोंडात': 5554, 'तोंडातून': 5555, 'तोउदाइजि': 5556, 'तोक्यो': 5557, 'तोच': 5558, 'तोडण्यासाठीच': 5559, 'तोडता': 5560, 'तोडलं': 5561, 'तोडलंत': 5562, 'तोडलंस': 5563, 'तोडला': 5564, 'तोडली': 5565, 'तोडले': 5566, 'तोडल्या': 5567, 'तोडल्याशिवाय': 5568, 'तोडायलाच': 5569, 'तोडू': 5570, 'तोडून': 5571, 'तोत्तोरीकडे': 5572, 'तोत्तोरीला': 5573, 'तोपर्यंत': 5574, 'तोफखाना': 5575, 'तोवर': 5576, 'तोवादा': 5577, 'त्या': 5578, 'त्यांचं': 5579, 'त्यांचा': 5580, 'त्यांची': 5581, 'त्यांचे': 5582, 'त्यांच्या': 5583, 'त्यांच्याकडून': 5584, 'त्यांच्याकडे': 5585, 'त्यांच्यात': 5586, 'त्यांच्यातलं': 5587, 'त्यांच्यातला': 5588, 'त्यांच्यातली': 5589, 'त्यांच्यातले': 5590, 'त्यांच्यातल्या': 5591, 'त्यांच्यातून': 5592, 'त्यांच्यापेक्षा': 5593, 'त्यांच्याबद्दल': 5594, 'त्यांच्याबरोबर': 5595, 'त्यांच्यामधून': 5596, 'त्यांच्यावर': 5597, 'त्यांच्याशी': 5598, 'त्यांच्यासाठी': 5599, 'त्यांच्यासारखं': 5600, 'त्यांच्यासारखा': 5601, 'त्यांच्यासारखी': 5602, 'त्यांच्यासोबत': 5603, 'त्यांतून': 5604, 'त्यांनंतर': 5605, 'त्यांना': 5606, 'त्यांनाच': 5607, 'त्यांनी': 5608, 'त्यांनीच': 5609, 'त्यांने': 5610, 'त्यांला': 5611, 'त्याआधी': 5612, 'त्याकाळी': 5613, 'त्याच': 5614, 'त्याचं': 5615, 'त्याच़े': 5616, 'त्याचा': 5617, 'त्याचाच': 5618, 'त्याची': 5619, 'त्याचीच': 5620, 'त्याचे': 5621, 'त्याच्या': 5622, 'त्याच्याइतका': 5623, 'त्याच्याइतकी': 5624, 'त्याच्याकडून': 5625, 'त्याच्याकडे': 5626, 'त्याच्याजवळ': 5627, 'त्याच्यात': 5628, 'त्याच्यापेक्षा': 5629, 'त्याच्याबद्दल': 5630, 'त्याच्याबरोबर': 5631, 'त्याच्याभोवती': 5632, 'त्याच्यामागे': 5633, 'त्याच्यावर': 5634, 'त्याच्याशिवाय': 5635, 'त्याच्याशी': 5636, 'त्याच्यासाठी': 5637, 'त्याच्यासारखा': 5638, 'त्याच्यासारखी': 5639, 'त्याच्यासारखे': 5640, 'त्यात': 5641, 'त्यातलं': 5642, 'त्यातला': 5643, 'त्यातले': 5644, 'त्यातून': 5645, 'त्यानं': 5646, 'त्यानंतर': 5647, 'त्यानी': 5648, 'त्याने': 5649, 'त्यापुढे': 5650, 'त्यापेक्षा': 5651, 'त्याबद्दल': 5652, 'त्याबाबत': 5653, 'त्याबाबतीत': 5654, 'त्यामुळे': 5655, 'त्याला': 5656, 'त्यालाच': 5657, 'त्यावर': 5658, 'त्याविरुद्ध': 5659, 'त्याविषयी': 5660, 'त्यावेळी': 5661, 'त्यासाठी': 5662, 'त्याही': 5663, 'त्रस्त': 5664, 'त्रास': 5665, 'त्रिकोण': 5666, 'त्रिकोणाचा': 5667, 'त्रुटी': 5668, 'त्वचा': 5669, 'त्वचेची': 5670, 'त्वरित': 5671, 'थँक्सगिव्हिंग': 5672, 'थँक्सगिव्हिंगला': 5673, 'थंड': 5674, 'थंडगार': 5675, 'थंडी': 5676, 'थंपर': 5677, 'थकला': 5678, 'थकलाय': 5679, 'थकलायत': 5680, 'थकलायस': 5681, 'थकलीयस': 5682, 'थकले': 5683, 'थकलेय': 5684, 'थकलेयत': 5685, 'थकलेला': 5686, 'थकलेली': 5687, 'थकलेले': 5688, 'थकलेलो': 5689, 'थकलो': 5690, 'थकलोय': 5691, 'थकल्यावर': 5692, 'थकून': 5693, 'थरथरत': 5694, 'थरथरतोय': 5695, 'थरथरली': 5696, 'थांब': 5697, 'थांबणार': 5698, 'थांबण्यात': 5699, 'थांबत': 5700, 'थांबता': 5701, 'थांबते': 5702, 'थांबतो': 5703, 'थांबलं': 5704, 'थांबलंय': 5705, 'थांबला': 5706, 'थांबली': 5707, 'थांबले': 5708, 'थांबलेला': 5709, 'थांबलेली': 5710, 'थांबलेले': 5711, 'थांबलो': 5712, 'थांबलोय': 5713, 'थांबल्या': 5714, 'थांबल्यावर': 5715, 'थांबव': 5716, 'थांबवणार': 5717, 'थांबवलं': 5718, 'थांबवलंत': 5719, 'थांबवलंस': 5720, 'थांबवा': 5721, 'थांबवायचा': 5722, 'थांबवायला': 5723, 'थांबवू': 5724, 'थांबवून': 5725, 'थांबवेन': 5726, 'थांबा': 5727, 'थांबायचं': 5728, 'थांबायला': 5729, 'थांबावं': 5730, 'थांबू': 5731, 'थांबून': 5732, 'थांबूया': 5733, 'थांबेन': 5734, 'थांबेलयत': 5735, 'थाई': 5736, 'थायलंड': 5737, 'थायलंडची': 5738, 'थायलंडमध्ये': 5739, 'था।': 5740, 'थिएटरमध्ये': 5741, 'थिएटरला': 5742, 'थुंकणं': 5743, 'थुकते': 5744, 'थुकतो': 5745, 'थेंब': 5746, 'थोडं': 5747, 'थोडंसं': 5748, 'थोडा': 5749, 'थोडासा': 5750, 'थोडाही': 5751, 'थोडी': 5752, 'थोडीच': 5753, 'थोडीशी': 5754, 'थोडीशीच': 5755, 'थोडे': 5756, 'थोडेच': 5757, 'थोडेसे': 5758, 'थोड्या': 5759, 'थोड्याच': 5760, 'थोबाड': 5761, 'थ्रीडीएस': 5762, 'द': 5763, 'दंड': 5764, 'दंतवैद्य': 5765, 'दंतवैद्याकडे': 5766, 'दक्षिण': 5767, 'दक्षिणी': 5768, 'दक्षिणेकडची': 5769, 'दक्षिणेकडे': 5770, 'दक्षिणेचा': 5771, 'दक्षिणेत': 5772, 'दक्षिणेने': 5773, 'दक्षिणेपासून': 5774, 'दखणार': 5775, 'दगड': 5776, 'दगडं': 5777, 'दगडफेक': 5778, 'दगडाच्या': 5779, 'दत्तक': 5780, 'दमदार': 5781, 'दमले': 5782, 'दमलेले': 5783, 'दमलेलो': 5784, 'दमास्कस': 5785, 'दमून': 5786, 'दया': 5787, 'दयाळू': 5788, 'दर': 5789, 'दररोज': 5790, 'दररोजच': 5791, 'दरवाजा': 5792, 'दरवाजे': 5793, 'दरवाज्याचा': 5794, 'दरवाज्याची': 5795, 'दरवाज्यापाशी': 5796, 'दरवाज्यापासून': 5797, 'दरवाज्याबाहेर': 5798, 'दरवेळी': 5799, 'दरोडा': 5800, 'दर्गा': 5801, 'दर्शन': 5802, 'दशकाची': 5803, 'दशकात': 5804, 'दशकापर्यंत': 5805, 'दशलक्ष': 5806, 'दशलक्षाची': 5807, 'दशलक्षापेक्षा': 5808, 'दस्तऐवज': 5809, 'दस्ताऐवजांवर': 5810, 'दस्ताऐवजाचा': 5811, 'दस्ताऐवजावर': 5812, 'दहशत': 5813, 'दहशतवाद': 5814, 'दहशतवादी': 5815, 'दहशतवाद्यांनी': 5816, 'दहशतवाद्यांबरोबर': 5817, 'दहा': 5818, 'दहातून': 5819, 'दहापट': 5820, 'दहापर्यंत': 5821, 'दहाला': 5822, 'दहावीत': 5823, 'दहाव्या': 5824, 'दहीची': 5825, 'दहीत': 5826, 'दांडी': 5827, 'दाइकोन': 5828, 'दाखव': 5829, 'दाखवणार': 5830, 'दाखवत': 5831, 'दाखवते': 5832, 'दाखवतो': 5833, 'दाखवलं': 5834, 'दाखवलंत': 5835, 'दाखवलंस': 5836, 'दाखवला': 5837, 'दाखवली': 5838, 'दाखवले': 5839, 'दाखवशील': 5840, 'दाखवा': 5841, 'दाखवायचं': 5842, 'दाखवाल': 5843, 'दाखवू': 5844, 'दाखवून': 5845, 'दाखवेन': 5846, 'दागिने': 5847, 'दागिन्यांचं': 5848, 'दाढी': 5849, 'दाढीमिशी': 5850, 'दाढीला': 5851, 'दाढीवाला': 5852, 'दात': 5853, 'दातांचा': 5854, 'दाताच्या': 5855, 'दादा': 5856, 'दादाची': 5857, 'दादाने': 5858, 'दादाला': 5859, 'दादासारखा': 5860, 'दाब': 5861, 'दाबलं': 5862, 'दाबला': 5863, 'दाबल्याने': 5864, 'दाबा': 5865, 'दाबू': 5866, 'दाबून': 5867, 'दाम': 5868, 'दार': 5869, 'दारं': 5870, 'दारही': 5871, 'दारांवरचे': 5872, 'दाराकडे': 5873, 'दाराच्या': 5874, 'दाराजवळ': 5875, 'दाराजवळची': 5876, 'दारातल्या': 5877, 'दाराबाहेर': 5878, 'दारामागे': 5879, 'दाराला': 5880, 'दारिद्र्य': 5881, 'दारिद्र्याने': 5882, 'दारू': 5883, 'दारूसुद्धा': 5884, 'दारे': 5885, 'दावा': 5886, 'दिग्दर्शक': 5887, 'दिग्दर्शन': 5888, 'दिनांक': 5889, 'दिलं': 5890, 'दिलंत': 5891, 'दिलंस': 5892, 'दिला': 5893, 'दिली': 5894, 'दिलीत': 5895, 'दिलीस': 5896, 'दिले': 5897, 'दिलेलं': 5898, 'दिलेली': 5899, 'दिलेले': 5900, 'दिलेल्या': 5901, 'दिल्या': 5902, 'दिल्ली': 5903, 'दिल्लीत': 5904, 'दिवशी': 5905, 'दिवस': 5906, 'दिवसभर': 5907, 'दिवसभरात': 5908, 'दिवसरात्र': 5909, 'दिवसही': 5910, 'दिवसा': 5911, 'दिवसांची': 5912, 'दिवसांत': 5913, 'दिवसांनंतर': 5914, 'दिवसांनी': 5915, 'दिवसांपासून': 5916, 'दिवसांपूर्वी': 5917, 'दिवसांपूर्वीच': 5918, 'दिवसांमध्ये': 5919, 'दिवसांसाठी': 5920, 'दिवसाचे': 5921, 'दिवसात': 5922, 'दिवसातून': 5923, 'दिवसानुदिवस': 5924, 'दिवसाला': 5925, 'दिवसेंदिवस': 5926, 'दिवा': 5927, 'दिवासांची': 5928, 'दिवे': 5929, 'दिशा': 5930, 'दिशेने': 5931, 'दिसणार': 5932, 'दिसणार्\\u200dया': 5933, 'दिसत': 5934, 'दिसतं': 5935, 'दिसतंय': 5936, 'दिसता': 5937, 'दिसतात': 5938, 'दिसताहेत': 5939, 'दिसते': 5940, 'दिसतेय': 5941, 'दिसतेयस': 5942, 'दिसतेस': 5943, 'दिसतो': 5944, 'दिसतोय': 5945, 'दिसतोयस': 5946, 'दिसतोस': 5947, 'दिसलं': 5948, 'दिसला': 5949, 'दिसली': 5950, 'दिसले': 5951, 'दिसशील': 5952, 'दिसायचं': 5953, 'दिसायचंय': 5954, 'दिसायचा': 5955, 'दिसायच्या': 5956, 'दिसायला': 5957, 'दिसाल': 5958, 'दिसून': 5959, 'दिसेनासा': 5960, 'दिसेल': 5961, 'दीड': 5962, 'दीर्घ': 5963, 'दुःखद': 5964, 'दुःखदायी': 5965, 'दुःखी': 5966, 'दुकान': 5967, 'दुकानं': 5968, 'दुकानाचं': 5969, 'दुकानात': 5970, 'दुकानातून': 5971, 'दुखणं': 5972, 'दुखत': 5973, 'दुखतं': 5974, 'दुखतंय': 5975, 'दुखतायत': 5976, 'दुखतायेत': 5977, 'दुखताहेत': 5978, 'दुखते': 5979, 'दुखतेय': 5980, 'दुखतोय': 5981, 'दुखलं': 5982, 'दुखवायच्या': 5983, 'दुखायला': 5984, 'दुखावल्या': 5985, 'दुखू': 5986, 'दुखेल': 5987, 'दुधाचं': 5988, 'दुधाची': 5989, 'दुधाचे': 5990, 'दुधाच्या': 5991, 'दुधापासून': 5992, 'दुधाला': 5993, 'दुपार': 5994, 'दुपारचे': 5995, 'दुपारच्या': 5996, 'दुपारपर्यंत': 5997, 'दुपारभर': 5998, 'दुपारी': 5999, 'दुप्पट': 6000, 'दुभती': 6001, 'दुरुस्त': 6002, 'दुरुस्तीने': 6003, 'दुरून': 6004, 'दुर्गुण': 6005, 'दुर्घटना': 6006, 'दुर्दैवाने': 6007, 'दुर्बळ': 6008, 'दुर्बीण': 6009, 'दुर्लक्ष': 6010, 'दुष्ट': 6011, 'दुसरं': 6012, 'दुसरा': 6013, 'दुसरी': 6014, 'दुसरीकडे': 6015, 'दुसरीकडेच': 6016, 'दुसरे': 6017, 'दुसर्\\u200dया': 6018, 'दुसर्\\u200dयांची': 6019, 'दुसर्\\u200dयांदा': 6020, 'दुसर्\\u200dयांना': 6021, 'दुसर्\\u200dयांमध्ये': 6022, 'दुसर्\\u200dयाच': 6023, 'दुसर्\\u200dयाचा': 6024, 'दुसऱ्यांसाठी': 6025, 'दूत': 6026, 'दूतच': 6027, 'दूतावास': 6028, 'दूध': 6029, 'दूधवाला': 6030, 'दूर': 6031, 'दूरदर्शन': 6032, 'दूरध्वनी': 6033, 'दूरध्वनीचा': 6034, 'दूरवर': 6035, 'दूसरे': 6036, 'दृश्य': 6037, 'दृष्टीबाहेर': 6038, 'दे': 6039, 'देईन': 6040, 'देईल': 6041, 'देऊ': 6042, 'देऊन': 6043, 'देऊया': 6044, 'देऊळ': 6045, 'देखणा': 6046, 'देखणी': 6047, 'देखणे': 6048, 'देखरेखीकरिता': 6049, 'देखील': 6050, 'देणं': 6051, 'देणगी': 6052, 'देणार': 6053, 'देणे': 6054, 'देण्याअगोदर': 6055, 'देण्याची': 6056, 'देण्यात': 6057, 'देण्याशी': 6058, 'देत': 6059, 'देतं': 6060, 'देतंय': 6061, 'देतच': 6062, 'देता': 6063, 'देतात': 6064, 'देतील': 6065, 'देते': 6066, 'देतेय': 6067, 'देतेस': 6068, 'देतो': 6069, 'देतोय': 6070, 'देतोस': 6071, 'देव': 6072, 'देवदूत': 6073, 'देवमासा': 6074, 'देवमासे': 6075, 'देवळं': 6076, 'देवळात': 6077, 'देवळातसुद्धा': 6078, 'देवा': 6079, 'देवांची': 6080, 'देवांना': 6081, 'देवाचा': 6082, 'देवाचे': 6083, 'देवाच्या': 6084, 'देवात': 6085, 'देवाने': 6086, 'देवाला': 6087, 'देवालाच': 6088, 'देवावर': 6089, 'देवाशप्पथ': 6090, 'देवासमोर': 6091, 'देवासाठी': 6092, 'देश': 6093, 'देशद्रोही': 6094, 'देशप्रेम': 6095, 'देशभक्त': 6096, 'देशभर': 6097, 'देशभरात': 6098, 'देशभरातल्या': 6099, 'देशांच्या': 6100, 'देशांत': 6101, 'देशांना': 6102, 'देशांनी': 6103, 'देशांबरोबर': 6104, 'देशांमध्ये': 6105, 'देशांवर': 6106, 'देशाकडे': 6107, 'देशाचं': 6108, 'देशाचा': 6109, 'देशाची': 6110, 'देशाचे': 6111, 'देशात': 6112, 'देशातले': 6113, 'देशातल्या': 6114, 'देशाला': 6115, 'देशावर': 6116, 'देशाशी': 6117, 'देशासाठी': 6118, 'देशील': 6119, 'दैनंदिन': 6120, 'दैनिक': 6121, 'दैन्यावस्थेत': 6122, 'दोघं': 6123, 'दोघंही': 6124, 'दोघही': 6125, 'दोघांकडे': 6126, 'दोघांचा': 6127, 'दोघांची': 6128, 'दोघांचे': 6129, 'दोघांना': 6130, 'दोघांनाही': 6131, 'दोघांनी': 6132, 'दोघांमधून': 6133, 'दोघांमध्ये': 6134, 'दोघी': 6135, 'दोघींची': 6136, 'दोघींना': 6137, 'दोघींनी': 6138, 'दोघीही': 6139, 'दोघे': 6140, 'दोघेही': 6141, 'दोन': 6142, 'दोनच': 6143, 'दोनतीन': 6144, 'दोनदा': 6145, 'दोनदाच': 6146, 'दोनदोन': 6147, 'दोनमजली': 6148, 'दोनशे': 6149, 'दोन्ही': 6150, 'दोन्हीही': 6151, 'दोरा': 6152, 'दोष': 6153, 'दोषी': 6154, 'द्या': 6155, 'द्यायचं': 6156, 'द्यायचा': 6157, 'द्यायची': 6158, 'द्यायचे': 6159, 'द्यायच्या': 6160, 'द्यायला': 6161, 'द्याल': 6162, 'द्यावं': 6163, 'द्यावा': 6164, 'द्यावे': 6165, 'द्राक्ष': 6166, 'द्वाराजवळ': 6167, 'द्विभाषिक': 6168, 'द्वीप': 6169, 'द्वीपकल्प': 6170, 'धकललं': 6171, 'धक्का': 6172, 'धडा': 6173, 'धड्याची': 6174, 'धड्यापासून': 6175, 'धनदौलतीपेक्षा': 6176, 'धनवान': 6177, 'धनसंपत्ती': 6178, 'धन्यवाद': 6179, 'धबधबा': 6180, 'धबधब्याजवळ': 6181, 'धमकावलं': 6182, 'धमकी': 6183, 'धमाल': 6184, 'धर': 6185, 'धरण': 6186, 'धरणारी': 6187, 'धरता': 6188, 'धरलं': 6189, 'धरला': 6190, 'धरली': 6191, 'धरले': 6192, 'धरलेली': 6193, 'धरल्या': 6194, 'धरा': 6195, 'धरून': 6196, 'धरूनच': 6197, 'धर्म': 6198, 'धर्मांच्या': 6199, 'धर्मात': 6200, 'धर्माबद्दल': 6201, 'धर्माविरुद्ध': 6202, 'धागा': 6203, 'धाडसी': 6204, 'धातु': 6205, 'धातू': 6206, 'धान्य': 6207, 'धारधार': 6208, 'धार्मिक': 6209, 'धाव': 6210, 'धावणार्\\u200dयाला': 6211, 'धावत': 6212, 'धावतधावत': 6213, 'धावतपळत': 6214, 'धावता': 6215, 'धावतात': 6216, 'धावताना': 6217, 'धावते': 6218, 'धावतो': 6219, 'धावलं': 6220, 'धावला': 6221, 'धावली': 6222, 'धावले': 6223, 'धावलो': 6224, 'धावा': 6225, 'धावायचं': 6226, 'धावायला': 6227, 'धावू': 6228, 'धीराचा': 6229, 'धुडकावला': 6230, 'धुणार': 6231, 'धुतलं': 6232, 'धुतला': 6233, 'धुतली': 6234, 'धुतले': 6235, 'धुतलेस': 6236, 'धुताहेत': 6237, 'धुते': 6238, 'धुतेय': 6239, 'धुतो': 6240, 'धुतोय': 6241, 'धुम्रपान': 6242, 'धुम्रपानाच्या': 6243, 'धुराचा': 6244, 'धुराडे': 6245, 'धुळीची': 6246, 'धुवत': 6247, 'धुवा': 6248, 'धुवायचे': 6249, 'धुवाल': 6250, 'धुवून': 6251, 'धुवेन': 6252, 'धुशील': 6253, 'धू': 6254, 'धूमकेतू': 6255, 'धूम्रपान': 6256, 'धूर': 6257, 'धूळ': 6258, 'धैर्य': 6259, 'धैर्याची': 6260, 'धोका': 6261, 'धोकादायक': 6262, 'धोकादायकच': 6263, 'धोक्याची': 6264, 'धोक्याच्या': 6265, 'धोक्यात': 6266, 'धोधो': 6267, 'धोरणाचे': 6268, 'धोरणाविषयी': 6269, 'ध्रुवावर': 6270, 'न': 6271, 'नं': 6272, 'नंतर': 6273, 'नंतरच्या': 6274, 'नंबर': 6275, 'नंबरची': 6276, 'नंबरवर': 6277, 'नऊ': 6278, 'नऊपासून': 6279, 'नऊला': 6280, 'नका': 6281, 'नकार': 6282, 'नकाशा': 6283, 'नकाशाची': 6284, 'नको': 6285, 'नकोय': 6286, 'नकोस': 6287, 'नक्कल': 6288, 'नक्की': 6289, 'नक्कीच': 6290, 'नखं': 6291, 'नगर': 6292, 'नगरांमध्ये': 6293, 'नगराच्या': 6294, 'नगरात': 6295, 'नगरातला': 6296, 'नगेट्स': 6297, 'नग्न': 6298, 'नजर': 6299, 'नटी': 6300, 'नताळ': 6301, 'नथानाएलने': 6302, 'नदी': 6303, 'नदीकडे': 6304, 'नदीचं': 6305, 'नदीची': 6306, 'नदीच्या': 6307, 'नदीत': 6308, 'नदीतील': 6309, 'नदीपाशी': 6310, 'नदीला': 6311, 'नदीवर': 6312, 'नदीवरून': 6313, 'नद्या': 6314, 'नन': 6315, 'नमुनेदार': 6316, 'नम्रतेने': 6317, 'नये': 6318, 'नरकात': 6319, 'नरम': 6320, 'नर्व्हस': 6321, 'नर्स': 6322, 'नर्सची': 6323, 'नर्सरी': 6324, 'नळ': 6325, 'नवरा': 6326, 'नवरी': 6327, 'नवहता': 6328, 'नवी': 6329, 'नवीन': 6330, 'नवीनच': 6331, 'नव्यासारखी': 6332, 'नव्हतं': 6333, 'नव्हता': 6334, 'नव्हतास': 6335, 'नव्हती': 6336, 'नव्हतीस': 6337, 'नव्हते': 6338, 'नव्हतो': 6339, 'नव्हत्या': 6340, 'नव्हे': 6341, 'नशीब': 6342, 'नशीबवान': 6343, 'नशीबाचा': 6344, 'नशीबात': 6345, 'नशीबावर': 6346, 'नष्ट': 6347, 'नसणार': 6348, 'नसणारं': 6349, 'नसणारा': 6350, 'नसणार्\\u200dया': 6351, 'नसण्यापेक्षा': 6352, 'नसत': 6353, 'नसतं': 6354, 'नसता': 6355, 'नसतात': 6356, 'नसती': 6357, 'नसते': 6358, 'नसतो': 6359, 'नसलं': 6360, 'नसला': 6361, 'नसलेला': 6362, 'नसल्या': 6363, 'नसल्यामुळे': 6364, 'नसशील': 6365, 'नसायचा': 6366, 'नसाल': 6367, 'नसू': 6368, 'नसून': 6369, 'नसेन': 6370, 'नसेल': 6371, 'नहाीये': 6372, 'नहीं': 6373, 'ना': 6374, 'नांतमध्ये': 6375, 'नाइटक्लब': 6376, 'नाइटक्लबमधून': 6377, 'नाईल': 6378, 'नाईलतकी': 6379, 'नाक': 6380, 'नाकांनी': 6381, 'नाकातून': 6382, 'नाकामेगुरोच्या': 6383, 'नाकारण्यात': 6384, 'नाकारता': 6385, 'नाकारलं': 6386, 'नाकारला': 6387, 'नाकारले': 6388, 'नाकारल्या': 6389, 'नाकारू': 6390, 'नाखूष': 6391, 'नागडं': 6392, 'नागडा': 6393, 'नागडी': 6394, 'नागडे': 6395, 'नागड्या': 6396, 'नागरिक': 6397, 'नागासाकीमध्ये': 6398, 'नागोया': 6399, 'नागोयापासून': 6400, 'नागोयाला': 6401, 'नाच': 6402, 'नाचणार': 6403, 'नाचण्यास': 6404, 'नाचत': 6405, 'नाचता': 6406, 'नाचताना': 6407, 'नाचताहेत': 6408, 'नाचतेय': 6409, 'नाचतो': 6410, 'नाचतोय': 6411, 'नाचला': 6412, 'नाचली': 6413, 'नाचले': 6414, 'नाचलो': 6415, 'नाचल्या': 6416, 'नाचा': 6417, 'नाचायचं': 6418, 'नाचायला': 6419, 'नाचायलागायला': 6420, 'नाचावंसं': 6421, 'नाचावेसे': 6422, 'नाचू': 6423, 'नाचूया': 6424, 'नाचेल': 6425, 'नाजूक': 6426, 'नाटक': 6427, 'नाटकात': 6428, 'नाटकाला': 6429, 'नाट्यगृहात': 6430, 'नाड्या': 6431, 'नाणं': 6432, 'नाणी': 6433, 'नाताळ': 6434, 'नाताळचा': 6435, 'नाताळच्या': 6436, 'नाताळाची': 6437, 'नातेवाईक': 6438, 'नातेवाईकांबरोबर': 6439, 'नातेसंबंधी': 6440, 'नात्तो': 6441, 'नात्यातला': 6442, 'नात्यातली': 6443, 'नात्यातले': 6444, 'नापास': 6445, 'नापोली': 6446, 'नाबोकोव्ह': 6447, 'नायक': 6448, 'नायकाची': 6449, 'नायजेरिया': 6450, 'नायिका': 6451, 'नायिकेने': 6452, 'नारळ': 6453, 'नारा': 6454, 'नारामध्ये': 6455, 'नाराला': 6456, 'नारिताला': 6457, 'नाव': 6458, 'नावं': 6459, 'नावडण्यासाठी': 6460, 'नावदेखील': 6461, 'नावसुद्धा': 6462, 'नावही': 6463, 'नावांची': 6464, 'नावाचं': 6465, 'नावाचा': 6466, 'नावाची': 6467, 'नावाचे': 6468, 'नावाच्या': 6469, 'नावात': 6470, 'नावाने': 6471, 'नाविक': 6472, 'नाश': 6473, 'नाश्ता': 6474, 'नाश्त्याआगोदर': 6475, 'नाश्त्याआधी': 6476, 'नाश्त्याची': 6477, 'नाश्त्यानंतर': 6478, 'नाश्त्याला': 6479, 'नाश्त्यासाठी': 6480, 'नाष्टा': 6481, 'नासासाठी': 6482, 'नास्तिक': 6483, 'नाहिये': 6484, 'नाहियेत': 6485, 'नाही': 6486, 'नाहीए': 6487, 'नाहीत': 6488, 'नाहीतर': 6489, 'नाहीये': 6490, 'नाहीयेत': 6491, 'नाहीयेस': 6492, 'नाहीस': 6493, 'नाहीसा': 6494, 'निंटेंडो': 6495, 'निंदा': 6496, 'निःशंकपणे': 6497, 'निःशस्त्र': 6498, 'निउए': 6499, 'निकाराग्वामध्ये': 6500, 'निक्कोला': 6501, 'निगमासाठी': 6502, 'निगेटिव्ह': 6503, 'निग्रो': 6504, 'निघ': 6505, 'निघणार': 6506, 'निघणारच': 6507, 'निघण्याचं': 6508, 'निघण्याची': 6509, 'निघत': 6510, 'निघतच': 6511, 'निघतात': 6512, 'निघताना': 6513, 'निघताहेत': 6514, 'निघते': 6515, 'निघतेय': 6516, 'निघतेयस': 6517, 'निघतो': 6518, 'निघतोय': 6519, 'निघतोयस': 6520, 'निघशील': 6521, 'निघा': 6522, 'निघायचं': 6523, 'निघायचा': 6524, 'निघायची': 6525, 'निघायला': 6526, 'निघाल': 6527, 'निघालं': 6528, 'निघाला': 6529, 'निघालाय': 6530, 'निघाली': 6531, 'निघाले': 6532, 'निघालेयत': 6533, 'निघालेला': 6534, 'निघालो': 6535, 'निघाल्या': 6536, 'निघाल्यानंतर': 6537, 'निघू': 6538, 'निघून': 6539, 'निघूया': 6540, 'निघेन': 6541, 'निघेल': 6542, 'निधन': 6543, 'निन्जा': 6544, 'निबंध': 6545, 'निमित्ताने': 6546, 'नियंत्रण': 6547, 'नियंत्रित': 6548, 'नियम': 6549, 'नियमच': 6550, 'नियमांची': 6551, 'नियमांप्रमाणे': 6552, 'नियुक्त': 6553, 'नियोजित': 6554, 'निरक्षर': 6555, 'निराश': 6556, 'निरीश्वरवादी': 6557, 'निरोगी': 6558, 'निरोप': 6559, 'निर्णय': 6560, 'निर्णायक': 6561, 'निर्देशिका': 6562, 'निर्दोष': 6563, 'निर्माण': 6564, 'निर्माते': 6565, 'निर्मित': 6566, 'निर्मिती': 6567, 'निर्यात': 6568, 'निर्लज्ज': 6569, 'निर्वासितांना': 6570, 'निर्व्यसनी': 6571, 'निळं': 6572, 'निळा': 6573, 'निळी': 6574, 'निळे': 6575, 'निळ्या': 6576, 'निवड': 6577, 'निवडणुकीचं': 6578, 'निवडणुकीचा': 6579, 'निवडणुकीत': 6580, 'निवडणूक': 6581, 'निवडण्यात': 6582, 'निवडताना': 6583, 'निवडतील': 6584, 'निवडलं': 6585, 'निवडलंत': 6586, 'निवडलंस': 6587, 'निवडलीत': 6588, 'निवडलीस': 6589, 'निवडले': 6590, 'निवडलेल्यांमधील': 6591, 'निवडा': 6592, 'निवडून': 6593, 'निवडेन': 6594, 'निवडेल': 6595, 'निवृत्त': 6596, 'निश्चलपणे': 6597, 'निश्चित': 6598, 'निश्चितच': 6599, 'निषेध': 6600, 'निष्पाप': 6601, 'निष्फळ': 6602, 'नीघ': 6603, 'नीट': 6604, 'नीटसा': 6605, 'नीतिमत्ता': 6606, 'नीती': 6607, 'नील': 6608, 'नीही': 6609, 'नुकतेच': 6610, 'नुकत्याच': 6611, 'नुक्ताच': 6612, 'नुक्तीच': 6613, 'नुसता': 6614, 'नूडल्स': 6615, 'ने': 6616, 'नेईन': 6617, 'नेऊ': 6618, 'नेण्यात': 6619, 'नेत': 6620, 'नेता': 6621, 'नेतेय': 6622, 'नेतोय': 6623, 'नेत्यांनी': 6624, 'नेत्याकडे': 6625, 'नेत्रतज्ञ': 6626, 'नेदरलँड्सची': 6627, 'नेपोलियन': 6628, 'नेपोलियनचा': 6629, 'नेफेर्तारी': 6630, 'नेम': 6631, 'नेमकं': 6632, 'नेमका': 6633, 'नेमकी': 6634, 'नेरुदा': 6635, 'नेल': 6636, 'नेलं': 6637, 'नेली': 6638, 'नेव्हाडामध्ये': 6639, 'नेव्हिल': 6640, 'नेशील': 6641, 'नेसलेला': 6642, 'नेसलेले': 6643, 'नेसी': 6644, 'नेहमी': 6645, 'नेहमीच': 6646, 'नेहमीच्या': 6647, 'नेहमीच्याच': 6648, 'नेहमीप्रमाणे': 6649, 'नेहमीसारखाच': 6650, 'नैसर्गिक': 6651, 'नैसर्गिकच': 6652, 'नॉनवेज': 6653, 'नॉर्मनांनी': 6654, 'नॉर्वे': 6655, 'नॉर्वेची': 6656, 'नॉर्वेत': 6657, 'नॉर्वेमधील': 6658, 'नॉर्वेमध्ये': 6659, 'नो': 6660, 'नोंदणी': 6661, 'नोकर': 6662, 'नोकरी': 6663, 'नोकरीची': 6664, 'नोकरीच्या': 6665, 'नोकरीण': 6666, 'नोकरीतून': 6667, 'नोकरीबद्दल': 6668, 'नोकरीला': 6669, 'नोकरीवरून': 6670, 'नोकरीसाठी': 6671, 'नोकरीही': 6672, 'नोकर्\\u200dया': 6673, 'नोगुची': 6674, 'नोचतेय': 6675, 'नोट': 6676, 'नोटांचा': 6677, 'नोत्र': 6678, 'नोबेल': 6679, 'नोव्हेंबरच्या': 6680, 'नोव्हेंबरला': 6681, 'नौका': 6682, 'नौदलात': 6683, 'नौसेना': 6684, 'न्या': 6685, 'न्याय': 6686, 'न्यायचं': 6687, 'न्यायची': 6688, 'न्यायचो': 6689, 'न्यायाधीश': 6690, 'न्यायालय': 6691, 'न्यायालयाचे': 6692, 'न्याल': 6693, 'न्यू': 6694, 'न्यूझीलंडची': 6695, 'न्यूझीलंडमधील': 6696, 'न्यूझीलंडमध्ये': 6697, 'न्यूटन': 6698, 'न्यूयॉर्क': 6699, 'न्यूयॉर्कचे': 6700, 'न्यूयॉर्कमध्ये': 6701, 'न्यूयॉर्कला': 6702, 'पँट': 6703, 'पंक': 6704, 'पंक्चर': 6705, 'पंख': 6706, 'पंखा': 6707, 'पंचावन': 6708, 'पंचेचाळीस': 6709, 'पंच्याण्णव': 6710, 'पंतप्रधान': 6711, 'पंतप्रधानांनी': 6712, 'पंतप्रधानाने': 6713, 'पंधरा': 6714, 'पंधरावा': 6715, 'पंप': 6716, 'पकड': 6717, 'पकडणार': 6718, 'पकडण्याच्या': 6719, 'पकडण्यात': 6720, 'पकडता': 6721, 'पकडतात': 6722, 'पकडते': 6723, 'पकडतो': 6724, 'पकडलं': 6725, 'पकडला': 6726, 'पकडलास': 6727, 'पकडली': 6728, 'पकडलीत': 6729, 'पकडलीस': 6730, 'पकडले': 6731, 'पकड़': 6732, 'पकडा': 6733, 'पकडापकडीसारखे': 6734, 'पकडायचा': 6735, 'पकडायची': 6736, 'पकडायचे': 6737, 'पकडायला': 6738, 'पकडायलाच': 6739, 'पकडू': 6740, 'पकडून': 6741, 'पकडूया': 6742, 'पकडेन': 6743, 'पकडेल': 6744, 'पक्ष': 6745, 'पक्षांचा': 6746, 'पक्षांना': 6747, 'पक्षाचा': 6748, 'पक्षाची': 6749, 'पक्षाच्या': 6750, 'पक्षाला': 6751, 'पक्षी': 6752, 'पक्षीच': 6753, 'पक्ष्यांना': 6754, 'पक्ष्यांसाठी': 6755, 'पक्ष्याचं': 6756, 'पगार': 6757, 'पट': 6758, 'पटकथा': 6759, 'पटलं': 6760, 'पटीने': 6761, 'पटेल': 6762, 'पट्टी': 6763, 'पट्ट्या': 6764, 'पड': 6765, 'पडणार': 6766, 'पडण्याचा': 6767, 'पडण्याची': 6768, 'पडण्यापेक्षा': 6769, 'पडत': 6770, 'पडतंय': 6771, 'पडतात': 6772, 'पडताना': 6773, 'पडताहेत': 6774, 'पडतील': 6775, 'पडते': 6776, 'पडतेय': 6777, 'पडतो': 6778, 'पडतोय': 6779, 'पडद्याकडे': 6780, 'पडद्यातून': 6781, 'पडलं': 6782, 'पडलंय': 6783, 'पडला': 6784, 'पडली': 6785, 'पडले': 6786, 'पडलेलं': 6787, 'पडलेला': 6788, 'पडलेली': 6789, 'पडलेले': 6790, 'पडलेल्यांची': 6791, 'पडलो': 6792, 'पडल्या': 6793, 'पडल्यावर': 6794, 'पडशील': 6795, 'पडा': 6796, 'पडायचं': 6797, 'पडायचा': 6798, 'पडायला': 6799, 'पडाल': 6800, 'पडू': 6801, 'पडून': 6802, 'पडेल': 6803, 'पण': 6804, 'पतंग': 6805, 'पतंगांचा': 6806, 'पती': 6807, 'पतींना': 6808, 'पतीसमोर': 6809, 'पत्ता': 6810, 'पत्ताच': 6811, 'पत्ते': 6812, 'पत्त्यांकडे': 6813, 'पत्नी': 6814, 'पत्नीने': 6815, 'पत्नीला': 6816, 'पत्नीसाठी': 6817, 'पत्र': 6818, 'पत्रकार': 6819, 'पत्रही': 6820, 'पत्राचं': 6821, 'पत्राचा': 6822, 'पत्रे': 6823, 'पद': 6824, 'पदवीधर': 6825, 'पदार्थ': 6826, 'पदावर': 6827, 'पदोन्नती': 6828, 'पद्धत': 6829, 'पद्धती': 6830, 'पद्धतीचा': 6831, 'पनीर': 6832, 'पनीरची': 6833, 'पन्नास': 6834, 'पन्नासच्या': 6835, 'पन्नासपेक्षा': 6836, 'पफ': 6837, 'पब': 6838, 'परंपरा': 6839, 'परंपरेने': 6840, 'परका': 6841, 'परकाच': 6842, 'परकी': 6843, 'परकीच': 6844, 'परके': 6845, 'परक्यांशी': 6846, 'परग्रहवासी': 6847, 'परग्रहवासींसारखे': 6848, 'परत': 6849, 'परतणार': 6850, 'परततील': 6851, 'परततोय': 6852, 'परतपरत': 6853, 'परतला': 6854, 'परतलात': 6855, 'परतलास': 6856, 'परतली': 6857, 'परतलीस': 6858, 'परतले': 6859, 'परतलो': 6860, 'परतल्या': 6861, 'परतल्यावर': 6862, 'परतशील': 6863, 'परतायचं': 6864, 'परतायची': 6865, 'परतायला': 6866, 'परताल': 6867, 'परतून': 6868, 'परतेन': 6869, 'परतेल': 6870, 'परदेशात': 6871, 'परदेशी': 6872, 'परभाषा': 6873, 'परमेश्वर': 6874, 'परमेश्वराचे': 6875, 'परमेश्वरावर': 6876, 'परराष्ट्रमंत्र्यांशी': 6877, 'परराष्ट्रीय': 6878, 'परवडणार': 6879, 'परवडणारं': 6880, 'परवडत': 6881, 'परवडतं': 6882, 'परवडते': 6883, 'परवडेल': 6884, 'परवा': 6885, 'परवाचा': 6886, 'परवानगी': 6887, 'परवानगीची': 6888, 'परवाना': 6889, 'परवापर्यंत': 6890, 'पराग्वे': 6891, 'पराजय': 6892, 'परिचारिका': 6893, 'परिणामकारक': 6894, 'परिपूर्ण': 6895, 'परिवहन': 6896, 'परिषद': 6897, 'परिषदेसाठी': 6898, 'परिस्थिती': 6899, 'परिस्थितीत': 6900, 'परिस्थितीबाबत': 6901, 'परीक्षा': 6902, 'परीक्षेची': 6903, 'परीक्षेत': 6904, 'परीक्षेसाठी': 6905, 'परोला': 6906, 'पर्थमध्ये': 6907, 'पर्यंत': 6908, 'पर्यटक': 6909, 'पर्यन्त': 6910, 'पर्याय': 6911, 'पर्यावरण': 6912, 'पर्यावरणाचा': 6913, 'पर्यावरणाला': 6914, 'पर्ल': 6915, 'पर्लमध्ये': 6916, 'पर्वत': 6917, 'पर्वतावर': 6918, 'पर्स': 6919, 'पर्समधून': 6920, 'पर्समध्ये': 6921, 'पलीकडचे': 6922, 'पलीकडच्या': 6923, 'पलीकडून': 6924, 'पलीकडे': 6925, 'पळ': 6926, 'पळण्यात': 6927, 'पळत': 6928, 'पळता': 6929, 'पळतात': 6930, 'पळताना': 6931, 'पळते': 6932, 'पळतो': 6933, 'पळवून': 6934, 'पळा': 6935, 'पळायचं': 6936, 'पळायचा': 6937, 'पळायला': 6938, 'पळालं': 6939, 'पळाला': 6940, 'पळालात': 6941, 'पळालास': 6942, 'पळाली': 6943, 'पळालीस': 6944, 'पळाले': 6945, 'पळू': 6946, 'पळून': 6947, 'पवित्र': 6948, 'पश्चात्ताप': 6949, 'पश्चिम': 6950, 'पश्चिमात्य': 6951, 'पश्चिमेकडे': 6952, 'पश्चिमेत': 6953, 'पश्चिमेतल्या': 6954, 'पश्चिमेला': 6955, 'पसंद': 6956, 'पसरतो': 6957, 'पसरली': 6958, 'पसरले': 6959, 'पसरवल्या': 6960, 'पसारा': 6961, 'पसार्\\u200dयासाठी': 6962, 'पहा': 6963, 'पहाटे': 6964, 'पहाटेच': 6965, 'पहायचा': 6966, 'पहायला': 6967, 'पहालंय': 6968, 'पहावा': 6969, 'पहिलं': 6970, 'पहिला': 6971, 'पहिलाच': 6972, 'पहिली': 6973, 'पहिलीच': 6974, 'पहिले': 6975, 'पहिल्या': 6976, 'पहिल्यांदा': 6977, 'पहिल्यांदाच': 6978, 'पहिल्यापासून': 6979, 'पांडा': 6980, 'पांढरं': 6981, 'पांढरा': 6982, 'पांढरी': 6983, 'पांढरे': 6984, 'पांढर्\\u200dया': 6985, 'पाइन्टच्या': 6986, 'पाइन्टप्रमाणे': 6987, 'पाइप': 6988, 'पाउंड': 6989, 'पाउंडपेक्षा': 6990, 'पाउंडाच्या': 6991, 'पाउलो': 6992, 'पाऊस': 6993, 'पाककृती': 6994, 'पाककृतींमध्ये': 6995, 'पाकिटमारांनी': 6996, 'पाकिटात': 6997, 'पाकिस्तान': 6998, 'पाकिस्तानची': 6999, 'पाकीट': 7000, 'पाच': 7001, 'पाचपर्यंत': 7002, 'पाचपाऊंडची': 7003, 'पाचपेक्षा': 7004, 'पाचला': 7005, 'पाचवं': 7006, 'पाचव्या': 7007, 'पाचशे': 7008, 'पाचही': 7009, 'पाठ': 7010, 'पाठचा': 7011, 'पाठलाग': 7012, 'पाठव': 7013, 'पाठवण्यात': 7014, 'पाठवत': 7015, 'पाठवताहेत': 7016, 'पाठवते': 7017, 'पाठवतो': 7018, 'पाठवलं': 7019, 'पाठवलंस': 7020, 'पाठवला': 7021, 'पाठवली': 7022, 'पाठवले': 7023, 'पाठवलेत': 7024, 'पाठवलेला': 7025, 'पाठवलेली': 7026, 'पाठवलेस': 7027, 'पाठवल्या': 7028, 'पाठवा': 7029, 'पाठवायची': 7030, 'पाठवायला': 7031, 'पाठवू': 7032, 'पाठवेन': 7033, 'पाठिंबा': 7034, 'पाठी': 7035, 'पाठीत': 7036, 'पाठीमागे': 7037, 'पाठीशी': 7038, 'पाठून': 7039, 'पाठोपाठ': 7040, 'पाठ्यपुस्तक': 7041, 'पाठ्यपुस्तके': 7042, 'पाडला': 7043, 'पाडवण्यात': 7044, 'पाडवलं': 7045, 'पाडवली': 7046, 'पाडवायचं': 7047, 'पाडवू': 7048, 'पाणकोळी': 7049, 'पाणकोळ्यांकडे': 7050, 'पाणी': 7051, 'पाण्याचं': 7052, 'पाण्याचा': 7053, 'पाण्याची': 7054, 'पाण्यात': 7055, 'पाण्यातला': 7056, 'पाण्याने': 7057, 'पाण्यापेक्षाही': 7058, 'पाण्याबरोबर': 7059, 'पाण्यावर': 7060, 'पाण्याशिवाय': 7061, 'पातळ': 7062, 'पात्र': 7063, 'पादलं': 7064, 'पाद्री': 7065, 'पान': 7066, 'पानं': 7067, 'पानांचा': 7068, 'पानांचे': 7069, 'पानामाला': 7070, 'पानावर': 7071, 'पानासारखा': 7072, 'पाने': 7073, 'पाप': 7074, 'पापी': 7075, 'पापींबरोबर': 7076, 'पाप्रिका': 7077, 'पाबलो': 7078, 'पाय': 7079, 'पायचे': 7080, 'पायजमा': 7081, 'पायथॉन': 7082, 'पायदळाचा': 7083, 'पायदळात': 7084, 'पायमोज्यात': 7085, 'पायर्\\u200dया': 7086, 'पायर्\\u200dयांवर': 7087, 'पायलट': 7088, 'पायांचे': 7089, 'पायांना': 7090, 'पायांपेक्षा': 7091, 'पायांवर': 7092, 'पायाचा': 7093, 'पायात': 7094, 'पायातसुद्धा': 7095, 'पायातही': 7096, 'पायातून': 7097, 'पायाला': 7098, 'पायावर': 7099, 'पार': 7100, 'पारंपारिक': 7101, 'पारपत्र': 7102, 'पारा': 7103, 'पारित': 7104, 'पार्क': 7105, 'पार्टी': 7106, 'पार्टीची': 7107, 'पार्टीत': 7108, 'पार्टीला': 7109, 'पार्टीसाठी': 7110, 'पार्सलवरचा': 7111, 'पालक': 7112, 'पालकांनी': 7113, 'पालकांशी': 7114, 'पालकाची': 7115, 'पाळ': 7116, 'पाळणं': 7117, 'पाळणा': 7118, 'पाळणार्\\u200dया': 7119, 'पाळण्यात': 7120, 'पाळण्याशिवाय': 7121, 'पाळत': 7122, 'पाळतात': 7123, 'पाळते': 7124, 'पाळतो': 7125, 'पाळला': 7126, 'पाळले': 7127, 'पाळलेले': 7128, 'पाळा': 7129, 'पाळायचा': 7130, 'पाळीव': 7131, 'पाळू': 7132, 'पाव': 7133, 'पावणे': 7134, 'पावणेतीन': 7135, 'पावती': 7136, 'पावसाचा': 7137, 'पावसाची': 7138, 'पावसाचे': 7139, 'पावसात': 7140, 'पावसाळा': 7141, 'पावसासारखं': 7142, 'पावाचा': 7143, 'पावापेक्षा': 7144, 'पाश्चात्य': 7145, 'पास': 7146, 'पासपोर्ट': 7147, 'पासपोर्टशिवाय': 7148, 'पासवर्ड': 7149, 'पासून': 7150, 'पास्ता': 7151, 'पास्तावर': 7152, 'पाहणार': 7153, 'पाहण्यासाठी': 7154, 'पाहत': 7155, 'पाहता': 7156, 'पाहताच': 7157, 'पाहतात': 7158, 'पाहते': 7159, 'पाहतेय': 7160, 'पाहतो': 7161, 'पाहतोय': 7162, 'पाहलो': 7163, 'पाहा': 7164, 'पाहायचं': 7165, 'पाहायचा': 7166, 'पाहायला': 7167, 'पाहिजे': 7168, 'पाहिजेत': 7169, 'पाहिजेस': 7170, 'पाहिलं': 7171, 'पाहिलंत': 7172, 'पाहिलंय': 7173, 'पाहिलंस': 7174, 'पाहिलंही': 7175, 'पाहिला': 7176, 'पाहिलात': 7177, 'पाहिलाय': 7178, 'पाहिलास': 7179, 'पाहिली': 7180, 'पाहिले': 7181, 'पाहिलेत': 7182, 'पाहिलेलं': 7183, 'पाहिलेला': 7184, 'पाहिलेली': 7185, 'पाहिलेस': 7186, 'पाहिल्या': 7187, 'पाहिल्यावर': 7188, 'पाहिेजे': 7189, 'पाहीजे': 7190, 'पाहीजेत': 7191, 'पाहुणा': 7192, 'पाहुणे': 7193, 'पाहुण्या': 7194, 'पाहुण्यांना': 7195, 'पाहू': 7196, 'पाहून': 7197, 'पाहूया': 7198, 'पिंजरा': 7199, 'पिंजर्\\u200dयात': 7200, 'पिंजर्\\u200dयातला': 7201, 'पिआनो': 7202, 'पिऊ': 7203, 'पिऊन': 7204, 'पिऊनपिऊन': 7205, 'पिऊया': 7206, 'पिकअप': 7207, 'पिकतील': 7208, 'पिकनिक': 7209, 'पिकनिकला': 7210, 'पिकलं': 7211, 'पिकली': 7212, 'पिकलेली': 7213, 'पिकासो': 7214, 'पिकासोने': 7215, 'पिकासोसारखं': 7216, 'पिकासोसारखे': 7217, 'पिकोलो': 7218, 'पिक्चर': 7219, 'पिक्चरचं': 7220, 'पिक्चरमधला': 7221, 'पिक्चरमधली': 7222, 'पिक्चरला': 7223, 'पिग्जची': 7224, 'पिचर': 7225, 'पिजा': 7226, 'पिजारो': 7227, 'पिजासुद्धा': 7228, 'पिज्जा': 7229, 'पिझावर': 7230, 'पिझ्झा': 7231, 'पिझ्झाची': 7232, 'पिट': 7233, 'पिणं': 7234, 'पिणार': 7235, 'पिणारा': 7236, 'पित': 7237, 'पितं': 7238, 'पिता': 7239, 'पितात': 7240, 'पिते': 7241, 'पितेय': 7242, 'पितेस': 7243, 'पितो': 7244, 'पितोय': 7245, 'पितोस': 7246, 'पियानिस्ट': 7247, 'पियानो': 7248, 'पियानोचा': 7249, 'पिरॅमिडच्या': 7250, 'पिल्लं': 7251, 'पिल्लाला': 7252, 'पिल्लू': 7253, 'पिल्ल्याचं': 7254, 'पिळला': 7255, 'पिवळं': 7256, 'पिवळा': 7257, 'पिवळी': 7258, 'पिवळे': 7259, 'पिवळ्या': 7260, 'पिशवी': 7261, 'पिशवीत': 7262, 'पिशवीतली': 7263, 'पिशवीतून': 7264, 'पिशव्या': 7265, 'पिसं': 7266, 'पिसले': 7267, 'पिसाचे': 7268, 'पिसे': 7269, 'पिस्ता': 7270, 'पिस्तुलीत': 7271, 'पी': 7272, 'पीअर्स': 7273, 'पीठ': 7274, 'पीत': 7275, 'पीतपीत': 7276, 'पीतो': 7277, 'पीनट': 7278, 'पीबीएस': 7279, 'पीस': 7280, 'पुट': 7281, 'पुडिंग': 7282, 'पुढचं': 7283, 'पुढचा': 7284, 'पुढची': 7285, 'पुढच्या': 7286, 'पुढील': 7287, 'पुढे': 7288, 'पुढेमागे': 7289, 'पुतळा': 7290, 'पुतळे': 7291, 'पुतळ्याचं': 7292, 'पुत्र': 7293, 'पुनरुच्चार': 7294, 'पुनर्विचार': 7295, 'पुन्हा': 7296, 'पुन्हापुन्हा': 7297, 'पुरत': 7298, 'पुरतील': 7299, 'पुरले': 7300, 'पुरवतात': 7301, 'पुरवतो': 7302, 'पुरवलं': 7303, 'पुरवेल': 7304, 'पुरस्कार': 7305, 'पुराण': 7306, 'पुराणमतवादी': 7307, 'पुरामुळे': 7308, 'पुरावा': 7309, 'पुरावे': 7310, 'पुरुष': 7311, 'पुरुषांना': 7312, 'पुरुषांनी': 7313, 'पुरुषांपेक्षा': 7314, 'पुरे': 7315, 'पुरेल': 7316, 'पुरेशी': 7317, 'पुरेश्या': 7318, 'पुरेसं': 7319, 'पुरेसा': 7320, 'पुरेसे': 7321, 'पुरोहित': 7322, 'पुलं': 7323, 'पुलाखाली': 7324, 'पुलाचं': 7325, 'पुलाच्या': 7326, 'पुलामुळे': 7327, 'पुलावरून': 7328, 'पुशअप': 7329, 'पुष्कळ': 7330, 'पुष्कळदा': 7331, 'पुष्टी': 7332, 'पुस': 7333, 'पुसतो': 7334, 'पुसतोय': 7335, 'पुसला': 7336, 'पुसले': 7337, 'पुसा': 7338, 'पुसून': 7339, 'पुस्तक': 7340, 'पुस्तकं': 7341, 'पुस्तकसुद्धा': 7342, 'पुस्तकांचं': 7343, 'पुस्तकांची': 7344, 'पुस्तकांच्या': 7345, 'पुस्तकांनी': 7346, 'पुस्तकांवर': 7347, 'पुस्तकांशिवाय': 7348, 'पुस्तकाएवढं': 7349, 'पुस्तकाचं': 7350, 'पुस्तकाचा': 7351, 'पुस्तकाची': 7352, 'पुस्तकाच्या': 7353, 'पुस्तकात': 7354, 'पुस्तकातलं': 7355, 'पुस्तकातील': 7356, 'पुस्तकाने': 7357, 'पुस्तकापेक्षा': 7358, 'पुस्तकाबद्दल': 7359, 'पुस्तकाबरोबर': 7360, 'पुस्तकाला': 7361, 'पुस्तकाविषयी': 7362, 'पुस्तिका': 7363, 'पूजा': 7364, 'पूरण': 7365, 'पूर्ण': 7366, 'पूर्णपणे': 7367, 'पूर्व': 7368, 'पूर्वग्रहरहित': 7369, 'पूर्वज': 7370, 'पूर्वी': 7371, 'पूर्वीपासूनचा': 7372, 'पूर्वेकडून': 7373, 'पूर्वेकडे': 7374, 'पूर्वेला': 7375, 'पूल': 7376, 'पूलमध्ये': 7377, 'पृथ्वी': 7378, 'पृथ्वीभोवती': 7379, 'पृथ्वीवर': 7380, 'पृथ्वीवरील': 7381, 'पॅक': 7382, 'पॅकिंग': 7383, 'पॅकिंगला': 7384, 'पॅडची': 7385, 'पॅनकेक': 7386, 'पॅनकेकवर': 7387, 'पॅरामेडिक': 7388, 'पॅराशूट': 7389, 'पॅरिस': 7390, 'पॅरिसमधून': 7391, 'पॅरिसमध्ये': 7392, 'पॅरिसला': 7393, 'पॅलेसमध्ये': 7394, 'पॅसिफिक': 7395, 'पेंग्विन': 7396, 'पेक्षा': 7397, 'पेटवला': 7398, 'पेटवली': 7399, 'पेटवल्या': 7400, 'पेटवू': 7401, 'पेटी': 7402, 'पेट्या': 7403, 'पेट्रोल': 7404, 'पेट्रोलचा': 7405, 'पेट्रोलची': 7406, 'पेट्रोलियम': 7407, 'पेन': 7408, 'पेनं': 7409, 'पेनने': 7410, 'पेनाने': 7411, 'पेन्टियम': 7412, 'पेन्सिल': 7413, 'पेन्सिली': 7414, 'पेन्सिलीची': 7415, 'पेपर': 7416, 'पेपरात': 7417, 'पेपरोनी': 7418, 'पेप्सी': 7419, 'पेरावे': 7420, 'पेरुजियामध्ये': 7421, 'पेरूमध्ये': 7422, 'पेल्यात': 7423, 'पेसो': 7424, 'पैगंबर': 7425, 'पैज': 7426, 'पैशांपेक्षा': 7427, 'पैशाचं': 7428, 'पैशाने': 7429, 'पैशे': 7430, 'पैश्यांची': 7431, 'पैश्यांसाठी': 7432, 'पैश्याची': 7433, 'पैश्याच्या': 7434, 'पैश्यासाठी': 7435, 'पैसा': 7436, 'पैसे': 7437, 'पॉझ': 7438, 'पॉडकास्ट': 7439, 'पॉपकॉर्न': 7440, 'पॉप्युलर': 7441, 'पॉल': 7442, 'पॉलिश': 7443, 'पोकर': 7444, 'पोकेमोन': 7445, 'पोचले': 7446, 'पोचलो': 7447, 'पोचल्याबरोबर': 7448, 'पोट': 7449, 'पोटात': 7450, 'पोटेटोझ': 7451, 'पोनी': 7452, 'पोप': 7453, 'पोपट': 7454, 'पोपटांना': 7455, 'पोपने': 7456, 'पोयांग': 7457, 'पोर': 7458, 'पोरं': 7459, 'पोरगा': 7460, 'पोरगी': 7461, 'पोरांना': 7462, 'पोराने': 7463, 'पोरे': 7464, 'पोर्क': 7465, 'पोर्तुगलची': 7466, 'पोर्तुगाल': 7467, 'पोर्तुगालचा': 7468, 'पोर्तुगालची': 7469, 'पोर्तुगीज': 7470, 'पोल': 7471, 'पोलंडची': 7472, 'पोलंडमध्ये': 7473, 'पोलंडवर': 7474, 'पोलाद': 7475, 'पोलिश': 7476, 'पोलिशमध्ये': 7477, 'पोलिसांची': 7478, 'पोलिसांना': 7479, 'पोलिसांनी': 7480, 'पोलिसांपासून': 7481, 'पोलिसांशी': 7482, 'पोलीस': 7483, 'पोलीसला': 7484, 'पोलीसांना': 7485, 'पोल्क': 7486, 'पोल्कला': 7487, 'पोस्ट': 7488, 'पोस्टकार्ड': 7489, 'पोस्टाने': 7490, 'पोस्टिंग': 7491, 'पोहचेन': 7492, 'पोहणं': 7493, 'पोहणारा': 7494, 'पोहणे': 7495, 'पोहत': 7496, 'पोहता': 7497, 'पोहतात': 7498, 'पोहताना': 7499, 'पोहतायत': 7500, 'पोहते': 7501, 'पोहतेस': 7502, 'पोहतो': 7503, 'पोहतोय': 7504, 'पोहतोस': 7505, 'पोहले': 7506, 'पोहलो': 7507, 'पोहशील': 7508, 'पोहायचा': 7509, 'पोहायचे': 7510, 'पोहायचो': 7511, 'पोहायला': 7512, 'पोहाल': 7513, 'पोहू': 7514, 'पोहोच': 7515, 'पोहोचणार': 7516, 'पोहोचण्याची': 7517, 'पोहोचत': 7518, 'पोहोचतं': 7519, 'पोहोचता': 7520, 'पोहोचताच': 7521, 'पोहोचतील': 7522, 'पोहोचते': 7523, 'पोहोचतेस': 7524, 'पोहोचतो': 7525, 'पोहोचलं': 7526, 'पोहोचला': 7527, 'पोहोचलाच': 7528, 'पोहोचलात': 7529, 'पोहोचलाय': 7530, 'पोहोचलास': 7531, 'पोहोचली': 7532, 'पोहोचलीच': 7533, 'पोहोचलीस': 7534, 'पोहोचले': 7535, 'पोहोचलो': 7536, 'पोहोचल्या': 7537, 'पोहोचल्याबरोबर': 7538, 'पोहोचल्याबरोबरच': 7539, 'पोहोचल्यावर': 7540, 'पोहोचवणं': 7541, 'पोहोचशील': 7542, 'पोहोचा': 7543, 'पोहोचायचं': 7544, 'पोहोचायला': 7545, 'पोहोचाल': 7546, 'पोहोचू': 7547, 'पोहोचेन': 7548, 'पोहोचेपर्यंत': 7549, 'पोहोचेल': 7550, 'पौरुषी': 7551, 'पौर्वात्य': 7552, 'प्या': 7553, 'प्यायचं': 7554, 'प्यायचंय': 7555, 'प्यायचा': 7556, 'प्यायची': 7557, 'प्यायला': 7558, 'प्यायलात': 7559, 'प्यायलास': 7560, 'प्यायली': 7561, 'प्यायलीस': 7562, 'प्यायले': 7563, 'प्यायलेली': 7564, 'प्यायलेलो': 7565, 'प्यायलो': 7566, 'प्यायल्याशिवाय': 7567, 'प्यावं': 7568, 'प्यावंसं': 7569, 'प्येय': 7570, 'प्रकल्प': 7571, 'प्रकल्पात': 7572, 'प्रकार': 7573, 'प्रकारचं': 7574, 'प्रकारचा': 7575, 'प्रकारची': 7576, 'प्रकारचे': 7577, 'प्रकारच्या': 7578, 'प्रकाराचे': 7579, 'प्रकाराने': 7580, 'प्रकारे': 7581, 'प्रकारेही': 7582, 'प्रकाश': 7583, 'प्रकाशचित्रण': 7584, 'प्रकाशन': 7585, 'प्रकाशहीन': 7586, 'प्रकाशित': 7587, 'प्रक्रिया': 7588, 'प्रगती': 7589, 'प्रचंड': 7590, 'प्रजासत्ताक': 7591, 'प्रजासत्ताकमध्ये': 7592, 'प्रजासत्ताकाची': 7593, 'प्रत': 7594, 'प्रतिकार': 7595, 'प्रतिद्वंद्वी': 7596, 'प्रतिनिधी': 7597, 'प्रतिभा': 7598, 'प्रतिवादी': 7599, 'प्रतिष्ठापित': 7600, 'प्रतिस्पर्धा': 7601, 'प्रतिस्पर्धी': 7602, 'प्रतीक्षा': 7603, 'प्रत्यक्षात': 7604, 'प्रत्येक': 7605, 'प्रत्येकाचं': 7606, 'प्रत्येकाला': 7607, 'प्रथम': 7608, 'प्रथा': 7609, 'प्रदर्शने': 7610, 'प्रदूषण': 7611, 'प्रदूषणापासून': 7612, 'प्रदूषित': 7613, 'प्रदेश': 7614, 'प्रपोज': 7615, 'प्रबल': 7616, 'प्रभाव': 7617, 'प्रमाणात': 7618, 'प्रमाणावर': 7619, 'प्रमुख': 7620, 'प्रमोशन': 7621, 'प्रयत्न': 7622, 'प्रयत्नसुद्धा': 7623, 'प्रयत्नही': 7624, 'प्रयत्नात': 7625, 'प्रयास': 7626, 'प्रयोग': 7627, 'प्रयोगशाळेत': 7628, 'प्रयोगात': 7629, 'प्रयोगाने': 7630, 'प्रवाश्यांना': 7631, 'प्रवास': 7632, 'प्रवासाची': 7633, 'प्रवृति': 7634, 'प्रवृती': 7635, 'प्रवेश': 7636, 'प्रशांत': 7637, 'प्रशासकीय': 7638, 'प्रशियन': 7639, 'प्रश्णांची': 7640, 'प्रश्न': 7641, 'प्रश्नच': 7642, 'प्रश्नांचं': 7643, 'प्रश्नांची': 7644, 'प्रश्नाचं': 7645, 'प्रश्नाने': 7646, 'प्रश्नावर': 7647, 'प्रसंग': 7648, 'प्रसिद्ध': 7649, 'प्रस्ताव': 7650, 'प्रस्तुत': 7651, 'प्रांत': 7652, 'प्राग': 7653, 'प्राचीन': 7654, 'प्राणवायूशिवाय': 7655, 'प्राणी': 7656, 'प्राणीसंग्रहालय': 7657, 'प्राणीसंग्रहालयात': 7658, 'प्राण्यांना': 7659, 'प्राण्यांमधून': 7660, 'प्राण्याला': 7661, 'प्राथमिक': 7662, 'प्राथमिकतः': 7663, 'प्राध्यापक': 7664, 'प्राप्त': 7665, 'प्रामाणिक': 7666, 'प्रामाणिकतेवर': 7667, 'प्रायश्चित्त': 7668, 'प्रार्थना': 7669, 'प्रिंटर': 7670, 'प्रिंटरमध्ये': 7671, 'प्रिफेक्चर': 7672, 'प्रेक्षक': 7673, 'प्रेक्षकांमध्ये': 7674, 'प्रेम': 7675, 'प्रेमपत्र': 7676, 'प्रेमप्रकरण': 7677, 'प्रेमळ': 7678, 'प्रेमही': 7679, 'प्रेमाइतकं': 7680, 'प्रेमाचंच': 7681, 'प्रेमाचा': 7682, 'प्रेमाची': 7683, 'प्रेमाच्या': 7684, 'प्रेमात': 7685, 'प्रेमाशिवाय': 7686, 'प्रेरणा': 7687, 'प्रेसली': 7688, 'प्रॉब्लेम': 7689, 'प्रो': 7690, 'प्रोग्राम': 7691, 'प्रोग्रामर': 7692, 'प्रोग्रामिंग': 7693, 'प्रोच्छ': 7694, 'प्रोत्साहित': 7695, 'प्रोफेसर': 7696, 'प्रोसेसर': 7697, 'प्रोसेसरचा': 7698, 'प्लासीबो': 7699, 'प्लास्टिकची': 7700, 'प्लास्टिकच्या': 7701, 'प्लीज': 7702, 'प्लॅटफॉर्म': 7703, 'प्लॅट्फॉर्मवरून': 7704, 'प्लॅन': 7705, 'प्लेटमधून': 7706, 'प्लेन्सच्या': 7707, 'प्लेयर': 7708, 'प्लेयरमध्ये': 7709, 'प्लेस्टेशन': 7710, 'फँटसी': 7711, 'फंडरेजर': 7712, 'फक्त': 7713, 'फटका': 7714, 'फडताळात': 7715, 'फणी': 7716, 'फरक': 7717, 'फर्निचर': 7718, 'फळ': 7719, 'फळं': 7720, 'फळंभाज्या': 7721, 'फळांमध्ये': 7722, 'फळांशिवाय': 7723, 'फळाचा': 7724, 'फळ्यावर': 7725, 'फसलाय': 7726, 'फसलायस': 7727, 'फसलेय': 7728, 'फसलेयत': 7729, 'फसलो': 7730, 'फसलोय': 7731, 'फसवलं': 7732, 'फसवलंत': 7733, 'फसवलंस': 7734, 'फसवायचा': 7735, 'फसवू': 7736, 'फांद्या': 7737, 'फाइल': 7738, 'फाईल': 7739, 'फाऊन्टन': 7740, 'फाटक': 7741, 'फाटकाबाहेर': 7742, 'फाटलेला': 7743, 'फाडणे': 7744, 'फाडताना': 7745, 'फाडलं': 7746, 'फाडली': 7747, 'फाडून': 7748, 'फातिमाचे': 7749, 'फातिमाच्या': 7750, 'फायटर': 7751, 'फायदा': 7752, 'फायनल': 7753, 'फायर': 7754, 'फायरफॉक्स': 7755, 'फायरवॉल': 7756, 'फायली': 7757, 'फायलींची': 7758, 'फायलीत': 7759, 'फार': 7760, 'फारच': 7761, 'फारशी': 7762, 'फारसं': 7763, 'फारसा': 7764, 'फारसी': 7765, 'फारसीचा': 7766, 'फार्मसीचं': 7767, 'फार्मसीत': 7768, 'फाशी': 7769, 'फास्टफूड': 7770, 'फास्टबॉल': 7771, 'फिकीर': 7772, 'फिजिक्समध्ये': 7773, 'फिजिसिस्ट': 7774, 'फिदेल': 7775, 'फिनलँडची': 7776, 'फिनलंडवर': 7777, 'फिनिश': 7778, 'फिरतंय': 7779, 'फिरतो': 7780, 'फिरलंय': 7781, 'फिरली': 7782, 'फिरव': 7783, 'फिरवतं': 7784, 'फिरवली': 7785, 'फिरवा': 7786, 'फिरायला': 7787, 'फिरू': 7788, 'फिलिप': 7789, 'फिलिपीन': 7790, 'फिल्म': 7791, 'फिश': 7792, 'फिशअँडचिप्स': 7793, 'फीनिक्स': 7794, 'फुंकून': 7795, 'फुकटमध्ये': 7796, 'फुकटात': 7797, 'फुकुओका': 7798, 'फुगवटा': 7799, 'फुगा': 7800, 'फुजी': 7801, 'फुटपाथवर': 7802, 'फुटबॉल': 7803, 'फुटबॉलचं': 7804, 'फुटबॉलबद्दल': 7805, 'फुटबॉलमध्ये': 7806, 'फुटला': 7807, 'फुटेल': 7808, 'फुलं': 7809, 'फुलतात': 7810, 'फुलपाखरू': 7811, 'फुलपाखरूपेक्षा': 7812, 'फुलांचा': 7813, 'फुलांची': 7814, 'फुलांना': 7815, 'फुलांनी': 7816, 'फुलाचा': 7817, 'फुलातून': 7818, 'फुलाला': 7819, 'फुले': 7820, 'फूट': 7821, 'फूल': 7822, 'फॅक्टरी': 7823, 'फॅक्टरीत': 7824, 'फॅक्टरीमध्ये': 7825, 'फॅक्टर्\\u200dया': 7826, 'फॅक्स': 7827, 'फॅन': 7828, 'फॅनसमोर': 7829, 'फॅरेनहाइट': 7830, 'फॅशन': 7831, 'फॅशनेबल': 7832, 'फॅशिस्ट': 7833, 'फेक': 7834, 'फेकत': 7835, 'फेकता': 7836, 'फेकलं': 7837, 'फेकला': 7838, 'फेकली': 7839, 'फेकले': 7840, 'फेका': 7841, 'फेकू': 7842, 'फेकून': 7843, 'फेकूनच': 7844, 'फेब्रुवारी': 7845, 'फेब्रुवारीमध्ये': 7846, 'फेरीच्या': 7847, 'फेल': 7848, 'फेलिच्याला': 7849, 'फेसबुक': 7850, 'फेसबुकवर': 7851, 'फेसबूकवर': 7852, 'फॉन्ट': 7853, 'फॉर्म': 7854, 'फॉर्वर्ड': 7855, 'फॉर्वर्डने': 7856, 'फॉल': 7857, 'फॉलो': 7858, 'फॉलोवर': 7859, 'फॉस्टरने': 7860, 'फोटेजेनिक': 7861, 'फोटो': 7862, 'फोटोग्राफर': 7863, 'फोटोची': 7864, 'फोटोजेनिक': 7865, 'फोटोमधल्या': 7866, 'फोडली': 7867, 'फोन': 7868, 'फोनच': 7869, 'फोनचा': 7870, 'फोनची': 7871, 'फोनने': 7872, 'फोनवर': 7873, 'फोनवरती': 7874, 'फोरट्रॅन': 7875, 'फोर्कलिफ्ट': 7876, 'फोर्ट': 7877, 'फोर्ड': 7878, 'फोर्डने': 7879, 'फोल्डर': 7880, 'फोल्डरमध्ये': 7881, 'फौजदार': 7882, 'फ्रँक': 7883, 'फ्रँक्लिनने': 7884, 'फ्रांकोच्या': 7885, 'फ्रांज': 7886, 'फ्रांस': 7887, 'फ्रांसच्या': 7888, 'फ्रांसपासून': 7889, 'फ्रांसमधील': 7890, 'फ्रांसिसको': 7891, 'फ्राईज': 7892, 'फ्राईजसुद्धा': 7893, 'फ्राईझ': 7894, 'फ्राईड': 7895, 'फ्रान्स': 7896, 'फ्रान्सइतका': 7897, 'फ्रान्सचा': 7898, 'फ्रान्सची': 7899, 'फ्रान्सच्या': 7900, 'फ्रान्सपासून': 7901, 'फ्रान्समध्ये': 7902, 'फ्रान्समध्येच': 7903, 'फ्रान्सला': 7904, 'फ्रान्सवर': 7905, 'फ्रान्ससहित': 7906, 'फ्रान्सिस्कोमध्ये': 7907, 'फ्रिज': 7908, 'फ्रिजमध्ये': 7909, 'फ्रिझमध्ये': 7910, 'फ्रेंच': 7911, 'फ्रेंचइतकी': 7912, 'फ्रेंचच': 7913, 'फ्रेंचचा': 7914, 'फ्रेंचची': 7915, 'फ्रेंचच्या': 7916, 'फ्रेंचदेखील': 7917, 'फ्रेंचपासून': 7918, 'फ्रेंचबरोबरच': 7919, 'फ्रेंचमधील': 7920, 'फ्रेंचमधून': 7921, 'फ्रेंचमध्ये': 7922, 'फ्रेंचसुद्धा': 7923, 'फ्रेंचांच्या': 7924, 'फ्रेंचांना': 7925, 'फ्रेंड्ज': 7926, 'फ्लर्ट': 7927, 'फ्लाइट': 7928, 'फ्लाईट': 7929, 'फ्लिकरवर': 7930, 'फ्लू': 7931, 'फ्लॅट': 7932, 'फ्लॅटची': 7933, 'फ्लॅटमध्ये': 7934, 'फ्लॅश': 7935, 'फ्लेव्हर': 7936, 'फ्लोरिडावर': 7937, 'फ्लोरेंस': 7938, 'फ्लोरेन्समध्ये': 7939, 'बँँडमध्ये': 7940, 'बँक': 7941, 'बँका': 7942, 'बँकांनी': 7943, 'बँकेत': 7944, 'बँकेतून': 7945, 'बँकेने': 7946, 'बँकेला': 7947, 'बँकेवर': 7948, 'बँगकॉक': 7949, 'बँड': 7950, 'बँडमध्ये': 7951, 'बँडसोबत': 7952, 'बँडेज': 7953, 'बंडखोरांनी': 7954, 'बंद': 7955, 'बंदच': 7956, 'बंदी': 7957, 'बंदुका': 7958, 'बंदुकीची': 7959, 'बंदुकीच्या': 7960, 'बंदुकीने': 7961, 'बंदुकीला': 7962, 'बंदुकीशी': 7963, 'बंदूक': 7964, 'बंदूकधारी': 7965, 'बंदोबस्त': 7966, 'बंधू': 7967, 'बकरा': 7968, 'बकरे': 7969, 'बकर्\\u200dया': 7970, 'बकिंगहॅम': 7971, 'बक्षीस': 7972, 'बक्षीसेला': 7973, 'बग': 7974, 'बगदादमधलं': 7975, 'बगळा': 7976, 'बघ': 7977, 'बघणं': 7978, 'बघणार': 7979, 'बघण्याऐवजी': 7980, 'बघण्यात': 7981, 'बघण्यापेक्षा': 7982, 'बघण्यालायक': 7983, 'बघण्यासारखं': 7984, 'बघण्यासारखा': 7985, 'बघत': 7986, 'बघतंय': 7987, 'बघतय': 7988, 'बघतलं': 7989, 'बघता': 7990, 'बघताच': 7991, 'बघतात': 7992, 'बघताय': 7993, 'बघताहेत': 7994, 'बघते': 7995, 'बघतेय': 7996, 'बघतेयस': 7997, 'बघतेस': 7998, 'बघतो': 7999, 'बघतोय': 8000, 'बघतोयस': 8001, 'बघतोस': 8002, 'बघशील': 8003, 'बघा': 8004, 'बघायचं': 8005, 'बघायचंय': 8006, 'बघायचा': 8007, 'बघायचाय': 8008, 'बघायची': 8009, 'बघायचीय': 8010, 'बघायचे': 8011, 'बघायचो': 8012, 'बघायला': 8013, 'बघाल': 8014, 'बघावं': 8015, 'बघाविशी': 8016, 'बघावी': 8017, 'बघितलं': 8018, 'बघितलंत': 8019, 'बघितलंय': 8020, 'बघितलंस': 8021, 'बघितलंसुद्धा': 8022, 'बघितला': 8023, 'बघितलात': 8024, 'बघितलास': 8025, 'बघितली': 8026, 'बघितले': 8027, 'बघितलेत': 8028, 'बघितलेलं': 8029, 'बघितलेस': 8030, 'बघितल्या': 8031, 'बघितल्याबरोबरच': 8032, 'बघुया': 8033, 'बघू': 8034, 'बघून': 8035, 'बघूया': 8036, 'बघेन': 8037, 'बघेल': 8038, 'बझर': 8039, 'बटण': 8040, 'बटणं': 8041, 'बटर': 8042, 'बटरमध्ये': 8043, 'बटवा': 8044, 'बटाटा': 8045, 'बटाटे': 8046, 'बटाट्यांपेक्षा': 8047, 'बटाट्यांसाठी': 8048, 'बटाट्याचं': 8049, 'बड': 8050, 'बडबड': 8051, 'बडबडत': 8052, 'बडबडतो': 8053, 'बडबड्या': 8054, 'बदक': 8055, 'बदकाला': 8056, 'बदकासारखं': 8057, 'बदल': 8058, 'बदलणार': 8059, 'बदलण्यात': 8060, 'बदलत': 8061, 'बदलतंय': 8062, 'बदलतात': 8063, 'बदलते': 8064, 'बदलतो': 8065, 'बदललं': 8066, 'बदलला': 8067, 'बदललात': 8068, 'बदललास': 8069, 'बदलली': 8070, 'बदलले': 8071, 'बदलल्या': 8072, 'बदला': 8073, 'बदलायचं': 8074, 'बदलायचा': 8075, 'बदलायची': 8076, 'बदलायला': 8077, 'बदली': 8078, 'बदलू': 8079, 'बदलून': 8080, 'बदलूया': 8081, 'बदलेन': 8082, 'बदलेल': 8083, 'बदल्यात': 8084, 'बदाम': 8085, 'बदामचा': 8086, 'बनणार': 8087, 'बनण्याचा': 8088, 'बनण्याची': 8089, 'बनत': 8090, 'बनतं': 8091, 'बनते': 8092, 'बनतोय': 8093, 'बनलं': 8094, 'बनला': 8095, 'बनली': 8096, 'बनले': 8097, 'बनलेलं': 8098, 'बनलेला': 8099, 'बनलेली': 8100, 'बनलेल्या': 8101, 'बनलो': 8102, 'बनल्या': 8103, 'बनव': 8104, 'बनवणं': 8105, 'बनवण्याअगोदर': 8106, 'बनवण्याइतपत': 8107, 'बनवण्यात': 8108, 'बनवत': 8109, 'बनवता': 8110, 'बनवतात': 8111, 'बनवते': 8112, 'बनवतेय': 8113, 'बनवतेस': 8114, 'बनवतो': 8115, 'बनवतोय': 8116, 'बनवतोस': 8117, 'बनवलं': 8118, 'बनवलंत': 8119, 'बनवलंय': 8120, 'बनवलंस': 8121, 'बनवलत': 8122, 'बनवला': 8123, 'बनवली': 8124, 'बनवलीत': 8125, 'बनवलीस': 8126, 'बनवले': 8127, 'बनवलेलं': 8128, 'बनवलेला': 8129, 'बनवलेली': 8130, 'बनवलेल्या': 8131, 'बनवल्या': 8132, 'बनवशील': 8133, 'बनवा': 8134, 'बनवायचं': 8135, 'बनवायचा': 8136, 'बनवायचे': 8137, 'बनवायला': 8138, 'बनवाल': 8139, 'बनवू': 8140, 'बनवून': 8141, 'बनवूया': 8142, 'बनवेन': 8143, 'बनवेल': 8144, 'बनशील': 8145, 'बनायचं': 8146, 'बनायचंय': 8147, 'बनायचा': 8148, 'बनायला': 8149, 'बनावटीची': 8150, 'बनू': 8151, 'बनेल': 8152, 'बरं': 8153, 'बरंय': 8154, 'बरज': 8155, 'बरा': 8156, 'बराक': 8157, 'बरी': 8158, 'बरे': 8159, 'बरेचदा': 8160, 'बरेसे': 8161, 'बरोबर': 8162, 'बरोबरच': 8163, 'बरोबरची': 8164, 'बरोब्बर': 8165, 'बर्गर': 8166, 'बर्गरवर्गर': 8167, 'बर्थडे': 8168, 'बर्न': 8169, 'बर्फ': 8170, 'बर्फाइतकं': 8171, 'बर्फाइतकी': 8172, 'बर्फाचा': 8173, 'बर्फाचे': 8174, 'बर्फात': 8175, 'बर्फाने': 8176, 'बर्फापेक्षा': 8177, 'बर्फाबरोबर': 8178, 'बर्फामुळे': 8179, 'बर्फावर': 8180, 'बर्फासारखं': 8181, 'बर्फासारखा': 8182, 'बर्फासारखी': 8183, 'बर्मिंगमला': 8184, 'बर्रची': 8185, 'बर्रने': 8186, 'बर्लिन': 8187, 'बर्लिनची': 8188, 'बर्\\u200dया': 8189, 'बर्\\u200dयापैकी': 8190, 'बर्\\u200dयापैकीच': 8191, 'बलवान': 8192, 'बल्ब': 8193, 'बळकावला': 8194, 'बळी': 8195, 'बशीत': 8196, 'बश्या': 8197, 'बस': 8198, 'बसचं': 8199, 'बसचालकाने': 8200, 'बसची': 8201, 'बसचे': 8202, 'बसच्या': 8203, 'बसणार': 8204, 'बसण्याची': 8205, 'बसण्यात': 8206, 'बसण्यापेक्षा': 8207, 'बसत': 8208, 'बसतात': 8209, 'बसताना': 8210, 'बसते': 8211, 'बसतो': 8212, 'बसने': 8213, 'बसमधून': 8214, 'बसमध्ये': 8215, 'बसलं': 8216, 'बसला': 8217, 'बसलाय': 8218, 'बसली': 8219, 'बसले': 8220, 'बसलेय': 8221, 'बसलेला': 8222, 'बसलेली': 8223, 'बसलेले': 8224, 'बसलो': 8225, 'बसलोय': 8226, 'बसल्या': 8227, 'बसवण्यात': 8228, 'बसवर': 8229, 'बसवली': 8230, 'बसवल्या': 8231, 'बसवायची': 8232, 'बसवू': 8233, 'बसवून': 8234, 'बसशील': 8235, 'बससाठी': 8236, 'बसस्टॉपच्या': 8237, 'बसा': 8238, 'बसायचं': 8239, 'बसायला': 8240, 'बसू': 8241, 'बसून': 8242, 'बसूनच': 8243, 'बसूया': 8244, 'बसेल': 8245, 'बहिणी': 8246, 'बहिणींना': 8247, 'बहिणीइतका': 8248, 'बहिणीइतकी': 8249, 'बहिणीइतके': 8250, 'बहिणीकडे': 8251, 'बहिणीचं': 8252, 'बहिणीचा': 8253, 'बहिणीची': 8254, 'बहिणीने': 8255, 'बहिणीनेच': 8256, 'बहिणीपेक्षा': 8257, 'बहिणीबरोबर': 8258, 'बहिणीला': 8259, 'बहिणीलासुद्धा': 8260, 'बहिणीशी': 8261, 'बहिणीसाठी': 8262, 'बहिणीसारखा': 8263, 'बहिणीसारखी': 8264, 'बहिणीसारखे': 8265, 'बहिणीसारख्या': 8266, 'बहिरा': 8267, 'बहिरी': 8268, 'बहीण': 8269, 'बहीणभाऊ': 8270, 'बहीणीएवढ्या': 8271, 'बहीणीकडे': 8272, 'बहुतंतु': 8273, 'बहुतांश': 8274, 'बहुतेक': 8275, 'बहुधा': 8276, 'बहुसंख्य': 8277, 'बाँगो': 8278, 'बाँब': 8279, 'बाँबबद्दल': 8280, 'बांग्लादेश': 8281, 'बांधकाम': 8282, 'बांधण्यात': 8283, 'बांधताहेत': 8284, 'बांधतील': 8285, 'बांधते': 8286, 'बांधतोय': 8287, 'बांधलं': 8288, 'बांधला': 8289, 'बांधली': 8290, 'बांधले': 8291, 'बांधलेलं': 8292, 'बांधलेला': 8293, 'बांधलेले': 8294, 'बांधल्या': 8295, 'बांधायचं': 8296, 'बांधायला': 8297, 'बांधून': 8298, 'बांधूया': 8299, 'बाइक': 8300, 'बाइकवरून': 8301, 'बाइकाल': 8302, 'बाई': 8303, 'बाईक': 8304, 'बाईकचा': 8305, 'बाईकडे': 8306, 'बाईकला': 8307, 'बाईकवर': 8308, 'बाईचा': 8309, 'बाईबरोबर': 8310, 'बाईला': 8311, 'बाईशी': 8312, 'बाउन्स': 8313, 'बाउलमधून': 8314, 'बाकावर': 8315, 'बाकी': 8316, 'बाकीचं': 8317, 'बाकीची': 8318, 'बाकीचे': 8319, 'बाकीच्या': 8320, 'बाकीच्यांच्या': 8321, 'बाकीच्यांना': 8322, 'बाकीच्यांपेक्षा': 8323, 'बाकीच्यांशी': 8324, 'बाग': 8325, 'बागेकडे': 8326, 'बागेचा': 8327, 'बागेच्या': 8328, 'बागेत': 8329, 'बागेतलं': 8330, 'बागेतल्या': 8331, 'बागेतील': 8332, 'बाजार': 8333, 'बाजारात': 8334, 'बाजारातून': 8335, 'बाजू': 8336, 'बाजूंमध्ये': 8337, 'बाजूचं': 8338, 'बाजूचा': 8339, 'बाजूची': 8340, 'बाजूच्या': 8341, 'बाजूने': 8342, 'बाजूबाजूला': 8343, 'बाजूला': 8344, 'बाजूलाच': 8345, 'बाजूवा': 8346, 'बाटली': 8347, 'बाटलीत': 8348, 'बाटलीने': 8349, 'बाटल्या': 8350, 'बाण': 8351, 'बातमी': 8352, 'बातमीनुसार': 8353, 'बातमीने': 8354, 'बातम्या': 8355, 'बातम्यांची': 8356, 'बातम्यांनी': 8357, 'बातम्यांमध्ये': 8358, 'बाथरुम': 8359, 'बाथरूम': 8360, 'बाथरूममधले': 8361, 'बाथरूममध्ये': 8362, 'बाथरूमला': 8363, 'बाथरोब': 8364, 'बादली': 8365, 'बादलीत': 8366, 'बाप': 8367, 'बापाला': 8368, 'बापासारखाच': 8369, 'बाबतीत': 8370, 'बाबा': 8371, 'बाबांकडे': 8372, 'बाबांचं': 8373, 'बाबांचा': 8374, 'बाबांची': 8375, 'बाबांचे': 8376, 'बाबांच्या': 8377, 'बाबांना': 8378, 'बाबांनी': 8379, 'बाबांपेक्षा': 8380, 'बाबांसारखं': 8381, 'बाबांसारखा': 8382, 'बाबांसारखाच': 8383, 'बाबांसारखी': 8384, 'बायका': 8385, 'बायकांची': 8386, 'बायकांना': 8387, 'बायको': 8388, 'बायकोचे': 8389, 'बायकोने': 8390, 'बायकोबरोबर': 8391, 'बायकोमुलं': 8392, 'बायकोला': 8393, 'बायकोवर': 8394, 'बायकोशी': 8395, 'बायकोसाठी': 8396, 'बायकोसुद्धा': 8397, 'बायबल': 8398, 'बायबलचा': 8399, 'बायबलमध्ये': 8400, 'बायबलवर': 8401, 'बायोकेमिस्ट': 8402, 'बार': 8403, 'बारकाईने': 8404, 'बारमध्ये': 8405, 'बारा': 8406, 'बारीक': 8407, 'बारीकच': 8408, 'बार्टेंडर': 8409, 'बार्टेंडरकडून': 8410, 'बार्टेन्डर': 8411, 'बार्तोलोमेओ': 8412, 'बार्बेक्यू': 8413, 'बार्स': 8414, 'बार्सेलोना': 8415, 'बालकाच्या': 8416, 'बालरोगतज्ञ': 8417, 'बाल्कन': 8418, 'बाळ': 8419, 'बाळं': 8420, 'बाळाचं': 8421, 'बाळाची': 8422, 'बाळाचे': 8423, 'बाळाने': 8424, 'बाळाप्रमाणे': 8425, 'बाळाबरोबर': 8426, 'बाळाला': 8427, 'बाळासारखा': 8428, 'बावली': 8429, 'बावलीचे': 8430, 'बावळट': 8431, 'बावळत': 8432, 'बाशो': 8433, 'बासरी': 8434, 'बासष्ट': 8435, 'बास्क': 8436, 'बास्कचा': 8437, 'बास्केटबॉल': 8438, 'बाहुली': 8439, 'बाहुलीची': 8440, 'बाहुलीबरोबर': 8441, 'बाहुलीला': 8442, 'बाहुल्या': 8443, 'बाहुल्यांबरोबर': 8444, 'बाहेर': 8445, 'बाहेरच': 8446, 'बाहेरचं': 8447, 'बाहेरून': 8448, 'बिअर': 8449, 'बिग': 8450, 'बिघडत': 8451, 'बिघडलं': 8452, 'बिघडला': 8453, 'बिघडली': 8454, 'बिघडलेलं': 8455, 'बिघडलेला': 8456, 'बिघडलेल्या': 8457, 'बिघडवलं': 8458, 'बिघडवला': 8459, 'बिघडवली': 8460, 'बिघडवून': 8461, 'बिघडून': 8462, 'बिचारी': 8463, 'बिजींग': 8464, 'बिझी': 8465, 'बिनसाखरेचा': 8466, 'बिनसाखरेची': 8467, 'बिबट्यात': 8468, 'बियर': 8469, 'बियरपासून': 8470, 'बियरसाठी': 8471, 'बिया': 8472, 'बिल': 8473, 'बिलं': 8474, 'बिलचं': 8475, 'बिलिअर्ड्ज': 8476, 'बिल्डिंग': 8477, 'बिल्डिंगची': 8478, 'बिल्डिंगच्या': 8479, 'बिल्डिंगमध्ये': 8480, 'बिल्डिंगसमोर': 8481, 'बिल्डिंमध्येच': 8482, 'बिवा': 8483, 'बिशारा': 8484, 'बिस्कीट': 8485, 'बी': 8486, 'बीअर': 8487, 'बीअरची': 8488, 'बीअरच्या': 8489, 'बीअरला': 8490, 'बीएलटी': 8491, 'बीच': 8492, 'बीजिंग': 8493, 'बीजिंगमध्ये': 8494, 'बीजिंगला': 8495, 'बीट्निक': 8496, 'बीफ': 8497, 'बीमध्ये': 8498, 'बीयर': 8499, 'बुक': 8500, 'बुकमार्क': 8501, 'बुखारेस्ट': 8502, 'बुटं': 8503, 'बुटका': 8504, 'बुटकी': 8505, 'बुटांच्या': 8506, 'बुटात': 8507, 'बुडणार': 8508, 'बुडत': 8509, 'बुडतं': 8510, 'बुडला': 8511, 'बुडले': 8512, 'बुडलेच': 8513, 'बुडलोच': 8514, 'बुडल्या': 8515, 'बुडवलं': 8516, 'बुडवली': 8517, 'बुडवलेलच': 8518, 'बुडू': 8519, 'बुडून': 8520, 'बुडॉपेश्ट': 8521, 'बुद्धिबळ': 8522, 'बुद्धिबळही': 8523, 'बुद्धिबळाच्या': 8524, 'बुद्धिबळात': 8525, 'बुद्धिमान': 8526, 'बुद्धी': 8527, 'बुद्धीची': 8528, 'बुध': 8529, 'बुधवार': 8530, 'बुधवारपर्यंत': 8531, 'बुधवारी': 8532, 'बुर्ज': 8533, 'बुलफाइटरपेक्षा': 8534, 'बुलफाइटिंग': 8535, 'बुलेटप्रूफ': 8536, 'बुश': 8537, 'बुशने': 8538, 'बूट': 8539, 'बूटांचं': 8540, 'बूट्स': 8541, 'बूलवार्डला': 8542, 'बॅंकेत': 8543, 'बॅंकेसाठी': 8544, 'बॅकअप': 8545, 'बॅकलिट': 8546, 'बॅक्टेरियामुळे': 8547, 'बॅग': 8548, 'बॅगा': 8549, 'बॅगेची': 8550, 'बॅगेत': 8551, 'बॅगेतली': 8552, 'बॅगेतून': 8553, 'बॅचलर': 8554, 'बॅटमॅनसारखे': 8555, 'बॅटर': 8556, 'बॅटरी': 8557, 'बॅटरीवर': 8558, 'बॅटर्\\u200dयांची': 8559, 'बॅन्ड': 8560, 'बॅर्गन': 8561, 'बॅले': 8562, 'बॅलेरिना': 8563, 'बॅल्टिक': 8564, 'बॅल्टिमोरमध्ये': 8565, 'बेअर': 8566, 'बेईमान': 8567, 'बेकन': 8568, 'बेकनचा': 8569, 'बेकरी': 8570, 'बेकरीत': 8571, 'बेकरीला': 8572, 'बेकायदेशीर': 8573, 'बेकार': 8574, 'बेकिंग': 8575, 'बेघर': 8576, 'बेजबाबदार': 8577, 'बेट': 8578, 'बेटं': 8579, 'बेटहोफन': 8580, 'बेटांचे': 8581, 'बेटांमधून': 8582, 'बेटावर': 8583, 'बेड': 8584, 'बेडकं': 8585, 'बेडकाला': 8586, 'बेडकावर': 8587, 'बेडखाली': 8588, 'बेडच्या': 8589, 'बेडमध्ये': 8590, 'बेडरूम': 8591, 'बेडरूमचं': 8592, 'बेडरूमचा': 8593, 'बेडरूमच्या': 8594, 'बेडरूममध्ये': 8595, 'बेडवर': 8596, 'बेडूक': 8597, 'बेथलेहेममध्ये': 8598, 'बेन्जमिन': 8599, 'बेरीज': 8600, 'बेरोजगार': 8601, 'बेरोजगारीचा': 8602, 'बेल': 8603, 'बेलग्रेड': 8604, 'बेलने': 8605, 'बेलो': 8606, 'बेल्जियम': 8607, 'बेल्जियमची': 8608, 'बेल्जियमपासून': 8609, 'बेल्जियममध्ये': 8610, 'बेल्ट': 8611, 'बेवडा': 8612, 'बेशुद्ध': 8613, 'बेशुद्धंय': 8614, 'बेस': 8615, 'बेसबॉल': 8616, 'बेसबॉलची': 8617, 'बेसबॉलपेक्षा': 8618, 'बेसबॉलबद्दल': 8619, 'बेसबॉलमध्या': 8620, 'बेसबॉलमध्ये': 8621, 'बेसबॉस': 8622, 'बेसमेंटमध्ये': 8623, 'बेसिनमध्ये': 8624, 'बैल': 8625, 'बॉक्स': 8626, 'बॉक्समध्ये': 8627, 'बॉक्सर': 8628, 'बॉटल': 8629, 'बॉडीगार्ड': 8630, 'बॉडीगार्डची': 8631, 'बॉनेटवर': 8632, 'बॉन्ड': 8633, 'बॉब': 8634, 'बॉयफ्रेंड': 8635, 'बॉयफ्रेंडचं': 8636, 'बॉयफ्रेंडची': 8637, 'बॉयफ्रेंडबरोबर': 8638, 'बॉयफ्रेंडसाठी': 8639, 'बॉयफ्रेंडही': 8640, 'बॉल': 8641, 'बॉलपेनने': 8642, 'बॉलला': 8643, 'बॉलिवूड': 8644, 'बॉस': 8645, 'बॉस्टन': 8646, 'बॉस्टनचा': 8647, 'बॉस्टनची': 8648, 'बॉस्टनचे': 8649, 'बॉस्टनजवळ': 8650, 'बॉस्टनपासून': 8651, 'बॉस्टनबद्दल': 8652, 'बॉस्टनबाबत': 8653, 'बॉस्टनमधल्या': 8654, 'बॉस्टनमधील': 8655, 'बॉस्टनमधून': 8656, 'बॉस्टनमध्ये': 8657, 'बॉस्टनमध्येच': 8658, 'बॉस्टनला': 8659, 'बॉस्टनवरून': 8660, 'बॉस्टनसारख्या': 8661, 'बो': 8662, 'बोके': 8663, 'बोक्याचं': 8664, 'बोगद्यातून': 8665, 'बोगेतल्या': 8666, 'बोजूलाच': 8667, 'बोट': 8668, 'बोटं': 8669, 'बोटची': 8670, 'बोटांनी': 8671, 'बोटांनीच': 8672, 'बोटाला': 8673, 'बोटी': 8674, 'बोटीचं': 8675, 'बोटीची': 8676, 'बोटीने': 8677, 'बोनापार्ट': 8678, 'बोनापार्टचा': 8679, 'बोर्डिंग': 8680, 'बोल': 8681, 'बोलणं': 8682, 'बोलणार': 8683, 'बोलणारा': 8684, 'बोलणारी': 8685, 'बोलणारे': 8686, 'बोलणार्\\u200dया': 8687, 'बोलणी': 8688, 'बोलणे': 8689, 'बोलण्याची': 8690, 'बोलण्यात': 8691, 'बोलण्यापेक्षा': 8692, 'बोलत': 8693, 'बोलतं': 8694, 'बोलतंय': 8695, 'बोलतच': 8696, 'बोलतही': 8697, 'बोलता': 8698, 'बोलतात': 8699, 'बोलताना': 8700, 'बोलताहेत': 8701, 'बोलते': 8702, 'बोलतेय': 8703, 'बोलतेयस': 8704, 'बोलतेस': 8705, 'बोलतो': 8706, 'बोलतोय': 8707, 'बोलतोयस': 8708, 'बोलतोस': 8709, 'बोललं': 8710, 'बोलला': 8711, 'बोललात': 8712, 'बोललास': 8713, 'बोलली': 8714, 'बोललीस': 8715, 'बोलले': 8716, 'बोललेलं': 8717, 'बोललो': 8718, 'बोलल्या': 8719, 'बोलव': 8720, 'बोलवत': 8721, 'बोलवतंय': 8722, 'बोलवतेय': 8723, 'बोलवतो': 8724, 'बोलवतोय': 8725, 'बोलवलं': 8726, 'बोलवली': 8727, 'बोलवले': 8728, 'बोलवशील': 8729, 'बोलवा': 8730, 'बोलवायचं': 8731, 'बोलवायला': 8732, 'बोलवाल': 8733, 'बोलवू': 8734, 'बोलवेन': 8735, 'बोलवेपर्यंत': 8736, 'बोला': 8737, 'बोलायचं': 8738, 'बोलायचंय': 8739, 'बोलायचा': 8740, 'बोलायची': 8741, 'बोलायचे': 8742, 'बोलायला': 8743, 'बोलावं': 8744, 'बोलावंसं': 8745, 'बोलावणार': 8746, 'बोलावणारच': 8747, 'बोलावण्यानंतर': 8748, 'बोलावतंय': 8749, 'बोलावते': 8750, 'बोलावतो': 8751, 'बोलावलं': 8752, 'बोलावलंत': 8753, 'बोलावलंस': 8754, 'बोलावली': 8755, 'बोलावले': 8756, 'बोलावीशी': 8757, 'बोलीभाषा': 8758, 'बोलुया': 8759, 'बोलू': 8760, 'बोलून': 8761, 'बोलूया': 8762, 'बोलेन': 8763, 'बोलेल': 8764, 'बोलोन्या': 8765, 'बोळणं': 8766, 'बोळणारी': 8767, 'बोस्टनमध्ये': 8768, 'बौद्ध': 8769, 'बौद्धधर्म': 8770, 'बौद्धधर्माची': 8771, 'ब्रँडची': 8772, 'ब्रँडी': 8773, 'ब्रंच': 8774, 'ब्रटिश': 8775, 'ब्रम्हांडाची': 8776, 'ब्रश': 8777, 'ब्रह्मांडात': 8778, 'ब्रह्मानंद': 8779, 'ब्रा': 8780, 'ब्राउजर': 8781, 'ब्राउझर': 8782, 'ब्राउझरचा': 8783, 'ब्राउनने': 8784, 'ब्राउनी': 8785, 'ब्राजिलचं': 8786, 'ब्राजिलची': 8787, 'ब्राजिलमधील': 8788, 'ब्राजिलमध्ये': 8789, 'ब्राजिलला': 8790, 'ब्राजिलियन': 8791, 'ब्राजील': 8792, 'ब्राझिल': 8793, 'ब्राझिलला': 8794, 'ब्राझील': 8795, 'ब्राझीलची': 8796, 'ब्राझीलपासून': 8797, 'ब्राझीलमधील': 8798, 'ब्रामध्ये': 8799, 'ब्रासिलिया': 8800, 'ब्रिज': 8801, 'ब्रिटन': 8802, 'ब्रिटनकडे': 8803, 'ब्रिटनचा': 8804, 'ब्रिटनची': 8805, 'ब्रिटनपासून': 8806, 'ब्रिटनबरोबर': 8807, 'ब्रिटनमध्ये': 8808, 'ब्रिटनला': 8809, 'ब्रिटिश': 8810, 'ब्रिटिशांना': 8811, 'ब्रिटिशांनी': 8812, 'ब्रिटिशांपेक्षा': 8813, 'ब्रीड्ज': 8814, 'ब्रीफकेस': 8815, 'ब्रुसेल्स': 8816, 'ब्रॅड': 8817, 'ब्रेड': 8818, 'ब्रेडचा': 8819, 'ब्रेडपेक्षा': 8820, 'ब्रेस्ट': 8821, 'ब्रॉकोली': 8822, 'ब्लाँडी': 8823, 'ब्लाउज': 8824, 'ब्लाऊज': 8825, 'ब्लास्को': 8826, 'ब्लीचसारखा': 8827, 'ब्लूग्रास': 8828, 'ब्लॅंकेट': 8829, 'ब्लॅक': 8830, 'ब्लॅकअँडव्हाईटमध्ये': 8831, 'ब्लॅकबेरी': 8832, 'ब्लॅकमेल': 8833, 'ब्लॉग': 8834, 'ब्लॉगर': 8835, 'ब्लॉगवर': 8836, 'भंकस': 8837, 'भंडवलाची': 8838, 'भटकत': 8839, 'भटक्या': 8840, 'भडक': 8841, 'भडकवू': 8842, 'भयंकर': 8843, 'भयानक': 8844, 'भर': 8845, 'भरणार': 8846, 'भरत': 8847, 'भरती': 8848, 'भरते': 8849, 'भरतो': 8850, 'भरपूर': 8851, 'भरलं': 8852, 'भरलंय': 8853, 'भरला': 8854, 'भरली': 8855, 'भरले': 8856, 'भरलेलं': 8857, 'भरलेला': 8858, 'भरलेली': 8859, 'भरल्या': 8860, 'भरल्यावर': 8861, 'भरवत': 8862, 'भरवतं': 8863, 'भरवते': 8864, 'भरवतेय': 8865, 'भरवतेस': 8866, 'भरवतो': 8867, 'भरवतोय': 8868, 'भरवतोस': 8869, 'भरवलं': 8870, 'भरवलंस': 8871, 'भरवला': 8872, 'भरवसा': 8873, 'भरवायला': 8874, 'भरवू': 8875, 'भरा': 8876, 'भरायचे': 8877, 'भरायला': 8878, 'भरायलाच': 8879, 'भरावा': 8880, 'भरू': 8881, 'भरून': 8882, 'भरेन': 8883, 'भरेल': 8884, 'भऱली': 8885, 'भलं': 8886, 'भलतच': 8887, 'भलताच': 8888, 'भल्यासाठीच': 8889, 'भवितव्य': 8890, 'भविष्य': 8891, 'भविष्याचं': 8892, 'भविष्याचा': 8893, 'भविष्यात': 8894, 'भविष्याबद्दल': 8895, 'भव्य': 8896, 'भांडण': 8897, 'भांडणं': 8898, 'भांडण्यात': 8899, 'भांडत': 8900, 'भांडतात': 8901, 'भांडताहेत': 8902, 'भांडतो': 8903, 'भांडतोय': 8904, 'भांडले': 8905, 'भांडलो': 8906, 'भांडल्या': 8907, 'भांडवलाची': 8908, 'भांडायचं': 8909, 'भांडायला': 8910, 'भांडू': 8911, 'भाऊ': 8912, 'भाऊच': 8913, 'भाऊबहिण': 8914, 'भाऊबहीण': 8915, 'भाकरी': 8916, 'भाग': 8917, 'भागांत': 8918, 'भागांमध्ये': 8919, 'भागाची': 8920, 'भागात': 8921, 'भागेत': 8922, 'भाचा': 8923, 'भाचे': 8924, 'भाच्याचं': 8925, 'भाजला': 8926, 'भाजलेलं': 8927, 'भाजलेल्या': 8928, 'भाजी': 8929, 'भाजून': 8930, 'भाज्या': 8931, 'भाज्यांचा': 8932, 'भाज्यांपेक्षा': 8933, 'भाडं': 8934, 'भाडे': 8935, 'भाड्याने': 8936, 'भाड्यावर': 8937, 'भात': 8938, 'भाताची': 8939, 'भारत': 8940, 'भारताचं': 8941, 'भारताची': 8942, 'भारताच्या': 8943, 'भारतात': 8944, 'भारतातच': 8945, 'भारतातलं': 8946, 'भारतातही': 8947, 'भारतातील': 8948, 'भारताने': 8949, 'भारतापर्यंतचा': 8950, 'भारतापासून': 8951, 'भारतापेक्षा': 8952, 'भारताबद्दल': 8953, 'भारताबद्दलच्या': 8954, 'भारताला': 8955, 'भारतावर': 8956, 'भारतीय': 8957, 'भारतीयांबरोबर': 8958, 'भाले': 8959, 'भाल्याने': 8960, 'भाव': 8961, 'भावना': 8962, 'भावाइतका': 8963, 'भावाचं': 8964, 'भावाचा': 8965, 'भावाची': 8966, 'भावाने': 8967, 'भावापेक्षा': 8968, 'भावाला': 8969, 'भावासारखा': 8970, 'भावासारखी': 8971, 'भावासारखे': 8972, 'भाषण': 8973, 'भाषणाच्या': 8974, 'भाषणातील': 8975, 'भाषणाने': 8976, 'भाषणे': 8977, 'भाषा': 8978, 'भाषांचा': 8979, 'भाषांच्या': 8980, 'भाषांतर': 8981, 'भाषांतरकार': 8982, 'भाषांतरित': 8983, 'भाषांमधील': 8984, 'भाषांमध्ये': 8985, 'भाषांविषयी': 8986, 'भाषिकांची': 8987, 'भाषेंचा': 8988, 'भाषेचा': 8989, 'भाषेची': 8990, 'भाषेत': 8991, 'भाषेपासून': 8992, 'भाषेला': 8993, 'भाषेविषयी': 8994, 'भाष्य': 8995, 'भिंत': 8996, 'भिंतींतून': 8997, 'भिंतींना': 8998, 'भिंतीखाली': 8999, 'भिंतीच्या': 9000, 'भिंतीत': 9001, 'भिंतीमागे': 9002, 'भिंतीला': 9003, 'भिंतीवर': 9004, 'भिंतीवरील': 9005, 'भिकारी': 9006, 'भिकार्\\u200dयांना': 9007, 'भिजली': 9008, 'भिजले': 9009, 'भिजलेला': 9010, 'भिजवला': 9011, 'भिजशील': 9012, 'भिजाल': 9013, 'भिजू': 9014, 'भिजून': 9015, 'भितरा': 9016, 'भिती': 9017, 'भितो': 9018, 'भित्रा': 9019, 'भित्री': 9020, 'भित्रे': 9021, 'भित्र्या': 9022, 'भी': 9023, 'भीक': 9024, 'भीत': 9025, 'भीती': 9026, 'भीतीने': 9027, 'भुंकणारे': 9028, 'भुंकत': 9029, 'भुंकतात': 9030, 'भुंकतो': 9031, 'भुंकतोय': 9032, 'भुंकला': 9033, 'भुंकले': 9034, 'भुंकू': 9035, 'भुकंप': 9036, 'भुकंपात': 9037, 'भुकंपामुळे': 9038, 'भुकलेले': 9039, 'भुकलेलो': 9040, 'भुकेने': 9041, 'भुकेमुळे': 9042, 'भुकेले': 9043, 'भुकेलेलं': 9044, 'भुकेल्या': 9045, 'भुतं': 9046, 'भुतांची': 9047, 'भुतांच्या': 9048, 'भुतांवर': 9049, 'भुयारातून': 9050, 'भुयारी': 9051, 'भूक': 9052, 'भूकंप': 9053, 'भूगोल': 9054, 'भूगोलापेक्षा': 9055, 'भूचर': 9056, 'भूत': 9057, 'भूतकाळात': 9058, 'भूतांचं': 9059, 'भूतांबद्दल': 9060, 'भूतांमध्ये': 9061, 'भूदल': 9062, 'भूप्रदेश': 9063, 'भूमध्य': 9064, 'भूमिका': 9065, 'भेंडीची': 9066, 'भेंड्या': 9067, 'भेट': 9068, 'भेटत': 9069, 'भेटता': 9070, 'भेटतात': 9071, 'भेटते': 9072, 'भेटतो': 9073, 'भेटला': 9074, 'भेटलात': 9075, 'भेटलास': 9076, 'भेटली': 9077, 'भेटलीस': 9078, 'भेटले': 9079, 'भेटलेलं': 9080, 'भेटलेला': 9081, 'भेटलेले': 9082, 'भेटलेलो': 9083, 'भेटलो': 9084, 'भेटलोय': 9085, 'भेटवस्तू': 9086, 'भेटा': 9087, 'भेटायचं': 9088, 'भेटायचंय': 9089, 'भेटायला': 9090, 'भेटावं': 9091, 'भेटुया': 9092, 'भेटू': 9093, 'भेटून': 9094, 'भेटूया': 9095, 'भेटेन': 9096, 'भेटेल': 9097, 'भेदभाव': 9098, 'भैकेर': 9099, 'भोक': 9100, 'भोवती': 9101, 'भोवतीच्या': 9102, 'भोसकलं': 9103, 'भोसकले': 9104, 'भौतिकवादी': 9105, 'भौतिकशास्त्र': 9106, 'भौतिकशास्त्रज्ञ': 9107, 'भौतिकशास्त्रवेत्ता': 9108, 'भौतिकशास्त्रात': 9109, 'भौतिकीविज्ञ': 9110, 'भ्रमिष्ट': 9111, 'भ्रष्टाचार': 9112, 'भ्रष्टाचारापासून': 9113, 'मँडोलिन': 9114, 'मँडोलिनदेखील': 9115, 'मंकी': 9116, 'मंगळवार': 9117, 'मंगळवारपासून': 9118, 'मंगळवारी': 9119, 'मंगळाला': 9120, 'मंगळावर': 9121, 'मंगोलियाची': 9122, 'मंजुरी': 9123, 'मंडळाचा': 9124, 'मंडळाची': 9125, 'मंडळाचे': 9126, 'मंत्रिमंडळाचा': 9127, 'मंत्रिमंडळाचे': 9128, 'मंत्रिमंडळाने': 9129, 'मंत्री': 9130, 'मंत्र्याला': 9131, 'मंदिरं': 9132, 'मंदिरांमधून': 9133, 'मंदिराजवळ': 9134, 'मंदिरात': 9135, 'मंदिराला': 9136, 'मंदीर': 9137, 'मऊ': 9138, 'मकिन्लेला': 9139, 'मक्का': 9140, 'मक्किनलेने': 9141, 'मक्केला': 9142, 'मग': 9143, 'मगरी': 9144, 'मगरीने': 9145, 'मजबूत': 9146, 'मजला': 9147, 'मजली': 9148, 'मजले': 9149, 'मजल्यावर': 9150, 'मजा': 9151, 'मजेशीर': 9152, 'मटण': 9153, 'मटणही': 9154, 'मटर': 9155, 'मठ्ठ': 9156, 'मत': 9157, 'मतं': 9158, 'मतदान': 9159, 'मतदारांना': 9160, 'मते': 9161, 'मत्रिणी': 9162, 'मत्सर': 9163, 'मत्सरी': 9164, 'मद': 9165, 'मदत': 9166, 'मदतही': 9167, 'मदतीची': 9168, 'मदतीशिवाय': 9169, 'मदतीस': 9170, 'मदर': 9171, 'मदर्स': 9172, 'मदिना': 9173, 'मध': 9174, 'मधमाश्या': 9175, 'मधली': 9176, 'मधील': 9177, 'मधून': 9178, 'मधोमध': 9179, 'मध्य': 9180, 'मध्यपूर्व': 9181, 'मध्यपूर्वेत': 9182, 'मध्यपूर्वेतील': 9183, 'मध्ययुगात': 9184, 'मध्यरात्र': 9185, 'मध्यरात्री': 9186, 'मध्यरात्रीपर्यंत': 9187, 'मध्ये': 9188, 'मन': 9189, 'मनरो': 9190, 'मनरोला': 9191, 'मनाचा': 9192, 'मनाची': 9193, 'मनाचे': 9194, 'मनात': 9195, 'मनापासून': 9196, 'मनाबाहेर': 9197, 'मनुष्य': 9198, 'मनुष्यांचा': 9199, 'मनोरंजक': 9200, 'मनोरा': 9201, 'मनोवेधक': 9202, 'मफिन': 9203, 'मम्मा': 9204, 'मम्मी': 9205, 'मर': 9206, 'मरणं': 9207, 'मरणार': 9208, 'मरणारच': 9209, 'मरण्यापेक्षा': 9210, 'मरत': 9211, 'मरतंय': 9212, 'मरतात': 9213, 'मरताहेत': 9214, 'मरतील': 9215, 'मरतेय': 9216, 'मरतो': 9217, 'मरतोय': 9218, 'मरशील': 9219, 'मरा': 9220, 'मरायचं': 9221, 'मरायला': 9222, 'मराल': 9223, 'मरीन': 9224, 'मरीला': 9225, 'मरू': 9226, 'मरून': 9227, 'मरूनच': 9228, 'मरेन': 9229, 'मरेल': 9230, 'मर्चंट': 9231, 'मर्जीप्रमाणे': 9232, 'मर्यादा': 9233, 'मर्यादित': 9234, 'मला': 9235, 'मलाच': 9236, 'मलातरी': 9237, 'मलापण': 9238, 'मलासुद्धा': 9239, 'मलाही': 9240, 'मलेशियापासून': 9241, 'मलेशियामधील': 9242, 'मशरूमचा': 9243, 'मशिदी': 9244, 'मशिदीत': 9245, 'मशिदीवर': 9246, 'मशीन': 9247, 'मशीनचा': 9248, 'मशीनमध्ये': 9249, 'मशीनी': 9250, 'मशीनीत': 9251, 'मसकापाव': 9252, 'मसल': 9253, 'मस्त': 9254, 'मस्तच': 9255, 'मस्तपैकी': 9256, 'मस्तीखोर': 9257, 'महटलेलं': 9258, 'महणून': 9259, 'महत्त्वपूर्ण': 9260, 'महत्त्वाचं': 9261, 'महत्त्वाचा': 9262, 'महत्त्वाची': 9263, 'महत्त्वाचे': 9264, 'महत्त्वाच्या': 9265, 'महाग': 9266, 'महागडं': 9267, 'महागडा': 9268, 'महागडाही': 9269, 'महागडी': 9270, 'महागडे': 9271, 'महागड्या': 9272, 'महान': 9273, 'महापौर': 9274, 'महामार्ग': 9275, 'महामार्गावर': 9276, 'महाराणीचा': 9277, 'महाराष्ट्र': 9278, 'महाल': 9279, 'महालात': 9280, 'महाविद्यालयांच्या': 9281, 'महाविद्यालयात': 9282, 'महाविद्यालयाने': 9283, 'महाशक्ती': 9284, 'महासागर': 9285, 'महासागराच्या': 9286, 'महासागराजवळ': 9287, 'महासागरात': 9288, 'महासागरापाशी': 9289, 'महिना': 9290, 'महिने': 9291, 'महिन्यांचं': 9292, 'महिन्यांचा': 9293, 'महिन्यांची': 9294, 'महिन्यांनंतर': 9295, 'महिन्यांनी': 9296, 'महिन्यांपासून': 9297, 'महिन्यांपूर्वी': 9298, 'महिन्यांमध्ये': 9299, 'महिन्याचं': 9300, 'महिन्याच्या': 9301, 'महिन्यात': 9302, 'महिन्यातून': 9303, 'महिन्यापासून': 9304, 'महिन्यापूर्वी': 9305, 'महिन्यापूर्वीची': 9306, 'महिन्यापेक्षा': 9307, 'महिन्याभरात': 9308, 'महिन्याला': 9309, 'महिला': 9310, 'महिलेसारखा': 9311, 'महीन्याच्या': 9312, 'मह्दी': 9313, 'मांगूंगी।': 9314, 'मांजर': 9315, 'मांजरांना': 9316, 'मांजरांपेक्षा': 9317, 'मांजरांशी': 9318, 'मांजराच्या': 9319, 'मांजराने': 9320, 'मांजराला': 9321, 'मांजरी': 9322, 'मांजरींना': 9323, 'मांजरीचं': 9324, 'मांजरीच्या': 9325, 'मांजरीला': 9326, 'मांजरीवर': 9327, 'मांडी': 9328, 'मांडीवर': 9329, 'मांडू': 9330, 'मांस': 9331, 'मांसाचा': 9332, 'मांसाहारी': 9333, 'माइक': 9334, 'माउस': 9335, 'माऊस': 9336, 'माओरी': 9337, 'माकड': 9338, 'माकडं': 9339, 'माकडंसुद्धा': 9340, 'माकडांना': 9341, 'माकडांसाठी': 9342, 'माकडाचं': 9343, 'माकडाला': 9344, 'माकडासारखा': 9345, 'माखलेली': 9346, 'माग': 9347, 'मागच्या': 9348, 'मागणार': 9349, 'मागणी': 9350, 'मागण्या': 9351, 'मागत': 9352, 'मागतात': 9353, 'मागते': 9354, 'मागतो': 9355, 'मागवतात': 9356, 'मागवतेय': 9357, 'मागवतो': 9358, 'मागवतोय': 9359, 'मागवलं': 9360, 'मागवलंय': 9361, 'मागवला': 9362, 'मागवली': 9363, 'मागवले': 9364, 'मागवशील': 9365, 'मागवाल': 9366, 'मागवू': 9367, 'मागवूया': 9368, 'मागवेन': 9369, 'मागवेल': 9370, 'मागायची': 9371, 'मागायला': 9372, 'मागितलं': 9373, 'मागितली': 9374, 'मागितले': 9375, 'मागू': 9376, 'मागून': 9377, 'मागे': 9378, 'मागेच': 9379, 'मागेमागे': 9380, 'मागेल': 9381, 'मागोमाग': 9382, 'माघार': 9383, 'माचिस': 9384, 'माझं': 9385, 'माझंही': 9386, 'माझा': 9387, 'माझाच': 9388, 'माझी': 9389, 'माझीच': 9390, 'माझे': 9391, 'माझेच': 9392, 'माझ्या': 9393, 'माझ्याइतका': 9394, 'माझ्याइतकाच': 9395, 'माझ्याइतकी': 9396, 'माझ्याएवढाच': 9397, 'माझ्याकडून': 9398, 'माझ्याकडे': 9399, 'माझ्याकडेसुद्धा': 9400, 'माझ्याकडेही': 9401, 'माझ्याच': 9402, 'माझ्यात': 9403, 'माझ्यानंतर': 9404, 'माझ्यापासून': 9405, 'माझ्यापासूनसुद्धा': 9406, 'माझ्यापुरतं': 9407, 'माझ्यापेक्षा': 9408, 'माझ्यापेक्षाही': 9409, 'माझ्याबद्दल': 9410, 'माझ्याबरोबर': 9411, 'माझ्याबरोबरच': 9412, 'माझ्याबरोबरही': 9413, 'माझ्यामुळे': 9414, 'माझ्यामुळेच': 9415, 'माझ्यावर': 9416, 'माझ्याविरुद्ध': 9417, 'माझ्याशिवाय': 9418, 'माझ्याशी': 9419, 'माझ्यासमोर': 9420, 'माझ्यासाठी': 9421, 'माझ्यासाठीच': 9422, 'माझ्यासारखं': 9423, 'माझ्यासारखा': 9424, 'माझ्यासारख्या': 9425, 'माझ्यासोबत': 9426, 'माणसं': 9427, 'माणसांची': 9428, 'माणसांना': 9429, 'माणसांनी': 9430, 'माणसांबरोबर': 9431, 'माणसांमधील': 9432, 'माणसाकडे': 9433, 'माणसाचं': 9434, 'माणसाचा': 9435, 'माणसाची': 9436, 'माणसाचे': 9437, 'माणसाने': 9438, 'माणसापेक्षा': 9439, 'माणसाला': 9440, 'माणसाशिवाय': 9441, 'माणसाशी': 9442, 'माणसासाठी': 9443, 'माणसासारखा': 9444, 'माणसे': 9445, 'माणुस': 9446, 'माणूस': 9447, 'माती': 9448, 'मातीत': 9449, 'मातृभाषा': 9450, 'मातृभाषेचा': 9451, 'मात्यू': 9452, 'मात्र': 9453, 'मात्सुएमध्ये': 9454, 'मात्सुमोतोचं': 9455, 'मात्सुयामाचा': 9456, 'मात्सुयामाला': 9457, 'माध्यमाने': 9458, 'माध्यमिक': 9459, 'मान': 9460, 'मानता': 9461, 'मानतात': 9462, 'मानते': 9463, 'मानतेस': 9464, 'मानतो': 9465, 'मानतोस': 9466, 'मानली': 9467, 'मानले': 9468, 'मानव': 9469, 'मानवच': 9470, 'मानवतेच्या': 9471, 'मानवाची': 9472, 'मानवी': 9473, 'मानसिक': 9474, 'मानसोपचारज्ञ': 9475, 'मानायची': 9476, 'मानिला': 9477, 'मानुएलाचे': 9478, 'मानू': 9479, 'मान्य': 9480, 'मान्यता': 9481, 'माप': 9482, 'माफ': 9483, 'माफ़ी': 9484, 'माफी': 9485, 'मामा': 9486, 'मामांची': 9487, 'मामाचं': 9488, 'मामाची': 9489, 'मामाच्या': 9490, 'मामाने': 9491, 'मामाबरोबर': 9492, 'मामाला': 9493, 'मामासोबत': 9494, 'मामी': 9495, 'मामीबरोबर': 9496, 'मामीला': 9497, 'मामीसारखी': 9498, 'मामेबहीण': 9499, 'मामेभाऊ': 9500, 'माय': 9501, 'मायक्रोप्रोसेसर': 9502, 'मायक्रोफोन': 9503, 'मायक्रोफोनच्या': 9504, 'मायक्रोबायोलॉजिस्ट': 9505, 'मायक्रोव्हेव': 9506, 'मायक्रोसॉफ्ट': 9507, 'मायक्रोसॉफ्टचे': 9508, 'मार': 9509, 'मारणं': 9510, 'मारणार': 9511, 'मारण्याइतपत': 9512, 'मारण्याची': 9513, 'मारण्यात': 9514, 'मारत': 9515, 'मारतं': 9516, 'मारतंय': 9517, 'मारता': 9518, 'मारतात': 9519, 'मारताना': 9520, 'मारताहेत': 9521, 'मारतील': 9522, 'मारते': 9523, 'मारतेस': 9524, 'मारतो': 9525, 'मारतोय': 9526, 'मारतोस': 9527, 'मारलं': 9528, 'मारलंत': 9529, 'मारलंस': 9530, 'मारला': 9531, 'मारलास': 9532, 'मारली': 9533, 'मारलीत': 9534, 'मारलीस': 9535, 'मारले': 9536, 'मारलेला': 9537, 'मारल्या': 9538, 'मारा': 9539, 'मारामारी': 9540, 'मारायचं': 9541, 'मारायचा': 9542, 'मारायचो': 9543, 'मारायला': 9544, 'मारिआ': 9545, 'मारू': 9546, 'मारून': 9547, 'मारूया': 9548, 'मारेकरी': 9549, 'मारेन': 9550, 'मारेल': 9551, 'मार्क': 9552, 'मार्कोनीने': 9553, 'मार्ग': 9554, 'मार्गला': 9555, 'मार्गारिनमधला': 9556, 'मार्गावर': 9557, 'मार्गे': 9558, 'मार्च': 9559, 'मार्ज': 9560, 'मार्मलेडमध्ये': 9561, 'मार्शमॅलो': 9562, 'मालक': 9563, 'मालकीचं': 9564, 'मालकीचा': 9565, 'मालकीची': 9566, 'मालकीचे': 9567, 'मालकीण': 9568, 'मालाचं': 9569, 'माळ': 9570, 'मावळत': 9571, 'मावळतो': 9572, 'मावळला': 9573, 'मावशी': 9574, 'मावशीबरोबर': 9575, 'मावशीला': 9576, 'मावशीसारखी': 9577, 'माशांना': 9578, 'माशी': 9579, 'माश्या': 9580, 'माश्यांना': 9581, 'माश्यांसाठी': 9582, 'माश्याला': 9583, 'मासा': 9584, 'मासिक': 9585, 'मासिकं': 9586, 'मासिकाचा': 9587, 'मासिके': 9588, 'मासे': 9589, 'मासेमारी': 9590, 'मास्क': 9591, 'माहजाँग': 9592, 'माहिती': 9593, 'माहितीची': 9594, 'माहितीमधून': 9595, 'माहितीये': 9596, 'माहितीसाठी': 9597, 'माहीत': 9598, 'माहीतच': 9599, 'माहीतही': 9600, 'माहूत': 9601, 'माहेरी': 9602, 'मिट': 9603, 'मिटतो': 9604, 'मिटले': 9605, 'मिठाची': 9606, 'मिठी': 9607, 'मिडलटन': 9608, 'मित्र': 9609, 'मित्रं': 9610, 'मित्रदेश': 9611, 'मित्रमैत्रिणी': 9612, 'मित्रमैत्रिणींकडे': 9613, 'मित्रमैत्रिणींना': 9614, 'मित्रमैत्रिणींबरोबर': 9615, 'मित्रमैत्रिणींशी': 9616, 'मित्रमैत्रीणींबरोबर': 9617, 'मित्रराष्ट्र': 9618, 'मित्रराष्ट्रांना': 9619, 'मित्रराष्ट्रांमध्ये': 9620, 'मित्रराष्ट्रे': 9621, 'मित्रा': 9622, 'मित्रांकडून': 9623, 'मित्रांकडे': 9624, 'मित्रांचा': 9625, 'मित्रांना': 9626, 'मित्रांनी': 9627, 'मित्रांपेक्षा': 9628, 'मित्रांबरोबर': 9629, 'मित्रांमधला': 9630, 'मित्रांवर': 9631, 'मित्रांशी': 9632, 'मित्रांसोबत': 9633, 'मित्राकडून': 9634, 'मित्राकडे': 9635, 'मित्राचं': 9636, 'मित्राचा': 9637, 'मित्राची': 9638, 'मित्राच्या': 9639, 'मित्राने': 9640, 'मित्राबरोबर': 9641, 'मित्राला': 9642, 'मित्रासाठी': 9643, 'मिनाचान': 9644, 'मिनिट': 9645, 'मिनिटं': 9646, 'मिनिटंच': 9647, 'मिनिटांची': 9648, 'मिनिटांच्या': 9649, 'मिनिटांत': 9650, 'मिनिटांनंतर': 9651, 'मिनिटांपूर्वी': 9652, 'मिनिटांपेक्षा': 9653, 'मिनिटांमध्ये': 9654, 'मिनिटांवर': 9655, 'मिनिटांसाठी': 9656, 'मिनिटात': 9657, 'मिनिटासाठी': 9658, 'मिनिटे': 9659, 'मिनिफ्रिज': 9660, 'मिनिमाइझ': 9661, 'मिनिस्कर्ट': 9662, 'मिनीट': 9663, 'मिनीटं': 9664, 'मिनेसॉटाचा': 9665, 'मिन्सपाय': 9666, 'मिरेय': 9667, 'मिलर': 9668, 'मिलरने': 9669, 'मिळणार': 9670, 'मिळत': 9671, 'मिळतं': 9672, 'मिळतात': 9673, 'मिळतील': 9674, 'मिळते': 9675, 'मिळवणं': 9676, 'मिळवत': 9677, 'मिळवलं': 9678, 'मिळवलंय': 9679, 'मिळवले': 9680, 'मिळवायला': 9681, 'मिळायचे': 9682, 'मिळालं': 9683, 'मिळाला': 9684, 'मिळाली': 9685, 'मिळाले': 9686, 'मिळालेलं': 9687, 'मिळालेला': 9688, 'मिळालेल्या': 9689, 'मिळाल्या': 9690, 'मिळाल्याबरोबरच': 9691, 'मिळाल्यास': 9692, 'मिळू': 9693, 'मिळेल': 9694, 'मिशिगनची': 9695, 'मिशिगनमध्ये': 9696, 'मिशी': 9697, 'मिसळत': 9698, 'मिसळा': 9699, 'मिसळून': 9700, 'मिसो': 9701, 'मी': 9702, 'मीच': 9703, 'मीटर': 9704, 'मीटिंग': 9705, 'मीटिंगमध्ये': 9706, 'मीटिंगला': 9707, 'मीटिंगसाठी': 9708, 'मीठ': 9709, 'मीडिया': 9710, 'मीदेखील': 9711, 'मीसुद्धा': 9712, 'मीही': 9713, 'मुंग्या': 9714, 'मुंबई': 9715, 'मुंबईत': 9716, 'मुकुट': 9717, 'मुकूट': 9718, 'मुक्त': 9719, 'मुखवटा': 9720, 'मुखवटे': 9721, 'मुख्य': 9722, 'मुख्यालय': 9723, 'मुझे': 9724, 'मुठभर': 9725, 'मुद्दा': 9726, 'मुद्दामून': 9727, 'मुद्द्यांमधून': 9728, 'मुद्द्याकडे': 9729, 'मुद्द्यावर': 9730, 'मुद्रण': 9731, 'मुरगळला': 9732, 'मुलं': 9733, 'मुलंसुद्धा': 9734, 'मुलगा': 9735, 'मुलगामुलगी': 9736, 'मुलगी': 9737, 'मुलांचं': 9738, 'मुलांची': 9739, 'मुलांचे': 9740, 'मुलांच्या': 9741, 'मुलांना': 9742, 'मुलांनादेखील': 9743, 'मुलांनासुद्धा': 9744, 'मुलांनी': 9745, 'मुलांनो': 9746, 'मुलांपेक्षा': 9747, 'मुलांबरोबर': 9748, 'मुलांवर': 9749, 'मुलांशी': 9750, 'मुलांसमोर': 9751, 'मुलांसाठी': 9752, 'मुलाकडे': 9753, 'मुलाखत': 9754, 'मुलाचं': 9755, 'मुलाचा': 9756, 'मुलाची': 9757, 'मुलाचे': 9758, 'मुलाच्या': 9759, 'मुलाने': 9760, 'मुलाबरोबर': 9761, 'मुलाला': 9762, 'मुलावर': 9763, 'मुलाशी': 9764, 'मुलासाठी': 9765, 'मुलासारखं': 9766, 'मुलासारखा': 9767, 'मुलासारखी': 9768, 'मुलासारखे': 9769, 'मुलासोबत': 9770, 'मुली': 9771, 'मुलींकडे': 9772, 'मुलींची': 9773, 'मुलींना': 9774, 'मुलींनो': 9775, 'मुलींपैकी': 9776, 'मुलींबरोबर': 9777, 'मुलींसाठी': 9778, 'मुलींसारखी': 9779, 'मुलीचं': 9780, 'मुलीचा': 9781, 'मुलीची': 9782, 'मुलीचे': 9783, 'मुलीच्या': 9784, 'मुलीने': 9785, 'मुलीपासनं': 9786, 'मुलीपासून': 9787, 'मुलीपेक्षा': 9788, 'मुलीबद्दल': 9789, 'मुलीबरोबर': 9790, 'मुलीला': 9791, 'मुलीवर': 9792, 'मुलीशी': 9793, 'मुलीसाठी': 9794, 'मुलीसारखं': 9795, 'मुलीसारखा': 9796, 'मुलीसारखी': 9797, 'मुलीसारखे': 9798, 'मुलीसारख्या': 9799, 'मुले': 9800, 'मुलेबाळे': 9801, 'मुळीच': 9802, 'मुळे': 9803, 'मुश्किलंच': 9804, 'मुसलमान': 9805, 'मुसलमानांचं': 9806, 'मुसळधार': 9807, 'मुस्लिम': 9808, 'मुहम्मद': 9809, 'मूड': 9810, 'मूडमध्ये': 9811, 'मूर्ख': 9812, 'मूर्खच': 9813, 'मूर्खपणा': 9814, 'मूर्खपणासाठी': 9815, 'मूर्खा': 9816, 'मूर्खासारखं': 9817, 'मूर्खासारखा': 9818, 'मूर्खासारखी': 9819, 'मूर्खासारखे': 9820, 'मूर्ती': 9821, 'मूर्त्या': 9822, 'मूल': 9823, 'मूलतः': 9824, 'मूलसुद्धा': 9825, 'मूलाला': 9826, 'मूली': 9827, 'मूल्ट्री': 9828, 'मूल्ट्रीमध्ये': 9829, 'मूळतः': 9830, 'मृत': 9831, 'मृत्युदंड': 9832, 'मृत्यू': 9833, 'मृत्यूची': 9834, 'मृत्यूनंतर': 9835, 'मृत्यूबाबत': 9836, 'मृत्यूला': 9837, 'मृत्यूशी': 9838, 'मृत्यूसाठी': 9839, 'मृदहीन': 9840, 'मॅकरोनीअँडचीझ': 9841, 'मॅक्डोनाल्ड्स': 9842, 'मॅच': 9843, 'मॅनेजमेंट': 9844, 'मॅनेजर': 9845, 'मॅनेजरशी': 9846, 'मॅन्युअल': 9847, 'मॅराथॉन': 9848, 'मॅरिलिन': 9849, 'मॅरी': 9850, 'मॅरीकडे': 9851, 'मॅरीच्या': 9852, 'मॅरीला': 9853, 'मॅरेज': 9854, 'मॅश्ड': 9855, 'मॅसेच्युसेट्समध्ये': 9856, 'मे': 9857, 'मेंढी': 9858, 'मेंढ्या': 9859, 'मेंढ्यांनी': 9860, 'मेइजिचं': 9861, 'मेकअप': 9862, 'मेकॅनिक': 9863, 'मेकॅनिककडून': 9864, 'मेक्सिकन': 9865, 'मेक्सिकनअमेरिकन': 9866, 'मेक्सिको': 9867, 'मेक्सिकोचा': 9868, 'मेक्सिकोची': 9869, 'मेक्सिकोत': 9870, 'मेक्सिकोमध्ये': 9871, 'मेक्सिकोला': 9872, 'मेक्सिकोविरुद्ध': 9873, 'मेगानेबाशी': 9874, 'मेगुरोमध्ये': 9875, 'मेटल': 9876, 'मेड्रिड': 9877, 'मेणबत्ती': 9878, 'मेणबत्तीचा': 9879, 'मेणबत्त्या': 9880, 'मेन्यू': 9881, 'मेमध्ये': 9882, 'मेमो': 9883, 'मेयर': 9884, 'मेरी': 9885, 'मेरींच्या': 9886, 'मेरींना': 9887, 'मेरीकडून': 9888, 'मेरीकडे': 9889, 'मेरीच': 9890, 'मेरीचं': 9891, 'मेरीचंही': 9892, 'मेरीचा': 9893, 'मेरीची': 9894, 'मेरीचे': 9895, 'मेरीच्या': 9896, 'मेरीजवळ': 9897, 'मेरीजितका': 9898, 'मेरीत': 9899, 'मेरीनंतर': 9900, 'मेरीने': 9901, 'मेरीपासून': 9902, 'मेरीपेक्षा': 9903, 'मेरीबद्दल': 9904, 'मेरीबरोबर': 9905, 'मेरीमध्ये': 9906, 'मेरीला': 9907, 'मेरीवर': 9908, 'मेरीशिवाय': 9909, 'मेरीशी': 9910, 'मेरीशीच': 9911, 'मेरीसमोर': 9912, 'मेरीसाठी': 9913, 'मेरीसोबत': 9914, 'मेरीही': 9915, 'मेलं': 9916, 'मेला': 9917, 'मेलाच': 9918, 'मेलाय': 9919, 'मेली': 9920, 'मेले': 9921, 'मेलेलं': 9922, 'मेलेला': 9923, 'मेलेली': 9924, 'मेलेले': 9925, 'मेलो': 9926, 'मेलोय': 9927, 'मेल्या': 9928, 'मेसेज': 9929, 'मेसोपोटेमियामध्ये': 9930, 'मेहनत': 9931, 'मेहनती': 9932, 'मेहनतीची': 9933, 'मेहनतीने': 9934, 'मेहनतीला': 9935, 'मैं': 9936, 'मैत्रिण': 9937, 'मैत्रिणी': 9938, 'मैत्रिणींकडे': 9939, 'मैत्रिणींना': 9940, 'मैत्रिणींबरोबर': 9941, 'मैत्रिणींवर': 9942, 'मैत्रिणींशी': 9943, 'मैत्रिणीकडून': 9944, 'मैत्रिणीचं': 9945, 'मैत्रिणीचा': 9946, 'मैत्रिणीने': 9947, 'मैत्रिणीला': 9948, 'मैत्री': 9949, 'मैत्रीची': 9950, 'मैत्रीण': 9951, 'मैत्रीणी': 9952, 'मैत्रीपेक्षा': 9953, 'मैदानांच्या': 9954, 'मैदानात': 9955, 'मैदानावर': 9956, 'मैदानी': 9957, 'मैल': 9958, 'मैलमध्ये': 9959, 'मैलात': 9960, 'मॉडेल': 9961, 'मॉनरोच्या': 9962, 'मॉनरोला': 9963, 'मॉरमॉन': 9964, 'मॉरोकोची': 9965, 'मॉरोक्कोत': 9966, 'मॉरोक्कोमध्ये': 9967, 'मॉर्फिन': 9968, 'मॉर्मनांनी': 9969, 'मॉलला': 9970, 'मोकळा': 9971, 'मोकळी': 9972, 'मोकळे': 9973, 'मोकळ्या': 9974, 'मोकळ्याने': 9975, 'मोज': 9976, 'मोजणार': 9977, 'मोजणी': 9978, 'मोजत': 9979, 'मोजता': 9980, 'मोजतोय': 9981, 'मोजले': 9982, 'मोजा': 9983, 'मोजायचं': 9984, 'मोजू': 9985, 'मोजे': 9986, 'मोज्यात': 9987, 'मोटर': 9988, 'मोटरसायकल': 9989, 'मोटारसायकल': 9990, 'मोटारसायकलवर': 9991, 'मोटारसायकलीवर': 9992, 'मोठं': 9993, 'मोठमोठे': 9994, 'मोठा': 9995, 'मोठाही': 9996, 'मोठी': 9997, 'मोठे': 9998, 'मोठ्ठा': 9999, 'मोठ्या': 10000, 'मोठ्यांशी': 10001, 'मोठ्याने': 10002, 'मोडत': 10003, 'मोडलं': 10004, 'मोडला': 10005, 'मोडली': 10006, 'मोडले': 10007, 'मोडलेत': 10008, 'मोडलेस': 10009, 'मोडवर': 10010, 'मोती': 10011, 'मोत्यांचा': 10012, 'मोना': 10013, 'मोनिका': 10014, 'मोनॉपोली': 10015, 'मोन्टकामने': 10016, 'मोन्ते': 10017, 'मोफत': 10018, 'मोबाइल': 10019, 'मोबाईल': 10020, 'मोबाईलवर': 10021, 'मोमोतारोउ': 10022, 'मोहक': 10023, 'मोहम्मद': 10024, 'मोहिमेत': 10025, 'मौल्यवान': 10026, 'म्युझियमला': 10027, 'म्हटलं': 10028, 'म्हटलंत': 10029, 'म्हटलंस': 10030, 'म्हटली': 10031, 'म्हटले': 10032, 'म्हटलेलं': 10033, 'म्हण': 10034, 'म्हणजे': 10035, 'म्हणजेच': 10036, 'म्हणणं': 10037, 'म्हणणार': 10038, 'म्हणणारच': 10039, 'म्हणत': 10040, 'म्हणतं': 10041, 'म्हणता': 10042, 'म्हणतात': 10043, 'म्हणतायत': 10044, 'म्हणताहेत': 10045, 'म्हणते': 10046, 'म्हणतेय': 10047, 'म्हणतेस': 10048, 'म्हणतो': 10049, 'म्हणतोय': 10050, 'म्हणतोयस': 10051, 'म्हणतोस': 10052, 'म्हणशील': 10053, 'म्हणा': 10054, 'म्हणायचं': 10055, 'म्हणायचा': 10056, 'म्हणायचे': 10057, 'म्हणायचो': 10058, 'म्हणायला': 10059, 'म्हणाल': 10060, 'म्हणालं': 10061, 'म्हणाला': 10062, 'म्हणालात': 10063, 'म्हणालास': 10064, 'म्हणाली': 10065, 'म्हणालीस': 10066, 'म्हणाले': 10067, 'म्हणालो': 10068, 'म्हणाल्या': 10069, 'म्हणावं': 10070, 'म्हणी': 10071, 'म्हणू': 10072, 'म्हणून': 10073, 'म्हणूनच': 10074, 'म्हणेन': 10075, 'म्हणेल': 10076, 'म्हातारा': 10077, 'म्हातारी': 10078, 'म्हातारे': 10079, 'म्हातार्\\u200dया': 10080, 'म्हातार्\\u200dयाशी': 10081, 'यंत्रमानवांनी': 10082, 'यंत्रांना': 10083, 'यंत्राचा': 10084, 'यद्धात': 10085, 'यश': 10086, 'यशस्वी': 10087, 'यशाची': 10088, 'यशाचे': 10089, 'यशाने': 10090, 'यह': 10091, 'यहुदी': 10092, 'या': 10093, 'यांचा': 10094, 'यांची': 10095, 'यांचे': 10096, 'यांच्या': 10097, 'यांच्याशी': 10098, 'यांत्रिक': 10099, 'यांना': 10100, 'यांनी': 10101, 'यांमध्ये': 10102, 'याआधी': 10103, 'याइतकं': 10104, 'याएसु': 10105, 'याकितोरि': 10106, 'याक्षणी': 10107, 'याच': 10108, 'याचं': 10109, 'याचा': 10110, 'याची': 10111, 'याचीच': 10112, 'याचे': 10113, 'याच्यात': 10114, 'याच्यातून': 10115, 'याच्यावर': 10116, 'याच्याशी': 10117, 'यात': 10118, 'यातलं': 10119, 'यादवी': 10120, 'यादी': 10121, 'यादीकडे': 10122, 'यादीत': 10123, 'यादीतले': 10124, 'यादीतील': 10125, 'यादीतून': 10126, 'यादीबद्दल': 10127, 'यादीबाबत': 10128, 'यादीवर': 10129, 'यादीवरचं': 10130, 'यादीवरून': 10131, 'यानंतर': 10132, 'याने': 10133, 'यापुढे': 10134, 'यापुर्वीच': 10135, 'यापेक्षा': 10136, 'याप्रकारे': 10137, 'याबद्दल': 10138, 'याबाबत': 10139, 'याबाबतीत': 10140, 'यामामोतोकडे': 10141, 'यायचं': 10142, 'यायचंय': 10143, 'यायच़ं': 10144, 'यायचा': 10145, 'यायची': 10146, 'यायचे': 10147, 'यायचो': 10148, 'यायच्या': 10149, 'यायला': 10150, 'यायलाच': 10151, 'यार': 10152, 'याल': 10153, 'याला': 10154, 'यावं': 10155, 'यावंसं': 10156, 'यावर': 10157, 'याविषयी': 10158, 'यावेळी': 10159, 'याशिवाय': 10160, 'यासाठी': 10161, 'यीस्टचा': 10162, 'युआन': 10163, 'युएफओ': 10164, 'युएसएची': 10165, 'युक्रेनची': 10166, 'युक्रेनमधील': 10167, 'युक्रेनमध्ये': 10168, 'युक्रेनियन': 10169, 'युटामध्ये': 10170, 'युद्ध': 10171, 'युद्धं': 10172, 'युद्धभूमीवर': 10173, 'युद्धविराम': 10174, 'युद्धाचं': 10175, 'युद्धाचा': 10176, 'युद्धाची': 10177, 'युद्धाच्या': 10178, 'युद्धात': 10179, 'युद्धातून': 10180, 'युद्धानंतर': 10181, 'युद्धाने': 10182, 'युद्धापेक्षा': 10183, 'युद्धाबद्दल': 10184, 'युद्धाविरुद्ध': 10185, 'युनाइटेड': 10186, 'युनायटेड': 10187, 'युनिफॉर्म': 10188, 'युनियन': 10189, 'युरो': 10190, 'युरोप': 10191, 'युरोपचा': 10192, 'युरोपच्या': 10193, 'युरोपमधलं': 10194, 'युरोपमधील': 10195, 'युरोपमध्ये': 10196, 'युरोपला': 10197, 'युरोपात': 10198, 'युरोपियन': 10199, 'युलसीझ': 10200, 'यू': 10201, 'यूआरएल': 10202, 'यूएफओ': 10203, 'यूएसएच्या': 10204, 'यूएसच्या': 10205, 'यूएसबी': 10206, 'यूटर्न': 10207, 'यूट्यूबवर': 10208, 'यूट्यूबवरील': 10209, 'यूरोपमध्ये': 10210, 'ये': 10211, 'येइल': 10212, 'येईन': 10213, 'येईपर्यंत': 10214, 'येईल': 10215, 'येईलच': 10216, 'येऊ': 10217, 'येऊन': 10218, 'येऊया': 10219, 'येणं': 10220, 'येणार': 10221, 'येणारा': 10222, 'येणारी': 10223, 'येणार्\\u200dया': 10224, 'येण्याआधी': 10225, 'येण्याचं': 10226, 'येण्याची': 10227, 'येण्याचे': 10228, 'येण्यासाठी': 10229, 'येत': 10230, 'येतं': 10231, 'येतंय': 10232, 'येतच': 10233, 'येता': 10234, 'येतात': 10235, 'येतातच': 10236, 'येताना': 10237, 'येतायत': 10238, 'येताहेत': 10239, 'येतिल': 10240, 'येतील': 10241, 'येते': 10242, 'येतेय': 10243, 'येतेस': 10244, 'येतो': 10245, 'येतोय': 10246, 'येतोस': 10247, 'येत्या': 10248, 'येथील': 10249, 'येथे': 10250, 'येथेच': 10251, 'येन': 10252, 'येनची': 10253, 'येनला': 10254, 'येनांने': 10255, 'येमेन': 10256, 'येरेवान': 10257, 'येलोस्टोन': 10258, 'येशील': 10259, 'येशू': 10260, 'येशूचा': 10261, 'येशूच्या': 10262, 'येशूला': 10263, 'यॉर्क': 10264, 'योकोहामा': 10265, 'योकोहामामध्ये': 10266, 'योगदान': 10267, 'योगायोग': 10268, 'योगायोगांवर': 10269, 'योगायोगाने': 10270, 'योगासन': 10271, 'योग्य': 10272, 'योजना': 10273, 'योजनेचा': 10274, 'योजनेत': 10275, 'योजनेला': 10276, 'योजनेविरुद्ध': 10277, 'रंग': 10278, 'रंगवणार': 10279, 'रंगवते': 10280, 'रंगवतो': 10281, 'रंगवतोय': 10282, 'रंगवलं': 10283, 'रंगवली': 10284, 'रंगवलेलं': 10285, 'रंगवायला': 10286, 'रंगवू': 10287, 'रंगवून': 10288, 'रंगांधळा': 10289, 'रंगाचं': 10290, 'रंगाचा': 10291, 'रंगाची': 10292, 'रंगाचे': 10293, 'रंगाच्या': 10294, 'रंगाने': 10295, 'रंगीत': 10296, 'रक्कम': 10297, 'रक्त': 10298, 'रक्तगट': 10299, 'रक्तच': 10300, 'रक्तदान': 10301, 'रक्ताचा': 10302, 'रक्ताची': 10303, 'रक्षण': 10304, 'रक्षा': 10305, 'रग्बी': 10306, 'रचना': 10307, 'रचनाकार': 10308, 'रड': 10309, 'रडणं': 10310, 'रडणार': 10311, 'रडण्यापेक्षा': 10312, 'रडण्यामुळे': 10313, 'रडण्याशिवाय': 10314, 'रडण्यासारखं': 10315, 'रडत': 10316, 'रडतंय': 10317, 'रडतच': 10318, 'रडतात': 10319, 'रडताना': 10320, 'रडताय': 10321, 'रडताहेत': 10322, 'रडते': 10323, 'रडतेय': 10324, 'रडतेयस': 10325, 'रडतो': 10326, 'रडतोय': 10327, 'रडतोयस': 10328, 'रडलं': 10329, 'रडला': 10330, 'रडलाही': 10331, 'रडली': 10332, 'रडले': 10333, 'रडलो': 10334, 'रडल्या': 10335, 'रडवत': 10336, 'रडवलं': 10337, 'रडवेन': 10338, 'रडायचं': 10339, 'रडायला': 10340, 'रडार': 10341, 'रडावसं': 10342, 'रडू': 10343, 'रडूनरडून': 10344, 'रडेल': 10345, 'रड्या': 10346, 'रत्ने': 10347, 'रद्द': 10348, 'रन': 10349, 'रबर': 10350, 'रबात': 10351, 'रब्बी': 10352, 'रमजान': 10353, 'रविवार': 10354, 'रविवारचा': 10355, 'रविवारी': 10356, 'रशियन': 10357, 'रशियनअमेरिकन': 10358, 'रशियनमध्ये': 10359, 'रशियनसुद्धा': 10360, 'रशियनांनी': 10361, 'रशिया': 10362, 'रशियाकडून': 10363, 'रशियाचा': 10364, 'रशियात': 10365, 'रशियातलं': 10366, 'रशियातील': 10367, 'रशियाने': 10368, 'रशियामधून': 10369, 'रशियाला': 10370, 'रस': 10371, 'रसत्यात': 10372, 'रस्ता': 10373, 'रस्ते': 10374, 'रस्त्याच्या': 10375, 'रस्त्यात': 10376, 'रस्त्यावर': 10377, 'रस्त्यावरचं': 10378, 'रस्त्यावरच्या': 10379, 'रस्सा': 10380, 'रहस्य': 10381, 'रहस्यकथा': 10382, 'रहा': 10383, 'रहाण्यात': 10384, 'रहायचं': 10385, 'रहायचंय': 10386, 'रहायचा': 10387, 'रहायची': 10388, 'रहायचे': 10389, 'रहायचो': 10390, 'रहायला': 10391, 'रहाल': 10392, 'रहावं': 10393, 'रहावे': 10394, 'रहिवासी': 10395, 'राँग': 10396, 'रांगता': 10397, 'रांगा': 10398, 'रांगायला': 10399, 'रांगेच्या': 10400, 'रांगेत': 10401, 'राइट': 10402, 'राइस': 10403, 'राईस': 10404, 'राक्षस': 10405, 'राग': 10406, 'रागवण्यासाठी': 10407, 'रागवत': 10408, 'रागवतील': 10409, 'रागवलेला': 10410, 'रागवलेलास': 10411, 'रागवलेली': 10412, 'रागवलेलीस': 10413, 'रागवलेले': 10414, 'रागवलेलो': 10415, 'रागवायचं': 10416, 'रागवायचा': 10417, 'रागवायला': 10418, 'रागवू': 10419, 'रागवून': 10420, 'रागवेन': 10421, 'रागवेल': 10422, 'रागाने': 10423, 'रागारागात': 10424, 'रागारागाने': 10425, 'रागावलं': 10426, 'रागावला': 10427, 'रागावलात': 10428, 'रागावलास': 10429, 'रागावली': 10430, 'रागावलीस': 10431, 'रागावले': 10432, 'रागावलेलं': 10433, 'रागावलेला': 10434, 'रागावलेली': 10435, 'रागावलेले': 10436, 'रागावलेलो': 10437, 'रागावलेल्या': 10438, 'रागावलो': 10439, 'रागावल्या': 10440, 'रागावल्यावर': 10441, 'राज': 10442, 'राजकन्या': 10443, 'राजकन्येला': 10444, 'राजकारण': 10445, 'राजकारणात': 10446, 'राजकारणाबद्दल': 10447, 'राजकारणाबाबत': 10448, 'राजकारणी': 10449, 'राजकीय': 10450, 'राजदूताला': 10451, 'राजधानी': 10452, 'राजधानीचा': 10453, 'राजनैतिक': 10454, 'राजपुत्र': 10455, 'राजवंश': 10456, 'राजा': 10457, 'राजांसारखे': 10458, 'राजाध्यक्षाने': 10459, 'राजाने': 10460, 'राजाराणी': 10461, 'राजाला': 10462, 'राजी': 10463, 'राजीनामा': 10464, 'राजे': 10465, 'राजेशाही': 10466, 'राज्य': 10467, 'राज्यकर्ते': 10468, 'राज्यपाल': 10469, 'राज्याचा': 10470, 'राज्याची': 10471, 'राज्यात': 10472, 'राज्याध्यक्ष': 10473, 'राज्यावर': 10474, 'राज्यासाठी': 10475, 'राज्ये': 10476, 'राणी': 10477, 'राण्या': 10478, 'रातकिडा': 10479, 'रातकिड्याइकताच': 10480, 'रात्र': 10481, 'रात्रंदिवस': 10482, 'रात्रभर': 10483, 'रात्रभरात': 10484, 'रात्री': 10485, 'रात्रीचं': 10486, 'रात्रीची': 10487, 'रात्रीचे': 10488, 'रात्रीच्या': 10489, 'रात्रीपर्यंत': 10490, 'रात्रीसाठी': 10491, 'रामसेसची': 10492, 'रामेन': 10493, 'रायफल': 10494, 'रायफलने': 10495, 'राशीचा': 10496, 'राष्ट्र': 10497, 'राष्ट्रगीत': 10498, 'राष्ट्रध्वज': 10499, 'राष्ट्रपती': 10500, 'राष्ट्रपतींनी': 10501, 'राष्ट्रभाषा': 10502, 'राष्ट्राच्या': 10503, 'राष्ट्रात': 10504, 'राष्ट्राध्यक्ष': 10505, 'राष्ट्राध्यक्षांचा': 10506, 'राष्ट्राध्यक्षांची': 10507, 'राष्ट्राध्यक्षाने': 10508, 'राष्ट्रीय': 10509, 'रासायनिक': 10510, 'राहणं': 10511, 'राहणार': 10512, 'राहणारा': 10513, 'राहणारी': 10514, 'राहणारे': 10515, 'राहणार्\\u200dया': 10516, 'राहणार्\\u200dयांनी': 10517, 'राहणी': 10518, 'राहण्याची': 10519, 'राहण्यात': 10520, 'राहत': 10521, 'राहतं': 10522, 'राहता': 10523, 'राहतात': 10524, 'राहतायत': 10525, 'राहताहेत': 10526, 'राहते': 10527, 'राहतेय': 10528, 'राहतेस': 10529, 'राहतो': 10530, 'राहतोय': 10531, 'राहतोस': 10532, 'राहशील': 10533, 'राहा': 10534, 'राहायचं': 10535, 'राहायचंय': 10536, 'राहायचय': 10537, 'राहायचा': 10538, 'राहायचास': 10539, 'राहायची': 10540, 'राहायचीस': 10541, 'राहायचे': 10542, 'राहायचो': 10543, 'राहायला': 10544, 'राहाल': 10545, 'राहावे': 10546, 'राहिलं': 10547, 'राहिला': 10548, 'राहिलात': 10549, 'राहिलास': 10550, 'राहिली': 10551, 'राहिलीस': 10552, 'राहिले': 10553, 'राहिलेलं': 10554, 'राहिलेली': 10555, 'राहिलो': 10556, 'राहिल्या': 10557, 'राहील': 10558, 'राहू': 10559, 'राहून': 10560, 'राहूया': 10561, 'राहेन': 10562, 'राहेल': 10563, 'रिओ': 10564, 'रिकामं': 10565, 'रिकामंच': 10566, 'रिकामा': 10567, 'रिकामी': 10568, 'रिकामीच': 10569, 'रिकाम्या': 10570, 'रिचार्जेबल': 10571, 'रिजला': 10572, 'रिझवलं': 10573, 'रिपबलिकन': 10574, 'रिपब्लिकन': 10575, 'रिपब्लिकनांनी': 10576, 'रिपोर्ट': 10577, 'रिमोट': 10578, 'रिव्हर': 10579, 'रिसाय्कल': 10580, 'रिसोट्टो': 10581, 'रीइन्स्टॉल': 10582, 'रीट्वीट': 10583, 'रीलोड': 10584, 'रुंद': 10585, 'रुग्ण': 10586, 'रुग्णवाहिका': 10587, 'रुग्णांना': 10588, 'रुग्णाने': 10589, 'रुग्णालय': 10590, 'रुग्णालयात': 10591, 'रुग्णालयाला': 10592, 'रुपये': 10593, 'रुबिकॉन': 10594, 'रुबी': 10595, 'रुमाल': 10596, 'रुमालाने': 10597, 'रुमालावर': 10598, 'रूजवेल्ट': 10599, 'रूजवेल्टचं': 10600, 'रूजवेल्टनी': 10601, 'रूजव्हेल्ट': 10602, 'रूझव्हेल्ट': 10603, 'रूट': 10604, 'रूप': 10605, 'रूपाने': 10606, 'रूममध्ये': 10607, 'रूममेट': 10608, 'रॅकेट': 10609, 'रॅप': 10610, 'रॅपर': 10611, 'रॅम': 10612, 'रे': 10613, 'रेअर': 10614, 'रेकॉर्ड': 10615, 'रेकॉर्डर': 10616, 'रेगे': 10617, 'रेझर': 10618, 'रेड': 10619, 'रेडनेक': 10620, 'रेडिओ': 10621, 'रेडिओचा': 10622, 'रेडिओच्या': 10623, 'रेडिओवर': 10624, 'रेडियमचा': 10625, 'रेडियो': 10626, 'रेडियोचा': 10627, 'रेडियोवर': 10628, 'रेडीओचा': 10629, 'रेणुचा': 10630, 'रेणूची': 10631, 'रेनकोट': 10632, 'रेनकोटमधली': 10633, 'रेमिंग्टनने': 10634, 'रेल्वेला': 10635, 'रेशमी': 10636, 'रेषेच्या': 10637, 'रेसिपी': 10638, 'रेस्टॉरंट': 10639, 'रेस्टॉरंटचं': 10640, 'रेस्टॉरंटमधलं': 10641, 'रेस्टॉरंटमध्ये': 10642, 'रेस्टॉरन्ट': 10643, 'रॉक': 10644, 'रॉकेट': 10645, 'रॉकेफेलर': 10646, 'रॉजर': 10647, 'रॉम्नीला': 10648, 'रॉयल': 10649, 'रॉस': 10650, 'रोग': 10651, 'रोज': 10652, 'रोजच': 10653, 'रोजच्या': 10654, 'रोडिकाचं': 10655, 'रोपवाटिकेत': 10656, 'रोबोट': 10657, 'रोम': 10658, 'रोमन': 10659, 'रोमनांने': 10660, 'रोमपेक्षा': 10661, 'रोममध्ये': 10662, 'रोमानिया': 10663, 'रोमानियाची': 10664, 'रोलर': 10665, 'रोलरस्केट': 10666, 'रोल्सरॉय्स': 10667, 'र्\\u200dयौतारौ': 10668, 'र्\\u200dहाइनवेस्टफालिया': 10669, 'लँडलाईन': 10670, 'लंगडत': 10671, 'लंडन': 10672, 'लंडनची': 10673, 'लंडनच्या': 10674, 'लंडनपासून': 10675, 'लंडनमधील': 10676, 'लंडनमधून': 10677, 'लंडनमध्ये': 10678, 'लंडनला': 10679, 'लकी': 10680, 'लक्झेंबर्ग': 10681, 'लक्ष': 10682, 'लक्षणे': 10683, 'लक्षही': 10684, 'लक्षात': 10685, 'लक्ष्य': 10686, 'लगेच': 10687, 'लगेचच': 10688, 'लग्न': 10689, 'लग्नाचा': 10690, 'लग्नाची': 10691, 'लग्नात': 10692, 'लग्नाला': 10693, 'लग्नासाठी': 10694, 'लघुकथा': 10695, 'लढ': 10696, 'लढणार': 10697, 'लढण्याशिवाय': 10698, 'लढत': 10699, 'लढतायेत': 10700, 'लढतोय': 10701, 'लढला': 10702, 'लढली': 10703, 'लढले': 10704, 'लढलेले': 10705, 'लढल्या': 10706, 'लढा': 10707, 'लढाई': 10708, 'लढाईत': 10709, 'लढाईवर': 10710, 'लढाईसाठी': 10711, 'लढायचं': 10712, 'लढायचंय': 10713, 'लढायची': 10714, 'लढायला': 10715, 'लढाया': 10716, 'लढू': 10717, 'लढेन': 10718, 'लढेल': 10719, 'लपंडाव': 10720, 'लपत': 10721, 'लपतो': 10722, 'लपतोय': 10723, 'लपला': 10724, 'लपलाय': 10725, 'लपले': 10726, 'लपलेलं': 10727, 'लपलेला': 10728, 'लपलेले': 10729, 'लपलेल्या': 10730, 'लपलो': 10731, 'लपल्या': 10732, 'लपव': 10733, 'लपवत': 10734, 'लपवता': 10735, 'लपवताना': 10736, 'लपवतायत': 10737, 'लपवते': 10738, 'लपवतेय': 10739, 'लपवतेस': 10740, 'लपवतो': 10741, 'लपवतोय': 10742, 'लपवतोस': 10743, 'लपवलं': 10744, 'लपवला': 10745, 'लपवली': 10746, 'लपवले': 10747, 'लपवा': 10748, 'लपवायचा': 10749, 'लपवू': 10750, 'लपवून': 10751, 'लपाछपी': 10752, 'लपायची': 10753, 'लपू': 10754, 'लवकर': 10755, 'लवकरच': 10756, 'लवकरात': 10757, 'लवचिक': 10758, 'लव्ह': 10759, 'लष्करात': 10760, 'लष्कराने': 10761, 'लष्करी': 10762, 'लसूण': 10763, 'लहान': 10764, 'लहानपण': 10765, 'ला': 10766, 'लांडगा': 10767, 'लांडगे': 10768, 'लांडग्यात': 10769, 'लांब': 10770, 'लांबलचक': 10771, 'लांबी': 10772, 'लांबीचा': 10773, 'लाइट': 10774, 'लाइटर': 10775, 'लाइनीत': 10776, 'लाइफजॅकेट': 10777, 'लाईट': 10778, 'लाईन': 10779, 'लाईनीत': 10780, 'लाईफबोट': 10781, 'लाकडाचं': 10782, 'लाकडाची': 10783, 'लाकडाने': 10784, 'लाकडी': 10785, 'लाकुड': 10786, 'लाकूड': 10787, 'लाक्रोस': 10788, 'लाख': 10789, 'लाग': 10790, 'लागणार': 10791, 'लागणे': 10792, 'लागत': 10793, 'लागतं': 10794, 'लागतात': 10795, 'लागताहेत': 10796, 'लागतील': 10797, 'लागते': 10798, 'लागतो': 10799, 'लागलं': 10800, 'लागलंय': 10801, 'लागला': 10802, 'लागलात': 10803, 'लागलाय': 10804, 'लागलास': 10805, 'लागली': 10806, 'लागलीय': 10807, 'लागलीये': 10808, 'लागलीस': 10809, 'लागले': 10810, 'लागलेली': 10811, 'लागलो': 10812, 'लागल्या': 10813, 'लागल्यावर': 10814, 'लागा': 10815, 'लागायचे': 10816, 'लागू': 10817, 'लागून': 10818, 'लागेपर्यंत': 10819, 'लागेल': 10820, 'लाच': 10821, 'लाज': 10822, 'लाजाळू': 10823, 'लाटा': 10824, 'लात': 10825, 'लाथ': 10826, 'लामा': 10827, 'लायक': 10828, 'लायकीची': 10829, 'लायन्ससुद्धा': 10830, 'लायबीरियाचे': 10831, 'लायब्ररीत': 10832, 'लायसन्स': 10833, 'लायसेन्स': 10834, 'लाल': 10835, 'लाव': 10836, 'लावणं': 10837, 'लावणार': 10838, 'लावण्यासाठी': 10839, 'लावतेय': 10840, 'लावतोय': 10841, 'लावलं': 10842, 'लावला': 10843, 'लावलास': 10844, 'लावली': 10845, 'लावले': 10846, 'लावलेला': 10847, 'लावलेली': 10848, 'लावल्या': 10849, 'लावा': 10850, 'लावायची': 10851, 'लावायच्या': 10852, 'लावायला': 10853, 'लावू': 10854, 'लावून': 10855, 'लावेन': 10856, 'लिंकन': 10857, 'लिंकनचा': 10858, 'लिंकनने': 10859, 'लिंकवर': 10860, 'लिंबं': 10861, 'लिंबाचं': 10862, 'लिंबू': 10863, 'लिटर': 10864, 'लिनक्स': 10865, 'लिनक्सदेखील': 10866, 'लिनक्सबद्दल': 10867, 'लिपस्टिक': 10868, 'लिफ्ट': 10869, 'लिफ्टचं': 10870, 'लिफ्टने': 10871, 'लिफ्टमध्ये': 10872, 'लिबर्टी': 10873, 'लिया।': 10874, 'लिलिउओकालानी': 10875, 'लिलिएन्थाल': 10876, 'लिसा': 10877, 'लिहत': 10878, 'लिहा': 10879, 'लिहायचं': 10880, 'लिहायचा': 10881, 'लिहायची': 10882, 'लिहायचे': 10883, 'लिहायचो': 10884, 'लिहायला': 10885, 'लिहायलावाचायला': 10886, 'लिहिणार': 10887, 'लिहिणे': 10888, 'लिहिण्याचा': 10889, 'लिहिण्याची': 10890, 'लिहिण्यात': 10891, 'लिहिण्यापेक्षा': 10892, 'लिहिता': 10893, 'लिहितात': 10894, 'लिहिताना': 10895, 'लिहितावाचता': 10896, 'लिहिताहेत': 10897, 'लिहिते': 10898, 'लिहितेय': 10899, 'लिहितेयस': 10900, 'लिहितेस': 10901, 'लिहितो': 10902, 'लिहितोय': 10903, 'लिहितोयस': 10904, 'लिहितोस': 10905, 'लिहिलं': 10906, 'लिहिलंत': 10907, 'लिहिलंस': 10908, 'लिहिलस': 10909, 'लिहिला': 10910, 'लिहिली': 10911, 'लिहिले': 10912, 'लिहिलेलं': 10913, 'लिहिलेला': 10914, 'लिहिलेली': 10915, 'लिहिलेल्या': 10916, 'लिहिल्या': 10917, 'लिही': 10918, 'लिहू': 10919, 'लिहून': 10920, 'लिहूया': 10921, 'लिहेन': 10922, 'ली': 10923, 'लुइस': 10924, 'लुकडा': 10925, 'लुटलं': 10926, 'लॅटिन': 10927, 'लॅटिनपासनं': 10928, 'लॅटिनपासून': 10929, 'लॅटीन': 10930, 'लॅटीनचा': 10931, 'लॅन्सिंग': 10932, 'लॅपटॉप': 10933, 'लॅब': 10934, 'लेआल': 10935, 'लेऑन': 10936, 'लेक': 10937, 'लेकाला': 10938, 'लेकीचं': 10939, 'लेकीपासून': 10940, 'लेकीसाठी': 10941, 'लेख': 10942, 'लेखक': 10943, 'लेखकांमधील': 10944, 'लेखकांविषयी': 10945, 'लेखकाचं': 10946, 'लेखकाने': 10947, 'लेखकाला': 10948, 'लेखता': 10949, 'लेखतेस': 10950, 'लेखतोस': 10951, 'लेखन': 10952, 'लेखलं': 10953, 'लेखांचा': 10954, 'लेखात': 10955, 'लेखिका': 10956, 'लेट्युस': 10957, 'लेडी': 10958, 'लेफ्टनंट': 10959, 'लैंगिक': 10960, 'लॉक': 10961, 'लॉकर': 10962, 'लॉगइन': 10963, 'लॉटरी': 10964, 'लॉटरीत': 10965, 'लॉबीत': 10966, 'लॉबीमध्ये': 10967, 'लॉर्ड': 10968, 'लॉलीपॉप': 10969, 'लॉस': 10970, 'लोक': 10971, 'लोकं': 10972, 'लोकंसुद्धा': 10973, 'लोकगीत': 10974, 'लोकतांत्रिक': 10975, 'लोकप्रिय': 10976, 'लोकप्रियता': 10977, 'लोकशाही': 10978, 'लोकशाहीचा': 10979, 'लोकसंख्या': 10980, 'लोकसंख्येपेक्षा': 10981, 'लोकसंगीत': 10982, 'लोकसुद्धा': 10983, 'लोकसेना': 10984, 'लोकांकडे': 10985, 'लोकांचं': 10986, 'लोकांचा': 10987, 'लोकांची': 10988, 'लोकांचे': 10989, 'लोकांना': 10990, 'लोकांनाच': 10991, 'लोकांनी': 10992, 'लोकांपेक्षा': 10993, 'लोकांबरोबर': 10994, 'लोकांमध्ये': 10995, 'लोकांवर': 10996, 'लोकांशिवाय': 10997, 'लोकांशी': 10998, 'लोकांसाठी': 10999, 'लोखंड': 11000, 'लोखंडाचा': 11001, 'लोणी': 11002, 'व': 11003, 'वंडरलॅंडमध्ये': 11004, 'वकिलाची': 11005, 'वकिलाला': 11006, 'वकिलाशी': 11007, 'वकील': 11008, 'वगळण्यात': 11009, 'वगैरे': 11010, 'वचन': 11011, 'वजन': 11012, 'वजनदार': 11013, 'वडिलांकडून': 11014, 'वडिलांकडे': 11015, 'वडिलांचं': 11016, 'वडिलांचा': 11017, 'वडिलांची': 11018, 'वडिलांचे': 11019, 'वडिलांच्या': 11020, 'वडिलांना': 11021, 'वडिलांनी': 11022, 'वडिलांपेक्षा': 11023, 'वडिलांवर': 11024, 'वडिलांशी': 11025, 'वडिलांसाठी': 11026, 'वडिलांसारखं': 11027, 'वडिलांसारखा': 11028, 'वडिलांसारखाच': 11029, 'वडिलांसारखी': 11030, 'वडिलांसारखे': 11031, 'वडील': 11032, 'वडीलांना': 11033, 'वडीलांविषयी': 11034, 'वनस्पतिशास्त्र': 11035, 'वनस्पतिशास्त्रज्ञ': 11036, 'वनस्पती': 11037, 'वनस्पतींचा': 11038, 'वनात': 11039, 'वन्य': 11040, 'वय': 11041, 'वयस्कर': 11042, 'वयाचा': 11043, 'वयाची': 11044, 'वयाचे': 11045, 'वयाच्या': 11046, 'वयातच': 11047, 'वयातही': 11048, 'वयाने': 11049, 'वयासार्खं': 11050, 'वर': 11051, 'वरच्या': 11052, 'वरती': 11053, 'वरपासून': 11054, 'वरून': 11055, 'वर्ग': 11056, 'वर्गमित्र': 11057, 'वर्गमैत्रीण': 11058, 'वर्गांत': 11059, 'वर्गाकडे': 11060, 'वर्गाचा': 11061, 'वर्गात': 11062, 'वर्गातला': 11063, 'वर्गातली': 11064, 'वर्गातील': 11065, 'वर्गातून': 11066, 'वर्जन': 11067, 'वर्झावा': 11068, 'वर्ण': 11069, 'वर्णन': 11070, 'वर्णमाला': 11071, 'वर्णमालेत': 11072, 'वर्णमालेतलं': 11073, 'वर्तमान': 11074, 'वर्तमानपत्र': 11075, 'वर्तमानपत्रात': 11076, 'वर्तमानपत्रानुसार': 11077, 'वर्तमानात': 11078, 'वर्तमानातल्या': 11079, 'वर्थ': 11080, 'वर्ल्ड': 11081, 'वर्ष': 11082, 'वर्षं': 11083, 'वर्षभर': 11084, 'वर्षांचा': 11085, 'वर्षांची': 11086, 'वर्षांचे': 11087, 'वर्षांच्या': 11088, 'वर्षांत': 11089, 'वर्षांनंतर': 11090, 'वर्षांनी': 11091, 'वर्षांनुवर्ष': 11092, 'वर्षांने': 11093, 'वर्षांपासून': 11094, 'वर्षांपूरवी': 11095, 'वर्षांपूर्वी': 11096, 'वर्षांपूर्वीची': 11097, 'वर्षांमध्ये': 11098, 'वर्षांसाठी': 11099, 'वर्षाचा': 11100, 'वर्षाची': 11101, 'वर्षाचे': 11102, 'वर्षाच्या': 11103, 'वर्षात': 11104, 'वर्षातला': 11105, 'वर्षातून': 11106, 'वर्षानंतर': 11107, 'वर्षापूर्वी': 11108, 'वर्षापेक्षा': 11109, 'वर्षी': 11110, 'वर्षीच': 11111, 'वर्षीची': 11112, 'वर्षीच्या': 11113, 'वर्षे': 11114, 'वळ': 11115, 'वळलं': 11116, 'वळला': 11117, 'वळलात': 11118, 'वळली': 11119, 'वळले': 11120, 'वळलो': 11121, 'वळवलं': 11122, 'वळा': 11123, 'वळून': 11124, 'वळूया': 11125, 'वसंत': 11126, 'वसतिगृह': 11127, 'वसाहत': 11128, 'वसाहतकार': 11129, 'वसाहतकार्\\u200dयांनी': 11130, 'वसाहती': 11131, 'वसाहतीसारखा': 11132, 'वस्तु': 11133, 'वस्तुसंग्रहालय': 11134, 'वस्तुसंग्रहालयांमध्ये': 11135, 'वस्तुसंग्रहालयात': 11136, 'वस्तुसंग्रहालयाला': 11137, 'वस्तू': 11138, 'वस्तूंचा': 11139, 'वस्तूंची': 11140, 'वस्तूला': 11141, 'वहन': 11142, 'वहिनी': 11143, 'वहिनीला': 11144, 'वही': 11145, 'वहीत': 11146, 'वह्या': 11147, 'वह्यांवर': 11148, 'वा': 11149, 'वाइन': 11150, 'वाईट': 11151, 'वाईन': 11152, 'वाईनची': 11153, 'वाईनच्या': 11154, 'वाईनपेक्षा': 11155, 'वाकलं': 11156, 'वाकली': 11157, 'वाकल्या': 11158, 'वाक्य': 11159, 'वाक्यं': 11160, 'वाक्यांचा': 11161, 'वाक्यांचे': 11162, 'वाक्याचा': 11163, 'वाक्याच्या': 11164, 'वाक्यात': 11165, 'वाक्ये': 11166, 'वागणं': 11167, 'वागणुकीने': 11168, 'वागणूक': 11169, 'वागण्याचा': 11170, 'वागत': 11171, 'वागते': 11172, 'वागतो': 11173, 'वागतोय': 11174, 'वागला': 11175, 'वागवताहेत': 11176, 'वागवलं': 11177, 'वागायचं': 11178, 'वागू': 11179, 'वागून': 11180, 'वागेन': 11181, 'वाघ': 11182, 'वाघांना': 11183, 'वाघाने': 11184, 'वाघाला': 11185, 'वाच': 11186, 'वाचणं': 11187, 'वाचणार': 11188, 'वाचणे': 11189, 'वाचण्याकरिता': 11190, 'वाचण्याच्या': 11191, 'वाचण्यापुरता': 11192, 'वाचण्यालायक': 11193, 'वाचण्यासाठी': 11194, 'वाचण्यासारखं': 11195, 'वाचत': 11196, 'वाचतच': 11197, 'वाचतवाचत': 11198, 'वाचता': 11199, 'वाचतात': 11200, 'वाचताना': 11201, 'वाचताय': 11202, 'वाचतावाचता': 11203, 'वाचताहेत': 11204, 'वाचते': 11205, 'वाचतेय': 11206, 'वाचतेस': 11207, 'वाचतो': 11208, 'वाचतोय': 11209, 'वाचतोस': 11210, 'वाचन': 11211, 'वाचनाची': 11212, 'वाचनालय': 11213, 'वाचनालयात': 11214, 'वाचलं': 11215, 'वाचलंत': 11216, 'वाचलंय': 11217, 'वाचलंयस': 11218, 'वाचलंस': 11219, 'वाचला': 11220, 'वाचलात': 11221, 'वाचलास': 11222, 'वाचली': 11223, 'वाचलीत': 11224, 'वाचलीस': 11225, 'वाचले': 11226, 'वाचलेलं': 11227, 'वाचलेली': 11228, 'वाचलो': 11229, 'वाचल्या': 11230, 'वाचल्यानंतर': 11231, 'वाचल्यास': 11232, 'वाचव': 11233, 'वाचवण्यासाठी': 11234, 'वाचवतेय': 11235, 'वाचवतोय': 11236, 'वाचवलं': 11237, 'वाचवा': 11238, 'वाचवायचं': 11239, 'वाचवायचा': 11240, 'वाचवायला': 11241, 'वाचवू': 11242, 'वाचवेन': 11243, 'वाचवेल': 11244, 'वाचवेलच': 11245, 'वाचा': 11246, 'वाचायचं': 11247, 'वाचायचा': 11248, 'वाचायची': 11249, 'वाचायचे': 11250, 'वाचायचो': 11251, 'वाचायला': 11252, 'वाचायलालिहायला': 11253, 'वाचायलाही': 11254, 'वाचावं': 11255, 'वाचू': 11256, 'वाचून': 11257, 'वाचूस': 11258, 'वाचेन': 11259, 'वाचेल': 11260, 'वाजत': 11261, 'वाजता': 11262, 'वाजताचा': 11263, 'वाजताची': 11264, 'वाजताच्या': 11265, 'वाजते': 11266, 'वाजतो': 11267, 'वाजतोय': 11268, 'वाजला': 11269, 'वाजली': 11270, 'वाजले': 11271, 'वाजलेयत': 11272, 'वाजलेले': 11273, 'वाजल्यानंतर': 11274, 'वाजल्यापासून': 11275, 'वाजव': 11276, 'वाजवणं': 11277, 'वाजवणार': 11278, 'वाजवणारच': 11279, 'वाजवणारा': 11280, 'वाजवणार्\\u200dयांमधील': 11281, 'वाजवण्यात': 11282, 'वाजवत': 11283, 'वाजवतंय': 11284, 'वाजवता': 11285, 'वाजवतात': 11286, 'वाजवताहेत': 11287, 'वाजवते': 11288, 'वाजवतेय': 11289, 'वाजवतेस': 11290, 'वाजवतो': 11291, 'वाजवतोय': 11292, 'वाजवतोस': 11293, 'वाजवला': 11294, 'वाजवलात': 11295, 'वाजवलास': 11296, 'वाजवली': 11297, 'वाजवलीत': 11298, 'वाजवलीस': 11299, 'वाजवल्या': 11300, 'वाजवा': 11301, 'वाजवायचा': 11302, 'वाजवायची': 11303, 'वाजवायचे': 11304, 'वाजवायचो': 11305, 'वाजवायला': 11306, 'वाजवू': 11307, 'वाजवेन': 11308, 'वाजवेल': 11309, 'वाजायचा': 11310, 'वाजायच्या': 11311, 'वाजू': 11312, 'वाजून': 11313, 'वाजूनसुद्धा': 11314, 'वाजे': 11315, 'वाजेपर्यंत': 11316, 'वाजेपर्यन्त': 11317, 'वाट': 11318, 'वाटण्यात': 11319, 'वाटत': 11320, 'वाटतं': 11321, 'वाटतंय': 11322, 'वाटतच': 11323, 'वाटता': 11324, 'वाटतात': 11325, 'वाटतायत': 11326, 'वाटताहेत': 11327, 'वाटते': 11328, 'वाटतेय': 11329, 'वाटतेयस': 11330, 'वाटतेस': 11331, 'वाटतो': 11332, 'वाटतोय': 11333, 'वाटतोयस': 11334, 'वाटतोस': 11335, 'वाटलं': 11336, 'वाटलंच': 11337, 'वाटला': 11338, 'वाटली': 11339, 'वाटले': 11340, 'वाटलेलं': 11341, 'वाटा': 11342, 'वाटाघाटी': 11343, 'वाटाणे': 11344, 'वाटायचं': 11345, 'वाटू': 11346, 'वाटून': 11347, 'वाटेत': 11348, 'वाटेल': 11349, 'वाटेवरच': 11350, 'वाडताहेत': 11351, 'वाढ': 11352, 'वाढणार': 11353, 'वाढत': 11354, 'वाढतंय': 11355, 'वाढतायत': 11356, 'वाढते': 11357, 'वाढतेय': 11358, 'वाढतोय': 11359, 'वाढदिवशी': 11360, 'वाढदिवस': 11361, 'वाढदिवसाचा': 11362, 'वाढदिवसाची': 11363, 'वाढदिवसाच्या': 11364, 'वाढदिवसाला': 11365, 'वाढलं': 11366, 'वाढलंय': 11367, 'वाढला': 11368, 'वाढली': 11369, 'वाढले': 11370, 'वाढलो': 11371, 'वाढव': 11372, 'वाढवण्यात': 11373, 'वाढवत': 11374, 'वाढवतो': 11375, 'वाढवतोय': 11376, 'वाढवलं': 11377, 'वाढवलंय': 11378, 'वाढवला': 11379, 'वाढवली': 11380, 'वाढवले': 11381, 'वाढवा': 11382, 'वातपरिरक्षी': 11383, 'वातानुकूलित': 11384, 'वातावरण': 11385, 'वादक': 11386, 'वादळामुळे': 11387, 'वादळाला': 11388, 'वापर': 11389, 'वापरणं': 11390, 'वापरणार': 11391, 'वापरत': 11392, 'वापरता': 11393, 'वापरतात': 11394, 'वापरते': 11395, 'वापरतेस': 11396, 'वापरतो': 11397, 'वापरतोस': 11398, 'वापरलं': 11399, 'वापरला': 11400, 'वापरलात': 11401, 'वापरलास': 11402, 'वापरली': 11403, 'वापरलीत': 11404, 'वापरलीस': 11405, 'वापरलेले': 11406, 'वापरल्या': 11407, 'वापरशील': 11408, 'वापरा': 11409, 'वापरायचा': 11410, 'वापरायला': 11411, 'वापराल': 11412, 'वापरासाठी': 11413, 'वापरू': 11414, 'वापरून': 11415, 'वापरूया': 11416, 'वापरेन': 11417, 'वापरेल': 11418, 'वायएमसीएला': 11419, 'वायर': 11420, 'वायरला': 11421, 'वाया': 11422, 'वायु': 11423, 'वायोमिंगमध्ये': 11424, 'वार': 11425, 'वारंवार': 11426, 'वारत': 11427, 'वारलं': 11428, 'वारला': 11429, 'वारली': 11430, 'वारले': 11431, 'वारल्या': 11432, 'वारल्यानंतर': 11433, 'वारल्यावर': 11434, 'वारा': 11435, 'वारुळ': 11436, 'वार्\\u200dयाने': 11437, 'वाळले': 11438, 'वाळवंट': 11439, 'वाळवंटात': 11440, 'वाळवंटाला': 11441, 'वाळवी': 11442, 'वाळवींचं': 11443, 'वाळी': 11444, 'वाळू': 11445, 'वाळूचा': 11446, 'वाळूपासून': 11447, 'वास': 11448, 'वासाने': 11449, 'वास्तवात': 11450, 'वास्तुकला': 11451, 'वास्तुसंग्रहालय': 11452, 'वाह': 11453, 'वाहणारी': 11454, 'वाहणार्\\u200dया': 11455, 'वाहत': 11456, 'वाहतं': 11457, 'वाहतंय': 11458, 'वाहते': 11459, 'वाहन': 11460, 'वाहू': 11461, 'विंग्ज': 11462, 'विंचर': 11463, 'विंचरा': 11464, 'विंचू': 11465, 'विंडसर्फिंग': 11466, 'विंडो': 11467, 'विंडोज': 11468, 'विंडोजचा': 11469, 'विंडोजची': 11470, 'विक': 11471, 'विकणार': 11472, 'विकण्याकरिता': 11473, 'विकण्यासाठी': 11474, 'विकत': 11475, 'विकतं': 11476, 'विकतात': 11477, 'विकताहेत': 11478, 'विकते': 11479, 'विकतो': 11480, 'विकतोय': 11481, 'विकलं': 11482, 'विकला': 11483, 'विकली': 11484, 'विकले': 11485, 'विकल्प': 11486, 'विकल्या': 11487, 'विकशील': 11488, 'विकसित': 11489, 'विकायचं': 11490, 'विकायचा': 11491, 'विकायची': 11492, 'विकायला': 11493, 'विकाल': 11494, 'विकास': 11495, 'विकासशील': 11496, 'विकिपीडियावर': 11497, 'विकू': 11498, 'विकून': 11499, 'विक्राळ': 11500, 'विक्रीसाठी': 11501, 'विक्सबर्गवर': 11502, 'विग': 11503, 'विचार': 11504, 'विचारच': 11505, 'विचारणार': 11506, 'विचारण्याचा': 11507, 'विचारण्यात': 11508, 'विचारण्यास': 11509, 'विचारण्यासाठी': 11510, 'विचारत': 11511, 'विचारता': 11512, 'विचारतात': 11513, 'विचारताहेत': 11514, 'विचारते': 11515, 'विचारतेय': 11516, 'विचारतो': 11517, 'विचारतोय': 11518, 'विचारलं': 11519, 'विचारलंत': 11520, 'विचारलंस': 11521, 'विचारला': 11522, 'विचारली': 11523, 'विचारले': 11524, 'विचारलेतुम्ही': 11525, 'विचारलेतू': 11526, 'विचारल्यावरच': 11527, 'विचारसुद्धा': 11528, 'विचारही': 11529, 'विचारा': 11530, 'विचारायचं': 11531, 'विचारायचा': 11532, 'विचारायची': 11533, 'विचारायला': 11534, 'विचारू': 11535, 'विचारूया': 11536, 'विचारेन': 11537, 'विचित्र': 11538, 'विचित्रच': 11539, 'विजय': 11540, 'विजयाचे': 11541, 'विजयी': 11542, 'विजा': 11543, 'विजेचं': 11544, 'विजेता': 11545, 'विजेने': 11546, 'विज्ञान': 11547, 'विज्ञानाचा': 11548, 'विज्ञानाची': 11549, 'विज्ञानात': 11550, 'विज्ञानाने': 11551, 'विझव': 11552, 'विझवली': 11553, 'विझवले': 11554, 'विझवायला': 11555, 'विझून': 11556, 'विटांचं': 11557, 'विणतो': 11558, 'वितळतो': 11559, 'वितळतोय': 11560, 'वितळला': 11561, 'वितळलाय': 11562, 'वितळून': 11563, 'वित्त': 11564, 'विदुषक': 11565, 'विदेशात': 11566, 'विदेशी': 11567, 'विद्यापीठ': 11568, 'विद्यापीठांमधील': 11569, 'विद्यापीठात': 11570, 'विद्यापीठेतून': 11571, 'विद्यार्थिनी': 11572, 'विद्यार्थिनींनी': 11573, 'विद्यार्थिनीची': 11574, 'विद्यार्थिनीच्या': 11575, 'विद्यार्थिनीने': 11576, 'विद्यार्थिनीला': 11577, 'विद्यार्थी': 11578, 'विद्यार्थींना': 11579, 'विद्यार्थीने': 11580, 'विद्यार्थ्यांचा': 11581, 'विद्यार्थ्यांना': 11582, 'विद्यार्थ्यांनी': 11583, 'विद्यार्थ्यांने': 11584, 'विद्यार्थ्यांपासून': 11585, 'विद्यार्थ्यांमधील': 11586, 'विद्यार्थ्यांमधून': 11587, 'विद्यार्थ्यांमध्ये': 11588, 'विद्यार्थ्यांसाठी': 11589, 'विद्यार्थ्याची': 11590, 'विद्यार्थ्याचे': 11591, 'विद्यार्थ्याच्या': 11592, 'विद्यार्थ्याने': 11593, 'विद्यार्थ्याला': 11594, 'विद्याव्यासंगी': 11595, 'विद्युत': 11596, 'विद्युतप्रवाह': 11597, 'विद्रोही': 11598, 'विद्वान': 11599, 'विधवा': 11600, 'विनोद': 11601, 'विनोदवीर': 11602, 'विन्फ्रींचा': 11603, 'विन्फ्रीचा': 11604, 'विन्स्टन': 11605, 'विभन्न': 11606, 'विभाजन': 11607, 'विमान': 11608, 'विमानं': 11609, 'विमानतळ': 11610, 'विमानतळाचं': 11611, 'विमानतळाचा': 11612, 'विमानतळाच्या': 11613, 'विमानतळाला': 11614, 'विमानतळावर': 11615, 'विमानाची': 11616, 'विमानात': 11617, 'विमानातून': 11618, 'विमानाने': 11619, 'विमानावर': 11620, 'विरघळतं': 11621, 'विरघळते': 11622, 'विरघळून': 11623, 'विरोध': 11624, 'विरोधकाचं': 11625, 'विरोधात': 11626, 'विलिअम': 11627, 'विलियम': 11628, 'विलियमने': 11629, 'विलीन': 11630, 'विल्कीने': 11631, 'विल्सन': 11632, 'विवाहित': 11633, 'विविक्त': 11634, 'विविध': 11635, 'विशाल': 11636, 'विशेष': 11637, 'विश्रांती': 11638, 'विश्राम': 11639, 'विश्लेषक': 11640, 'विश्व': 11641, 'विश्वयुद्ध': 11642, 'विश्वयुद्धात': 11643, 'विश्वयुद्धानंतर': 11644, 'विश्वाचा': 11645, 'विश्वास': 11646, 'विश्वासघात': 11647, 'विश्वासच': 11648, 'विष': 11649, 'विषम': 11650, 'विषय': 11651, 'विषयांमध्ये': 11652, 'विषयांवर': 11653, 'विषयावर': 11654, 'विषयासंबंधी': 11655, 'विषारी': 11656, 'विसर': 11657, 'विसरणं': 11658, 'विसरणार': 11659, 'विसरत': 11660, 'विसरता': 11661, 'विसरतात': 11662, 'विसरते': 11663, 'विसरतेय': 11664, 'विसरतेस': 11665, 'विसरतो': 11666, 'विसरतोय': 11667, 'विसरतोस': 11668, 'विसरला': 11669, 'विसरलात': 11670, 'विसरलास': 11671, 'विसरली': 11672, 'विसरलीस': 11673, 'विसरले': 11674, 'विसरलेय': 11675, 'विसरलो': 11676, 'विसरलोय': 11677, 'विसरल्या': 11678, 'विसरा': 11679, 'विसरायचं': 11680, 'विसरायचा': 11681, 'विसराळू': 11682, 'विसरुन': 11683, 'विसरू': 11684, 'विसरून': 11685, 'विसरूया': 11686, 'विस्तीर्ण': 11687, 'विस्तृत': 11688, 'विस्फोट': 11689, 'विहिरीत': 11690, 'वीज': 11691, 'वीजतंत्री': 11692, 'वीस': 11693, 'वीसपट': 11694, 'वूडची': 11695, 'वृत्तपत्र': 11696, 'वृत्तपत्रांनी': 11697, 'वृत्तपत्रात': 11698, 'वृत्तपत्रे': 11699, 'वृद्ध': 11700, 'वृद्धाश्रमात': 11701, 'वॅक्सिंग': 11702, 'वेगळं': 11703, 'वेगळंच': 11704, 'वेगळंय': 11705, 'वेगळा': 11706, 'वेगळी': 11707, 'वेगळे': 11708, 'वेगळ्या': 11709, 'वेगळ्याच': 11710, 'वेगवान': 11711, 'वेगवेगळी': 11712, 'वेगवेगळे': 11713, 'वेगवेगळ्या': 11714, 'वेगात': 11715, 'वेगाने': 11716, 'वेगानेच': 11717, 'वेटर': 11718, 'वेटरची': 11719, 'वेटरम्हणून': 11720, 'वेटलिफ्टर': 11721, 'वेट्रेस': 11722, 'वेट्रेसकडून': 11723, 'वेड': 11724, 'वेडं': 11725, 'वेडा': 11726, 'वेडाच': 11727, 'वेडी': 11728, 'वेडीबिडी': 11729, 'वेडे': 11730, 'वेडेपणा': 11731, 'वेड्या': 11732, 'वेड्यासारखं': 11733, 'वेड्यासारखा': 11734, 'वेढा': 11735, 'वेणी': 11736, 'वेतन': 11737, 'वेदना': 11738, 'वेदनेने': 11739, 'वेब': 11740, 'वेबकॅम': 11741, 'वेबसाइट': 11742, 'वेबसाईट': 11743, 'वेलिंग्टन': 11744, 'वेल्सचे': 11745, 'वेळ': 11746, 'वेळच': 11747, 'वेळा': 11748, 'वेळात': 11749, 'वेळानंतर': 11750, 'वेळापत्रक': 11751, 'वेळापुर्वीच': 11752, 'वेळापूर्वीच': 11753, 'वेळासाठी': 11754, 'वेळी': 11755, 'वेळीस': 11756, 'वेळेची': 11757, 'वेळेत': 11758, 'वेळेपेक्षा': 11759, 'वेळेवर': 11760, 'वेळोवेळी': 11761, 'वेश': 11762, 'वैज्ञानिक': 11763, 'वैज्ञानिकांना': 11764, 'वैतागला': 11765, 'वैतागले': 11766, 'वैद्य': 11767, 'वैद्याची': 11768, 'वैध': 11769, 'वैश्विक': 11770, 'वॉकीटॉकी': 11771, 'वॉटर': 11772, 'वॉनटॉन': 11773, 'वॉन्ट': 11774, 'वॉम्बॅटांचं': 11775, 'वॉरक्राफ्ट': 11776, 'वॉरहॉल': 11777, 'वॉर्स': 11778, 'वॉलीबॉल': 11779, 'वॉल्ट': 11780, 'वॉशरूमला': 11781, 'वॉशिंग': 11782, 'वॉशिंगमशीन': 11783, 'वॉशिंगमशीनमध्ये': 11784, 'वॉशिंग्टन': 11785, 'वॉशिंग्टनचीही': 11786, 'वॉशिंग्टनच्या': 11787, 'वोटलेलंच': 11788, 'व्यंगचित्रकार': 11789, 'व्यंगचित्रे': 11790, 'व्यक्त': 11791, 'व्यक्तिगत': 11792, 'व्यक्ती': 11793, 'व्यक्तीने': 11794, 'व्यक्तीबद्दल': 11795, 'व्यक्तीला': 11796, 'व्यक्तीशी': 11797, 'व्यक्तीसाठी': 11798, 'व्यवस्थांमध्ये': 11799, 'व्यवस्थापक': 11800, 'व्यवस्थित': 11801, 'व्यसन': 11802, 'व्यसनी': 11803, 'व्यस्त': 11804, 'व्याकरणाचा': 11805, 'व्याकरणाचे': 11806, 'व्याक्रणाचं': 11807, 'व्याज': 11808, 'व्यापक': 11809, 'व्यापार': 11810, 'व्यापारात': 11811, 'व्यायाम': 11812, 'व्यायामशाळेत': 11813, 'व्यायामाचा': 11814, 'व्यावसायिक': 11815, 'व्हर्जिनिया': 11816, 'व्हा': 11817, 'व्हाइट': 11818, 'व्हाईट': 11819, 'व्हायचं': 11820, 'व्हायचंय': 11821, 'व्हायची': 11822, 'व्हायब्रेट': 11823, 'व्हायरस': 11824, 'व्हायला': 11825, 'व्हायोला': 11826, 'व्हायोलिन': 11827, 'व्हाल': 11828, 'व्हावी': 11829, 'व्हिएतनाममध्ये': 11830, 'व्हिएतनामी': 11831, 'व्हिटमन': 11832, 'व्हिटॅमिन': 11833, 'व्हिडिओ': 11834, 'व्हिडियो': 11835, 'व्हिडीयो': 11836, 'व्हिप्ड': 11837, 'व्हियेना': 11838, 'व्हियेनावर': 11839, 'व्हिला': 11840, 'व्हिसा': 11841, 'व्हिस्की': 11842, 'व्हिस्कीचा': 11843, 'व्हिस्कीची': 11844, 'व्हीसीआर': 11845, 'व्हॅन': 11846, 'व्हॅनची': 11847, 'व्हॅनमधून': 11848, 'व्हॅनमध्ये': 11849, 'व्हॅनला': 11850, 'व्हॅनिला': 11851, 'व्हॅम्पायर': 11852, 'व्हॅम्पायर्सना': 11853, 'व्हॅली': 11854, 'व्हॅलेन्टाईन्स': 11855, 'व्हॅलेन्टिन': 11856, 'व्हेगन': 11857, 'व्हेनिस': 11858, 'व्हेनिसमध्ये': 11859, 'व्हेर्दूच्या': 11860, 'व्हेस्पाची': 11861, 'व्हॉलीबॉल': 11862, 'व्हॉल्यूम': 11863, 'व्होडका': 11864, 'व्होड्का': 11865, 'व्ह्लादिमिर': 11866, 'व्ह्लादिव्होस्तोक': 11867, 'शँघाई': 11868, 'शँघाईमध्ये': 11869, 'शँघाईला': 11870, 'शंका': 11871, 'शंकास्पद': 11872, 'शंकेखोर': 11873, 'शंभर': 11874, 'शंभरचे': 11875, 'शंभरपर्यंत': 11876, 'शंभरपेक्षा': 11877, 'शकणारी': 11878, 'शकत': 11879, 'शकतं': 11880, 'शकता': 11881, 'शकतात': 11882, 'शकतील': 11883, 'शकते': 11884, 'शकतेस': 11885, 'शकतो': 11886, 'शकतोस': 11887, 'शकलं': 11888, 'शकला': 11889, 'शकली': 11890, 'शकले': 11891, 'शकलो': 11892, 'शकशील': 11893, 'शकाल': 11894, 'शकू': 11895, 'शकेन': 11896, 'शकेल': 11897, 'शक्ती': 11898, 'शक्तीची': 11899, 'शक्तीत': 11900, 'शक्तीने': 11901, 'शक्तीमध्ये': 11902, 'शक्य': 11903, 'शक्यच': 11904, 'शक्यता': 11905, 'शक्यतो': 11906, 'शक्यमुनीने': 11907, 'शतक': 11908, 'शतकात': 11909, 'शत्रुच्या': 11910, 'शत्रुला': 11911, 'शत्रू': 11912, 'शत्रूंची': 11913, 'शत्रूंना': 11914, 'शत्रूची': 11915, 'शत्रूच्या': 11916, 'शत्रूने': 11917, 'शत्रूवर': 11918, 'शत्रूविरुद्ध': 11919, 'शनिवार': 11920, 'शनिवारची': 11921, 'शनिवारपर्यंत': 11922, 'शनिवारी': 11923, 'शनी': 11924, 'शनीवार': 11925, 'शपथ': 11926, 'शब्द': 11927, 'शब्दकोश': 11928, 'शब्दकोशाची': 11929, 'शब्दखेळ': 11930, 'शब्दच': 11931, 'शब्दशः': 11932, 'शब्दही': 11933, 'शब्दांचा': 11934, 'शब्दांपेक्षा': 11935, 'शब्दाचा': 11936, 'शब्दात': 11937, 'शरद': 11938, 'शरीर': 11939, 'शरीरातल्या': 11940, 'शरीरावर': 11941, 'शर्ट': 11942, 'शर्टची': 11943, 'शर्टांची': 11944, 'शर्टांना': 11945, 'शर्टाला': 11946, 'शर्टावर': 11947, 'शर्यत': 11948, 'शर्यतीच्या': 11949, 'शर्यतीत': 11950, 'शल्यचिकित्सक': 11951, 'शस्त्र': 11952, 'शस्त्रं': 11953, 'शहर': 11954, 'शहरं': 11955, 'शहरांना': 11956, 'शहरांमधील': 11957, 'शहरांमध्ये': 11958, 'शहराचं': 11959, 'शहराचा': 11960, 'शहराची': 11961, 'शहराचे': 11962, 'शहराच्या': 11963, 'शहरात': 11964, 'शहरातलं': 11965, 'शहरातली': 11966, 'शहरातल्या': 11967, 'शहरातील': 11968, 'शहरापेक्षा': 11969, 'शहराबाहेर': 11970, 'शहराला': 11971, 'शहरावर': 11972, 'शहरी': 11973, 'शहाणा': 11974, 'शहामृग': 11975, 'शांत': 11976, 'शांतता': 11977, 'शांततापूर्ण': 11978, 'शांततेत': 11979, 'शांततेने': 11980, 'शांतपणे': 11981, 'शांती': 11982, 'शांतीने': 11983, 'शाई': 11984, 'शाकाहारी': 11985, 'शाखा': 11986, 'शाप': 11987, 'शाब्बास': 11988, 'शामक': 11989, 'शार्कने': 11990, 'शार्लमानला': 11991, 'शालेय': 11992, 'शाळतेच': 11993, 'शाळा': 11994, 'शाळांमध्ये': 11995, 'शाळेचा': 11996, 'शाळेची': 11997, 'शाळेच्या': 11998, 'शाळेजवळ': 11999, 'शाळेजवळच': 12000, 'शाळेत': 12001, 'शाळेतच': 12002, 'शाळेतील': 12003, 'शाळेतून': 12004, 'शाळेनंतर': 12005, 'शाळेबद्दल': 12006, 'शाळेला': 12007, 'शाळेसाठी': 12008, 'शासकीय': 12009, 'शासन': 12010, 'शासनाने': 12011, 'शासनाला': 12012, 'शासनावर': 12013, 'शासनाविरुद्ध': 12014, 'शास्त्र': 12015, 'शास्त्रज्ञ': 12016, 'शास्त्रीय': 12017, 'शाही': 12018, 'शिंकतेय': 12019, 'शिंकतोय': 12020, 'शिंकला': 12021, 'शिआओली': 12022, 'शिइताके': 12023, 'शिक': 12024, 'शिकणं': 12025, 'शिकणार': 12026, 'शिकणे': 12027, 'शिकण्याचा': 12028, 'शिकण्याच्या': 12029, 'शिकण्यात': 12030, 'शिकण्याशिवाय': 12031, 'शिकण्यासाठी': 12032, 'शिकत': 12033, 'शिकतंय': 12034, 'शिकता': 12035, 'शिकतात': 12036, 'शिकताय': 12037, 'शिकते': 12038, 'शिकतेय': 12039, 'शिकतेयस': 12040, 'शिकतो': 12041, 'शिकतोय': 12042, 'शिकतोयस': 12043, 'शिकला': 12044, 'शिकलात': 12045, 'शिकलास': 12046, 'शिकली': 12047, 'शिकलीस': 12048, 'शिकले': 12049, 'शिकलेलं': 12050, 'शिकलो': 12051, 'शिकल्याशिवाय': 12052, 'शिकव': 12053, 'शिकवणं': 12054, 'शिकवणार': 12055, 'शिकवण्याचा': 12056, 'शिकवण्यात': 12057, 'शिकवण्याशिवाय': 12058, 'शिकवत': 12059, 'शिकवतं': 12060, 'शिकवता': 12061, 'शिकवतात': 12062, 'शिकवते': 12063, 'शिकवतेय': 12064, 'शिकवतेस': 12065, 'शिकवतो': 12066, 'शिकवतोय': 12067, 'शिकवतोस': 12068, 'शिकवलं': 12069, 'शिकवला': 12070, 'शिकवली': 12071, 'शिकवल्या': 12072, 'शिकवा': 12073, 'शिकवायचा': 12074, 'शिकवायची': 12075, 'शिकवायचे': 12076, 'शिकवायचो': 12077, 'शिकवायला': 12078, 'शिकवू': 12079, 'शिकवून': 12080, 'शिकवूनच': 12081, 'शिकवेन': 12082, 'शिकवेनच': 12083, 'शिका': 12084, 'शिकागोपासून': 12085, 'शिकागोपेक्षा': 12086, 'शिकागोमध्ये': 12087, 'शिकागोला': 12088, 'शिकायचं': 12089, 'शिकायचा': 12090, 'शिकायची': 12091, 'शिकायचे': 12092, 'शिकायला': 12093, 'शिकार': 12094, 'शिकारी': 12095, 'शिकारीवर': 12096, 'शिकार्\\u200dयांनी': 12097, 'शिकार्\\u200dयाने': 12098, 'शिकावं': 12099, 'शिकावी': 12100, 'शिकू': 12101, 'शिकेन': 12102, 'शिकोकु': 12103, 'शिक्षक': 12104, 'शिक्षकच': 12105, 'शिक्षकसुद्धा': 12106, 'शिक्षकांची': 12107, 'शिक्षकांना': 12108, 'शिक्षकांबरोबर': 12109, 'शिक्षकांशी': 12110, 'शिक्षकाने': 12111, 'शिक्षकाला': 12112, 'शिक्षण': 12113, 'शिक्षणाचा': 12114, 'शिक्षणाला': 12115, 'शिक्षणाविषयी': 12116, 'शिक्षणाशिवाय': 12117, 'शिक्षा': 12118, 'शिक्षिका': 12119, 'शिक्षिकेच्या': 12120, 'शिखर': 12121, 'शिचिगोसान': 12122, 'शिजतात': 12123, 'शिजलं': 12124, 'शिजलंय': 12125, 'शिजलाय': 12126, 'शिजली': 12127, 'शिजव': 12128, 'शिजवण्याची': 12129, 'शिजवत': 12130, 'शिजवता': 12131, 'शिजवतात': 12132, 'शिजवते': 12133, 'शिजवतो': 12134, 'शिजवलं': 12135, 'शिजवली': 12136, 'शिजवले': 12137, 'शिजवा': 12138, 'शिजविण्यासाठी': 12139, 'शिजून': 12140, 'शिझुओका': 12141, 'शिटी': 12142, 'शिडी': 12143, 'शिडीची': 12144, 'शिडीवरून': 12145, 'शिनानोपेक्षा': 12146, 'शिन्कान्सेनने': 12147, 'शिन्जुकुला': 12148, 'शिन्जुकूला': 12149, 'शिफ्ट': 12150, 'शिबुया': 12151, 'शिरत': 12152, 'शिरतो': 12153, 'शिरली': 12154, 'शिरेतून': 12155, 'शिरो': 12156, 'शिर्षक': 12157, 'शिल्लक': 12158, 'शिवणकाम': 12159, 'शिवणयंत्र': 12160, 'शिवतेय': 12161, 'शिवी': 12162, 'शिव्या': 12163, 'शिष्याचं': 12164, 'शीतयुद्ध': 12165, 'शीर्षक': 12166, 'शुक्रवार': 12167, 'शुक्रवारी': 12168, 'शुद्ध': 12169, 'शुद्धीत': 12170, 'शुभेच्छा': 12171, 'शूज': 12172, 'शूट': 12173, 'शूटिंग': 12174, 'शूटींग': 12175, 'शूर': 12176, 'शॅडो': 12177, 'शॅम्पू': 12178, 'शॅम्पेन': 12179, 'शॅम्पेनसुद्धा': 12180, 'शेंगदाणे': 12181, 'शेंडी': 12182, 'शेंबुड': 12183, 'शेंबूड': 12184, 'शेअर': 12185, 'शेकडो': 12186, 'शेक्सपिअर': 12187, 'शेक्सपिअरचं': 12188, 'शेक्सपिअरचे': 12189, 'शेक्सपिअरने': 12190, 'शेक्सपिअरबद्दल': 12191, 'शेक्सपीअर': 12192, 'शेजारचीला': 12193, 'शेजारच्यांना': 12194, 'शेजारच्याचं': 12195, 'शेजारच्याला': 12196, 'शेजारी': 12197, 'शेजार्\\u200dयांना': 12198, 'शेत': 12199, 'शेतकरी': 12200, 'शेतकर्\\u200dयांशी': 12201, 'शेतांमध्ये': 12202, 'शेतात': 12203, 'शेती': 12204, 'शेपटी': 12205, 'शेपर्ड': 12206, 'शेपूट': 12207, 'शेरिफ': 12208, 'शेवंतीचा': 12209, 'शेवट': 12210, 'शेवटचं': 12211, 'शेवटचा': 12212, 'शेवटची': 12213, 'शेवटचे': 12214, 'शेवटच्या': 12215, 'शेवटपर्यंत': 12216, 'शेवटागोदर': 12217, 'शेवटी': 12218, 'शेव्हर': 12219, 'शॉक': 12220, 'शॉपिंग': 12221, 'शॉर्टकट': 12222, 'शॉवर': 12223, 'शॉवरमधून': 12224, 'शोउनानमध्ये': 12225, 'शोध': 12226, 'शोधक': 12227, 'शोधण्यात': 12228, 'शोधण्यासारखं': 12229, 'शोधत': 12230, 'शोधतंय': 12231, 'शोधतायत': 12232, 'शोधताहेत': 12233, 'शोधतील': 12234, 'शोधते': 12235, 'शोधतेय': 12236, 'शोधतो': 12237, 'शोधतोय': 12238, 'शोधलं': 12239, 'शोधलंय': 12240, 'शोधाची': 12241, 'शोधात': 12242, 'शोधायचं': 12243, 'शोधायची': 12244, 'शोधायला': 12245, 'शोधायलाच': 12246, 'शोधावा': 12247, 'शोधू': 12248, 'शोधून': 12249, 'शोधूया': 12250, 'शोपाँचं': 12251, 'शोफर': 12252, 'शौकीनांवर': 12253, 'शौचालयात': 12254, 'श्रीमंत': 12255, 'श्रीलंका': 12256, 'श्रीलंकेबद्दल': 12257, 'श्लोकाचा': 12258, 'श्वाइट्झर': 12259, 'श्वास': 12260, 'सँग्रिया': 12261, 'सँडविच': 12262, 'सँडविचला': 12263, 'सँडविचवर': 12264, 'संकटकालीन': 12265, 'संकटात': 12266, 'संकल्पना': 12267, 'संकल्पनाचा': 12268, 'संकेतस्थळ': 12269, 'संकेतस्थळाची': 12270, 'संकेतस्थळाद्वारे': 12271, 'संकेतस्थळाला': 12272, 'संकेतस्थळावर': 12273, 'संकेतस्थळावरून': 12274, 'संक्षिप्त': 12275, 'संख्या': 12276, 'संख्येत': 12277, 'संगणक': 12278, 'संगणकांचा': 12279, 'संगणकांची': 12280, 'संगणकांवरील': 12281, 'संगणकांसंबंधित': 12282, 'संगणकाचा': 12283, 'संगणकाची': 12284, 'संगणकात': 12285, 'संगणकाला': 12286, 'संगणकावर': 12287, 'संगणकीय': 12288, 'संगीत': 12289, 'संगीतकार': 12290, 'संगीतकाराशी': 12291, 'संगीताचा': 12292, 'संगीताची': 12293, 'संग्रह': 12294, 'संघ': 12295, 'संघनायक': 12296, 'संघर्ष': 12297, 'संचार': 12298, 'संडास': 12299, 'संत': 12300, 'संततिनियमनच्या': 12301, 'संतांबरोबर': 12302, 'संतुलन': 12303, 'संतुष्ट': 12304, 'संत्र': 12305, 'संत्री': 12306, 'संत्र्याचं': 12307, 'संत्र्याचा': 12308, 'संत्र्यासारखा': 12309, 'संदेश': 12310, 'संदेशवाहकाने': 12311, 'संधिपाद': 12312, 'संधी': 12313, 'संध्याकाळ': 12314, 'संध्याकाळचं': 12315, 'संध्याकाळच्या': 12316, 'संध्याकाळी': 12317, 'संपणार': 12318, 'संपत': 12319, 'संपतच': 12320, 'संपतात': 12321, 'संपते': 12322, 'संपत्ती': 12323, 'संपन्न': 12324, 'संपर्क': 12325, 'संपलं': 12326, 'संपलंच': 12327, 'संपला': 12328, 'संपलाच': 12329, 'संपली': 12330, 'संपले': 12331, 'संपलेलं': 12332, 'संपलेली': 12333, 'संपल्या': 12334, 'संपल्यावर': 12335, 'संपव': 12336, 'संपवणं': 12337, 'संपवण्याची': 12338, 'संपवत': 12339, 'संपवताच': 12340, 'संपवलं': 12341, 'संपवला': 12342, 'संपवली': 12343, 'संपवल्यानंतर': 12344, 'संपवल्याबरोबरच': 12345, 'संपवा': 12346, 'संपवायचं': 12347, 'संपवायला': 12348, 'संपवून': 12349, 'संपवेन': 12350, 'संपादक': 12351, 'संपादन': 12352, 'संपुष्टात': 12353, 'संपून': 12354, 'संपूर्ण': 12355, 'संपेल': 12356, 'संप्रेरक': 12357, 'संबंध': 12358, 'संभावना': 12359, 'संभावनीय': 12360, 'संभाषण': 12361, 'संमती': 12362, 'संमेलनासाठी': 12363, 'संयुक्त': 12364, 'संरक्षण': 12365, 'संरक्षणासाठी': 12366, 'संरचना': 12367, 'संविधान': 12368, 'संविधानावर': 12369, 'संशय': 12370, 'संशयास्पद': 12371, 'संशोधन': 12372, 'संसदेने': 12373, 'संस्कृती': 12374, 'संस्कृतीच्या': 12375, 'संस्कृतीविषयी': 12376, 'संस्थानांचे': 12377, 'संस्थानांपासून': 12378, 'संस्थानांमध्ये': 12379, 'संस्थाने': 12380, 'संस्थापक': 12381, 'सऊल': 12382, 'सकाळ': 12383, 'सकाळचा': 12384, 'सकाळचे': 12385, 'सकाळच्या': 12386, 'सकाळपासून': 12387, 'सकाळभर': 12388, 'सकाळसकाळी': 12389, 'सकाळी': 12390, 'सकाळीच': 12391, 'सक्त': 12392, 'सगळं': 12393, 'सगळंकाही': 12394, 'सगळंच': 12395, 'सगळच': 12396, 'सगळा': 12397, 'सगळी': 12398, 'सगळीकडे': 12399, 'सगळीच': 12400, 'सगळीजणं': 12401, 'सगळे': 12402, 'सगळेच': 12403, 'सगळेच्या': 12404, 'सगळेजण': 12405, 'सगळ्या': 12406, 'सगळ्यांचं': 12407, 'सगळ्यांचाच': 12408, 'सगळ्यांची': 12409, 'सगळ्यांच्या': 12410, 'सगळ्यांच्याच': 12411, 'सगळ्यांना': 12412, 'सगळ्यांनाच': 12413, 'सगळ्यांनी': 12414, 'सगळ्यांबरोबर': 12415, 'सगळ्यांशी': 12416, 'सगळ्याच': 12417, 'सगळ्याचा': 12418, 'सगळ्याची': 12419, 'सगळ्यात': 12420, 'सगळ्यासाठी': 12421, 'सजवत': 12422, 'सजवते': 12423, 'सजवतो': 12424, 'सजवलं': 12425, 'सजवला': 12426, 'सजवली': 12427, 'सजवायला': 12428, 'सज्ज': 12429, 'सज्जन': 12430, 'सडलं': 12431, 'सडलेलं': 12432, 'सडलेली': 12433, 'सडल्यासारखा': 12434, 'सण': 12435, 'सणात': 12436, 'सतत': 12437, 'सतरा': 12438, 'सतवणं': 12439, 'सतवत': 12440, 'सतावतोय': 12441, 'सत्तर': 12442, 'सत्तरपेक्षा': 12443, 'सत्ता': 12444, 'सत्ताधीश': 12445, 'सत्तावीस': 12446, 'सत्य': 12447, 'सत्यानाश': 12448, 'सदस्य': 12449, 'सदैव': 12450, 'सध्या': 12451, 'सध्याचा': 12452, 'सध्याच्या': 12453, 'सध्यातरी': 12454, 'सनस्क्रीन': 12455, 'सन्स्क्रीन': 12456, 'सपाट': 12457, 'सप्टेंबर': 12458, 'सप्टेंबरपर्यंत': 12459, 'सप्टेंबरमध्ये': 12460, 'सफरचंद': 12461, 'सफरचंदं': 12462, 'सफरचंदच': 12463, 'सफरचंदसुद्धा': 12464, 'सफरचंदांपेक्षा': 12465, 'सफरचंदाचं': 12466, 'सफरचंदाचा': 12467, 'सफरचंदाची': 12468, 'सफरचंदाला': 12469, 'सफरचंदासारखं': 12470, 'सफरचंदासारखीच': 12471, 'सफरचंदे': 12472, 'सफेद': 12473, 'सभ्यतांचा': 12474, 'सभ्यतेचं': 12475, 'सभ्यतेचा': 12476, 'समज': 12477, 'समजणार': 12478, 'समजत': 12479, 'समजतं': 12480, 'समजतच': 12481, 'समजता': 12482, 'समजतात': 12483, 'समजतील': 12484, 'समजते': 12485, 'समजतेस': 12486, 'समजतो': 12487, 'समजतोस': 12488, 'समजलं': 12489, 'समजला': 12490, 'समजली': 12491, 'समजले': 12492, 'समजल्या': 12493, 'समजवायला': 12494, 'समजशील': 12495, 'समजा': 12496, 'समजायचं': 12497, 'समजायचा': 12498, 'समजायचो': 12499, 'समजायला': 12500, 'समजाल': 12501, 'समजावत': 12502, 'समजावते': 12503, 'समजावतो': 12504, 'समजावलं': 12505, 'समजावले': 12506, 'समजावायचा': 12507, 'समजावू': 12508, 'समजावून': 12509, 'समजावेन': 12510, 'समजावेल': 12511, 'समजू': 12512, 'समजून': 12513, 'समजेन': 12514, 'समजेल': 12515, 'समर': 12516, 'समर्थक': 12517, 'समर्थकांना': 12518, 'समर्थन': 12519, 'समलिंगी': 12520, 'समस्या': 12521, 'समस्यांना': 12522, 'समस्यांबद्दल': 12523, 'समस्येचा': 12524, 'समस्येबद्दल': 12525, 'समस्येवर': 12526, 'समस्येसाठी': 12527, 'समाज': 12528, 'समाजवादी': 12529, 'समाजशास्त्रज्ञ': 12530, 'समाजाचा': 12531, 'समाजात': 12532, 'समाधानकारक': 12533, 'समान': 12534, 'समानार्थी': 12535, 'समाप्त': 12536, 'समारंभ': 12537, 'समारंभात': 12538, 'समुदाय': 12539, 'समुद्र': 12540, 'समुद्रकिनारा': 12541, 'समुद्रकिनार्\\u200dयाचं': 12542, 'समुद्रकिनार्\\u200dयावर': 12543, 'समुद्राखाली': 12544, 'समुद्राच्या': 12545, 'समुद्राजवळ': 12546, 'समुद्रात': 12547, 'समुद्रातला': 12548, 'समुद्रातील': 12549, 'समुद्रापाशी': 12550, 'समुद्रापासून': 12551, 'समुद्राला': 12552, 'समुद्री': 12553, 'समूह': 12554, 'समूहात': 12555, 'समूहावर': 12556, 'समोर': 12557, 'समोरच': 12558, 'समोरचं': 12559, 'समोरची': 12560, 'समोरच्या': 12561, 'समोरासमोर': 12562, 'समोसा': 12563, 'सम्टर': 12564, 'सम्टरची': 12565, 'सम्टरला': 12566, 'सम्राट': 12567, 'सरकार': 12568, 'सरकारवर': 12569, 'सरकारी': 12570, 'सरळ': 12571, 'सरळसरळ': 12572, 'सरोवर': 12573, 'सरोवराच्या': 12574, 'सरोवरात': 12575, 'सर्कसमध्ये': 12576, 'सर्जन': 12577, 'सर्जनशील': 12578, 'सर्दी': 12579, 'सर्दीच': 12580, 'सर्दीसाठी': 12581, 'सर्फ': 12582, 'सर्फिंग': 12583, 'सर्बियाचा': 12584, 'सर्बियाची': 12585, 'सर्व': 12586, 'सर्वं': 12587, 'सर्वकाही': 12588, 'सर्वच': 12589, 'सर्वच्या': 12590, 'सर्वजण': 12591, 'सर्वप्रथम': 12592, 'सर्वर': 12593, 'सर्वविजेता': 12594, 'सर्वसामान्य': 12595, 'सर्वांचं': 12596, 'सर्वांचंच': 12597, 'सर्वांचा': 12598, 'सर्वांचाच': 12599, 'सर्वांची': 12600, 'सर्वांचे': 12601, 'सर्वांना': 12602, 'सर्वांनाच': 12603, 'सर्वांनी': 12604, 'सर्वांनीच': 12605, 'सर्वांनो': 12606, 'सर्वांपुरतं': 12607, 'सर्वांपेक्षा': 12608, 'सर्वांवर': 12609, 'सर्वांशी': 12610, 'सर्वांसाठी': 12611, 'सर्वात': 12612, 'सर्वोच्च': 12613, 'सर्वोत्तम': 12614, 'सलॉनला': 12615, 'सल्ला': 12616, 'सल्लागार': 12617, 'सल्लागारांना': 12618, 'सल्लेला': 12619, 'सवय': 12620, 'सव्वा': 12621, 'सव्वातीनला': 12622, 'सशामागे': 12623, 'ससा': 12624, 'ससे': 12625, 'सस्तन': 12626, 'सस्यांच्या': 12627, 'सहकार': 12628, 'सहज': 12629, 'सहजपणे': 12630, 'सहन': 12631, 'सहनच': 12632, 'सहनशील': 12633, 'सहभागी': 12634, 'सहभागींना': 12635, 'सहमत': 12636, 'सहलीची': 12637, 'सहा': 12638, 'सहाच्या': 12639, 'सहापट': 12640, 'सहाय्यक': 12641, 'सहारा': 12642, 'सहाला': 12643, 'सही': 12644, 'सहीची': 12645, 'सांओ': 12646, 'सांग': 12647, 'सांगणं': 12648, 'सांगणार': 12649, 'सांगण्याची': 12650, 'सांगण्यात': 12651, 'सांगण्यासारखं': 12652, 'सांगत': 12653, 'सांगतच': 12654, 'सांगता': 12655, 'सांगतात': 12656, 'सांगतिलं': 12657, 'सांगतील': 12658, 'सांगते': 12659, 'सांगतेय': 12660, 'सांगतो': 12661, 'सांगतोय': 12662, 'सांगशील': 12663, 'सांगा': 12664, 'सांगायचं': 12665, 'सांगायचंय': 12666, 'सांगायचा': 12667, 'सांगायची': 12668, 'सांगायला': 12669, 'सांगाल': 12670, 'सांगितलं': 12671, 'सांगितलंत': 12672, 'सांगितलंय': 12673, 'सांगितलंस': 12674, 'सांगितला': 12675, 'सांगितली': 12676, 'सांगितले': 12677, 'सांगितलेलं': 12678, 'सांगितलेला': 12679, 'सांगिलं': 12680, 'सांगू': 12681, 'सांगूच': 12682, 'सांगून': 12683, 'सांगेन': 12684, 'सांगेल': 12685, 'सांघितलं': 12686, 'सांडवल्याचं': 12687, 'सांभाळ': 12688, 'सांभाळता': 12689, 'सांभाळतात': 12690, 'सांभाळते': 12691, 'सांभाळतो': 12692, 'सांभाळलं': 12693, 'सांभाळा': 12694, 'सांभाळायला': 12695, 'सांभाळू': 12696, 'सांभाळून': 12697, 'सांभाळेन': 12698, 'सांस्कृतिक': 12699, 'साइतामा': 12700, 'साईट': 12701, 'साउअरक्राउट': 12702, 'साके': 12703, 'साक्षी': 12704, 'साखर': 12705, 'साखरेची': 12706, 'साखरेच्या': 12707, 'साखरेशिवाय': 12708, 'साखरेसारखी': 12709, 'सागर': 12710, 'सागराला': 12711, 'सागरी': 12712, 'सागा’': 12713, 'साजरा': 12714, 'साठ': 12715, 'साडेचारशे': 12716, 'साडेतीन': 12717, 'साडेदहा': 12718, 'साडेपाचच्या': 12719, 'साडेपाचपर्यंत': 12720, 'साडेपाचला': 12721, 'साडेसहापर्यंत': 12722, 'साडेसात': 12723, 'सात': 12724, 'सातच्या': 12725, 'सातपर्यंत': 12726, 'सातवा': 12727, 'सातवी': 12728, 'सातवे': 12729, 'सातव्या': 12730, 'साथ': 12731, 'साथीदारांना': 12732, 'सादर': 12733, 'साधनं': 12734, 'साधला': 12735, 'साधा': 12736, 'साधायचा': 12737, 'साधारण': 12738, 'साधारणतः': 12739, 'साधी': 12740, 'साधू': 12741, 'साधे': 12742, 'साध्या': 12743, 'साप': 12744, 'सापं': 12745, 'सापडणं': 12746, 'सापडणार': 12747, 'सापडण्यात': 12748, 'सापडत': 12749, 'सापडतच': 12750, 'सापडता': 12751, 'सापडलं': 12752, 'सापडलंय': 12753, 'सापडला': 12754, 'सापडलात': 12755, 'सापडलास': 12756, 'सापडली': 12757, 'सापडलीस': 12758, 'सापडले': 12759, 'सापडलेला': 12760, 'सापडलो': 12761, 'सापडल्या': 12762, 'सापडशील': 12763, 'सापडायला': 12764, 'सापडाल': 12765, 'सापडू': 12766, 'सापडून': 12767, 'सापडेल': 12768, 'सापांना': 12769, 'सापांमुळे': 12770, 'सापाने': 12771, 'सापेक्षतावादाच्या': 12772, 'साफ': 12773, 'साबण': 12774, 'साबणाने': 12775, 'साबणामुळे': 12776, 'सामना': 12777, 'सामाजिक': 12778, 'सामान': 12779, 'सामुराइ': 12780, 'साम्य': 12781, 'साम्यवाद': 12782, 'साम्यवादी': 12783, 'साम्यवाद्यांनी': 12784, 'साम्राज्य': 12785, 'साम्राज्याचं': 12786, 'साम्राज्याचा': 12787, 'साम्राज्याचे': 12788, 'सायकल': 12789, 'सायकलचा': 12790, 'सायकली': 12791, 'सायकलीची': 12792, 'सायकलीच्या': 12793, 'सायकलीने': 12794, 'सायकलीला': 12795, 'सायकलीवरून': 12796, 'सायकलीसारखी': 12797, 'सायन्सचा': 12798, 'सायबरकॅफे': 12799, 'सायबॉर्ग': 12800, 'सायलेंट': 12801, 'सारखा': 12802, 'सारखी': 12803, 'सारखीच': 12804, 'सारखे': 12805, 'सारख्या': 12806, 'सारेच': 12807, 'सालच्या': 12808, 'सालात': 12809, 'सालापासून': 12810, 'साली': 12811, 'सालीपासनं': 12812, 'सालीवर': 12813, 'साळिंदर': 12814, 'सावकाश': 12815, 'सावध': 12816, 'सावधगिरीने': 12817, 'सावधान': 12818, 'सावलीत': 12819, 'सावलीशिवाय': 12820, 'सावल्या': 12821, 'सासू': 12822, 'साहसाचं': 12823, 'साहित्य': 12824, 'साहित्याचा': 12825, 'साहेब': 12826, 'सिंगापूरकडे': 12827, 'सिंगापूरमध्ये': 12828, 'सिंगापूरला': 12829, 'सिंड्रेलाची': 12830, 'सिंह': 12831, 'सिंहांना': 12832, 'सिंहाची': 12833, 'सिगरेट': 12834, 'सिगरेटच्या': 12835, 'सिगार': 12836, 'सिग्रेट': 12837, 'सिटी': 12838, 'सिडनी': 12839, 'सिद्ध': 12840, 'सिद्धांताची': 12841, 'सिद्धांताशी': 12842, 'सिनाट्रा': 12843, 'सिनेमा': 12844, 'सिनेमाला': 12845, 'सिमेंट': 12846, 'सिमेंटच्या': 12847, 'सिरप': 12848, 'सिरियामध्ये': 12849, 'सिर्हान': 12850, 'सिलिंग': 12851, 'सिस्टर': 12852, 'सी': 12853, 'सीआयएची': 12854, 'सीआयएमध्ये': 12855, 'सीईओ': 12856, 'सीएनएन': 12857, 'सीजर': 12858, 'सीजरच्या': 12859, 'सीझन': 12860, 'सीझर': 12861, 'सीझरने': 12862, 'सीट': 12863, 'सीडी': 12864, 'सीडीची': 12865, 'सीड्या': 12866, 'सीमध्ये': 12867, 'सीमेचं': 12868, 'सीमेच्या': 12869, 'सीरियामध्ये': 12870, 'सुंदर': 12871, 'सुंदरच': 12872, 'सुंदरता': 12873, 'सुंदरतेची': 12874, 'सुंदरतेसाठी': 12875, 'सुई': 12876, 'सुकडा': 12877, 'सुकडी': 12878, 'सुकरमांस': 12879, 'सुकरमांसापेक्षा': 12880, 'सुकलेला': 12881, 'सुकियाकि': 12882, 'सुख': 12883, 'सुखी': 12884, 'सुगंध': 12885, 'सुचत': 12886, 'सुचलं': 12887, 'सुचली': 12888, 'सुचवत': 12889, 'सुचवता': 12890, 'सुचवला': 12891, 'सुजला': 12892, 'सुजले': 12893, 'सुजलेला': 12894, 'सुजलेले': 12895, 'सुटकेस': 12896, 'सुटकेसचं': 12897, 'सुटकेसपेक्षा': 12898, 'सुटणार': 12899, 'सुटण्याचा': 12900, 'सुटत': 12901, 'सुटते': 12902, 'सुटतो': 12903, 'सुटला': 12904, 'सुटले': 12905, 'सुटलो': 12906, 'सुटायचा': 12907, 'सुटायच्या': 12908, 'सुटी': 12909, 'सुटू': 12910, 'सुटून': 12911, 'सुटेल': 12912, 'सुट्टी': 12913, 'सुट्टीचा': 12914, 'सुट्टीच्या': 12915, 'सुट्टीत': 12916, 'सुट्टे': 12917, 'सुट्ट्या': 12918, 'सुद्धा': 12919, 'सुधारणा': 12920, 'सुधारत': 12921, 'सुधारते': 12922, 'सुधारली': 12923, 'सुधारायचं': 12924, 'सुधारायचा': 12925, 'सुधारायची': 12926, 'सुधारायला': 12927, 'सुधारेल': 12928, 'सुधृढ': 12929, 'सुनावण्यात': 12930, 'सुपरपावर': 12931, 'सुपरमार्केट': 12932, 'सुपरमार्केटमध्ये': 12933, 'सुपरमार्केटला': 12934, 'सुपरमॅन': 12935, 'सुपरहिरो': 12936, 'सुप्रभात': 12937, 'सुप्रसिद्ध': 12938, 'सुमात्रा': 12939, 'सुमारास': 12940, 'सुमारे': 12941, 'सुमो': 12942, 'सुरक्षाव्यवस्था': 12943, 'सुरक्षित': 12944, 'सुरक्षेचा': 12945, 'सुरळीत': 12946, 'सुरी': 12947, 'सुरीने': 12948, 'सुरीवर': 12949, 'सुरु': 12950, 'सुरुवात': 12951, 'सुरुवातही': 12952, 'सुरुवातीपासून': 12953, 'सुरुवातीपासूनच': 12954, 'सुरुवातीला': 12955, 'सुरू': 12956, 'सुरूवात': 12957, 'सुरूवातीला': 12958, 'सुर्\\u200dया': 12959, 'सुलभ': 12960, 'सुवर्ण': 12961, 'सुशी': 12962, 'सुसंस्कृत': 12963, 'सुस्थापित': 12964, 'सुस्वभावी': 12965, 'सुस्वागतम': 12966, 'सूइंग': 12967, 'सूक्ष्मजीवशास्त्रज्ञ': 12968, 'सूक्ष्मदर्शीय': 12969, 'सूचनेकडे': 12970, 'सूज': 12971, 'सूट': 12972, 'सूटकेस': 12973, 'सूत्र': 12974, 'सूप': 12975, 'सूपबरोबर': 12976, 'सूपमध्ये': 12977, 'सूपरमॉडेल': 12978, 'सूर्य': 12979, 'सूर्यफूल': 12980, 'सूर्यमालेतील': 12981, 'सूर्याच्या': 12982, 'सूर्यापासून': 12983, 'सूर्यापेक्षा': 12984, 'सॅँडविच': 12985, 'सॅंडी': 12986, 'सॅक्रामेंटो': 12987, 'सॅक्सोफोनिस्ट': 12988, 'सॅन': 12989, 'सॅमसंग': 12990, 'सॅलड': 12991, 'सॅलडच्या': 12992, 'सॅलडवर': 12993, 'सॅलडही': 12994, 'सॅलमनचे': 12995, 'सॅल्मनसारखी': 12996, 'सॅल्व्हेशन': 12997, 'से': 12998, 'सेंट': 12999, 'सेंटर': 13000, 'सेंटरमध्ये': 13001, 'सेंटरवर': 13002, 'सेंटिमीटर': 13003, 'सेइचो': 13004, 'सेकंडहॅण्ड': 13005, 'सेकंद': 13006, 'सेकंदात': 13007, 'सेकंदाला': 13008, 'सेक्युरिटीला': 13009, 'सेक्रेटरी': 13010, 'सेक्रेटरीबरोबर': 13011, 'सेक्सी': 13012, 'सेन': 13013, 'सेनटर': 13014, 'सेनवरील': 13015, 'सेना': 13016, 'सेनापती': 13017, 'सेनेटमध्ये': 13018, 'सेनेने': 13019, 'सेन्दाइच्या': 13020, 'सेन्सेई': 13021, 'सेलफोन': 13022, 'सेलफोनची': 13023, 'सेलफोनवरून': 13024, 'सेल्समन': 13025, 'सेल्समनदेखील': 13026, 'सेवा': 13027, 'सेव्ह': 13028, 'सैनिक': 13029, 'सैनिकांकडे': 13030, 'सैनिकांचा': 13031, 'सैनिकांच्या': 13032, 'सैनिकांना': 13033, 'सैनिकांनी': 13034, 'सैनिकांवर': 13035, 'सैनिकाने': 13036, 'सैनिकी': 13037, 'सैन्य': 13038, 'सैन्याकडे': 13039, 'सैन्याची': 13040, 'सैन्याच्या': 13041, 'सैन्याने': 13042, 'सैल': 13043, 'सॉकर': 13044, 'सॉक्स': 13045, 'सॉक्सचा': 13046, 'सॉनामध्ये': 13047, 'सॉनेट': 13048, 'सॉफ्टवेअर': 13049, 'सॉफ्टवेअरचा': 13050, 'सॉस': 13051, 'सॉसचा': 13052, 'सॉसबरोबर': 13053, 'सोंडी': 13054, 'सोड': 13055, 'सोडणार': 13056, 'सोडण्यात': 13057, 'सोडत': 13058, 'सोडता': 13059, 'सोडतेय': 13060, 'सोडतो': 13061, 'सोडतोय': 13062, 'सोडलं': 13063, 'सोडलंत': 13064, 'सोडलंय': 13065, 'सोडलंस': 13066, 'सोडलत': 13067, 'सोडला': 13068, 'सोडली': 13069, 'सोडलीस': 13070, 'सोडलून': 13071, 'सोडले': 13072, 'सोडलेला': 13073, 'सोडलेली': 13074, 'सोडल्या': 13075, 'सोडल्यानंतर': 13076, 'सोडल्याबरोबर': 13077, 'सोडल्यास': 13078, 'सोडवत': 13079, 'सोडवता': 13080, 'सोडवली': 13081, 'सोडवल्या': 13082, 'सोडा': 13083, 'सोडाच': 13084, 'सोडायचं': 13085, 'सोडायचा': 13086, 'सोडायची': 13087, 'सोडायला': 13088, 'सोडावं': 13089, 'सोडू': 13090, 'सोडूच': 13091, 'सोडून': 13092, 'सोडूया': 13093, 'सोडेन': 13094, 'सोडेल': 13095, 'सोनं': 13096, 'सोनाटा': 13097, 'सोने': 13098, 'सोनेरी': 13099, 'सोन्याचं': 13100, 'सोन्याचा': 13101, 'सोन्याची': 13102, 'सोन्याच्या': 13103, 'सोन्यापेक्षा': 13104, 'सोन्साबरोबर': 13105, 'सोपं': 13106, 'सोपवलं': 13107, 'सोपवली': 13108, 'सोपवून': 13109, 'सोपा': 13110, 'सोपी': 13111, 'सोपे': 13112, 'सोप्या': 13113, 'सोप्रानो': 13114, 'सोफा': 13115, 'सोफ्याखाली': 13116, 'सोफ्यावर': 13117, 'सोबत': 13118, 'सोमनारच': 13119, 'सोमनारी': 13120, 'सोमवार': 13121, 'सोमवारच्या': 13122, 'सोमवारपर्यंत': 13123, 'सोमवारी': 13124, 'सोमवारीही': 13125, 'सोल': 13126, 'सोलत': 13127, 'सोलता': 13128, 'सोलतेय': 13129, 'सोलतोय': 13130, 'सोललं': 13131, 'सोलला': 13132, 'सोलली': 13133, 'सोलले': 13134, 'सोला': 13135, 'सोलून': 13136, 'सोळा': 13137, 'सोळावा': 13138, 'सोव्हिएत': 13139, 'सोशल': 13140, 'सोहळा': 13141, 'सौदी': 13142, 'सौम्य': 13143, 'स्कर्ट': 13144, 'स्किझोफ्रेनिक': 13145, 'स्की': 13146, 'स्कूटर': 13147, 'स्कॅन': 13148, 'स्केट': 13149, 'स्केट्सना': 13150, 'स्कॉटलंडची': 13151, 'स्कॉटलंडच्या': 13152, 'स्कॉटलंडमध्ये': 13153, 'स्कॉटलंडसाठी': 13154, 'स्कॉटिश': 13155, 'स्कोन': 13156, 'स्कोर': 13157, 'स्क्रीनकडे': 13158, 'स्क्रीनसेव्हर': 13159, 'स्क्रू': 13160, 'स्क्रूड्रायव्हर': 13161, 'स्क्विडचे': 13162, 'स्क्वॅश': 13163, 'स्टायलिश': 13164, 'स्टार': 13165, 'स्टार्स': 13166, 'स्टालिनला': 13167, 'स्टिक्स': 13168, 'स्टूलवर': 13169, 'स्टॅच्यू': 13170, 'स्टेक': 13171, 'स्टेकला': 13172, 'स्टेट': 13173, 'स्टेट्स': 13174, 'स्टेट्सकडे': 13175, 'स्टेट्सचे': 13176, 'स्टेट्सच्या': 13177, 'स्टेट्सने': 13178, 'स्टेट्सपासून': 13179, 'स्टेट्समधील': 13180, 'स्टेट्समध्ये': 13181, 'स्टेडियमला': 13182, 'स्टेनोग्राफीचा': 13183, 'स्टेरॉइड': 13184, 'स्टेशन': 13185, 'स्टेशनच्या': 13186, 'स्टेशनजवळ': 13187, 'स्टेशनजवळच': 13188, 'स्टेशनपर्यंत': 13189, 'स्टेशनपासून': 13190, 'स्टेशनला': 13191, 'स्टेशनवरून': 13192, 'स्टेशनसमोर': 13193, 'स्टॉकहोल्म': 13194, 'स्टॉप': 13195, 'स्टोव्ह': 13196, 'स्टोव्हवर': 13197, 'स्ट्राइप्स': 13198, 'स्ट्रिक्ट': 13199, 'स्ट्रीटला': 13200, 'स्ट्रीटवर': 13201, 'स्ट्रॉबेरी': 13202, 'स्तनाचा': 13203, 'स्तुती': 13204, 'स्त्रिया': 13205, 'स्त्रियांचा': 13206, 'स्त्रियांच्या': 13207, 'स्त्रियांना': 13208, 'स्त्रियांपेक्षा': 13209, 'स्त्रियांवर': 13210, 'स्त्री': 13211, 'स्त्रीकडे': 13212, 'स्त्रीचा': 13213, 'स्त्रीया': 13214, 'स्त्रीला': 13215, 'स्थाईक': 13216, 'स्थानक': 13217, 'स्थानकाकडे': 13218, 'स्थानकाचं': 13219, 'स्थानकाच्या': 13220, 'स्थानकाजवळ': 13221, 'स्थानकापर्यंत': 13222, 'स्थानकापासून': 13223, 'स्थानकाला': 13224, 'स्थानकावर': 13225, 'स्थानकासमोर': 13226, 'स्थानबद्ध': 13227, 'स्थानिक': 13228, 'स्थापन': 13229, 'स्थापना': 13230, 'स्थापित': 13231, 'स्थित': 13232, 'स्थिती': 13233, 'स्थिर': 13234, 'स्नानगृह': 13235, 'स्नानगृहात': 13236, 'स्नोबोर्डिंग': 13237, 'स्पर्धकांमधील': 13238, 'स्पर्धा': 13239, 'स्पर्धेत': 13240, 'स्पर्श': 13241, 'स्पष्ट': 13242, 'स्पष्टपणे': 13243, 'स्पुटनिक': 13244, 'स्पॅगेटी': 13245, 'स्पॅनिश': 13246, 'स्पॅनिशमध्ये': 13247, 'स्पेन': 13248, 'स्पेनचा': 13249, 'स्पेनची': 13250, 'स्पेनच्या': 13251, 'स्पेनमधील': 13252, 'स्पेनमध्ये': 13253, 'स्पेनला': 13254, 'स्पेनवर': 13255, 'स्पेनशी': 13256, 'स्पेलिंग': 13257, 'स्फटिकी': 13258, 'स्फिंक्स': 13259, 'स्फोट': 13260, 'स्फोटात': 13261, 'स्फोटामुळे': 13262, 'स्मरणशक्ती': 13263, 'स्मार्टफ़ोन': 13264, 'स्मार्टफोन': 13265, 'स्मिथ': 13266, 'स्मिथचे': 13267, 'स्मृती': 13268, 'स्रोत': 13269, 'स्लिपर': 13270, 'स्वच्छ': 13271, 'स्वच्छतागृह': 13272, 'स्वतंत्र': 13273, 'स्वतः': 13274, 'स्वतःकडे': 13275, 'स्वतःच': 13276, 'स्वतःचं': 13277, 'स्वतःचंच': 13278, 'स्वतःचा': 13279, 'स्वतःची': 13280, 'स्वतःचीच': 13281, 'स्वतःचे': 13282, 'स्वतःचेच': 13283, 'स्वतःच्या': 13284, 'स्वतःच्याच': 13285, 'स्वतःपुरतं': 13286, 'स्वतःपुर्ती': 13287, 'स्वतःबद्दल': 13288, 'स्वतःबरोबर': 13289, 'स्वतःला': 13290, 'स्वतःवर': 13291, 'स्वतःवरच': 13292, 'स्वतःशिवाय': 13293, 'स्वतःशी': 13294, 'स्वतःशीच': 13295, 'स्वतःसाठी': 13296, 'स्वतःहून': 13297, 'स्वतःहूनच': 13298, 'स्वतःहूनसुद्धा': 13299, 'स्वताची': 13300, 'स्वताचे': 13301, 'स्वताच्या': 13302, 'स्वताहून': 13303, 'स्वप्न': 13304, 'स्वप्नं': 13305, 'स्वप्नच': 13306, 'स्वप्नही': 13307, 'स्वप्नांशिवाय': 13308, 'स्वप्नात': 13309, 'स्वप्नातही': 13310, 'स्वप्नासारखं': 13311, 'स्वप्ने': 13312, 'स्वभावाचा': 13313, 'स्वभावाला': 13314, 'स्वयंपाक': 13315, 'स्वयंपाकघर': 13316, 'स्वयंपाकघराचा': 13317, 'स्वयंपाकघरात': 13318, 'स्वयंपाकघरातच': 13319, 'स्वयंपाकघरातला': 13320, 'स्वयंपाकघरातल्या': 13321, 'स्वयंपाकघरातून': 13322, 'स्वयंपाकी': 13323, 'स्वर्गात': 13324, 'स्वस्त': 13325, 'स्वस्तात': 13326, 'स्वस्तातला': 13327, 'स्वस्तातल्या': 13328, 'स्वागत': 13329, 'स्वातंत्र्य': 13330, 'स्वातंत्र्यदिन': 13331, 'स्वातंत्र्याचा': 13332, 'स्वातंत्र्याची': 13333, 'स्वातंत्र्याच्या': 13334, 'स्वातंत्र्यासाठी': 13335, 'स्वादिष्ट': 13336, 'स्वारी': 13337, 'स्वार्थी': 13338, 'स्वावलंबी': 13339, 'स्वित्झर्लंड': 13340, 'स्वित्झर्लंडची': 13341, 'स्वित्झर्लंडमधील': 13342, 'स्वित्झर्लंडमध्ये': 13343, 'स्विमिंग': 13344, 'स्विमिंगपूलमध्ये': 13345, 'स्विम्सूट': 13346, 'स्विस': 13347, 'स्वीकार': 13348, 'स्वीकारलं': 13349, 'स्वीकारला': 13350, 'स्वीकारली': 13351, 'स्वीकारू': 13352, 'स्वीकारेन': 13353, 'स्वीडनची': 13354, 'स्वीडनमधील': 13355, 'स्वीडनमध्येच': 13356, 'स्वीडिश': 13357, 'स्वीडिशसुद्धा': 13358, 'स्वेटर': 13359, 'हँडसम': 13360, 'हँबर्गर': 13361, 'हं': 13362, 'हंगेरियन': 13363, 'हंगेरीची': 13364, 'हंगेरीमध्ये': 13365, 'हक्क': 13366, 'हजार': 13367, 'हजारापेक्षा': 13368, 'हजारो': 13369, 'हट': 13370, 'हड्डींमुळे': 13371, 'हड्सन': 13372, 'हत्ती': 13373, 'हत्तींचे': 13374, 'हत्तींच्या': 13375, 'हत्तींना': 13376, 'हत्तींपेक्षा': 13377, 'हत्तीकडे': 13378, 'हत्तीपेक्षा': 13379, 'हत्तीला': 13380, 'हत्तीवर': 13381, 'हत्या': 13382, 'हत्यार': 13383, 'हमिंगबर्ड': 13384, 'हरकत': 13385, 'हरण': 13386, 'हरणं': 13387, 'हरणार': 13388, 'हरणाला': 13389, 'हरण्याचा': 13390, 'हरत': 13391, 'हरतो': 13392, 'हरला': 13393, 'हरली': 13394, 'हरले': 13395, 'हरलो': 13396, 'हरल्या': 13397, 'हरवणं': 13398, 'हरवण्याचा': 13399, 'हरवण्यात': 13400, 'हरवत': 13401, 'हरवताहेत': 13402, 'हरवतील': 13403, 'हरवतेय': 13404, 'हरवलं': 13405, 'हरवलंय': 13406, 'हरवला': 13407, 'हरवलाय': 13408, 'हरवली': 13409, 'हरवले': 13410, 'हरवलेय': 13411, 'हरवलेलं': 13412, 'हरवलेला': 13413, 'हरवलेली': 13414, 'हरवलो': 13415, 'हरवलोय': 13416, 'हरवशील': 13417, 'हरवाल': 13418, 'हरवू': 13419, 'हरवून': 13420, 'हरवेल': 13421, 'हरशील': 13422, 'हरायचं': 13423, 'हरायला': 13424, 'हराल': 13425, 'हरू': 13426, 'हर्बर्ट': 13427, 'हर्बल': 13428, 'हलकं': 13429, 'हलका': 13430, 'हलकी': 13431, 'हलत': 13432, 'हलता': 13433, 'हलला': 13434, 'हलवता': 13435, 'हलवला': 13436, 'हलवली': 13437, 'हलवायला': 13438, 'हलवू': 13439, 'हलू': 13440, 'हल्ला': 13441, 'हल्लीच': 13442, 'हल्लेखोर': 13443, 'हल्ल्याची': 13444, 'हळुवारपणे': 13445, 'हळू': 13446, 'हळूच': 13447, 'हळूवारपणे': 13448, 'हळूहळू': 13449, 'हवं': 13450, 'हवंय': 13451, 'हवा': 13452, 'हवाईची': 13453, 'हवाईला': 13454, 'हवाईलाही': 13455, 'हवामान': 13456, 'हवामानाची': 13457, 'हवामानापेक्षा': 13458, 'हवामानाबद्दल': 13459, 'हवाय': 13460, 'हवास': 13461, 'हवी': 13462, 'हवीस': 13463, 'हवे': 13464, 'हवेत': 13465, 'हवेय': 13466, 'हवेयत': 13467, 'हव्या': 13468, 'हव्हानामध्ये': 13469, 'हसणं': 13470, 'हसणार': 13471, 'हसण्याची': 13472, 'हसण्यासारखं': 13473, 'हसत': 13474, 'हसतंय': 13475, 'हसतच': 13476, 'हसता': 13477, 'हसतात': 13478, 'हसताना': 13479, 'हसताहेत': 13480, 'हसतील': 13481, 'हसते': 13482, 'हसतेय': 13483, 'हसतो': 13484, 'हसतोय': 13485, 'हसतोयस': 13486, 'हसलं': 13487, 'हसला': 13488, 'हसली': 13489, 'हसले': 13490, 'हसलो': 13491, 'हसल्या': 13492, 'हसवण्यात': 13493, 'हसवतो': 13494, 'हसवलं': 13495, 'हसवलंत': 13496, 'हसवलंस': 13497, 'हसवू': 13498, 'हसशील': 13499, 'हसायचं': 13500, 'हसायला': 13501, 'हसाल': 13502, 'हसू': 13503, 'हसेन': 13504, 'हसेल': 13505, 'हस्ताक्षर': 13506, 'हा': 13507, 'हाँगकाँगद्वारे': 13508, 'हाँगकाँगमध्ये': 13509, 'हाँगकाँगला': 13510, 'हाउसला': 13511, 'हाऊस': 13512, 'हाऊसला': 13513, 'हाक': 13514, 'हाकोदातेला': 13515, 'हाच': 13516, 'हाडांनी': 13517, 'हात': 13518, 'हातपाय': 13519, 'हातसुद्धा': 13520, 'हातही': 13521, 'हातांनी': 13522, 'हातांवर': 13523, 'हातात': 13524, 'हाताने': 13525, 'हाताला': 13526, 'हातावर': 13527, 'हाती': 13528, 'हातोडा': 13529, 'हादरून': 13530, 'हामामात्सुमध्ये': 13531, 'हायब्रिड': 13532, 'हायवेवर': 13533, 'हार': 13534, 'हार्ड': 13535, 'हार्दिक': 13536, 'हार्प': 13537, 'हार्पर्स': 13538, 'हार्पसिकॉर्डदेखील': 13539, 'हार्बर': 13540, 'हार्वर्ड': 13541, 'हार्वर्डला': 13542, 'हार्वी': 13543, 'हावरट': 13544, 'हाशिमोतो': 13545, 'हास्य': 13546, 'हास्यास्पद': 13547, 'हिंदूंसाठी': 13548, 'हिंसक': 13549, 'हिंसा': 13550, 'हिंसेत': 13551, 'हिट': 13552, 'हिटलर': 13553, 'हिट्लरने': 13554, 'हिदेयो': 13555, 'हिप्पी': 13556, 'हिप्स्टर': 13557, 'हिब्रूमध्ये': 13558, 'हिमालय': 13559, 'हिमालयमधले': 13560, 'हिमोग्लोबिन': 13561, 'हिरवं': 13562, 'हिरवा': 13563, 'हिरवी': 13564, 'हिरवे': 13565, 'हिरव्या': 13566, 'हिरा': 13567, 'हिरे': 13568, 'हिरॉइन': 13569, 'हिरोशिमा': 13570, 'हिरोशिमावर': 13571, 'हिल': 13572, 'हिलबिली': 13573, 'हिल्टन': 13574, 'हिवाळा': 13575, 'हिवाळ्यात': 13576, 'हिवाळ्यातही': 13577, 'हिशोबानं': 13578, 'हिशोबाने': 13579, 'ही': 13580, 'हीच': 13581, 'हुकुमशहाचं': 13582, 'हुकुमशाही': 13583, 'हुकूम': 13584, 'हुशार': 13585, 'हूव्हर': 13586, 'हूव्हरने': 13587, 'हृदयात': 13588, 'हॅक': 13589, 'हॅगिस': 13590, 'हॅपी': 13591, 'हॅम': 13592, 'हॅमबर्गर': 13593, 'हॅमलेट': 13594, 'हॅमिल्टनने': 13595, 'हॅम्बर्गर': 13596, 'हॅम्लेट': 13597, 'हॅलो': 13598, 'हॅलोवीन': 13599, 'हे': 13600, 'हेअरस्टाइल': 13601, 'हेअरस्टाईल': 13602, 'हेइझ': 13603, 'हेच': 13604, 'हेडफोन': 13605, 'हेडफोन्स': 13606, 'हेडलाईट': 13607, 'हेडलाईट्स': 13608, 'हेडसेट': 13609, 'हेड्फोन': 13610, 'हेतु': 13611, 'हेतूने': 13612, 'हेन्री': 13613, 'हेरोइन': 13614, 'हेलिकॉप्टर': 13615, 'हेलिकॉप्टरच्या': 13616, 'हेलिकॉप्टरमध्ये': 13617, 'हेलिकॉप्टरवर': 13618, 'हेल्मेट': 13619, 'हेल्मेटची': 13620, 'हेल्सिंकी': 13621, 'हेव्ही': 13622, 'हेसुद्धा': 13623, 'हेही': 13624, 'है': 13625, 'हैतीची': 13626, 'है।': 13627, 'हॉकी': 13628, 'हॉट': 13629, 'हॉटडॉग': 13630, 'हॉटेल': 13631, 'हॉटेलं': 13632, 'हॉटेलचं': 13633, 'हॉटेलचा': 13634, 'हॉटेलचे': 13635, 'हॉटेलच्या': 13636, 'हॉटेलमधलं': 13637, 'हॉटेलमध्ये': 13638, 'हॉटेलला': 13639, 'हॉटेलात': 13640, 'हॉर्न': 13641, 'हॉर्नला': 13642, 'हॉर्सरॅडिश': 13643, 'हॉल': 13644, 'हॉलंडपासून': 13645, 'हॉलच्या': 13646, 'हॉलमध्ये': 13647, 'हॉस्पिटल': 13648, 'हॉस्पिटलच्या': 13649, 'हॉस्पिटलमध्ये': 13650, 'हॉस्पिटलला': 13651, 'हो': 13652, 'होईन': 13653, 'होईपर्यंत': 13654, 'होईल': 13655, 'होईलच': 13656, 'होऊ': 13657, 'होऊन': 13658, 'होऊया': 13659, 'होकायंत्र': 13660, 'होक्काइदो': 13661, 'होक्काइदोचे': 13662, 'होक्काइदोमधले': 13663, 'होक्काइदोमधील': 13664, 'होक्काइदोमध्ये': 13665, 'होक्काइदोला': 13666, 'होच': 13667, 'होझ': 13668, 'होडफोन्स': 13669, 'होणार': 13670, 'होण्याअगोदर': 13671, 'होण्यात': 13672, 'होत': 13673, 'होतं': 13674, 'होतंत': 13675, 'होतंय': 13676, 'होतंस': 13677, 'होतच': 13678, 'होता': 13679, 'होताच': 13680, 'होतात': 13681, 'होतातच': 13682, 'होतायत': 13683, 'होतास': 13684, 'होती': 13685, 'होतीच': 13686, 'होतील': 13687, 'होतीस': 13688, 'होते': 13689, 'होतेय': 13690, 'होतो': 13691, 'होतोय': 13692, 'होत्या': 13693, 'होन्शुच्या': 13694, 'होन्शू': 13695, 'होम': 13696, 'होमवर्क': 13697, 'होमस्टेड': 13698, 'होय': 13699, 'होवून': 13700, 'होशील': 13701, 'ह्या': 13702, 'ह्यांना': 13703, 'ह्यांनी': 13704, 'ह्यांमधून': 13705, 'ह्याच': 13706, 'ह्याचं': 13707, 'ह्याचा': 13708, 'ह्याची': 13709, 'ह्यातलं': 13710, 'ह्यातून': 13711, 'ह्याने': 13712, 'ह्याबद्दल': 13713, 'ह्यामध्ये': 13714, 'ह्यामुळे': 13715, 'ह्याला': 13716, 'ह्यावर': 13717, 'ह्रदयात': 13718, '१': 13719, '१०': 13720, '१००': 13721, '१०००': 13722, '१००००': 13723, '१०००००': 13724, '१०३०': 13725, '१०३०ला': 13726, '१०५': 13727, '१०६६': 13728, '१०६६मध्ये': 13729, '११': 13730, '११०': 13731, '११२': 13732, '१२': 13733, '१२०': 13734, '१२३': 13735, '१२४५': 13736, '१२७१': 13737, '१३': 13738, '१३०': 13739, '१३३': 13740, '१४': 13741, '१४०००': 13742, '१४९७मध्ये': 13743, '१५': 13744, '१५१७': 13745, '१५५८': 13746, '१६': 13747, '१६०३': 13748, '१६०९': 13749, '१६१०': 13750, '१६३६': 13751, '१६४२': 13752, '१६८३': 13753, '१६८६': 13754, '१६८९मध्ये': 13755, '१७व्या': 13756, '१७००': 13757, '१७३२': 13758, '१७५०च्या': 13759, '१७५७': 13760, '१७६३': 13761, '१७६४': 13762, '१७७६': 13763, '१७७८': 13764, '१७८९': 13765, '१७९६': 13766, '१८': 13767, '१८व्या': 13768, '१८०': 13769, '१८०६': 13770, '१८०९': 13771, '१८१२चे': 13772, '१८३५': 13773, '१८४६': 13774, '१८४७': 13775, '१८५२मध्ये': 13776, '१८५७': 13777, '१८६०': 13778, '१८६२': 13779, '१८६५': 13780, '१८९१': 13781, '१९': 13782, '१९०३': 13783, '१९०५': 13784, '१९०८': 13785, '१९२८ची': 13786, '१९३३': 13787, '१९३६': 13788, '१९३७': 13789, '१९३९मध्ये': 13790, '१९४०ची': 13791, '१९४४': 13792, '१९४५': 13793, '१९४७': 13794, '१९४९': 13795, '१९५०': 13796, '१९५१': 13797, '१९५२': 13798, '१९५४': 13799, '१९५६': 13800, '१९५७': 13801, '१९५८': 13802, '१९६०': 13803, '१९६०च्या': 13804, '१९६०मध्ये': 13805, '१९६१': 13806, '१९६२': 13807, '१९६३': 13808, '१९६४': 13809, '१९६८': 13810, '१९६९': 13811, '१९६९मध्ये': 13812, '१९७०': 13813, '१९७१': 13814, '१९७४': 13815, '१९७५': 13816, '१९७९': 13817, '१९८४मध्ये': 13818, '१९८८': 13819, '१९८९मध्ये': 13820, '१९९०': 13821, '१९९०च्या': 13822, '१९९२': 13823, '१९९४': 13824, '१९९५': 13825, '१९९८मध्ये': 13826, '२': 13827, '२०': 13828, '२०ला': 13829, '२००': 13830, '२०००': 13831, '२००१': 13832, '२००३': 13833, '२००७': 13834, '२००८': 13835, '२०१०': 13836, '२०१०मध्ये': 13837, '२०१३': 13838, '२०१७': 13839, '२१': 13840, '२२': 13841, '२३': 13842, '२३०': 13843, '२३०ला': 13844, '२५': 13845, '२५३९': 13846, '२६': 13847, '२७०': 13848, '३': 13849, '३०': 13850, '३००': 13851, '३०००': 13852, '३१': 13853, '३३': 13854, '३३३': 13855, '३३७': 13856, '३५': 13857, '३५०००': 13858, '४': 13859, '४०': 13860, '४००': 13861, '४१': 13862, '४२': 13863, '४६': 13864, '५': 13865, '५चा': 13866, '५०': 13867, '५००': 13868, '५०००': 13869, '५००००': 13870, '५००००००': 13871, '५२ावे': 13872, '५४': 13873, '५७३': 13874, '५८': 13875, '६': 13876, '६३०': 13877, '६३०ला': 13878, '६३२': 13879, '६४०': 13880, '६४२': 13881, '६५': 13882, '७': 13883, '७०': 13884, '७००': 13885, '७००००': 13886, '७४५': 13887, '७५': 13888, '७९': 13889, '८': 13890, '८०': 13891, '८००': 13892, '८०००००': 13893, '८१०': 13894, '८३०': 13895, '८४०': 13896, '८६४००': 13897, '९': 13898, '९०': 13899, '९१': 13900, '९११': 13901, '९७': 13902, '९९': 13903}\n"
          ],
          "name": "stdout"
        }
      ]
    },
    {
      "cell_type": "code",
      "metadata": {
        "colab": {
          "base_uri": "https://localhost:8080/"
        },
        "id": "Aw_l2YA4YBk2",
        "outputId": "2c2d6016-06e0-44a6-a32c-8ac8e893c023"
      },
      "source": [
        "len(lines.eng)"
      ],
      "execution_count": 25,
      "outputs": [
        {
          "output_type": "execute_result",
          "data": {
            "text/plain": [
              "41028"
            ]
          },
          "metadata": {
            "tags": []
          },
          "execution_count": 25
        }
      ]
    },
    {
      "cell_type": "markdown",
      "metadata": {
        "id": "pLRKQSizBfD9"
      },
      "source": [
        "# treain test split"
      ]
    },
    {
      "cell_type": "code",
      "metadata": {
        "colab": {
          "base_uri": "https://localhost:8080/",
          "height": 343
        },
        "id": "8vE_zBBJCG_X",
        "outputId": "13d261d6-f012-4d8d-8b02-a7b4b73b861a"
      },
      "source": [
        "lines = shuffle(lines)\n",
        "lines.head(10)"
      ],
      "execution_count": 26,
      "outputs": [
        {
          "output_type": "execute_result",
          "data": {
            "text/html": [
              "<div>\n",
              "<style scoped>\n",
              "    .dataframe tbody tr th:only-of-type {\n",
              "        vertical-align: middle;\n",
              "    }\n",
              "\n",
              "    .dataframe tbody tr th {\n",
              "        vertical-align: top;\n",
              "    }\n",
              "\n",
              "    .dataframe thead th {\n",
              "        text-align: right;\n",
              "    }\n",
              "</style>\n",
              "<table border=\"1\" class=\"dataframe\">\n",
              "  <thead>\n",
              "    <tr style=\"text-align: right;\">\n",
              "      <th></th>\n",
              "      <th>eng</th>\n",
              "      <th>mar</th>\n",
              "    </tr>\n",
              "  </thead>\n",
              "  <tbody>\n",
              "    <tr>\n",
              "      <th>21389</th>\n",
              "      <td>he looks like his father</td>\n",
              "      <td>START_ तो आपल्या वडिलांसारखा दिसतो _END</td>\n",
              "    </tr>\n",
              "    <tr>\n",
              "      <th>19747</th>\n",
              "      <td>i know how to do my job</td>\n",
              "      <td>START_ माझं काम कसं करायचं हे मला माहीत आहे _END</td>\n",
              "    </tr>\n",
              "    <tr>\n",
              "      <th>35213</th>\n",
              "      <td>i just wanted to teach you a lesson</td>\n",
              "      <td>START_ मला फक्त तुम्हाला धडा शिकवायचा होता _END</td>\n",
              "    </tr>\n",
              "    <tr>\n",
              "      <th>13915</th>\n",
              "      <td>i will give you this</td>\n",
              "      <td>START_ मी तुला हे देईन _END</td>\n",
              "    </tr>\n",
              "    <tr>\n",
              "      <th>34545</th>\n",
              "      <td>ill never forget what you told me</td>\n",
              "      <td>START_ तुम्ही मला जे सांगितलंत ते मी कधीच विसर...</td>\n",
              "    </tr>\n",
              "    <tr>\n",
              "      <th>27091</th>\n",
              "      <td>nobody knows where he lives</td>\n",
              "      <td>START_ तो कुठे राहतो हे कोणालाच माहीत नाही _END</td>\n",
              "    </tr>\n",
              "    <tr>\n",
              "      <th>580</th>\n",
              "      <td>i see them</td>\n",
              "      <td>START_ मला ते दिसतात _END</td>\n",
              "    </tr>\n",
              "    <tr>\n",
              "      <th>19632</th>\n",
              "      <td>i do not need money now</td>\n",
              "      <td>START_ मला सध्या पैश्याची गरज नाही आहे _END</td>\n",
              "    </tr>\n",
              "    <tr>\n",
              "      <th>3098</th>\n",
              "      <td>i followed you</td>\n",
              "      <td>START_ मी तुमचा पाठलाग केला _END</td>\n",
              "    </tr>\n",
              "    <tr>\n",
              "      <th>32776</th>\n",
              "      <td>i just know his name thats all</td>\n",
              "      <td>START_ मला फक्त त्याचं नाव माहीत आहे तितकंच _END</td>\n",
              "    </tr>\n",
              "  </tbody>\n",
              "</table>\n",
              "</div>"
            ],
            "text/plain": [
              "                                       eng                                                mar\n",
              "21389             he looks like his father            START_ तो आपल्या वडिलांसारखा दिसतो _END\n",
              "19747              i know how to do my job   START_ माझं काम कसं करायचं हे मला माहीत आहे _END\n",
              "35213  i just wanted to teach you a lesson    START_ मला फक्त तुम्हाला धडा शिकवायचा होता _END\n",
              "13915                 i will give you this                        START_ मी तुला हे देईन _END\n",
              "34545    ill never forget what you told me  START_ तुम्ही मला जे सांगितलंत ते मी कधीच विसर...\n",
              "27091          nobody knows where he lives    START_ तो कुठे राहतो हे कोणालाच माहीत नाही _END\n",
              "580                             i see them                          START_ मला ते दिसतात _END\n",
              "19632              i do not need money now        START_ मला सध्या पैश्याची गरज नाही आहे _END\n",
              "3098                        i followed you                   START_ मी तुमचा पाठलाग केला _END\n",
              "32776       i just know his name thats all   START_ मला फक्त त्याचं नाव माहीत आहे तितकंच _END"
            ]
          },
          "metadata": {
            "tags": []
          },
          "execution_count": 26
        }
      ]
    },
    {
      "cell_type": "code",
      "metadata": {
        "colab": {
          "base_uri": "https://localhost:8080/"
        },
        "id": "1uR5_3R-CaGu",
        "outputId": "d95dc3ce-2ed8-44cf-99b2-eb42020587fe"
      },
      "source": [
        "# Train - Test Split\n",
        "X, y = lines.eng, lines.mar\n",
        "X_train, X_test, y_train, y_test = train_test_split(X, y, test_size = 0.1)\n",
        "X_train.shape, X_test.shape, y_train.shape, y_test.shape"
      ],
      "execution_count": 27,
      "outputs": [
        {
          "output_type": "execute_result",
          "data": {
            "text/plain": [
              "((36925,), (4103,), (36925,), (4103,))"
            ]
          },
          "metadata": {
            "tags": []
          },
          "execution_count": 27
        }
      ]
    },
    {
      "cell_type": "code",
      "metadata": {
        "colab": {
          "base_uri": "https://localhost:8080/"
        },
        "id": "c-Nt7w9GJxmD",
        "outputId": "599f3929-a8d7-423e-95b9-fa741b1dcaae"
      },
      "source": [
        "print(type(X_train))\n",
        "print(X_train.head)\n",
        "print(y_train.head)"
      ],
      "execution_count": 28,
      "outputs": [
        {
          "output_type": "stream",
          "text": [
            "<class 'pandas.core.series.Series'>\n",
            "<bound method NDFrame.head of 36606                some parts of this city are very ugly\n",
            "36556                mary was looking for you at that time\n",
            "31136                        shes used to getting up early\n",
            "11310                                  he knows everything\n",
            "9939                                    she goes to school\n",
            "                               ...                        \n",
            "40803    english is a universal language and is used al...\n",
            "24759                           did you go to church today\n",
            "5770                                      i almost drowned\n",
            "20603                              tom picked up the phone\n",
            "33423                    all sorts of people live in tokyo\n",
            "Name: eng, Length: 36925, dtype: object>\n",
            "<bound method NDFrame.head of 36606      START_ या शहराचे काही भाग अतिशय कुरूप आहेत _END\n",
            "36556         START_ मेरी त्यावेळी तुम्हाला शोधत होती _END\n",
            "31136                 START_ तिला लवकर उठायची सवय आहे _END\n",
            "11310            START_ त्याला सर्व गोष्टी माहीत आहेत _END\n",
            "9939                         START_ त्या शाळेला जातात _END\n",
            "                               ...                        \n",
            "40803    START_ इंग्रजी एक वैश्विक भाषा आहे व तिचा वापर...\n",
            "24759                    START_ तू आज चर्चला गेलीस का _END\n",
            "5770                          START_ मी जवळजवळ बुडलेच _END\n",
            "20603                          START_ टॉमने फोन उचलला _END\n",
            "33423    START_ टोक्योमध्ये सर्व प्रकारची लोकं राहतात _END\n",
            "Name: mar, Length: 36925, dtype: object>\n"
          ],
          "name": "stdout"
        }
      ]
    },
    {
      "cell_type": "markdown",
      "metadata": {
        "id": "TDSXhrcAEG2E"
      },
      "source": [
        "# Save the train and test dataframes for reproducing the results later, as they are shuffled."
      ]
    },
    {
      "cell_type": "code",
      "metadata": {
        "id": "SGdmj1kjEL1B"
      },
      "source": [
        "import pickle\n",
        "with open('X_train.pkl', 'wb') as file:\n",
        "  X_train.to_pickle('X_train.pkl')\n",
        "with open('X_test.pkl', 'wb') as file:\n",
        "  X_test.to_pickle('X_test.pkl')"
      ],
      "execution_count": 29,
      "outputs": []
    },
    {
      "cell_type": "code",
      "metadata": {
        "id": "pP7sb9yhTMBA"
      },
      "source": [
        "def generate_batch(X = X_train, y = y_train, batch_size = 128):\n",
        "    ''' Generate a batch of data '''\n",
        "    while True:\n",
        "        for j in range(0, len(X), batch_size):\n",
        "            encoder_input_data = np.zeros((batch_size, max_length_src),dtype='float64')\n",
        "            decoder_input_data = np.zeros((batch_size, max_length_tar),dtype='float64')\n",
        "            decoder_target_data = np.zeros((batch_size, max_length_tar, num_decoder_tokens),dtype='float64')\n",
        "            for i, (input_text, target_text) in enumerate(zip(X[j:j+batch_size], y[j:j+batch_size])):\n",
        "                for t, word in enumerate(input_text.split()):\n",
        "                    encoder_input_data[i, t] = input_token_index[word] # encoder input seq\n",
        "                for t, word in enumerate(target_text.split()):\n",
        "                    if t<len(target_text.split())-1:\n",
        "                        decoder_input_data[i, t] = target_token_index[word] # decoder input seq\n",
        "                    if t>0:\n",
        "                        # decoder target sequence (one hot encoded)\n",
        "                        # does not include the START_ token\n",
        "                        # Offset by one timestep\n",
        "                        decoder_target_data[i, t - 1, target_token_index[word]] = 1.\n",
        "            yield([encoder_input_data, decoder_input_data], decoder_target_data)\n",
        "\n",
        "# def generate_batch(X = X_train, y = y_train, batch_size = 128):\n",
        "#     ''' Generate a batch of data '''\n",
        "#     for j in range(0, 127, batch_size):\n",
        "#         encoder_input_data = np.zeros((batch_size, max_length_src),dtype='float32')\n",
        "#         decoder_input_data = np.zeros((batch_size, max_length_tar),dtype='float32')\n",
        "#         decoder_target_data = np.zeros((batch_size, max_length_tar, num_decoder_tokens),dtype='float32')\n",
        "#         for i, (input_text, target_text) in enumerate(zip(X[j:j+batch_size], y[j:j+batch_size])):\n",
        "#             for t, word in enumerate(input_text.split()):\n",
        "#                 encoder_input_data[i, t] = input_token_index[word] # encoder input seq\n",
        "#             for t, word in enumerate(target_text.split()):\n",
        "#                 if t<len(target_text.split())-1:\n",
        "#                     decoder_input_data[i, t] = target_token_index[word] # decoder input seq\n",
        "#                 if t>0:\n",
        "#                     # decoder target sequence (one hot encoded)\n",
        "#                     # does not include the START_ token\n",
        "#                     # Offset by one timestep\n",
        "#                     decoder_target_data[i, t - 1, target_token_index[word]] = 1.\n",
        "#         yield([encoder_input_data, decoder_input_data], decoder_target_data)\n",
        "\n",
        "# for [x,y],z in generate_batch():\n",
        "#   print([x,y])\n",
        "#   print(z)\n",
        "  "
      ],
      "execution_count": 30,
      "outputs": []
    },
    {
      "cell_type": "markdown",
      "metadata": {
        "id": "m5myOOHTdEMy"
      },
      "source": [
        "# encoder decoder model architecture\n"
      ]
    },
    {
      "cell_type": "code",
      "metadata": {
        "id": "CUgFqPa9dKsm"
      },
      "source": [
        "latent_dim = 50"
      ],
      "execution_count": 31,
      "outputs": []
    },
    {
      "cell_type": "code",
      "metadata": {
        "id": "C_nH8Xk0Ulx1",
        "colab": {
          "base_uri": "https://localhost:8080/"
        },
        "outputId": "8d3bf3c3-3b0e-4ecc-c7ca-3feb64fa2fa9"
      },
      "source": [
        "# Encoder\n",
        "encoder_inputs = Input(shape=(None,))\n",
        "enc_emb =  Embedding(num_encoder_tokens, latent_dim, mask_zero = True)(encoder_inputs)\n",
        "encoder_lstm = LSTM(latent_dim, return_state=True)\n",
        "encoder_outputs, state_h, state_c = encoder_lstm(enc_emb)\n",
        "\n",
        "# We discard `encoder_outputs` and only keep the states.\n",
        "encoder_states = [state_h, state_c]\n",
        "\n",
        "# Set up the decoder, using `encoder_states` as initial state.\n",
        "decoder_inputs = Input(shape=(None,))\n",
        "dec_emb_layer = Embedding(num_decoder_tokens, latent_dim, mask_zero = True)\n",
        "dec_emb = dec_emb_layer(decoder_inputs)\n",
        "\n",
        "# We set up our decoder to return full output sequences,\n",
        "# and to return internal states as well. We don't use the\n",
        "# return states in the training model, but we will use them in inference.\n",
        "decoder_lstm = LSTM(latent_dim, return_sequences=True, return_state=True)\n",
        "decoder_outputs, _, _ = decoder_lstm(dec_emb, initial_state=encoder_states)\n",
        "\n",
        "# Use a softmax to generate a probability distribution over the target vocabulary for each time step\n",
        "decoder_dense = Dense(num_decoder_tokens, activation='softmax')\n",
        "decoder_outputs = decoder_dense(decoder_outputs)\n",
        "\n",
        "# Define the model that will turn\n",
        "# `encoder_input_data` & `decoder_input_data` into `decoder_target_data`\n",
        "model = Model([encoder_inputs, decoder_inputs], decoder_outputs)\n",
        "\n",
        "# Compile the model\n",
        "model.compile(optimizer='adam', loss='categorical_crossentropy', metrics=['acc'])\n",
        "\n",
        "model.summary()"
      ],
      "execution_count": 32,
      "outputs": [
        {
          "output_type": "stream",
          "text": [
            "Model: \"model_1\"\n",
            "__________________________________________________________________________________________________\n",
            "Layer (type)                    Output Shape         Param #     Connected to                     \n",
            "==================================================================================================\n",
            "input_3 (InputLayer)            [(None, None)]       0                                            \n",
            "__________________________________________________________________________________________________\n",
            "input_4 (InputLayer)            [(None, None)]       0                                            \n",
            "__________________________________________________________________________________________________\n",
            "embedding_2 (Embedding)         (None, None, 50)     284450      input_3[0][0]                    \n",
            "__________________________________________________________________________________________________\n",
            "embedding_3 (Embedding)         (None, None, 50)     695250      input_4[0][0]                    \n",
            "__________________________________________________________________________________________________\n",
            "lstm_2 (LSTM)                   [(None, 50), (None,  20200       embedding_2[0][0]                \n",
            "__________________________________________________________________________________________________\n",
            "lstm_3 (LSTM)                   [(None, None, 50), ( 20200       embedding_3[0][0]                \n",
            "                                                                 lstm_2[0][1]                     \n",
            "                                                                 lstm_2[0][2]                     \n",
            "__________________________________________________________________________________________________\n",
            "dense_1 (Dense)                 (None, None, 13905)  709155      lstm_3[0][0]                     \n",
            "==================================================================================================\n",
            "Total params: 1,729,255\n",
            "Trainable params: 1,729,255\n",
            "Non-trainable params: 0\n",
            "__________________________________________________________________________________________________\n"
          ],
          "name": "stdout"
        }
      ]
    },
    {
      "cell_type": "code",
      "metadata": {
        "id": "KVASlPe0dVdn"
      },
      "source": [
        "# from IPython.display import Image\n",
        "# Image(retina=True, filename='train_model.png')"
      ],
      "execution_count": 33,
      "outputs": []
    },
    {
      "cell_type": "code",
      "metadata": {
        "id": "cfJIBoDflJfL"
      },
      "source": [
        "train_samples = len(X_train)\n",
        "val_samples = len(X_test)\n",
        "batch_size = 128\n",
        "epochs = 50"
      ],
      "execution_count": 34,
      "outputs": []
    },
    {
      "cell_type": "code",
      "metadata": {
        "colab": {
          "base_uri": "https://localhost:8080/"
        },
        "id": "2ZM6P6U2lLbk",
        "outputId": "882c8a92-b709-48c1-e7c2-b2cc94bee81a"
      },
      "source": [
        "model.fit(generate_batch(),\n",
        "                    steps_per_epoch = train_samples//batch_size,\n",
        "                    epochs=epochs,\n",
        "                    validation_data = generate_batch(X_test, y_test, batch_size = batch_size),\n",
        "                    validation_steps = val_samples//batch_size)"
      ],
      "execution_count": 38,
      "outputs": [
        {
          "output_type": "stream",
          "text": [
            "Epoch 1/50\n",
            "288/288 [==============================] - 130s 451ms/step - loss: 0.8731 - acc: 0.2006 - val_loss: 0.8618 - val_acc: 0.2037\n",
            "Epoch 2/50\n",
            "288/288 [==============================] - 122s 421ms/step - loss: 0.8306 - acc: 0.2192 - val_loss: 0.8331 - val_acc: 0.2311\n",
            "Epoch 3/50\n",
            "288/288 [==============================] - 120s 417ms/step - loss: 0.8013 - acc: 0.2406 - val_loss: 0.8108 - val_acc: 0.2470\n",
            "Epoch 4/50\n",
            "288/288 [==============================] - 120s 416ms/step - loss: 0.7714 - acc: 0.2612 - val_loss: 0.7843 - val_acc: 0.2617\n",
            "Epoch 5/50\n",
            "288/288 [==============================] - 120s 417ms/step - loss: 0.7406 - acc: 0.2763 - val_loss: 0.7604 - val_acc: 0.2771\n",
            "Epoch 6/50\n",
            "288/288 [==============================] - 120s 417ms/step - loss: 0.7114 - acc: 0.2917 - val_loss: 0.7382 - val_acc: 0.2936\n",
            "Epoch 7/50\n",
            "288/288 [==============================] - 120s 416ms/step - loss: 0.6842 - acc: 0.3094 - val_loss: 0.7180 - val_acc: 0.3109\n",
            "Epoch 8/50\n",
            "288/288 [==============================] - 120s 418ms/step - loss: 0.6580 - acc: 0.3279 - val_loss: 0.6977 - val_acc: 0.3273\n",
            "Epoch 9/50\n",
            "288/288 [==============================] - 119s 413ms/step - loss: 0.6327 - acc: 0.3457 - val_loss: 0.6789 - val_acc: 0.3407\n",
            "Epoch 10/50\n",
            "288/288 [==============================] - 119s 412ms/step - loss: 0.6080 - acc: 0.3621 - val_loss: 0.6601 - val_acc: 0.3525\n",
            "Epoch 11/50\n",
            "288/288 [==============================] - 119s 413ms/step - loss: 0.5842 - acc: 0.3769 - val_loss: 0.6435 - val_acc: 0.3638\n",
            "Epoch 12/50\n",
            "288/288 [==============================] - 119s 414ms/step - loss: 0.5612 - acc: 0.3918 - val_loss: 0.6279 - val_acc: 0.3754\n",
            "Epoch 13/50\n",
            "288/288 [==============================] - 119s 415ms/step - loss: 0.5390 - acc: 0.4066 - val_loss: 0.6140 - val_acc: 0.3837\n",
            "Epoch 14/50\n",
            "288/288 [==============================] - 119s 415ms/step - loss: 0.5178 - acc: 0.4202 - val_loss: 0.6004 - val_acc: 0.3931\n",
            "Epoch 15/50\n",
            "288/288 [==============================] - 119s 415ms/step - loss: 0.4976 - acc: 0.4344 - val_loss: 0.5873 - val_acc: 0.4034\n",
            "Epoch 16/50\n",
            "288/288 [==============================] - 119s 413ms/step - loss: 0.4777 - acc: 0.4489 - val_loss: 0.5755 - val_acc: 0.4121\n",
            "Epoch 17/50\n",
            "288/288 [==============================] - 119s 412ms/step - loss: 0.4589 - acc: 0.4622 - val_loss: 0.5645 - val_acc: 0.4199\n",
            "Epoch 18/50\n",
            "288/288 [==============================] - 119s 413ms/step - loss: 0.4408 - acc: 0.4768 - val_loss: 0.5540 - val_acc: 0.4284\n",
            "Epoch 19/50\n",
            "288/288 [==============================] - 118s 411ms/step - loss: 0.4232 - acc: 0.4905 - val_loss: 0.5438 - val_acc: 0.4361\n",
            "Epoch 20/50\n",
            "288/288 [==============================] - 118s 410ms/step - loss: 0.4065 - acc: 0.5043 - val_loss: 0.5347 - val_acc: 0.4426\n",
            "Epoch 21/50\n",
            "288/288 [==============================] - 118s 411ms/step - loss: 0.3907 - acc: 0.5173 - val_loss: 0.5260 - val_acc: 0.4496\n",
            "Epoch 22/50\n",
            "288/288 [==============================] - 120s 415ms/step - loss: 0.3760 - acc: 0.5301 - val_loss: 0.5186 - val_acc: 0.4569\n",
            "Epoch 23/50\n",
            "288/288 [==============================] - 120s 418ms/step - loss: 0.3616 - acc: 0.5424 - val_loss: 0.5119 - val_acc: 0.4622\n",
            "Epoch 24/50\n",
            "288/288 [==============================] - 120s 416ms/step - loss: 0.3480 - acc: 0.5545 - val_loss: 0.5062 - val_acc: 0.4667\n",
            "Epoch 25/50\n",
            "288/288 [==============================] - 120s 419ms/step - loss: 0.3351 - acc: 0.5667 - val_loss: 0.4993 - val_acc: 0.4730\n",
            "Epoch 26/50\n",
            "288/288 [==============================] - 122s 424ms/step - loss: 0.3230 - acc: 0.5782 - val_loss: 0.4942 - val_acc: 0.4778\n",
            "Epoch 27/50\n",
            "288/288 [==============================] - 121s 421ms/step - loss: 0.3112 - acc: 0.5885 - val_loss: 0.4901 - val_acc: 0.4819\n",
            "Epoch 28/50\n",
            "288/288 [==============================] - 120s 418ms/step - loss: 0.3001 - acc: 0.5994 - val_loss: 0.4850 - val_acc: 0.4870\n",
            "Epoch 29/50\n",
            "288/288 [==============================] - 121s 419ms/step - loss: 0.2897 - acc: 0.6099 - val_loss: 0.4811 - val_acc: 0.4910\n",
            "Epoch 30/50\n",
            "288/288 [==============================] - 120s 416ms/step - loss: 0.2795 - acc: 0.6202 - val_loss: 0.4777 - val_acc: 0.4953\n",
            "Epoch 31/50\n",
            "288/288 [==============================] - 121s 420ms/step - loss: 0.2701 - acc: 0.6301 - val_loss: 0.4749 - val_acc: 0.4994\n",
            "Epoch 32/50\n",
            "288/288 [==============================] - 121s 420ms/step - loss: 0.2612 - acc: 0.6394 - val_loss: 0.4725 - val_acc: 0.5023\n",
            "Epoch 33/50\n",
            "288/288 [==============================] - 120s 418ms/step - loss: 0.2527 - acc: 0.6486 - val_loss: 0.4693 - val_acc: 0.5065\n",
            "Epoch 34/50\n",
            "288/288 [==============================] - 121s 420ms/step - loss: 0.2445 - acc: 0.6582 - val_loss: 0.4675 - val_acc: 0.5097\n",
            "Epoch 35/50\n",
            "288/288 [==============================] - 121s 419ms/step - loss: 0.2366 - acc: 0.6665 - val_loss: 0.4651 - val_acc: 0.5114\n",
            "Epoch 36/50\n",
            "288/288 [==============================] - 119s 414ms/step - loss: 0.2291 - acc: 0.6756 - val_loss: 0.4632 - val_acc: 0.5134\n",
            "Epoch 37/50\n",
            "288/288 [==============================] - 119s 413ms/step - loss: 0.2220 - acc: 0.6837 - val_loss: 0.4612 - val_acc: 0.5171\n",
            "Epoch 38/50\n",
            "288/288 [==============================] - 121s 422ms/step - loss: 0.2157 - acc: 0.6912 - val_loss: 0.4603 - val_acc: 0.5197\n",
            "Epoch 39/50\n",
            "288/288 [==============================] - 121s 420ms/step - loss: 0.2092 - acc: 0.6994 - val_loss: 0.4585 - val_acc: 0.5216\n",
            "Epoch 40/50\n",
            "288/288 [==============================] - 120s 417ms/step - loss: 0.2030 - acc: 0.7071 - val_loss: 0.4569 - val_acc: 0.5250\n",
            "Epoch 41/50\n",
            "288/288 [==============================] - 121s 422ms/step - loss: 0.1974 - acc: 0.7138 - val_loss: 0.4568 - val_acc: 0.5267\n",
            "Epoch 42/50\n",
            "288/288 [==============================] - 120s 416ms/step - loss: 0.1916 - acc: 0.7206 - val_loss: 0.4557 - val_acc: 0.5280\n",
            "Epoch 43/50\n",
            "288/288 [==============================] - 120s 418ms/step - loss: 0.1864 - acc: 0.7274 - val_loss: 0.4546 - val_acc: 0.5295\n",
            "Epoch 44/50\n",
            "288/288 [==============================] - 121s 419ms/step - loss: 0.1814 - acc: 0.7329 - val_loss: 0.4543 - val_acc: 0.5325\n",
            "Epoch 45/50\n",
            "288/288 [==============================] - 121s 421ms/step - loss: 0.1768 - acc: 0.7390 - val_loss: 0.4550 - val_acc: 0.5331\n",
            "Epoch 46/50\n",
            "288/288 [==============================] - 122s 423ms/step - loss: 0.1722 - acc: 0.7448 - val_loss: 0.4534 - val_acc: 0.5376\n",
            "Epoch 47/50\n",
            "288/288 [==============================] - 122s 422ms/step - loss: 0.1679 - acc: 0.7502 - val_loss: 0.4530 - val_acc: 0.5387\n",
            "Epoch 48/50\n",
            "288/288 [==============================] - 123s 426ms/step - loss: 0.1639 - acc: 0.7549 - val_loss: 0.4528 - val_acc: 0.5404\n",
            "Epoch 49/50\n",
            "288/288 [==============================] - 123s 426ms/step - loss: 0.1600 - acc: 0.7593 - val_loss: 0.4531 - val_acc: 0.5418\n",
            "Epoch 50/50\n",
            "288/288 [==============================] - 121s 421ms/step - loss: 0.1564 - acc: 0.7634 - val_loss: 0.4534 - val_acc: 0.5421\n"
          ],
          "name": "stdout"
        },
        {
          "output_type": "execute_result",
          "data": {
            "text/plain": [
              "<tensorflow.python.keras.callbacks.History at 0x7f3d5a662390>"
            ]
          },
          "metadata": {
            "tags": []
          },
          "execution_count": 38
        }
      ]
    },
    {
      "cell_type": "code",
      "metadata": {
        "colab": {
          "base_uri": "https://localhost:8080/"
        },
        "id": "xte2AKyB5ouw",
        "outputId": "b580321b-e390-496e-8ccd-ec435f5f3adb"
      },
      "source": [
        "history = 0x7f3d5a662390\n",
        "print(history)"
      ],
      "execution_count": 135,
      "outputs": [
        {
          "output_type": "stream",
          "text": [
            "139901486375824\n"
          ],
          "name": "stdout"
        }
      ]
    },
    {
      "cell_type": "code",
      "metadata": {
        "colab": {
          "base_uri": "https://localhost:8080/",
          "height": 262
        },
        "id": "Ln7knhed6UTn",
        "outputId": "a81046c1-0fc0-4a8c-f216-db257380d6a9"
      },
      "source": [
        "plt.figure(figsize=(6, 4))\n",
        "plt.plot(history.history['accuracy'], 'r', label='Accuracy of training data')\n",
        "plt.plot(history.history['val_accuracy'], 'b', label='Accuracy of validation data')\n",
        "plt.plot(history.history['loss'], 'r--', label='Loss of training data')\n",
        "plt.plot(history.history['val_loss'], 'b--', label='Loss of validation data')\n",
        "plt.title('Model Accuracy and Loss')\n",
        "plt.ylabel('Accuracy and Loss')\n",
        "plt.xlabel('Training Epoch')\n",
        "plt.ylim(0)\n",
        "plt.legend()\n",
        "plt.show()"
      ],
      "execution_count": 132,
      "outputs": [
        {
          "output_type": "error",
          "ename": "TypeError",
          "evalue": "ignored",
          "traceback": [
            "\u001b[0;31m---------------------------------------------------------------------------\u001b[0m",
            "\u001b[0;31mTypeError\u001b[0m                                 Traceback (most recent call last)",
            "\u001b[0;32m<ipython-input-132-c8eab8597581>\u001b[0m in \u001b[0;36m<module>\u001b[0;34m()\u001b[0m\n\u001b[1;32m      1\u001b[0m \u001b[0mplt\u001b[0m\u001b[0;34m.\u001b[0m\u001b[0mfigure\u001b[0m\u001b[0;34m(\u001b[0m\u001b[0mfigsize\u001b[0m\u001b[0;34m=\u001b[0m\u001b[0;34m(\u001b[0m\u001b[0;36m6\u001b[0m\u001b[0;34m,\u001b[0m \u001b[0;36m4\u001b[0m\u001b[0;34m)\u001b[0m\u001b[0;34m)\u001b[0m\u001b[0;34m\u001b[0m\u001b[0;34m\u001b[0m\u001b[0m\n\u001b[0;32m----> 2\u001b[0;31m \u001b[0mplt\u001b[0m\u001b[0;34m.\u001b[0m\u001b[0mplot\u001b[0m\u001b[0;34m(\u001b[0m\u001b[0mhistory\u001b[0m\u001b[0;34m.\u001b[0m\u001b[0mhistory\u001b[0m\u001b[0;34m[\u001b[0m\u001b[0;34m'accuracy'\u001b[0m\u001b[0;34m]\u001b[0m\u001b[0;34m,\u001b[0m \u001b[0;34m'r'\u001b[0m\u001b[0;34m,\u001b[0m \u001b[0mlabel\u001b[0m\u001b[0;34m=\u001b[0m\u001b[0;34m'Accuracy of training data'\u001b[0m\u001b[0;34m)\u001b[0m\u001b[0;34m\u001b[0m\u001b[0;34m\u001b[0m\u001b[0m\n\u001b[0m\u001b[1;32m      3\u001b[0m \u001b[0mplt\u001b[0m\u001b[0;34m.\u001b[0m\u001b[0mplot\u001b[0m\u001b[0;34m(\u001b[0m\u001b[0mhistory\u001b[0m\u001b[0;34m.\u001b[0m\u001b[0mhistory\u001b[0m\u001b[0;34m[\u001b[0m\u001b[0;34m'val_accuracy'\u001b[0m\u001b[0;34m]\u001b[0m\u001b[0;34m,\u001b[0m \u001b[0;34m'b'\u001b[0m\u001b[0;34m,\u001b[0m \u001b[0mlabel\u001b[0m\u001b[0;34m=\u001b[0m\u001b[0;34m'Accuracy of validation data'\u001b[0m\u001b[0;34m)\u001b[0m\u001b[0;34m\u001b[0m\u001b[0;34m\u001b[0m\u001b[0m\n\u001b[1;32m      4\u001b[0m \u001b[0mplt\u001b[0m\u001b[0;34m.\u001b[0m\u001b[0mplot\u001b[0m\u001b[0;34m(\u001b[0m\u001b[0mhistory\u001b[0m\u001b[0;34m.\u001b[0m\u001b[0mhistory\u001b[0m\u001b[0;34m[\u001b[0m\u001b[0;34m'loss'\u001b[0m\u001b[0;34m]\u001b[0m\u001b[0;34m,\u001b[0m \u001b[0;34m'r--'\u001b[0m\u001b[0;34m,\u001b[0m \u001b[0mlabel\u001b[0m\u001b[0;34m=\u001b[0m\u001b[0;34m'Loss of training data'\u001b[0m\u001b[0;34m)\u001b[0m\u001b[0;34m\u001b[0m\u001b[0;34m\u001b[0m\u001b[0m\n\u001b[1;32m      5\u001b[0m \u001b[0mplt\u001b[0m\u001b[0;34m.\u001b[0m\u001b[0mplot\u001b[0m\u001b[0;34m(\u001b[0m\u001b[0mhistory\u001b[0m\u001b[0;34m.\u001b[0m\u001b[0mhistory\u001b[0m\u001b[0;34m[\u001b[0m\u001b[0;34m'val_loss'\u001b[0m\u001b[0;34m]\u001b[0m\u001b[0;34m,\u001b[0m \u001b[0;34m'b--'\u001b[0m\u001b[0;34m,\u001b[0m \u001b[0mlabel\u001b[0m\u001b[0;34m=\u001b[0m\u001b[0;34m'Loss of validation data'\u001b[0m\u001b[0;34m)\u001b[0m\u001b[0;34m\u001b[0m\u001b[0;34m\u001b[0m\u001b[0m\n",
            "\u001b[0;31mTypeError\u001b[0m: 'History' object is not subscriptable"
          ]
        },
        {
          "output_type": "display_data",
          "data": {
            "text/plain": [
              "<Figure size 432x288 with 0 Axes>"
            ]
          },
          "metadata": {
            "tags": []
          }
        }
      ]
    },
    {
      "cell_type": "markdown",
      "metadata": {
        "id": "fT2bRrb550EN"
      },
      "source": [
        "# save weights\n"
      ]
    },
    {
      "cell_type": "markdown",
      "metadata": {
        "id": "D7EsnxlNqsHf"
      },
      "source": [
        ""
      ]
    },
    {
      "cell_type": "code",
      "metadata": {
        "id": "PoWJ_dkf549Q"
      },
      "source": [
        "model.save_weights('nmt_weights.h5')\n"
      ],
      "execution_count": 40,
      "outputs": []
    },
    {
      "cell_type": "markdown",
      "metadata": {
        "id": "9XcYSE_U6C0Z"
      },
      "source": [
        "# load model from weights"
      ]
    },
    {
      "cell_type": "code",
      "metadata": {
        "id": "8Fq_TPKb6L46"
      },
      "source": [
        "# model.load_weights('nmt_weights.h5')\n"
      ],
      "execution_count": null,
      "outputs": []
    },
    {
      "cell_type": "markdown",
      "metadata": {
        "id": "nAf1YkkR6ZvP"
      },
      "source": [
        "# inference setup "
      ]
    },
    {
      "cell_type": "code",
      "metadata": {
        "id": "Qln2x3lU6g5f"
      },
      "source": [
        "# Encode the input sequence to get the \"thought vectors\"\n",
        "encoder_model = Model(encoder_inputs, encoder_states)\n",
        "\n",
        "# Decoder setup\n",
        "# Below tensors will hold the states of the previous time step\n",
        "decoder_state_input_h = Input(shape=(latent_dim,))\n",
        "decoder_state_input_c = Input(shape=(latent_dim,))\n",
        "decoder_states_inputs = [decoder_state_input_h, decoder_state_input_c]\n",
        "\n",
        "dec_emb2= dec_emb_layer(decoder_inputs) # Get the embeddings of the decoder sequence\n",
        "\n",
        "# To predict the next word in the sequence, set the initial states to the states from the previous time step\n",
        "decoder_outputs2, state_h2, state_c2 = decoder_lstm(dec_emb2, initial_state=decoder_states_inputs)\n",
        "decoder_states2 = [state_h2, state_c2]\n",
        "decoder_outputs2 = decoder_dense(decoder_outputs2) # A dense softmax layer to generate prob dist. over the target vocabulary\n",
        "\n",
        "# Final decoder model\n",
        "decoder_model = Model(\n",
        "    [decoder_inputs] + decoder_states_inputs,\n",
        "    [decoder_outputs2] + decoder_states2)"
      ],
      "execution_count": 41,
      "outputs": []
    },
    {
      "cell_type": "code",
      "metadata": {
        "id": "HePpGhf06sRV"
      },
      "source": [
        "# Image(retina=True, filename='encoder_model.png')"
      ],
      "execution_count": 43,
      "outputs": []
    },
    {
      "cell_type": "code",
      "metadata": {
        "id": "PQVEeZ5R6zFO"
      },
      "source": [
        "# Image(retina=True, filename='decoder_model.png')\n"
      ],
      "execution_count": 45,
      "outputs": []
    },
    {
      "cell_type": "code",
      "metadata": {
        "id": "Jx2gcARM64Zc"
      },
      "source": [
        ""
      ],
      "execution_count": null,
      "outputs": []
    },
    {
      "cell_type": "markdown",
      "metadata": {
        "id": "ifDhjhuz66_n"
      },
      "source": [
        "# Decoder sample sequences"
      ]
    },
    {
      "cell_type": "code",
      "metadata": {
        "id": "6gkY87So7CRk"
      },
      "source": [
        "def decode_sequence(input_seq):\n",
        "    # Encode the input as state vectors.\n",
        "    states_value = encoder_model.predict(input_seq)\n",
        "    # Generate empty target sequence of length 1.\n",
        "    target_seq = np.zeros((1,1))\n",
        "    # Populate the first character of target sequence with the start character.\n",
        "    target_seq[0, 0] = target_token_index['START_']\n",
        "\n",
        "    # Sampling loop for a batch of sequences\n",
        "    # (to simplify, here we assume a batch of size 1).\n",
        "    stop_condition = False\n",
        "    decoded_sentence = ''\n",
        "    while not stop_condition:\n",
        "        output_tokens, h, c = decoder_model.predict([target_seq] + states_value)\n",
        "\n",
        "        # Sample a token\n",
        "        sampled_token_index = np.argmax(output_tokens[0, -1, :])\n",
        "        sampled_char = reverse_target_char_index[sampled_token_index]\n",
        "        decoded_sentence += ' '+sampled_char\n",
        "\n",
        "        # Exit condition: either hit max length\n",
        "        # or find stop character.\n",
        "        if (sampled_char == '_END' or\n",
        "           len(decoded_sentence) > 50):\n",
        "            stop_condition = True\n",
        "\n",
        "        # Update the target sequence (of length 1).\n",
        "        target_seq = np.zeros((1,1))\n",
        "        target_seq[0, 0] = sampled_token_index\n",
        "\n",
        "        # Update states\n",
        "        states_value = [h, c]\n",
        "\n",
        "    return decoded_sentence"
      ],
      "execution_count": 46,
      "outputs": []
    },
    {
      "cell_type": "code",
      "metadata": {
        "id": "T1i33PQU7Mt8"
      },
      "source": [
        ""
      ],
      "execution_count": null,
      "outputs": []
    },
    {
      "cell_type": "markdown",
      "metadata": {
        "id": "UI9PnImd7MJs"
      },
      "source": [
        "\n",
        "\n",
        "```\n",
        "# This is formatted as code\n",
        "```\n",
        "\n",
        "# evaluation on train dataset"
      ]
    },
    {
      "cell_type": "code",
      "metadata": {
        "id": "BkHBUr347JKH"
      },
      "source": [
        "train_gen = generate_batch(X_train, y_train, batch_size = 1)\n",
        "k=-1"
      ],
      "execution_count": 47,
      "outputs": []
    },
    {
      "cell_type": "code",
      "metadata": {
        "colab": {
          "base_uri": "https://localhost:8080/"
        },
        "id": "EvDModCn7Z_d",
        "outputId": "0cafe504-48e2-4d03-db8d-f20ed17e91c3"
      },
      "source": [
        "k+=1\n",
        "(input_seq, actual_output), _ = next(train_gen)\n",
        "decoded_sentence = decode_sequence(input_seq)\n",
        "print('Input English sentence:', X_train[k:k+1].values[0])\n",
        "print('Actual Marathi Translation:', y_train[k:k+1].values[0][6:-4])\n",
        "print('Predicted Marathi Translation:', decoded_sentence[:-4])"
      ],
      "execution_count": 48,
      "outputs": [
        {
          "output_type": "stream",
          "text": [
            "Input English sentence: some parts of this city are very ugly\n",
            "Actual Marathi Translation:  या शहराचे काही भाग अतिशय कुरूप आहेत \n",
            "Predicted Marathi Translation:  या शहराचे काही मोठी खोली आहे \n"
          ],
          "name": "stdout"
        }
      ]
    },
    {
      "cell_type": "code",
      "metadata": {
        "colab": {
          "base_uri": "https://localhost:8080/"
        },
        "id": "jwKPdNHX7hRY",
        "outputId": "a7323565-39be-4f0c-eec8-dbd776a55082"
      },
      "source": [
        "k+=1\n",
        "(input_seq, actual_output), _ = next(train_gen)\n",
        "decoded_sentence = decode_sequence(input_seq)\n",
        "print('Input English sentence:', X_train[k:k+1].values[0])\n",
        "print('Actual Marathi Translation:', y_train[k:k+1].values[0][6:-4])\n",
        "print('Predicted Marathi Translation:', decoded_sentence[:-4])"
      ],
      "execution_count": 49,
      "outputs": [
        {
          "output_type": "stream",
          "text": [
            "Input English sentence: mary was looking for you at that time\n",
            "Actual Marathi Translation:  मेरी त्यावेळी तुम्हाला शोधत होती \n",
            "Predicted Marathi Translation:  त्यावेळी मेरी स्वतः बघत होतो \n"
          ],
          "name": "stdout"
        }
      ]
    },
    {
      "cell_type": "code",
      "metadata": {
        "colab": {
          "base_uri": "https://localhost:8080/"
        },
        "id": "0yxF7dLf7qPS",
        "outputId": "fbfddbf0-160e-4caf-c9bc-0569bf1cd4f5"
      },
      "source": [
        "k+=1\n",
        "(input_seq, actual_output), _ = next(train_gen)\n",
        "decoded_sentence = decode_sequence(input_seq)\n",
        "print('Input English sentence:', X_train[k:k+1].values[0])\n",
        "print('Actual Marathi Translation:', y_train[k:k+1].values[0][6:-4])\n",
        "print('Predicted Marathi Translation:', decoded_sentence[:-4])"
      ],
      "execution_count": 50,
      "outputs": [
        {
          "output_type": "stream",
          "text": [
            "Input English sentence: shes used to getting up early\n",
            "Actual Marathi Translation:  तिला लवकर उठायची सवय आहे \n",
            "Predicted Marathi Translation:  ते माझ्या धुवायचे आहेत \n"
          ],
          "name": "stdout"
        }
      ]
    },
    {
      "cell_type": "code",
      "metadata": {
        "colab": {
          "base_uri": "https://localhost:8080/"
        },
        "id": "lYuj058K7ti6",
        "outputId": "8b15c57f-1f21-44a6-dc1f-2e2444fc5a72"
      },
      "source": [
        "k+=1\n",
        "(input_seq, actual_output), _ = next(train_gen)\n",
        "decoded_sentence = decode_sequence(input_seq)\n",
        "print('Input English sentence:', X_train[k:k+1].values[0])\n",
        "print('Actual Marathi Translation:', y_train[k:k+1].values[0][6:-4])\n",
        "print('Predicted Marathi Translation:', decoded_sentence[:-4])"
      ],
      "execution_count": 51,
      "outputs": [
        {
          "output_type": "stream",
          "text": [
            "Input English sentence: he knows everything\n",
            "Actual Marathi Translation:  त्याला सर्व गोष्टी माहीत आहेत \n",
            "Predicted Marathi Translation:  त्यांना सर्वकाही माहीत आहे \n"
          ],
          "name": "stdout"
        }
      ]
    },
    {
      "cell_type": "code",
      "metadata": {
        "colab": {
          "base_uri": "https://localhost:8080/"
        },
        "id": "Htbnxej97vKh",
        "outputId": "34686483-6157-4d01-86c0-068155b7bbc8"
      },
      "source": [
        "k+=1\n",
        "(input_seq, actual_output), _ = next(train_gen)\n",
        "decoded_sentence = decode_sequence(input_seq)\n",
        "print('Input English sentence:', X_train[k:k+1].values[0])\n",
        "print('Actual Marathi Translation:', y_train[k:k+1].values[0][6:-4])\n",
        "print('Predicted Marathi Translation:', decoded_sentence[:-4])"
      ],
      "execution_count": 52,
      "outputs": [
        {
          "output_type": "stream",
          "text": [
            "Input English sentence: she goes to school\n",
            "Actual Marathi Translation:  त्या शाळेला जातात \n",
            "Predicted Marathi Translation:  त्या शाळेत जातात \n"
          ],
          "name": "stdout"
        }
      ]
    },
    {
      "cell_type": "code",
      "metadata": {
        "colab": {
          "base_uri": "https://localhost:8080/"
        },
        "id": "ExmRp5aj7wmE",
        "outputId": "9cac75a3-69dd-4442-a070-73885a1a4d29"
      },
      "source": [
        "k+=1\n",
        "(input_seq, actual_output), _ = next(train_gen)\n",
        "decoded_sentence = decode_sequence(input_seq)\n",
        "print('Input English sentence:', X_train[k:k+1].values[0])\n",
        "print('Actual Marathi Translation:', y_train[k:k+1].values[0][6:-4])\n",
        "print('Predicted Marathi Translation:', decoded_sentence[:-4])"
      ],
      "execution_count": 53,
      "outputs": [
        {
          "output_type": "stream",
          "text": [
            "Input English sentence: may i ask a question\n",
            "Actual Marathi Translation:  मी एक प्रश्न विचारू शकते का \n",
            "Predicted Marathi Translation:  मी एक प्रश्न विचारू का \n"
          ],
          "name": "stdout"
        }
      ]
    },
    {
      "cell_type": "code",
      "metadata": {
        "colab": {
          "base_uri": "https://localhost:8080/"
        },
        "id": "97vjjY8_70C-",
        "outputId": "5ea171a2-c3b6-4e06-da3d-fa0e6814a61a"
      },
      "source": [
        "k+=1\n",
        "(input_seq, actual_output), _ = next(train_gen)\n",
        "decoded_sentence = decode_sequence(input_seq)\n",
        "print('Input English sentence:', X_train[k:k+1].values[0])\n",
        "print('Actual Marathi Translation:', y_train[k:k+1].values[0][6:-4])\n",
        "print('Predicted Marathi Translation:', decoded_sentence[:-4])"
      ],
      "execution_count": 54,
      "outputs": [
        {
          "output_type": "stream",
          "text": [
            "Input English sentence: whos that\n",
            "Actual Marathi Translation:  ते कोण \n",
            "Predicted Marathi Translation:  ते कोण आहे \n"
          ],
          "name": "stdout"
        }
      ]
    },
    {
      "cell_type": "code",
      "metadata": {
        "colab": {
          "base_uri": "https://localhost:8080/"
        },
        "id": "SdO8ywh_73Ax",
        "outputId": "112473ca-2831-4b5d-ea25-f67db00281de"
      },
      "source": [
        "k+=1\n",
        "(input_seq, actual_output), _ = next(train_gen)\n",
        "decoded_sentence = decode_sequence(input_seq)\n",
        "print('Input English sentence:', X_train[k:k+1].values[0])\n",
        "print('Actual Marathi Translation:', y_train[k:k+1].values[0][6:-4])\n",
        "print('Predicted Marathi Translation:', decoded_sentence[:-4])"
      ],
      "execution_count": 56,
      "outputs": [
        {
          "output_type": "stream",
          "text": [
            "Input English sentence: that wall is cold\n",
            "Actual Marathi Translation:  ती भिंत थंड आहे \n",
            "Predicted Marathi Translation:  ती भिंत थंड आहे \n"
          ],
          "name": "stdout"
        }
      ]
    },
    {
      "cell_type": "code",
      "metadata": {
        "colab": {
          "base_uri": "https://localhost:8080/"
        },
        "id": "nuXi5unD76Sk",
        "outputId": "86cb4f0a-66e5-4bff-fce2-ff9c2b0dc4d8"
      },
      "source": [
        "k+=1\n",
        "(input_seq, actual_output), _ = next(train_gen)\n",
        "decoded_sentence = decode_sequence(input_seq)\n",
        "print('Input English sentence:', X_train[k:k+1].values[0])\n",
        "print('Actual Marathi Translation:', y_train[k:k+1].values[0][6:-4])\n",
        "print('Predicted Marathi Translation:', decoded_sentence[:-4])"
      ],
      "execution_count": 57,
      "outputs": [
        {
          "output_type": "stream",
          "text": [
            "Input English sentence: the noise frightened the baby\n",
            "Actual Marathi Translation:  त्या आवाजाने बाळ घाबरलं \n",
            "Predicted Marathi Translation:  त्या आवाजाने बाळ घाबरलं \n"
          ],
          "name": "stdout"
        }
      ]
    },
    {
      "cell_type": "code",
      "metadata": {
        "colab": {
          "base_uri": "https://localhost:8080/"
        },
        "id": "kdFXKa_a78Mg",
        "outputId": "0f8ff6bb-a6f4-4d71-8c39-5d8c30066e9b"
      },
      "source": [
        "k+=1\n",
        "(input_seq, actual_output), _ = next(train_gen)\n",
        "decoded_sentence = decode_sequence(input_seq)\n",
        "print('Input English sentence:', X_train[k:k+1].values[0])\n",
        "print('Actual Marathi Translation:', y_train[k:k+1].values[0][6:-4])\n",
        "print('Predicted Marathi Translation:', decoded_sentence[:-4])"
      ],
      "execution_count": 58,
      "outputs": [
        {
          "output_type": "stream",
          "text": [
            "Input English sentence: im quite young\n",
            "Actual Marathi Translation:  मी बर्‍यापैकी तरुण आहे \n",
            "Predicted Marathi Translation:  मी अतिशय तरुण आहे \n"
          ],
          "name": "stdout"
        }
      ]
    },
    {
      "cell_type": "code",
      "metadata": {
        "colab": {
          "base_uri": "https://localhost:8080/"
        },
        "id": "ZfFKT9rV7-Aa",
        "outputId": "817bcc80-2aae-44f5-c0e3-31aacd391921"
      },
      "source": [
        "k+=1\n",
        "(input_seq, actual_output), _ = next(train_gen)\n",
        "decoded_sentence = decode_sequence(input_seq)\n",
        "print('Input English sentence:', X_train[k:k+1].values[0])\n",
        "print('Actual Marathi Translation:', y_train[k:k+1].values[0][6:-4])\n",
        "print('Predicted Marathi Translation:', decoded_sentence[:-4])"
      ],
      "execution_count": 59,
      "outputs": [
        {
          "output_type": "stream",
          "text": [
            "Input English sentence: all of a sudden large drops of rain began falling from the dark sky\n",
            "Actual Marathi Translation:  अचानक अदीप्त आकाशातून पावसाचे मोठमोठे थेंब पडू लागले \n",
            "Predicted Marathi Translation:  अचानक अदीप्त आकाशातून पावसाचे मोठमोठे थेंब पडू ल\n"
          ],
          "name": "stdout"
        }
      ]
    },
    {
      "cell_type": "code",
      "metadata": {
        "colab": {
          "base_uri": "https://localhost:8080/"
        },
        "id": "ki_LbkHo7_xP",
        "outputId": "ddee7b96-7ceb-481c-e8ac-e2227a3cff82"
      },
      "source": [
        "k+=1\n",
        "(input_seq, actual_output), _ = next(train_gen)\n",
        "decoded_sentence = decode_sequence(input_seq)\n",
        "print('Input English sentence:', X_train[k:k+1].values[0])\n",
        "print('Actual Marathi Translation:', y_train[k:k+1].values[0][6:-4])\n",
        "print('Predicted Marathi Translation:', decoded_sentence[:-4])"
      ],
      "execution_count": 60,
      "outputs": [
        {
          "output_type": "stream",
          "text": [
            "Input English sentence: do you really want to be a soldier\n",
            "Actual Marathi Translation:  तुला खरच सैनिक बनायचं आहे का \n",
            "Predicted Marathi Translation:  तुला खरच भरपूर मजा झाली आहे का \n"
          ],
          "name": "stdout"
        }
      ]
    },
    {
      "cell_type": "code",
      "metadata": {
        "colab": {
          "base_uri": "https://localhost:8080/"
        },
        "id": "2ZMlj0x58E2v",
        "outputId": "f1d18464-23d8-4eab-d501-516e562df274"
      },
      "source": [
        "k+=1\n",
        "(input_seq, actual_output), _ = next(train_gen)\n",
        "decoded_sentence = decode_sequence(input_seq)\n",
        "print('Input English sentence:', X_train[k:k+1].values[0])\n",
        "print('Actual Marathi Translation:', y_train[k:k+1].values[0][6:-4])\n",
        "print('Predicted Marathi Translation:', decoded_sentence[:-4])"
      ],
      "execution_count": 61,
      "outputs": [
        {
          "output_type": "stream",
          "text": [
            "Input English sentence: theres no hurry\n",
            "Actual Marathi Translation:  कोणतीही घाई नाही आहे \n",
            "Predicted Marathi Translation:  काहीही गरम आहे \n"
          ],
          "name": "stdout"
        }
      ]
    },
    {
      "cell_type": "code",
      "metadata": {
        "colab": {
          "base_uri": "https://localhost:8080/"
        },
        "id": "Lcpu5wxy8GQj",
        "outputId": "c8b3ccaf-81d6-4ff3-a481-37c769113eca"
      },
      "source": [
        "k+=1\n",
        "(input_seq, actual_output), _ = next(train_gen)\n",
        "decoded_sentence = decode_sequence(input_seq)\n",
        "print('Input English sentence:', X_train[k:k+1].values[0])\n",
        "print('Actual Marathi Translation:', y_train[k:k+1].values[0][6:-4])\n",
        "print('Predicted Marathi Translation:', decoded_sentence[:-4])"
      ],
      "execution_count": 62,
      "outputs": [
        {
          "output_type": "stream",
          "text": [
            "Input English sentence: dont put the wet towel in the bag\n",
            "Actual Marathi Translation:  ओला टॉवेल बॅगेत घालू नकोस \n",
            "Predicted Marathi Translation:  ओला टॉवेल पिशवीत घालू नका \n"
          ],
          "name": "stdout"
        }
      ]
    },
    {
      "cell_type": "code",
      "metadata": {
        "colab": {
          "base_uri": "https://localhost:8080/"
        },
        "id": "L409Y14x8Hui",
        "outputId": "a4456457-7916-48bf-9273-5e6925456310"
      },
      "source": [
        "k+=1\n",
        "(input_seq, actual_output), _ = next(train_gen)\n",
        "decoded_sentence = decode_sequence(input_seq)\n",
        "print('Input English sentence:', X_train[k:k+1].values[0])\n",
        "print('Actual Marathi Translation:', y_train[k:k+1].values[0][6:-4])\n",
        "print('Predicted Marathi Translation:', decoded_sentence[:-4])"
      ],
      "execution_count": 63,
      "outputs": [
        {
          "output_type": "stream",
          "text": [
            "Input English sentence: i didnt cry that much\n",
            "Actual Marathi Translation:  मी तितका रडलो नाही \n",
            "Predicted Marathi Translation:  मी ते खाल्ला नाही \n"
          ],
          "name": "stdout"
        }
      ]
    },
    {
      "cell_type": "code",
      "metadata": {
        "colab": {
          "base_uri": "https://localhost:8080/"
        },
        "id": "SQXiIDD_8IzE",
        "outputId": "669f7814-73dd-4345-df9c-82beec6dc5ca"
      },
      "source": [
        "k+=1\n",
        "(input_seq, actual_output), _ = next(train_gen)\n",
        "decoded_sentence = decode_sequence(input_seq)\n",
        "print('Input English sentence:', X_train[k:k+1].values[0])\n",
        "print('Actual Marathi Translation:', y_train[k:k+1].values[0][6:-4])\n",
        "print('Predicted Marathi Translation:', decoded_sentence[:-4])"
      ],
      "execution_count": 64,
      "outputs": [
        {
          "output_type": "stream",
          "text": [
            "Input English sentence: why arent you in college\n",
            "Actual Marathi Translation:  तू कॉलेजमध्ये का नाहीयेस \n",
            "Predicted Marathi Translation:  तू कॉलेजमध्ये का नाही आहेस \n"
          ],
          "name": "stdout"
        }
      ]
    },
    {
      "cell_type": "code",
      "metadata": {
        "colab": {
          "base_uri": "https://localhost:8080/"
        },
        "id": "WfyVdX008LIN",
        "outputId": "4fe2848d-0760-45e8-efec-3893b67a9343"
      },
      "source": [
        "k+=1\n",
        "(input_seq, actual_output), _ = next(train_gen)\n",
        "decoded_sentence = decode_sequence(input_seq)\n",
        "print('Input English sentence:', X_train[k:k+1].values[0])\n",
        "print('Actual Marathi Translation:', y_train[k:k+1].values[0][6:-4])\n",
        "print('Predicted Marathi Translation:', decoded_sentence[:-4])"
      ],
      "execution_count": 65,
      "outputs": [
        {
          "output_type": "stream",
          "text": [
            "Input English sentence: wheres my mama\n",
            "Actual Marathi Translation:  माझी मम्मा कुठे आहे \n",
            "Predicted Marathi Translation:  माझी आई कुठे आहे \n"
          ],
          "name": "stdout"
        }
      ]
    },
    {
      "cell_type": "code",
      "metadata": {
        "colab": {
          "base_uri": "https://localhost:8080/"
        },
        "id": "4obfj4TP8OVq",
        "outputId": "d6f1ad40-d92f-41a3-d352-44f1b8f32c30"
      },
      "source": [
        "k+=1\n",
        "(input_seq, actual_output), _ = next(train_gen)\n",
        "decoded_sentence = decode_sequence(input_seq)\n",
        "print('Input English sentence:', X_train[k:k+1].values[0])\n",
        "print('Actual Marathi Translation:', y_train[k:k+1].values[0][6:-4])\n",
        "print('Predicted Marathi Translation:', decoded_sentence[:-4])"
      ],
      "execution_count": 66,
      "outputs": [
        {
          "output_type": "stream",
          "text": [
            "Input English sentence: do you have many friends\n",
            "Actual Marathi Translation:  तुझ्याकडे भरपूर मित्रमैत्रिणी आहेत का \n",
            "Predicted Marathi Translation:  तुझ्याकडे भरपूर मैत्रिणी आहेत का \n"
          ],
          "name": "stdout"
        }
      ]
    },
    {
      "cell_type": "code",
      "metadata": {
        "colab": {
          "base_uri": "https://localhost:8080/"
        },
        "id": "_cpRKvTs8PeO",
        "outputId": "8ffedd08-cf54-49cd-e1ff-d2d9af9e37dd"
      },
      "source": [
        "k+=1\n",
        "(input_seq, actual_output), _ = next(train_gen)\n",
        "decoded_sentence = decode_sequence(input_seq)\n",
        "print('Input English sentence:', X_train[k:k+1].values[0])\n",
        "print('Actual Marathi Translation:', y_train[k:k+1].values[0][6:-4])\n",
        "print('Predicted Marathi Translation:', decoded_sentence[:-4])"
      ],
      "execution_count": 67,
      "outputs": [
        {
          "output_type": "stream",
          "text": [
            "Input English sentence: tom wont ask for help\n",
            "Actual Marathi Translation:  टॉम मदत मागणार नाही \n",
            "Predicted Marathi Translation:  टॉम मदत मागितली नाही \n"
          ],
          "name": "stdout"
        }
      ]
    },
    {
      "cell_type": "code",
      "metadata": {
        "colab": {
          "base_uri": "https://localhost:8080/"
        },
        "id": "FQZYhXmW8Ql6",
        "outputId": "38aad1f1-ff49-4aea-f41b-b46e1203998a"
      },
      "source": [
        "k+=1\n",
        "(input_seq, actual_output), _ = next(train_gen)\n",
        "decoded_sentence = decode_sequence(input_seq)\n",
        "print('Input English sentence:', X_train[k:k+1].values[0])\n",
        "print('Actual Marathi Translation:', y_train[k:k+1].values[0][6:-4])\n",
        "print('Predicted Marathi Translation:', decoded_sentence[:-4])"
      ],
      "execution_count": 68,
      "outputs": [
        {
          "output_type": "stream",
          "text": [
            "Input English sentence: there are fifteen people here counting the guests\n",
            "Actual Marathi Translation:  इथे पंधरा लोकं आहेत पाहुण्यांना पकडून \n",
            "Predicted Marathi Translation:  इथे पंधरा लोकं आहेत पाहुण्यांना पकडून \n"
          ],
          "name": "stdout"
        }
      ]
    },
    {
      "cell_type": "code",
      "metadata": {
        "colab": {
          "base_uri": "https://localhost:8080/"
        },
        "id": "aQhrKHlC8RpW",
        "outputId": "c52f458f-c326-4ab7-fc17-1f36033c8f91"
      },
      "source": [
        "k+=1\n",
        "(input_seq, actual_output), _ = next(train_gen)\n",
        "decoded_sentence = decode_sequence(input_seq)\n",
        "print('Input English sentence:', X_train[k:k+1].values[0])\n",
        "print('Actual Marathi Translation:', y_train[k:k+1].values[0][6:-4])\n",
        "print('Predicted Marathi Translation:', decoded_sentence[:-4])"
      ],
      "execution_count": 69,
      "outputs": [
        {
          "output_type": "stream",
          "text": [
            "Input English sentence: i want to be a teacher\n",
            "Actual Marathi Translation:  मला शिक्षिका बनायचंय \n",
            "Predicted Marathi Translation:  मला शिक्षक बनायचं आहे \n"
          ],
          "name": "stdout"
        }
      ]
    },
    {
      "cell_type": "code",
      "metadata": {
        "colab": {
          "base_uri": "https://localhost:8080/"
        },
        "id": "Rb0Pbx7M8SqC",
        "outputId": "fee93b93-1326-49ed-ce5d-77c1d6ee4776"
      },
      "source": [
        "k+=1\n",
        "(input_seq, actual_output), _ = next(train_gen)\n",
        "decoded_sentence = decode_sequence(input_seq)\n",
        "print('Input English sentence:', X_train[k:k+1].values[0])\n",
        "print('Actual Marathi Translation:', y_train[k:k+1].values[0][6:-4])\n",
        "print('Predicted Marathi Translation:', decoded_sentence[:-4])"
      ],
      "execution_count": 70,
      "outputs": [
        {
          "output_type": "stream",
          "text": [
            "Input English sentence: i didnt know you could speak french so well\n",
            "Actual Marathi Translation:  तुम्हाला इतक्या बर्‍यापैकी फ्रेंच बोलता येते मला माहीत नव्हतं \n",
            "Predicted Marathi Translation:  तू बर्‍यापैकी फ्रेंच बोलता येते तू तुला कधीच सांग\n"
          ],
          "name": "stdout"
        }
      ]
    },
    {
      "cell_type": "code",
      "metadata": {
        "colab": {
          "base_uri": "https://localhost:8080/"
        },
        "id": "ejkcRAEq8Tp9",
        "outputId": "4aedb393-76ce-4cfd-ef93-1cdf1b58fc69"
      },
      "source": [
        "k+=1\n",
        "(input_seq, actual_output), _ = next(train_gen)\n",
        "decoded_sentence = decode_sequence(input_seq)\n",
        "print('Input English sentence:', X_train[k:k+1].values[0])\n",
        "print('Actual Marathi Translation:', y_train[k:k+1].values[0][6:-4])\n",
        "print('Predicted Marathi Translation:', decoded_sentence[:-4])"
      ],
      "execution_count": 71,
      "outputs": [
        {
          "output_type": "stream",
          "text": [
            "Input English sentence: no ones going to buy your story\n",
            "Actual Marathi Translation:  कोणीही तुझ्या गोष्टीवर विश्वास ठेवणार नाहीये \n",
            "Predicted Marathi Translation:  तुमच्या खोलीत नसते तर मी नाही \n"
          ],
          "name": "stdout"
        }
      ]
    },
    {
      "cell_type": "code",
      "metadata": {
        "colab": {
          "base_uri": "https://localhost:8080/"
        },
        "id": "2nosT7_I8Uf6",
        "outputId": "b2ad3cae-f67b-45e0-e274-03b21ca2a8e1"
      },
      "source": [
        "k+=1\n",
        "(input_seq, actual_output), _ = next(train_gen)\n",
        "decoded_sentence = decode_sequence(input_seq)\n",
        "print('Input English sentence:', X_train[k:k+1].values[0])\n",
        "print('Actual Marathi Translation:', y_train[k:k+1].values[0][6:-4])\n",
        "print('Predicted Marathi Translation:', decoded_sentence[:-4])"
      ],
      "execution_count": 72,
      "outputs": [
        {
          "output_type": "stream",
          "text": [
            "Input English sentence: tom has left the country\n",
            "Actual Marathi Translation:  टॉम देश सोडून गेला आहे \n",
            "Predicted Marathi Translation:  टॉम हा जवळच एक द्या \n"
          ],
          "name": "stdout"
        }
      ]
    },
    {
      "cell_type": "code",
      "metadata": {
        "colab": {
          "base_uri": "https://localhost:8080/"
        },
        "id": "5yI9m2Vh8VV_",
        "outputId": "c7de1218-219d-482a-a0a7-817478d694d5"
      },
      "source": [
        "k+=1\n",
        "(input_seq, actual_output), _ = next(train_gen)\n",
        "decoded_sentence = decode_sequence(input_seq)\n",
        "print('Input English sentence:', X_train[k:k+1].values[0])\n",
        "print('Actual Marathi Translation:', y_train[k:k+1].values[0][6:-4])\n",
        "print('Predicted Marathi Translation:', decoded_sentence[:-4])"
      ],
      "execution_count": 73,
      "outputs": [
        {
          "output_type": "stream",
          "text": [
            "Input English sentence: it was so sweet\n",
            "Actual Marathi Translation:  किती गोड होतं \n",
            "Predicted Marathi Translation:  किती गोड होतं \n"
          ],
          "name": "stdout"
        }
      ]
    },
    {
      "cell_type": "code",
      "metadata": {
        "colab": {
          "base_uri": "https://localhost:8080/"
        },
        "id": "adOL3Xfd8WKY",
        "outputId": "8e0e6a9e-5d93-422e-cd97-0786e24c83a8"
      },
      "source": [
        "k+=1\n",
        "(input_seq, actual_output), _ = next(train_gen)\n",
        "decoded_sentence = decode_sequence(input_seq)\n",
        "print('Input English sentence:', X_train[k:k+1].values[0])\n",
        "print('Actual Marathi Translation:', y_train[k:k+1].values[0][6:-4])\n",
        "print('Predicted Marathi Translation:', decoded_sentence[:-4])"
      ],
      "execution_count": 74,
      "outputs": [
        {
          "output_type": "stream",
          "text": [
            "Input English sentence: im not a saint\n",
            "Actual Marathi Translation:  मी काय संत नाहीये \n",
            "Predicted Marathi Translation:  मी काय संत नाहीये \n"
          ],
          "name": "stdout"
        }
      ]
    },
    {
      "cell_type": "code",
      "metadata": {
        "colab": {
          "base_uri": "https://localhost:8080/"
        },
        "id": "Mahtej_n8WgR",
        "outputId": "2e3601ee-1696-4985-8cf2-27945b8bbf0f"
      },
      "source": [
        "k+=1\n",
        "(input_seq, actual_output), _ = next(train_gen)\n",
        "decoded_sentence = decode_sequence(input_seq)\n",
        "print('Input English sentence:', X_train[k:k+1].values[0])\n",
        "print('Actual Marathi Translation:', y_train[k:k+1].values[0][6:-4])\n",
        "print('Predicted Marathi Translation:', decoded_sentence[:-4])"
      ],
      "execution_count": 75,
      "outputs": [
        {
          "output_type": "stream",
          "text": [
            "Input English sentence: you have one chance\n",
            "Actual Marathi Translation:  तुझ्याकडे एक संधी आहे \n",
            "Predicted Marathi Translation:  तुमच्याकडे एक संधी आहे \n"
          ],
          "name": "stdout"
        }
      ]
    },
    {
      "cell_type": "code",
      "metadata": {
        "colab": {
          "base_uri": "https://localhost:8080/"
        },
        "id": "EgdqLSwI8W8g",
        "outputId": "27633e3b-22e9-4816-c356-0db7fad85313"
      },
      "source": [
        "k+=1\n",
        "(input_seq, actual_output), _ = next(train_gen)\n",
        "decoded_sentence = decode_sequence(input_seq)\n",
        "print('Input English sentence:', X_train[k:k+1].values[0])\n",
        "print('Actual Marathi Translation:', y_train[k:k+1].values[0][6:-4])\n",
        "print('Predicted Marathi Translation:', decoded_sentence[:-4])"
      ],
      "execution_count": 76,
      "outputs": [
        {
          "output_type": "stream",
          "text": [
            "Input English sentence: whos watching\n",
            "Actual Marathi Translation:  बघतंय कोण \n",
            "Predicted Marathi Translation:  कोण बघतंय \n"
          ],
          "name": "stdout"
        }
      ]
    },
    {
      "cell_type": "code",
      "metadata": {
        "colab": {
          "base_uri": "https://localhost:8080/"
        },
        "id": "mCWIFHud8XTX",
        "outputId": "a5d16fd0-22f6-4482-e38d-23c49a2b0ab0"
      },
      "source": [
        "k+=1\n",
        "(input_seq, actual_output), _ = next(train_gen)\n",
        "decoded_sentence = decode_sequence(input_seq)\n",
        "print('Input English sentence:', X_train[k:k+1].values[0])\n",
        "print('Actual Marathi Translation:', y_train[k:k+1].values[0][6:-4])\n",
        "print('Predicted Marathi Translation:', decoded_sentence[:-4])"
      ],
      "execution_count": 77,
      "outputs": [
        {
          "output_type": "stream",
          "text": [
            "Input English sentence: whats that in your hand\n",
            "Actual Marathi Translation:  ते तुझ्या हातात काय आहे \n",
            "Predicted Marathi Translation:  त्या तुमच्या आजोबांचं काय \n"
          ],
          "name": "stdout"
        }
      ]
    },
    {
      "cell_type": "code",
      "metadata": {
        "colab": {
          "base_uri": "https://localhost:8080/"
        },
        "id": "CpQXwW0V8Xr4",
        "outputId": "b6f21e4d-0142-4c44-f16f-cc70365e1172"
      },
      "source": [
        "k+=1\n",
        "(input_seq, actual_output), _ = next(train_gen)\n",
        "decoded_sentence = decode_sequence(input_seq)\n",
        "print('Input English sentence:', X_train[k:k+1].values[0])\n",
        "print('Actual Marathi Translation:', y_train[k:k+1].values[0][6:-4])\n",
        "print('Predicted Marathi Translation:', decoded_sentence[:-4])"
      ],
      "execution_count": 78,
      "outputs": [
        {
          "output_type": "stream",
          "text": [
            "Input English sentence: it was the hungry bears that the villagers were afraid of\n",
            "Actual Marathi Translation:  गावकरांना भीती होती ती भुकेल्या अस्वलांची \n",
            "Predicted Marathi Translation:  गावकरांना स्वयंपाकघरात नाही \n"
          ],
          "name": "stdout"
        }
      ]
    },
    {
      "cell_type": "code",
      "metadata": {
        "colab": {
          "base_uri": "https://localhost:8080/"
        },
        "id": "NMloKpYa8YBQ",
        "outputId": "2eef63f9-f521-4f87-e721-4f101bc268c6"
      },
      "source": [
        "k+=1\n",
        "(input_seq, actual_output), _ = next(train_gen)\n",
        "decoded_sentence = decode_sequence(input_seq)\n",
        "print('Input English sentence:', X_train[k:k+1].values[0])\n",
        "print('Actual Marathi Translation:', y_train[k:k+1].values[0][6:-4])\n",
        "print('Predicted Marathi Translation:', decoded_sentence[:-4])"
      ],
      "execution_count": 79,
      "outputs": [
        {
          "output_type": "stream",
          "text": [
            "Input English sentence: why do you want to buy this book\n",
            "Actual Marathi Translation:  तुम्हाला हे पुस्तक का विकत घ्यायचं आहे \n",
            "Predicted Marathi Translation:  तुम्हाला हे पुस्तक हवंय का \n"
          ],
          "name": "stdout"
        }
      ]
    },
    {
      "cell_type": "code",
      "metadata": {
        "colab": {
          "base_uri": "https://localhost:8080/"
        },
        "id": "rmkWNXXe8YVO",
        "outputId": "4b0a246c-81f5-4715-dd5d-0f546f9b3c06"
      },
      "source": [
        "k+=1\n",
        "(input_seq, actual_output), _ = next(train_gen)\n",
        "decoded_sentence = decode_sequence(input_seq)\n",
        "print('Input English sentence:', X_train[k:k+1].values[0])\n",
        "print('Actual Marathi Translation:', y_train[k:k+1].values[0][6:-4])\n",
        "print('Predicted Marathi Translation:', decoded_sentence[:-4])"
      ],
      "execution_count": 80,
      "outputs": [
        {
          "output_type": "stream",
          "text": [
            "Input English sentence: id like to stand up\n",
            "Actual Marathi Translation:  मी उभं राहू इच्छीतो \n",
            "Predicted Marathi Translation:  मला उभं राहू इच्छीते \n"
          ],
          "name": "stdout"
        }
      ]
    },
    {
      "cell_type": "code",
      "metadata": {
        "colab": {
          "base_uri": "https://localhost:8080/"
        },
        "id": "WSu_Dzo98YtR",
        "outputId": "bd6d7032-4501-47d9-dd18-c48aed0af8c9"
      },
      "source": [
        "k+=1\n",
        "(input_seq, actual_output), _ = next(train_gen)\n",
        "decoded_sentence = decode_sequence(input_seq)\n",
        "print('Input English sentence:', X_train[k:k+1].values[0])\n",
        "print('Actual Marathi Translation:', y_train[k:k+1].values[0][6:-4])\n",
        "print('Predicted Marathi Translation:', decoded_sentence[:-4])"
      ],
      "execution_count": 81,
      "outputs": [
        {
          "output_type": "stream",
          "text": [
            "Input English sentence: whats up dude\n",
            "Actual Marathi Translation:  काय चाललंय यार \n",
            "Predicted Marathi Translation:  काय चाललंय यार \n"
          ],
          "name": "stdout"
        }
      ]
    },
    {
      "cell_type": "code",
      "metadata": {
        "colab": {
          "base_uri": "https://localhost:8080/"
        },
        "id": "L7Ku_dfo8ZhF",
        "outputId": "aca49dbc-b2ab-43a8-c13e-cec44d0b728e"
      },
      "source": [
        "k+=1\n",
        "(input_seq, actual_output), _ = next(train_gen)\n",
        "decoded_sentence = decode_sequence(input_seq)\n",
        "print('Input English sentence:', X_train[k:k+1].values[0])\n",
        "print('Actual Marathi Translation:', y_train[k:k+1].values[0][6:-4])\n",
        "print('Predicted Marathi Translation:', decoded_sentence[:-4])"
      ],
      "execution_count": 82,
      "outputs": [
        {
          "output_type": "stream",
          "text": [
            "Input English sentence: doesnt tom live in australia\n",
            "Actual Marathi Translation:  टॉम ऑस्ट्रेलियात नाही राहत का \n",
            "Predicted Marathi Translation:  टॉम ऑस्ट्रेलियात राहतो का \n"
          ],
          "name": "stdout"
        }
      ]
    },
    {
      "cell_type": "code",
      "metadata": {
        "colab": {
          "base_uri": "https://localhost:8080/"
        },
        "id": "wzQmOiGV8aAU",
        "outputId": "609ebecc-9a67-4839-cb6a-1fe0bcc113ef"
      },
      "source": [
        "k+=1\n",
        "(input_seq, actual_output), _ = next(train_gen)\n",
        "decoded_sentence = decode_sequence(input_seq)\n",
        "print('Input English sentence:', X_train[k:k+1].values[0])\n",
        "print('Actual Marathi Translation:', y_train[k:k+1].values[0][6:-4])\n",
        "print('Predicted Marathi Translation:', decoded_sentence[:-4])"
      ],
      "execution_count": 83,
      "outputs": [
        {
          "output_type": "stream",
          "text": [
            "Input English sentence: got it\n",
            "Actual Marathi Translation:  पकडलं \n",
            "Predicted Marathi Translation:  समजलं \n"
          ],
          "name": "stdout"
        }
      ]
    },
    {
      "cell_type": "code",
      "metadata": {
        "colab": {
          "base_uri": "https://localhost:8080/"
        },
        "id": "WyjfSJ4c8abm",
        "outputId": "b371a009-61f4-4b72-a2ae-71c3bf4e447b"
      },
      "source": [
        "k+=1\n",
        "(input_seq, actual_output), _ = next(train_gen)\n",
        "decoded_sentence = decode_sequence(input_seq)\n",
        "print('Input English sentence:', X_train[k:k+1].values[0])\n",
        "print('Actual Marathi Translation:', y_train[k:k+1].values[0][6:-4])\n",
        "print('Predicted Marathi Translation:', decoded_sentence[:-4])"
      ],
      "execution_count": 84,
      "outputs": [
        {
          "output_type": "stream",
          "text": [
            "Input English sentence: im brushing my teeth\n",
            "Actual Marathi Translation:  मी माझे दात घासतोय \n",
            "Predicted Marathi Translation:  मी माझे दात घासतेय \n"
          ],
          "name": "stdout"
        }
      ]
    },
    {
      "cell_type": "code",
      "metadata": {
        "colab": {
          "base_uri": "https://localhost:8080/"
        },
        "id": "-KaDVXfF8ayL",
        "outputId": "b9cd2b35-3090-444e-97b7-564f5eed38f5"
      },
      "source": [
        "k+=1\n",
        "(input_seq, actual_output), _ = next(train_gen)\n",
        "decoded_sentence = decode_sequence(input_seq)\n",
        "print('Input English sentence:', X_train[k:k+1].values[0])\n",
        "print('Actual Marathi Translation:', y_train[k:k+1].values[0][6:-4])\n",
        "print('Predicted Marathi Translation:', decoded_sentence[:-4])"
      ],
      "execution_count": 85,
      "outputs": [
        {
          "output_type": "stream",
          "text": [
            "Input English sentence: he will come home in a few days\n",
            "Actual Marathi Translation:  ते काही दिवसांमध्ये घरी येतील \n",
            "Predicted Marathi Translation:  ते घरी चार वर्षं लागली का \n"
          ],
          "name": "stdout"
        }
      ]
    },
    {
      "cell_type": "code",
      "metadata": {
        "colab": {
          "base_uri": "https://localhost:8080/"
        },
        "id": "4YbbfTSa8bNk",
        "outputId": "f0f14f81-2ce4-43d1-cb46-a0e5ec9f8465"
      },
      "source": [
        "k+=1\n",
        "(input_seq, actual_output), _ = next(train_gen)\n",
        "decoded_sentence = decode_sequence(input_seq)\n",
        "print('Input English sentence:', X_train[k:k+1].values[0])\n",
        "print('Actual Marathi Translation:', y_train[k:k+1].values[0][6:-4])\n",
        "print('Predicted Marathi Translation:', decoded_sentence[:-4])"
      ],
      "execution_count": 86,
      "outputs": [
        {
          "output_type": "stream",
          "text": [
            "Input English sentence: i want to fix that\n",
            "Actual Marathi Translation:  आम्हाला ते दुरुस्त करायचं आहे \n",
            "Predicted Marathi Translation:  ते मला दुरुस्त करू शकते \n"
          ],
          "name": "stdout"
        }
      ]
    },
    {
      "cell_type": "code",
      "metadata": {
        "colab": {
          "base_uri": "https://localhost:8080/"
        },
        "id": "TXc_uI0a8bl7",
        "outputId": "0475460d-986b-437f-fa4d-5315dd8a63c8"
      },
      "source": [
        "k+=1\n",
        "(input_seq, actual_output), _ = next(train_gen)\n",
        "decoded_sentence = decode_sequence(input_seq)\n",
        "print('Input English sentence:', X_train[k:k+1].values[0])\n",
        "print('Actual Marathi Translation:', y_train[k:k+1].values[0][6:-4])\n",
        "print('Predicted Marathi Translation:', decoded_sentence[:-4])"
      ],
      "execution_count": 87,
      "outputs": [
        {
          "output_type": "stream",
          "text": [
            "Input English sentence: can you repair this\n",
            "Actual Marathi Translation:  तुम्हाला हे दुरुस्त करता येईल का \n",
            "Predicted Marathi Translation:  तू हे दुरुस्त करू शकता का \n"
          ],
          "name": "stdout"
        }
      ]
    },
    {
      "cell_type": "markdown",
      "metadata": {
        "id": "61DlOdxp8gml"
      },
      "source": [
        "# evaluation on test data"
      ]
    },
    {
      "cell_type": "code",
      "metadata": {
        "id": "sr-RZe0S8k0L"
      },
      "source": [
        "val_gen = generate_batch(X_test, y_test, batch_size = 1)\n",
        "k=-1\n"
      ],
      "execution_count": 88,
      "outputs": []
    },
    {
      "cell_type": "code",
      "metadata": {
        "id": "kn0pHO5l8saz"
      },
      "source": [
        ""
      ],
      "execution_count": null,
      "outputs": []
    },
    {
      "cell_type": "code",
      "metadata": {
        "colab": {
          "base_uri": "https://localhost:8080/"
        },
        "id": "z5wDkUEy8z-L",
        "outputId": "4cffe3b2-ce8d-4727-f02c-a3ea9a0aee60"
      },
      "source": [
        "k+=1\n",
        "(input_seq, actual_output), _ = next(val_gen)\n",
        "decoded_sentence = decode_sequence(input_seq)\n",
        "print('Input English sentence:', X_test[k:k+1].values[0])\n",
        "print('Actual Marathi Translation:', y_test[k:k+1].values[0][6:-4])\n",
        "print('Predicted Marathi Translation:', decoded_sentence[:-4])"
      ],
      "execution_count": 89,
      "outputs": [
        {
          "output_type": "stream",
          "text": [
            "Input English sentence: theyll buy anything\n",
            "Actual Marathi Translation:  ते काहीही विकत घेतील \n",
            "Predicted Marathi Translation:  ते विकत घेतली \n"
          ],
          "name": "stdout"
        }
      ]
    },
    {
      "cell_type": "code",
      "metadata": {
        "colab": {
          "base_uri": "https://localhost:8080/"
        },
        "id": "5BGonr9280bs",
        "outputId": "b47c155a-951b-4cbc-d3ea-bfd9ee90d69e"
      },
      "source": [
        "k+=1\n",
        "(input_seq, actual_output), _ = next(val_gen)\n",
        "decoded_sentence = decode_sequence(input_seq)\n",
        "print('Input English sentence:', X_test[k:k+1].values[0])\n",
        "print('Actual Marathi Translation:', y_test[k:k+1].values[0][6:-4])\n",
        "print('Predicted Marathi Translation:', decoded_sentence[:-4])"
      ],
      "execution_count": 90,
      "outputs": [
        {
          "output_type": "stream",
          "text": [
            "Input English sentence: my wisdom tooth hurts\n",
            "Actual Marathi Translation:  माझी अक्कलदाढ दुखतेय \n",
            "Predicted Marathi Translation:  माझा दात दुखतोय \n"
          ],
          "name": "stdout"
        }
      ]
    },
    {
      "cell_type": "code",
      "metadata": {
        "colab": {
          "base_uri": "https://localhost:8080/"
        },
        "id": "n9b2W8r_80zy",
        "outputId": "60e39943-aac5-432a-c626-f16b7276fa91"
      },
      "source": [
        "k+=1\n",
        "(input_seq, actual_output), _ = next(val_gen)\n",
        "decoded_sentence = decode_sequence(input_seq)\n",
        "print('Input English sentence:', X_test[k:k+1].values[0])\n",
        "print('Actual Marathi Translation:', y_test[k:k+1].values[0][6:-4])\n",
        "print('Predicted Marathi Translation:', decoded_sentence[:-4])"
      ],
      "execution_count": 91,
      "outputs": [
        {
          "output_type": "stream",
          "text": [
            "Input English sentence: is it hot over there\n",
            "Actual Marathi Translation:  तिथे गरमी आहे का \n",
            "Predicted Marathi Translation:  गरम गरम होतं \n"
          ],
          "name": "stdout"
        }
      ]
    },
    {
      "cell_type": "code",
      "metadata": {
        "colab": {
          "base_uri": "https://localhost:8080/"
        },
        "id": "STOwEmit81LM",
        "outputId": "d4e72299-8a31-4586-8cd6-09c8d221c6ef"
      },
      "source": [
        "k+=1\n",
        "(input_seq, actual_output), _ = next(val_gen)\n",
        "decoded_sentence = decode_sequence(input_seq)\n",
        "print('Input English sentence:', X_test[k:k+1].values[0])\n",
        "print('Actual Marathi Translation:', y_test[k:k+1].values[0][6:-4])\n",
        "print('Predicted Marathi Translation:', decoded_sentence[:-4])"
      ],
      "execution_count": 92,
      "outputs": [
        {
          "output_type": "stream",
          "text": [
            "Input English sentence: im three years older than you\n",
            "Actual Marathi Translation:  मी तुझ्यापेक्षा तीन वर्षांनी मोठा आहे \n",
            "Predicted Marathi Translation:  मी तुमच्यापेक्षा तीन वर्षांनी मोठा आहे \n"
          ],
          "name": "stdout"
        }
      ]
    },
    {
      "cell_type": "code",
      "metadata": {
        "colab": {
          "base_uri": "https://localhost:8080/"
        },
        "id": "2-ehTyZe81hf",
        "outputId": "836d8e45-3dde-4d8e-fa10-c676b0105410"
      },
      "source": [
        "k+=1\n",
        "(input_seq, actual_output), _ = next(val_gen)\n",
        "decoded_sentence = decode_sequence(input_seq)\n",
        "print('Input English sentence:', X_test[k:k+1].values[0])\n",
        "print('Actual Marathi Translation:', y_test[k:k+1].values[0][6:-4])\n",
        "print('Predicted Marathi Translation:', decoded_sentence[:-4])"
      ],
      "execution_count": 93,
      "outputs": [
        {
          "output_type": "stream",
          "text": [
            "Input English sentence: do you know who wrote this novel\n",
            "Actual Marathi Translation:  ही कादंबरी कोणी लिहिली माहीत आहे का \n",
            "Predicted Marathi Translation:  हे पुस्तक कोण लिहिलेली कोणती भाषा आहे का \n"
          ],
          "name": "stdout"
        }
      ]
    },
    {
      "cell_type": "code",
      "metadata": {
        "colab": {
          "base_uri": "https://localhost:8080/"
        },
        "id": "frxUIol8814u",
        "outputId": "a999aac8-174c-4695-f64a-9f5d4f945a45"
      },
      "source": [
        "k+=1\n",
        "(input_seq, actual_output), _ = next(val_gen)\n",
        "decoded_sentence = decode_sequence(input_seq)\n",
        "print('Input English sentence:', X_test[k:k+1].values[0])\n",
        "print('Actual Marathi Translation:', y_test[k:k+1].values[0][6:-4])\n",
        "print('Predicted Marathi Translation:', decoded_sentence[:-4])"
      ],
      "execution_count": 94,
      "outputs": [
        {
          "output_type": "stream",
          "text": [
            "Input English sentence: tom got big\n",
            "Actual Marathi Translation:  टॉम मोठा झाला \n",
            "Predicted Marathi Translation:  टॉमकडे एक मोठी आहे \n"
          ],
          "name": "stdout"
        }
      ]
    },
    {
      "cell_type": "code",
      "metadata": {
        "colab": {
          "base_uri": "https://localhost:8080/"
        },
        "id": "8TatE1iM82OX",
        "outputId": "7cf80789-b0b9-404d-e45e-c12bd4fd7d40"
      },
      "source": [
        "k+=1\n",
        "(input_seq, actual_output), _ = next(val_gen)\n",
        "decoded_sentence = decode_sequence(input_seq)\n",
        "print('Input English sentence:', X_test[k:k+1].values[0])\n",
        "print('Actual Marathi Translation:', y_test[k:k+1].values[0][6:-4])\n",
        "print('Predicted Marathi Translation:', decoded_sentence[:-4])"
      ],
      "execution_count": 95,
      "outputs": [
        {
          "output_type": "stream",
          "text": [
            "Input English sentence: does tom believe in miracles\n",
            "Actual Marathi Translation:  टॉमचा चमत्कारांवर विश्वास आहे का \n",
            "Predicted Marathi Translation:  टॉमचा भुतांवर विश्वास आहे \n"
          ],
          "name": "stdout"
        }
      ]
    },
    {
      "cell_type": "code",
      "metadata": {
        "colab": {
          "base_uri": "https://localhost:8080/"
        },
        "id": "s5FyIr9j82jp",
        "outputId": "57b6ff1f-01ae-41eb-d9cd-64ca5e661558"
      },
      "source": [
        "k+=1\n",
        "(input_seq, actual_output), _ = next(val_gen)\n",
        "decoded_sentence = decode_sequence(input_seq)\n",
        "print('Input English sentence:', X_test[k:k+1].values[0])\n",
        "print('Actual Marathi Translation:', y_test[k:k+1].values[0][6:-4])\n",
        "print('Predicted Marathi Translation:', decoded_sentence[:-4])"
      ],
      "execution_count": 96,
      "outputs": [
        {
          "output_type": "stream",
          "text": [
            "Input English sentence: i cant say\n",
            "Actual Marathi Translation:  मी सांगू शकत नाही \n",
            "Predicted Marathi Translation:  मी नाही नाही करू \n"
          ],
          "name": "stdout"
        }
      ]
    },
    {
      "cell_type": "code",
      "metadata": {
        "colab": {
          "base_uri": "https://localhost:8080/"
        },
        "id": "ttyZzOCd823B",
        "outputId": "8d11c119-daf9-455a-c8fb-aeabcf5f56ab"
      },
      "source": [
        "k+=1\n",
        "(input_seq, actual_output), _ = next(val_gen)\n",
        "decoded_sentence = decode_sequence(input_seq)\n",
        "print('Input English sentence:', X_test[k:k+1].values[0])\n",
        "print('Actual Marathi Translation:', y_test[k:k+1].values[0][6:-4])\n",
        "print('Predicted Marathi Translation:', decoded_sentence[:-4])"
      ],
      "execution_count": 97,
      "outputs": [
        {
          "output_type": "stream",
          "text": [
            "Input English sentence: i havent decided\n",
            "Actual Marathi Translation:  मी ठरवलं नाहीये \n",
            "Predicted Marathi Translation:  मी ठरवलं नाहीये \n"
          ],
          "name": "stdout"
        }
      ]
    },
    {
      "cell_type": "code",
      "metadata": {
        "colab": {
          "base_uri": "https://localhost:8080/"
        },
        "id": "_uO4-TuT83Ka",
        "outputId": "e89fc127-4e83-4890-c892-b63350b4d96f"
      },
      "source": [
        "k+=1\n",
        "(input_seq, actual_output), _ = next(val_gen)\n",
        "decoded_sentence = decode_sequence(input_seq)\n",
        "print('Input English sentence:', X_test[k:k+1].values[0])\n",
        "print('Actual Marathi Translation:', y_test[k:k+1].values[0][6:-4])\n",
        "print('Predicted Marathi Translation:', decoded_sentence[:-4])"
      ],
      "execution_count": 98,
      "outputs": [
        {
          "output_type": "stream",
          "text": [
            "Input English sentence: i want to see the movie\n",
            "Actual Marathi Translation:  मला पिक्चर बघायचाय \n",
            "Predicted Marathi Translation:  मला पिक्चर बघायला हवा आहे \n"
          ],
          "name": "stdout"
        }
      ]
    },
    {
      "cell_type": "code",
      "metadata": {
        "colab": {
          "base_uri": "https://localhost:8080/"
        },
        "id": "z9r2AOPw83eq",
        "outputId": "5cd97d6c-acc8-4e49-a00c-72fbe4e58db2"
      },
      "source": [
        "k+=1\n",
        "(input_seq, actual_output), _ = next(val_gen)\n",
        "decoded_sentence = decode_sequence(input_seq)\n",
        "print('Input English sentence:', X_test[k:k+1].values[0])\n",
        "print('Actual Marathi Translation:', y_test[k:k+1].values[0][6:-4])\n",
        "print('Predicted Marathi Translation:', decoded_sentence[:-4])"
      ],
      "execution_count": 99,
      "outputs": [
        {
          "output_type": "stream",
          "text": [
            "Input English sentence: it was a terrible movie\n",
            "Actual Marathi Translation:  बेकार पिक्चर होता \n",
            "Predicted Marathi Translation:  तिचं वजन म्हणतात \n"
          ],
          "name": "stdout"
        }
      ]
    },
    {
      "cell_type": "code",
      "metadata": {
        "colab": {
          "base_uri": "https://localhost:8080/"
        },
        "id": "vugR7RxI83xj",
        "outputId": "0be5e2aa-357f-4431-8984-d4e495013548"
      },
      "source": [
        "k+=1\n",
        "(input_seq, actual_output), _ = next(val_gen)\n",
        "decoded_sentence = decode_sequence(input_seq)\n",
        "print('Input English sentence:', X_test[k:k+1].values[0])\n",
        "print('Actual Marathi Translation:', y_test[k:k+1].values[0][6:-4])\n",
        "print('Predicted Marathi Translation:', decoded_sentence[:-4])"
      ],
      "execution_count": 100,
      "outputs": [
        {
          "output_type": "stream",
          "text": [
            "Input English sentence: tom is our neighbor\n",
            "Actual Marathi Translation:  टॉम आपला शेजारी आहे \n",
            "Predicted Marathi Translation:  टॉम आमचा शेजारी आहे \n"
          ],
          "name": "stdout"
        }
      ]
    },
    {
      "cell_type": "code",
      "metadata": {
        "colab": {
          "base_uri": "https://localhost:8080/"
        },
        "id": "csgRW6lN84Ek",
        "outputId": "554a4cad-2363-4760-ac6c-2c737bb44f2a"
      },
      "source": [
        "k+=1\n",
        "(input_seq, actual_output), _ = next(val_gen)\n",
        "decoded_sentence = decode_sequence(input_seq)\n",
        "print('Input English sentence:', X_test[k:k+1].values[0])\n",
        "print('Actual Marathi Translation:', y_test[k:k+1].values[0][6:-4])\n",
        "print('Predicted Marathi Translation:', decoded_sentence[:-4])"
      ],
      "execution_count": 101,
      "outputs": [
        {
          "output_type": "stream",
          "text": [
            "Input English sentence: tom didnt come to the last meeting\n",
            "Actual Marathi Translation:  टॉम शेवटच्या मीटिंगला आला नाही \n",
            "Predicted Marathi Translation:  टॉम गेल्या वर्षी सही केलं \n"
          ],
          "name": "stdout"
        }
      ]
    },
    {
      "cell_type": "code",
      "metadata": {
        "colab": {
          "base_uri": "https://localhost:8080/"
        },
        "id": "Ww9lDUJD84XT",
        "outputId": "6ed46a43-5a8d-47c1-c95e-7e2a43a8b681"
      },
      "source": [
        "k+=1\n",
        "(input_seq, actual_output), _ = next(val_gen)\n",
        "decoded_sentence = decode_sequence(input_seq)\n",
        "print('Input English sentence:', X_test[k:k+1].values[0])\n",
        "print('Actual Marathi Translation:', y_test[k:k+1].values[0][6:-4])\n",
        "print('Predicted Marathi Translation:', decoded_sentence[:-4])"
      ],
      "execution_count": 102,
      "outputs": [
        {
          "output_type": "stream",
          "text": [
            "Input English sentence: they began to run when they saw the police\n",
            "Actual Marathi Translation:  पोलिसांना पाहिल्यावर ते पळू लागले \n",
            "Predicted Marathi Translation:  त्यांनी त्या वळून स्वतः स्वतः दिला \n"
          ],
          "name": "stdout"
        }
      ]
    },
    {
      "cell_type": "code",
      "metadata": {
        "colab": {
          "base_uri": "https://localhost:8080/"
        },
        "id": "RozKPlVi84qS",
        "outputId": "f2e09782-dea8-4b06-ee3c-7e4e145d04fa"
      },
      "source": [
        "k+=1\n",
        "(input_seq, actual_output), _ = next(val_gen)\n",
        "decoded_sentence = decode_sequence(input_seq)\n",
        "print('Input English sentence:', X_test[k:k+1].values[0])\n",
        "print('Actual Marathi Translation:', y_test[k:k+1].values[0][6:-4])\n",
        "print('Predicted Marathi Translation:', decoded_sentence[:-4])"
      ],
      "execution_count": 103,
      "outputs": [
        {
          "output_type": "stream",
          "text": [
            "Input English sentence: your mother is going to kill me\n",
            "Actual Marathi Translation:  तुझी आई मला मारून टाकणार आहे \n",
            "Predicted Marathi Translation:  तुझी आई यायला लागेल \n"
          ],
          "name": "stdout"
        }
      ]
    },
    {
      "cell_type": "code",
      "metadata": {
        "colab": {
          "base_uri": "https://localhost:8080/"
        },
        "id": "sq8uVplp849b",
        "outputId": "e5b51e63-a482-4d33-e8f7-384c4e2a5f12"
      },
      "source": [
        "k+=1\n",
        "(input_seq, actual_output), _ = next(val_gen)\n",
        "decoded_sentence = decode_sequence(input_seq)\n",
        "print('Input English sentence:', X_test[k:k+1].values[0])\n",
        "print('Actual Marathi Translation:', y_test[k:k+1].values[0][6:-4])\n",
        "print('Predicted Marathi Translation:', decoded_sentence[:-4])"
      ],
      "execution_count": 104,
      "outputs": [
        {
          "output_type": "stream",
          "text": [
            "Input English sentence: tell tom what you saw last night\n",
            "Actual Marathi Translation:  तुम्ही काल रात्री जे पाहिलंत ते टॉमला सांगा \n",
            "Predicted Marathi Translation:  काल रात्री तू मला पाहिलं नाही का लक्षात शकतं \n"
          ],
          "name": "stdout"
        }
      ]
    },
    {
      "cell_type": "code",
      "metadata": {
        "colab": {
          "base_uri": "https://localhost:8080/"
        },
        "id": "vZ5v7GJh85Q_",
        "outputId": "f9bc6ca7-052b-44bb-a953-dd3500f45dfe"
      },
      "source": [
        "k+=1\n",
        "(input_seq, actual_output), _ = next(val_gen)\n",
        "decoded_sentence = decode_sequence(input_seq)\n",
        "print('Input English sentence:', X_test[k:k+1].values[0])\n",
        "print('Actual Marathi Translation:', y_test[k:k+1].values[0][6:-4])\n",
        "print('Predicted Marathi Translation:', decoded_sentence[:-4])"
      ],
      "execution_count": 105,
      "outputs": [
        {
          "output_type": "stream",
          "text": [
            "Input English sentence: he was unwilling to go\n",
            "Actual Marathi Translation:  ते जायला तयार नव्हते \n",
            "Predicted Marathi Translation:  तो जायला तयार झाला \n"
          ],
          "name": "stdout"
        }
      ]
    },
    {
      "cell_type": "code",
      "metadata": {
        "colab": {
          "base_uri": "https://localhost:8080/"
        },
        "id": "ivCoxvqk85lj",
        "outputId": "1b76a672-2b7b-4706-b2ed-025cc87a40dd"
      },
      "source": [
        "k+=1\n",
        "(input_seq, actual_output), _ = next(val_gen)\n",
        "decoded_sentence = decode_sequence(input_seq)\n",
        "print('Input English sentence:', X_test[k:k+1].values[0])\n",
        "print('Actual Marathi Translation:', y_test[k:k+1].values[0][6:-4])\n",
        "print('Predicted Marathi Translation:', decoded_sentence[:-4])"
      ],
      "execution_count": 106,
      "outputs": [
        {
          "output_type": "stream",
          "text": [
            "Input English sentence: after a while he came to\n",
            "Actual Marathi Translation:  थोड्या वेळानंतर त्याला जाग आली \n",
            "Predicted Marathi Translation:  तो बाहेर गेले तो एक बाजूला ठेवा \n"
          ],
          "name": "stdout"
        }
      ]
    },
    {
      "cell_type": "code",
      "metadata": {
        "colab": {
          "base_uri": "https://localhost:8080/"
        },
        "id": "J8Lxabmg856r",
        "outputId": "ede8ff79-d90e-424a-ff9b-d845f7e011b1"
      },
      "source": [
        "k+=1\n",
        "(input_seq, actual_output), _ = next(val_gen)\n",
        "decoded_sentence = decode_sequence(input_seq)\n",
        "print('Input English sentence:', X_test[k:k+1].values[0])\n",
        "print('Actual Marathi Translation:', y_test[k:k+1].values[0][6:-4])\n",
        "print('Predicted Marathi Translation:', decoded_sentence[:-4])"
      ],
      "execution_count": 107,
      "outputs": [
        {
          "output_type": "stream",
          "text": [
            "Input English sentence: tom didnt feel anything\n",
            "Actual Marathi Translation:  टॉमला काही वाटलं नाही \n",
            "Predicted Marathi Translation:  टॉमला काही सांगत नाही \n"
          ],
          "name": "stdout"
        }
      ]
    },
    {
      "cell_type": "code",
      "metadata": {
        "colab": {
          "base_uri": "https://localhost:8080/"
        },
        "id": "A0HEfryD86O-",
        "outputId": "5f3a3e42-b158-47ab-ea6d-0c77e0828957"
      },
      "source": [
        "k+=1\n",
        "(input_seq, actual_output), _ = next(val_gen)\n",
        "decoded_sentence = decode_sequence(input_seq)\n",
        "print('Input English sentence:', X_test[k:k+1].values[0])\n",
        "print('Actual Marathi Translation:', y_test[k:k+1].values[0][6:-4])\n",
        "print('Predicted Marathi Translation:', decoded_sentence[:-4])"
      ],
      "execution_count": 108,
      "outputs": [
        {
          "output_type": "stream",
          "text": [
            "Input English sentence: she gave him something to drink\n",
            "Actual Marathi Translation:  तिने त्याला काहीतरी प्यायला दिलं \n",
            "Predicted Marathi Translation:  तिने काहीही विकत मारणार होतो \n"
          ],
          "name": "stdout"
        }
      ]
    },
    {
      "cell_type": "code",
      "metadata": {
        "colab": {
          "base_uri": "https://localhost:8080/"
        },
        "id": "vp0JuM9a86kk",
        "outputId": "b74bb721-d8ef-4b58-e949-87f66ad22cb5"
      },
      "source": [
        "k+=1\n",
        "(input_seq, actual_output), _ = next(val_gen)\n",
        "decoded_sentence = decode_sequence(input_seq)\n",
        "print('Input English sentence:', X_test[k:k+1].values[0])\n",
        "print('Actual Marathi Translation:', y_test[k:k+1].values[0][6:-4])\n",
        "print('Predicted Marathi Translation:', decoded_sentence[:-4])"
      ],
      "execution_count": 109,
      "outputs": [
        {
          "output_type": "stream",
          "text": [
            "Input English sentence: remember it\n",
            "Actual Marathi Translation:  लक्षात ठेवा \n",
            "Predicted Marathi Translation:  समजलं \n"
          ],
          "name": "stdout"
        }
      ]
    },
    {
      "cell_type": "code",
      "metadata": {
        "colab": {
          "base_uri": "https://localhost:8080/"
        },
        "id": "uIscF1bI87Ri",
        "outputId": "b24e03ce-b3da-4ad1-91a5-6c9a8a58192d"
      },
      "source": [
        "k+=1\n",
        "(input_seq, actual_output), _ = next(val_gen)\n",
        "decoded_sentence = decode_sequence(input_seq)\n",
        "print('Input English sentence:', X_test[k:k+1].values[0])\n",
        "print('Actual Marathi Translation:', y_test[k:k+1].values[0][6:-4])\n",
        "print('Predicted Marathi Translation:', decoded_sentence[:-4])"
      ],
      "execution_count": 110,
      "outputs": [
        {
          "output_type": "stream",
          "text": [
            "Input English sentence: ill shoot you\n",
            "Actual Marathi Translation:  मी तुला शूट करतो \n",
            "Predicted Marathi Translation:  मी तुम्हाला गोळी मारेन \n"
          ],
          "name": "stdout"
        }
      ]
    },
    {
      "cell_type": "code",
      "metadata": {
        "colab": {
          "base_uri": "https://localhost:8080/"
        },
        "id": "92Hxh6id87p1",
        "outputId": "b3f9dbb4-73d5-4aee-a44d-288868916449"
      },
      "source": [
        "k+=1\n",
        "(input_seq, actual_output), _ = next(val_gen)\n",
        "decoded_sentence = decode_sequence(input_seq)\n",
        "print('Input English sentence:', X_test[k:k+1].values[0])\n",
        "print('Actual Marathi Translation:', y_test[k:k+1].values[0][6:-4])\n",
        "print('Predicted Marathi Translation:', decoded_sentence[:-4])"
      ],
      "execution_count": 111,
      "outputs": [
        {
          "output_type": "stream",
          "text": [
            "Input English sentence: how old is your father\n",
            "Actual Marathi Translation:  तुमच्या वडिलांचं वय काय आहे \n",
            "Predicted Marathi Translation:  तुझे वडील किती आहेत \n"
          ],
          "name": "stdout"
        }
      ]
    },
    {
      "cell_type": "code",
      "metadata": {
        "colab": {
          "base_uri": "https://localhost:8080/"
        },
        "id": "p4BOusjg879T",
        "outputId": "d76c8af3-8870-462c-84e7-3c9e79f60f11"
      },
      "source": [
        "k+=1\n",
        "(input_seq, actual_output), _ = next(val_gen)\n",
        "decoded_sentence = decode_sequence(input_seq)\n",
        "print('Input English sentence:', X_test[k:k+1].values[0])\n",
        "print('Actual Marathi Translation:', y_test[k:k+1].values[0][6:-4])\n",
        "print('Predicted Marathi Translation:', decoded_sentence[:-4])"
      ],
      "execution_count": 112,
      "outputs": [
        {
          "output_type": "stream",
          "text": [
            "Input English sentence: you look so happy\n",
            "Actual Marathi Translation:  तू किती खूष दिसतोस \n",
            "Predicted Marathi Translation:  तू किती खूष आहात का \n"
          ],
          "name": "stdout"
        }
      ]
    },
    {
      "cell_type": "code",
      "metadata": {
        "colab": {
          "base_uri": "https://localhost:8080/"
        },
        "id": "t_8cPtSt884j",
        "outputId": "6ae6b712-b01d-420f-b035-cfb19c1ad54f"
      },
      "source": [
        "k+=1\n",
        "(input_seq, actual_output), _ = next(val_gen)\n",
        "decoded_sentence = decode_sequence(input_seq)\n",
        "print('Input English sentence:', X_test[k:k+1].values[0])\n",
        "print('Actual Marathi Translation:', y_test[k:k+1].values[0][6:-4])\n",
        "print('Predicted Marathi Translation:', decoded_sentence[:-4])"
      ],
      "execution_count": 113,
      "outputs": [
        {
          "output_type": "stream",
          "text": [
            "Input English sentence: they live in this town\n",
            "Actual Marathi Translation:  ते या नगरात राहतात \n",
            "Predicted Marathi Translation:  त्या शहरात राहतात \n"
          ],
          "name": "stdout"
        }
      ]
    },
    {
      "cell_type": "code",
      "metadata": {
        "colab": {
          "base_uri": "https://localhost:8080/"
        },
        "id": "kqbUeSB189Y-",
        "outputId": "79a5725f-8531-45b9-d19a-fd32b9f1d098"
      },
      "source": [
        "k+=1\n",
        "(input_seq, actual_output), _ = next(val_gen)\n",
        "decoded_sentence = decode_sequence(input_seq)\n",
        "print('Input English sentence:', X_test[k:k+1].values[0])\n",
        "print('Actual Marathi Translation:', y_test[k:k+1].values[0][6:-4])\n",
        "print('Predicted Marathi Translation:', decoded_sentence[:-4])"
      ],
      "execution_count": 114,
      "outputs": [
        {
          "output_type": "stream",
          "text": [
            "Input English sentence: the boy started crying\n",
            "Actual Marathi Translation:  तो मुलगा रडायला लागला \n",
            "Predicted Marathi Translation:  मुलगा रडायला लागला \n"
          ],
          "name": "stdout"
        }
      ]
    },
    {
      "cell_type": "code",
      "metadata": {
        "colab": {
          "base_uri": "https://localhost:8080/"
        },
        "id": "iYdEmuSJ894v",
        "outputId": "752b8282-88ec-4733-8765-8b55a71b798b"
      },
      "source": [
        "k+=1\n",
        "(input_seq, actual_output), _ = next(val_gen)\n",
        "decoded_sentence = decode_sequence(input_seq)\n",
        "print('Input English sentence:', X_test[k:k+1].values[0])\n",
        "print('Actual Marathi Translation:', y_test[k:k+1].values[0][6:-4])\n",
        "print('Predicted Marathi Translation:', decoded_sentence[:-4])"
      ],
      "execution_count": 115,
      "outputs": [
        {
          "output_type": "stream",
          "text": [
            "Input English sentence: an earthquake destroyed the building\n",
            "Actual Marathi Translation:  एका भुकंपामुळे ती इमारत उध्वस्त झाली \n",
            "Predicted Marathi Translation:  एका भुकंपामुळे ती बिल्डिंग चालू होती \n"
          ],
          "name": "stdout"
        }
      ]
    },
    {
      "cell_type": "code",
      "metadata": {
        "colab": {
          "base_uri": "https://localhost:8080/"
        },
        "id": "GNPDBmqA8-Xg",
        "outputId": "a3c0e809-f53c-444d-fe8f-8b8176f540ae"
      },
      "source": [
        "k+=1\n",
        "(input_seq, actual_output), _ = next(val_gen)\n",
        "decoded_sentence = decode_sequence(input_seq)\n",
        "print('Input English sentence:', X_test[k:k+1].values[0])\n",
        "print('Actual Marathi Translation:', y_test[k:k+1].values[0][6:-4])\n",
        "print('Predicted Marathi Translation:', decoded_sentence[:-4])"
      ],
      "execution_count": 116,
      "outputs": [
        {
          "output_type": "stream",
          "text": [
            "Input English sentence: her story is true\n",
            "Actual Marathi Translation:  त्यांची गोष्ट खरी आहे \n",
            "Predicted Marathi Translation:  तिची गोष्ट खरी आहे \n"
          ],
          "name": "stdout"
        }
      ]
    },
    {
      "cell_type": "code",
      "metadata": {
        "colab": {
          "base_uri": "https://localhost:8080/"
        },
        "id": "oJ4zeeQg8-wd",
        "outputId": "d62c4995-842a-4818-aff2-aaf05fb44726"
      },
      "source": [
        "k+=1\n",
        "(input_seq, actual_output), _ = next(val_gen)\n",
        "decoded_sentence = decode_sequence(input_seq)\n",
        "print('Input English sentence:', X_test[k:k+1].values[0])\n",
        "print('Actual Marathi Translation:', y_test[k:k+1].values[0][6:-4])\n",
        "print('Predicted Marathi Translation:', decoded_sentence[:-4])"
      ],
      "execution_count": 117,
      "outputs": [
        {
          "output_type": "stream",
          "text": [
            "Input English sentence: she hugged him\n",
            "Actual Marathi Translation:  त्यांनी त्याला मिठी मारली \n",
            "Predicted Marathi Translation:  तिने त्यांना मिठी मारली \n"
          ],
          "name": "stdout"
        }
      ]
    },
    {
      "cell_type": "code",
      "metadata": {
        "colab": {
          "base_uri": "https://localhost:8080/"
        },
        "id": "s1gXRcHa8_JF",
        "outputId": "f80790cc-eecb-426e-b293-a84e0c71f4a8"
      },
      "source": [
        "k+=1\n",
        "(input_seq, actual_output), _ = next(val_gen)\n",
        "decoded_sentence = decode_sequence(input_seq)\n",
        "print('Input English sentence:', X_test[k:k+1].values[0])\n",
        "print('Actual Marathi Translation:', y_test[k:k+1].values[0][6:-4])\n",
        "print('Predicted Marathi Translation:', decoded_sentence[:-4])"
      ],
      "execution_count": 118,
      "outputs": [
        {
          "output_type": "stream",
          "text": [
            "Input English sentence: i like to write songs in french\n",
            "Actual Marathi Translation:  मला फ्रेंचमध्ये गाणी लिहायला आवडतात \n",
            "Predicted Marathi Translation:  फ्रेंच फ्रेंचमध्ये वाचायला आवडत \n"
          ],
          "name": "stdout"
        }
      ]
    },
    {
      "cell_type": "code",
      "metadata": {
        "colab": {
          "base_uri": "https://localhost:8080/"
        },
        "id": "g2A8yV9i8_hT",
        "outputId": "569644d9-dc54-4ec1-855a-7618f2a53520"
      },
      "source": [
        "k+=1\n",
        "(input_seq, actual_output), _ = next(val_gen)\n",
        "decoded_sentence = decode_sequence(input_seq)\n",
        "print('Input English sentence:', X_test[k:k+1].values[0])\n",
        "print('Actual Marathi Translation:', y_test[k:k+1].values[0][6:-4])\n",
        "print('Predicted Marathi Translation:', decoded_sentence[:-4])"
      ],
      "execution_count": 119,
      "outputs": [
        {
          "output_type": "stream",
          "text": [
            "Input English sentence: toms native language is french\n",
            "Actual Marathi Translation:  टॉमची मातृभाषा फ्रेंच आहे \n",
            "Predicted Marathi Translation:  टॉमची फ्रेंच मातृभाषा आहे \n"
          ],
          "name": "stdout"
        }
      ]
    },
    {
      "cell_type": "code",
      "metadata": {
        "colab": {
          "base_uri": "https://localhost:8080/"
        },
        "id": "ZTTyP3ib8_6S",
        "outputId": "589e9082-2802-4891-e44b-d8df03c16d12"
      },
      "source": [
        "k+=1\n",
        "(input_seq, actual_output), _ = next(val_gen)\n",
        "decoded_sentence = decode_sequence(input_seq)\n",
        "print('Input English sentence:', X_test[k:k+1].values[0])\n",
        "print('Actual Marathi Translation:', y_test[k:k+1].values[0][6:-4])\n",
        "print('Predicted Marathi Translation:', decoded_sentence[:-4])"
      ],
      "execution_count": 120,
      "outputs": [
        {
          "output_type": "stream",
          "text": [
            "Input English sentence: mary is toms motherinlaw\n",
            "Actual Marathi Translation:  मेरी टॉमची सासू आहे \n",
            "Predicted Marathi Translation:  मेरी टॉमचं बाळ आहे \n"
          ],
          "name": "stdout"
        }
      ]
    },
    {
      "cell_type": "code",
      "metadata": {
        "colab": {
          "base_uri": "https://localhost:8080/"
        },
        "id": "Ai87jKh39AQ1",
        "outputId": "778d7e1c-258d-40fe-c3fc-12e79a8ef115"
      },
      "source": [
        "k+=1\n",
        "(input_seq, actual_output), _ = next(val_gen)\n",
        "decoded_sentence = decode_sequence(input_seq)\n",
        "print('Input English sentence:', X_test[k:k+1].values[0])\n",
        "print('Actual Marathi Translation:', y_test[k:k+1].values[0][6:-4])\n",
        "print('Predicted Marathi Translation:', decoded_sentence[:-4])"
      ],
      "execution_count": 121,
      "outputs": [
        {
          "output_type": "stream",
          "text": [
            "Input English sentence: youre a horrible singer\n",
            "Actual Marathi Translation:  तुम्ही भयानक गायक आहात \n",
            "Predicted Marathi Translation:  तू भयानक गायक आहेस \n"
          ],
          "name": "stdout"
        }
      ]
    },
    {
      "cell_type": "code",
      "metadata": {
        "colab": {
          "base_uri": "https://localhost:8080/"
        },
        "id": "RaOZNhoR9Am4",
        "outputId": "39fb3774-5d90-4236-80ee-62e3a401d388"
      },
      "source": [
        "k+=1\n",
        "(input_seq, actual_output), _ = next(val_gen)\n",
        "decoded_sentence = decode_sequence(input_seq)\n",
        "print('Input English sentence:', X_test[k:k+1].values[0])\n",
        "print('Actual Marathi Translation:', y_test[k:k+1].values[0][6:-4])\n",
        "print('Predicted Marathi Translation:', decoded_sentence[:-4])"
      ],
      "execution_count": 122,
      "outputs": [
        {
          "output_type": "stream",
          "text": [
            "Input English sentence: prices are about to go up again\n",
            "Actual Marathi Translation:  भाव परत वाढणार आहेत \n",
            "Predicted Marathi Translation:  मिनिट सर्वांना का \n"
          ],
          "name": "stdout"
        }
      ]
    },
    {
      "cell_type": "code",
      "metadata": {
        "colab": {
          "base_uri": "https://localhost:8080/"
        },
        "id": "Q62KvY8q9A9_",
        "outputId": "256c8082-3fb1-4e3c-e21c-20ebce341568"
      },
      "source": [
        "k+=1\n",
        "(input_seq, actual_output), _ = next(val_gen)\n",
        "decoded_sentence = decode_sequence(input_seq)\n",
        "print('Input English sentence:', X_test[k:k+1].values[0])\n",
        "print('Actual Marathi Translation:', y_test[k:k+1].values[0][6:-4])\n",
        "print('Predicted Marathi Translation:', decoded_sentence[:-4])"
      ],
      "execution_count": 123,
      "outputs": [
        {
          "output_type": "stream",
          "text": [
            "Input English sentence: he knows how to make a radio\n",
            "Actual Marathi Translation:  रेडिओ कसा बनवायचा हे त्यांना माहीत आहे \n",
            "Predicted Marathi Translation:  त्याला रेडिओ बनवता येतो \n"
          ],
          "name": "stdout"
        }
      ]
    },
    {
      "cell_type": "code",
      "metadata": {
        "colab": {
          "base_uri": "https://localhost:8080/"
        },
        "id": "EL5rUExn9BXx",
        "outputId": "78036f53-7a77-475c-9da0-35d7d9c445c1"
      },
      "source": [
        "k+=1\n",
        "(input_seq, actual_output), _ = next(val_gen)\n",
        "decoded_sentence = decode_sequence(input_seq)\n",
        "print('Input English sentence:', X_test[k:k+1].values[0])\n",
        "print('Actual Marathi Translation:', y_test[k:k+1].values[0][6:-4])\n",
        "print('Predicted Marathi Translation:', decoded_sentence[:-4])"
      ],
      "execution_count": 124,
      "outputs": [
        {
          "output_type": "stream",
          "text": [
            "Input English sentence: tom bought a mobile phone\n",
            "Actual Marathi Translation:  टॉमने एक मोबाईल फोन विकत घेतला \n",
            "Predicted Marathi Translation:  टॉमने एक कप एक ग्लास कॅमेरा दे \n"
          ],
          "name": "stdout"
        }
      ]
    },
    {
      "cell_type": "code",
      "metadata": {
        "colab": {
          "base_uri": "https://localhost:8080/"
        },
        "id": "A_mSrDHG9BtN",
        "outputId": "086d24c9-0396-4e61-e602-3342b05f5e89"
      },
      "source": [
        "k+=1\n",
        "(input_seq, actual_output), _ = next(val_gen)\n",
        "decoded_sentence = decode_sequence(input_seq)\n",
        "print('Input English sentence:', X_test[k:k+1].values[0])\n",
        "print('Actual Marathi Translation:', y_test[k:k+1].values[0][6:-4])\n",
        "print('Predicted Marathi Translation:', decoded_sentence[:-4])"
      ],
      "execution_count": 125,
      "outputs": [
        {
          "output_type": "stream",
          "text": [
            "Input English sentence: everyone else is sleeping\n",
            "Actual Marathi Translation:  बाकी सर्व झोपले आहेत \n",
            "Predicted Marathi Translation:  सगळेच बेडवर जाऊया \n"
          ],
          "name": "stdout"
        }
      ]
    },
    {
      "cell_type": "code",
      "metadata": {
        "colab": {
          "base_uri": "https://localhost:8080/"
        },
        "id": "5mrvBxqM9CC-",
        "outputId": "2a66c8aa-b84a-4adf-b169-bce7b153c833"
      },
      "source": [
        "k+=1\n",
        "(input_seq, actual_output), _ = next(val_gen)\n",
        "decoded_sentence = decode_sequence(input_seq)\n",
        "print('Input English sentence:', X_test[k:k+1].values[0])\n",
        "print('Actual Marathi Translation:', y_test[k:k+1].values[0][6:-4])\n",
        "print('Predicted Marathi Translation:', decoded_sentence[:-4])"
      ],
      "execution_count": 126,
      "outputs": [
        {
          "output_type": "stream",
          "text": [
            "Input English sentence: he jumped over the hedge\n",
            "Actual Marathi Translation:  त्याने कुंपणावरून उडी मारली \n",
            "Predicted Marathi Translation:  त्यांनी उडी मारली का \n"
          ],
          "name": "stdout"
        }
      ]
    },
    {
      "cell_type": "code",
      "metadata": {
        "colab": {
          "base_uri": "https://localhost:8080/"
        },
        "id": "G7P6jiYn9CXh",
        "outputId": "6eef74c9-bc78-4850-b902-a61f01172c05"
      },
      "source": [
        "k+=1\n",
        "(input_seq, actual_output), _ = next(val_gen)\n",
        "decoded_sentence = decode_sequence(input_seq)\n",
        "print('Input English sentence:', X_test[k:k+1].values[0])\n",
        "print('Actual Marathi Translation:', y_test[k:k+1].values[0][6:-4])\n",
        "print('Predicted Marathi Translation:', decoded_sentence[:-4])"
      ],
      "execution_count": 127,
      "outputs": [
        {
          "output_type": "stream",
          "text": [
            "Input English sentence: we can still do that\n",
            "Actual Marathi Translation:  आम्ही अजूनही तसं करू शकतो \n",
            "Predicted Marathi Translation:  आम्ही तसं करणार आहे \n"
          ],
          "name": "stdout"
        }
      ]
    },
    {
      "cell_type": "code",
      "metadata": {
        "colab": {
          "base_uri": "https://localhost:8080/"
        },
        "id": "sNpmbcLo9CrB",
        "outputId": "554ad930-64cb-429d-8b35-fb1c1357bf7a"
      },
      "source": [
        "k+=1\n",
        "(input_seq, actual_output), _ = next(val_gen)\n",
        "decoded_sentence = decode_sequence(input_seq)\n",
        "print('Input English sentence:', X_test[k:k+1].values[0])\n",
        "print('Actual Marathi Translation:', y_test[k:k+1].values[0][6:-4])\n",
        "print('Predicted Marathi Translation:', decoded_sentence[:-4])"
      ],
      "execution_count": 128,
      "outputs": [
        {
          "output_type": "stream",
          "text": [
            "Input English sentence: turn it off\n",
            "Actual Marathi Translation:  ते बंद कर \n",
            "Predicted Marathi Translation:  बंद करा \n"
          ],
          "name": "stdout"
        }
      ]
    },
    {
      "cell_type": "code",
      "metadata": {
        "colab": {
          "base_uri": "https://localhost:8080/"
        },
        "id": "3UD4yt-j9C-c",
        "outputId": "e4d0d4c7-8316-48b0-9912-9824deacbc26"
      },
      "source": [
        "k+=1\n",
        "(input_seq, actual_output), _ = next(val_gen)\n",
        "decoded_sentence = decode_sequence(input_seq)\n",
        "print('Input English sentence:', X_test[k:k+1].values[0])\n",
        "print('Actual Marathi Translation:', y_test[k:k+1].values[0][6:-4])\n",
        "print('Predicted Marathi Translation:', decoded_sentence[:-4])"
      ],
      "execution_count": 129,
      "outputs": [
        {
          "output_type": "stream",
          "text": [
            "Input English sentence: i still havent learned to drive a car\n",
            "Actual Marathi Translation:  मी अजूनही गाडी चालवायला शिकलो नाही आहे \n",
            "Predicted Marathi Translation:  मला अजूनही गाडी चालवायला शिकले नाही \n"
          ],
          "name": "stdout"
        }
      ]
    }
  ]
}